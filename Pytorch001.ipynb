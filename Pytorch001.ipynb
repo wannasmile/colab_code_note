{
  "cells": [
    {
      "cell_type": "markdown",
      "metadata": {
        "id": "view-in-github",
        "colab_type": "text"
      },
      "source": [
        "<a href=\"https://colab.research.google.com/github/wannasmile/colab_code_note/blob/main/Pytorch001.ipynb\" target=\"_parent\"><img src=\"https://colab.research.google.com/assets/colab-badge.svg\" alt=\"Open In Colab\"/></a>"
      ]
    },
    {
      "cell_type": "code",
      "execution_count": 1,
      "metadata": {
        "id": "2TcrZzYMacgG"
      },
      "outputs": [],
      "source": [
        "import torch"
      ]
    },
    {
      "cell_type": "code",
      "execution_count": 2,
      "metadata": {
        "id": "5Bd93TVJayjQ"
      },
      "outputs": [],
      "source": [
        "import numpy as np"
      ]
    },
    {
      "cell_type": "markdown",
      "metadata": {
        "id": "yhezm_rma4DT"
      },
      "source": [
        "torch 基本处理单元"
      ]
    },
    {
      "cell_type": "code",
      "execution_count": 3,
      "metadata": {
        "colab": {
          "base_uri": "https://localhost:8080/"
        },
        "id": "AlEEWnUra3l2",
        "outputId": "37a7e8c9-90e3-4deb-a7d9-25f03e9080fa"
      },
      "outputs": [
        {
          "output_type": "execute_result",
          "data": {
            "text/plain": [
              "tensor([[7.3237e+07, 4.3977e-41, 7.3237e+07, 4.3977e-41],\n",
              "        [5.8260e+00, 4.3977e-41, 5.8263e+00, 4.3977e-41],\n",
              "        [1.1848e+07, 4.3977e-41, 5.8605e+00, 4.3977e-41],\n",
              "        [5.8606e+00, 4.3977e-41, 5.8606e+00, 4.3977e-41],\n",
              "        [5.8607e+00, 4.3977e-41, 5.8607e+00, 4.3977e-41]])"
            ]
          },
          "metadata": {},
          "execution_count": 3
        }
      ],
      "source": [
        "# 返回的数组大小5x4的矩阵\n",
        "torch.Tensor(5, 4)"
      ]
    },
    {
      "cell_type": "code",
      "execution_count": 4,
      "metadata": {
        "colab": {
          "base_uri": "https://localhost:8080/"
        },
        "id": "4zSNlfFzbLJA",
        "outputId": "58c65a9f-d885-40cc-8bcc-37e8acf328ff"
      },
      "outputs": [
        {
          "output_type": "execute_result",
          "data": {
            "text/plain": [
              "tensor([[0.8667, 0.6007, 0.9300, 0.7184],\n",
              "        [0.0227, 0.6722, 0.8642, 0.3673],\n",
              "        [0.5254, 0.6339, 0.7068, 0.5538],\n",
              "        [0.2375, 0.2451, 0.0163, 0.1413],\n",
              "        [0.0806, 0.2418, 0.0918, 0.2829]])"
            ]
          },
          "metadata": {},
          "execution_count": 4
        }
      ],
      "source": [
        "# 返回的数组大小是5x4的矩阵，初始化是0~1的均匀分布\n",
        "torch.rand(5, 4)"
      ]
    },
    {
      "cell_type": "code",
      "execution_count": 5,
      "metadata": {
        "colab": {
          "base_uri": "https://localhost:8080/"
        },
        "id": "DDDW6eYzbXAL",
        "outputId": "5bb0ed20-4e64-4bc5-c99a-05cd6548dbdc"
      },
      "outputs": [
        {
          "output_type": "execute_result",
          "data": {
            "text/plain": [
              "torch.Size([5, 4])"
            ]
          },
          "metadata": {},
          "execution_count": 5
        }
      ],
      "source": [
        "# 得到矩阵大小\n",
        "a = torch.rand(5, 4)\n",
        "a.size()"
      ]
    },
    {
      "cell_type": "code",
      "execution_count": 6,
      "metadata": {
        "colab": {
          "base_uri": "https://localhost:8080/"
        },
        "id": "GqASOBfNbgRD",
        "outputId": "3fb91e63-645b-4b46-fcd1-69146949b218"
      },
      "outputs": [
        {
          "output_type": "execute_result",
          "data": {
            "text/plain": [
              "array([[1., 1., 1., 1.],\n",
              "       [1., 1., 1., 1.],\n",
              "       [1., 1., 1., 1.],\n",
              "       [1., 1., 1., 1.],\n",
              "       [1., 1., 1., 1.]])"
            ]
          },
          "metadata": {},
          "execution_count": 6
        }
      ],
      "source": [
        "# numpy 类似的返回5x4大小的矩阵\n",
        "np.ones((5, 4))"
      ]
    },
    {
      "cell_type": "code",
      "source": [
        "# numpy 和 torch.Tensor 之间的转换\n",
        "a = torch.rand(5, 4)\n",
        "b = a.numpy()\n",
        "print(b)"
      ],
      "metadata": {
        "colab": {
          "base_uri": "https://localhost:8080/"
        },
        "id": "cjUU7ecMkgHu",
        "outputId": "ff0ff853-82df-46d9-e6a2-4dd257e17a86"
      },
      "execution_count": 7,
      "outputs": [
        {
          "output_type": "stream",
          "name": "stdout",
          "text": [
            "[[0.79515415 0.02142662 0.59408677 0.4819622 ]\n",
            " [0.08151072 0.17280215 0.5513895  0.29636782]\n",
            " [0.29597902 0.48499048 0.32279682 0.5102671 ]\n",
            " [0.84397537 0.1622588  0.34312546 0.2514106 ]\n",
            " [0.89354765 0.8457858  0.2619503  0.17854983]]\n"
          ]
        }
      ]
    },
    {
      "cell_type": "code",
      "source": [
        "a = np.array([[3, 4], [3, 6]])\n",
        "b = torch.from_numpy(a)\n",
        "print(b)"
      ],
      "metadata": {
        "colab": {
          "base_uri": "https://localhost:8080/"
        },
        "id": "iq5PKnEukyrr",
        "outputId": "62fdd786-a4cc-4d91-9ef2-deff77b3deb2"
      },
      "execution_count": 8,
      "outputs": [
        {
          "output_type": "stream",
          "name": "stdout",
          "text": [
            "tensor([[3, 4],\n",
            "        [3, 6]])\n"
          ]
        }
      ]
    },
    {
      "cell_type": "markdown",
      "source": [
        "运算和 numpy 类似"
      ],
      "metadata": {
        "id": "U_msfwn1k63M"
      }
    },
    {
      "cell_type": "code",
      "source": [
        "x = torch.rand(5, 4)\n",
        "y = torch.rand(5, 4)\n",
        "c = 3"
      ],
      "metadata": {
        "id": "4r6ON6EPk7oN"
      },
      "execution_count": 9,
      "outputs": []
    },
    {
      "cell_type": "code",
      "source": [
        "print(c * x)"
      ],
      "metadata": {
        "colab": {
          "base_uri": "https://localhost:8080/"
        },
        "id": "oDAhka93k-XV",
        "outputId": "b5f3f625-2ab8-4c43-956c-78c39439ca51"
      },
      "execution_count": 10,
      "outputs": [
        {
          "output_type": "stream",
          "name": "stdout",
          "text": [
            "tensor([[1.2428, 2.5549, 0.6651, 0.5002],\n",
            "        [1.5732, 2.6009, 2.9278, 2.9123],\n",
            "        [0.3466, 1.2155, 0.8275, 2.3473],\n",
            "        [0.7705, 1.8962, 1.2504, 0.1158],\n",
            "        [2.4050, 2.1692, 1.6353, 0.1055]])\n"
          ]
        }
      ]
    },
    {
      "cell_type": "code",
      "source": [
        "print(x + y)"
      ],
      "metadata": {
        "colab": {
          "base_uri": "https://localhost:8080/"
        },
        "id": "4NDBZ66YlAvs",
        "outputId": "cc99dc44-50fd-4bf6-861f-f894bc779f13"
      },
      "execution_count": 11,
      "outputs": [
        {
          "output_type": "stream",
          "name": "stdout",
          "text": [
            "tensor([[0.6458, 1.5138, 0.7612, 0.4023],\n",
            "        [1.3130, 1.6622, 1.5202, 1.8372],\n",
            "        [0.6705, 0.9567, 1.0255, 1.5648],\n",
            "        [0.5335, 1.0516, 1.1102, 0.8963],\n",
            "        [1.5744, 1.6618, 1.3948, 0.4319]])\n"
          ]
        }
      ]
    },
    {
      "cell_type": "code",
      "source": [
        "print(x.add(y))"
      ],
      "metadata": {
        "colab": {
          "base_uri": "https://localhost:8080/"
        },
        "id": "hmxQ4ic_lDEX",
        "outputId": "938bd498-fa0e-4ad7-a966-1a51424df9c7"
      },
      "execution_count": 12,
      "outputs": [
        {
          "output_type": "stream",
          "name": "stdout",
          "text": [
            "tensor([[0.6458, 1.5138, 0.7612, 0.4023],\n",
            "        [1.3130, 1.6622, 1.5202, 1.8372],\n",
            "        [0.6705, 0.9567, 1.0255, 1.5648],\n",
            "        [0.5335, 1.0516, 1.1102, 0.8963],\n",
            "        [1.5744, 1.6618, 1.3948, 0.4319]])\n"
          ]
        }
      ]
    },
    {
      "cell_type": "code",
      "source": [
        "# 可以直接进行操作改变原对象，x+y或者x.add()并不会改变x，但是x.add_()则会对x进行改变\n",
        "x.add_(y)"
      ],
      "metadata": {
        "colab": {
          "base_uri": "https://localhost:8080/"
        },
        "id": "tfK5C5PxlFfo",
        "outputId": "1da0a803-098b-46e4-902c-061ad276a71c"
      },
      "execution_count": 13,
      "outputs": [
        {
          "output_type": "execute_result",
          "data": {
            "text/plain": [
              "tensor([[0.6458, 1.5138, 0.7612, 0.4023],\n",
              "        [1.3130, 1.6622, 1.5202, 1.8372],\n",
              "        [0.6705, 0.9567, 1.0255, 1.5648],\n",
              "        [0.5335, 1.0516, 1.1102, 0.8963],\n",
              "        [1.5744, 1.6618, 1.3948, 0.4319]])"
            ]
          },
          "metadata": {},
          "execution_count": 13
        }
      ]
    },
    {
      "cell_type": "code",
      "source": [
        "print(x)"
      ],
      "metadata": {
        "colab": {
          "base_uri": "https://localhost:8080/"
        },
        "id": "9ck9MnrClOHg",
        "outputId": "9e95115a-c9c0-43dc-93c7-eb265a65c5fa"
      },
      "execution_count": 14,
      "outputs": [
        {
          "output_type": "stream",
          "name": "stdout",
          "text": [
            "tensor([[0.6458, 1.5138, 0.7612, 0.4023],\n",
            "        [1.3130, 1.6622, 1.5202, 1.8372],\n",
            "        [0.6705, 0.9567, 1.0255, 1.5648],\n",
            "        [0.5335, 1.0516, 1.1102, 0.8963],\n",
            "        [1.5744, 1.6618, 1.3948, 0.4319]])\n"
          ]
        }
      ]
    },
    {
      "cell_type": "markdown",
      "source": [
        "将 torch.Tensor 放到 GPU 上"
      ],
      "metadata": {
        "id": "iyE7tmqolT9c"
      }
    },
    {
      "cell_type": "code",
      "source": [
        "# 判断一下电脑是否支持GPU\n",
        "torch.cuda.is_available()"
      ],
      "metadata": {
        "colab": {
          "base_uri": "https://localhost:8080/"
        },
        "id": "xkgF2roFlPCv",
        "outputId": "7e2d6a51-4e8f-4a4c-c856-48861b86de5c"
      },
      "execution_count": 15,
      "outputs": [
        {
          "output_type": "execute_result",
          "data": {
            "text/plain": [
              "False"
            ]
          },
          "metadata": {},
          "execution_count": 15
        }
      ]
    },
    {
      "cell_type": "code",
      "source": [
        "a = torch.rand(5, 4)\n",
        "#a = a.cuda()\n",
        "print(a)"
      ],
      "metadata": {
        "colab": {
          "base_uri": "https://localhost:8080/"
        },
        "id": "9AjYGH4PlXXa",
        "outputId": "b34325a4-5524-41f5-dbbb-0bb0d1d96ac4"
      },
      "execution_count": 16,
      "outputs": [
        {
          "output_type": "stream",
          "name": "stdout",
          "text": [
            "tensor([[0.2101, 0.9985, 0.4116, 0.0330],\n",
            "        [0.6829, 0.0740, 0.0880, 0.4537],\n",
            "        [0.1606, 0.9148, 0.2012, 0.0273],\n",
            "        [0.6791, 0.4662, 0.5712, 0.1808],\n",
            "        [0.1056, 0.1685, 0.7522, 0.9632]])\n"
          ]
        }
      ]
    },
    {
      "cell_type": "markdown",
      "source": [
        "torch 的自动求导功能\n",
        "\n",
        "torch 和大部分框架一样有着自动求导功能，对象不再是 torch.Tensor，而是 torch.autograd.Variable\n",
        "\n",
        "本质上 Variable 和 Tensor 没有什么区别，不过 Variable 会放在一个计算图里面，可以进行前向传播和反向传播以及求导\n",
        "\n",
        "autograd.Variable = data + grad + creator\n",
        "\n",
        "里面的 creator 表示通过什么操作得到的这个 Variable，grad 表示反向传播的梯度"
      ],
      "metadata": {
        "id": "PCgLtGG4lenW"
      }
    },
    {
      "cell_type": "code",
      "source": [
        "from torch.autograd import Variable"
      ],
      "metadata": {
        "id": "lo4il2Nolb8s"
      },
      "execution_count": 17,
      "outputs": []
    },
    {
      "cell_type": "code",
      "source": [
        "# requires_grad 表示是否对其求梯度，默认是 False\n",
        "x = Variable(torch.Tensor([3]), requires_grad=True)\n",
        "y = Variable(torch.Tensor([5]), requires_grad=True)\n",
        "z = 2 * x + y + 4"
      ],
      "metadata": {
        "id": "mo-B7vEtmWDZ"
      },
      "execution_count": 18,
      "outputs": []
    },
    {
      "cell_type": "code",
      "source": [
        "# 对 x 和 y 分别求导\n",
        "z.backward()"
      ],
      "metadata": {
        "id": "yvVR5iIemua9"
      },
      "execution_count": 19,
      "outputs": []
    },
    {
      "cell_type": "code",
      "source": [
        "# x 的导数和 y 的导数\n",
        "print('dz/dx: {}'.format(x.grad.data))\n",
        "print('dz/dy: {}'.format(y.grad.data))"
      ],
      "metadata": {
        "colab": {
          "base_uri": "https://localhost:8080/"
        },
        "id": "JL8e6d0EmvyI",
        "outputId": "818053d7-865b-4671-d8fd-48377b45e336"
      },
      "execution_count": 20,
      "outputs": [
        {
          "output_type": "stream",
          "name": "stdout",
          "text": [
            "dz/dx: tensor([2.])\n",
            "dz/dy: tensor([1.])\n"
          ]
        }
      ]
    },
    {
      "cell_type": "markdown",
      "source": [
        "神经网络部分\n",
        "所依赖的主要是 torch.nn 和 torch.nn.functional\n",
        "\n",
        "torch.nn 里面有着所有的神经网络的层的操作，其用来构建网络，只有执行一次网络的运算才执行一次\n",
        "\n",
        "torch.nn.functional 表示的是直接对其做一次向前运算操作\n"
      ],
      "metadata": {
        "id": "AaHSK6x_m1XU"
      }
    },
    {
      "cell_type": "code",
      "source": [
        "from torch import nn\n",
        "import torch.nn.functional as F"
      ],
      "metadata": {
        "id": "nTPo3G32m7fj"
      },
      "execution_count": 21,
      "outputs": []
    },
    {
      "cell_type": "code",
      "source": [
        "# 基本的网络构建类模板\n",
        "class net_name(nn.Module):\n",
        "    def __init__(self):\n",
        "        super(net_name, self).__init__()\n",
        "        # 可以添加各种网络层\n",
        "        self.convl = nn.Conv2d(3, 10, 3)\n",
        "        # 具体每种层的参数可以去查看文档\n",
        "\n",
        "    def forward(self, x):\n",
        "        # 定义向前传播\n",
        "        out = self.convl(x)\n",
        "        return out"
      ],
      "metadata": {
        "id": "1SOXk9Nbm91S"
      },
      "execution_count": 22,
      "outputs": []
    }
  ],
  "metadata": {
    "colab": {
      "provenance": [],
      "authorship_tag": "ABX9TyPl0mtX73IISTwb8xKqMVDe",
      "include_colab_link": true
    },
    "kernelspec": {
      "display_name": "Python 3",
      "name": "python3"
    },
    "language_info": {
      "name": "python"
    }
  },
  "nbformat": 4,
  "nbformat_minor": 0
}