{
  "nbformat": 4,
  "nbformat_minor": 0,
  "metadata": {
    "colab": {
      "provenance": [],
      "authorship_tag": "ABX9TyNTO+53EsMMaYmmzwiehVlr",
      "include_colab_link": true
    },
    "kernelspec": {
      "name": "python3",
      "display_name": "Python 3"
    },
    "language_info": {
      "name": "python"
    }
  },
  "cells": [
    {
      "cell_type": "markdown",
      "metadata": {
        "id": "view-in-github",
        "colab_type": "text"
      },
      "source": [
        "<a href=\"https://colab.research.google.com/github/wannasmile/colab_code_note/blob/main/BI0001.ipynb\" target=\"_parent\"><img src=\"https://colab.research.google.com/assets/colab-badge.svg\" alt=\"Open In Colab\"/></a>"
      ]
    },
    {
      "cell_type": "markdown",
      "source": [
        "皮尔逊相关系数及其显著性检验 "
      ],
      "metadata": {
        "id": "TyGTeyrVtE-c"
      }
    },
    {
      "cell_type": "markdown",
      "source": [
        "什么是相关系数和显著性检验\n",
        "\n",
        "\n",
        "根据相关现象间的不同特征（如变量的个数等），我们一般将反映两变量间线性相关关系的统计量称为相关系数；将反映两变量间曲线相关关系的统计量称为非线性相关系数；将反映多个变量之间的多元线性相关关系的统计量称为复相关系数。\n",
        "\n",
        "\n",
        "但实际我们是根据数据样本计算得到的样本相关系数r，它只是总体相关系数R的估计值。为了确定我们从样本中所得到的是有效的统计结论，即结论是普适的、具有统计学意义的、对总体中任意一个样本均适用，我们需要对结论进行显著性检验，这可以通过计算结论所对应的p值实现。\n",
        "\n",
        "\n",
        "如果p≥0.05，则该相关结果无统计学意义，即可能只是该样本中存在这样的相关关系，其他样本中不一定成立；\n",
        "如果p<0.05，则称为显著相关；\n",
        "如果p<0.01，则称为非常显著相关。\n",
        "\n",
        "但p值越小，两个变量之间的相关性并不是越强，相关程度的强弱与显著性检验的显著程度是两回事。相关程度的强弱需要看相关系数的绝对值大小，当绝对值|r|越接近1，表明相关程度越高。\n",
        "\n",
        "\n"
      ],
      "metadata": {
        "id": "f65hwnn5tXP_"
      }
    },
    {
      "cell_type": "markdown",
      "source": [
        "Pearson相关系数\n",
        "\n",
        "该相关系数是由卡尔·皮尔逊在前人的研究基础上所提出的相关统计量，可以用来度量两个变量之间的简单线性关系。它的计算公式如下：\n",
        "\n",
        "\n",
        "$\\rho = \\frac{\\text{cov}(X,Y)}{\\sigma_x \\sigma_y}$\n",
        "\n",
        "\n",
        "$\\rho = \\frac{{}\\sum_{i=1}^{n} (x_i - \\overline{x})(y_i - \\overline{y})}\n",
        "{\\sqrt{\\sum_{i=1}^{n} (x_i - \\overline{x})^2  \\sum_{i=1}^{n}(y_i - \\overline{y})^2}}$\n",
        "\n",
        "\n",
        "\n",
        "\n",
        "通过该公式计算得到的相关系数r，取值范围为[-1,1]。\n",
        "\n",
        "* 当r=0时，表明两个变量X和Y之间无线性关系（注意并不代表X和Y一定相互独立，可能存在非线性等其他关系）；\n",
        "* 当0<r<1时，表明两个变量X和Y之间存在正相关关系；\n",
        "* 当-1<r<0时，表明两个变量X和Y之间存在负相关关系。\n",
        "\n",
        "由于Pearson相关系数的形式简单，因此其应用十分广泛。但其也存在缺点，即：\n",
        "\n",
        "* 该相关系数只能识别简单的线性相关关系，无法处理非线性相关关系；\n",
        "* 对异常值（或离群点）和样本容量较为敏感；\n",
        "* 要求研究的变量是数值变量，且变量符合或较为接近正态分布。\n",
        "\n",
        "一般认为，相关系数在 0-0.2 之间不相关或极弱相关，0.2-0.4 之间弱相关，0.4-0.6 之间中等相关，0.6-0.8 之间强相关，0.8-1 极强相关。\n",
        "\n",
        "\n",
        "常用 t 检验来检验Pearson相关系数的显著性：\n",
        "\n",
        "$t = r\\sqrt{\\frac{N-2}{1-r^2}}$\n",
        "\n",
        "\n",
        "其中，n 为样本个数，r 为相关系数，t 为检验值。可以看到，当样本量 n 越大时，达到显著相关的相关系数 r 就越小，因此当样本量较大时，由于样本数据的差异性，相关系数一般不会很高，但是显著性检验却可以认为两组样本数据相关性显著，一般常用的显著性检验水平为 0.05 （显著相关）和 0.01 （极显著相关）。\n",
        "\n",
        "\n"
      ],
      "metadata": {
        "id": "3ezfKRIhuFTC"
      }
    },
    {
      "cell_type": "markdown",
      "source": [
        "Spearman相关系数\n",
        "\n",
        "上文提到Pearson相关系数无法识别非线性关系，并且存在对一个或几个离群（异常）点极为敏感的局限性。\n",
        "Spearman相关系数与可以作为Pearson相关系数的替代方法。它可以用来衡量两个变量间是否存在单调相关关系，计算公式如下（其中Di是第i对数据之间秩的差值）：\n",
        "\n",
        "$\\rho = 1- {\\frac {6 \\sum d_i^2}{n(n^2 - 1)}}$\n",
        "\n",
        "通过该公式计算得到的相关系数ρ，取值范围为[-1,1]。\n",
        "\n",
        "当一个变量随另一个变量单调递减时，ρ=-1；\n",
        "当一个变量随另一个变量单调递增时，ρ=1。\n",
        "Spearman相关系数有时也称为“等级相关系数”。\n",
        "\n",
        "相对于Pearson相关系数的优点：\n",
        "\n",
        "* 使用条件没有Pearson相关系数那么严格，只要两个变量的值是成对的等级数据（即原始数据经过排序后的等级或顺序值），或者是经由连续变量转化得到的等级数据，就可以用上述Spearman相关系数的公式进行计算，分析这两个变量之间是否存在单调相关关系。\n",
        "* 与变量的分布和样本容量都没有关系，并且计算结果对个别异常值不敏感。所以能够适用于较多场景。\n",
        "\n",
        "\n"
      ],
      "metadata": {
        "id": "Mc8AyNHoxSaC"
      }
    },
    {
      "cell_type": "code",
      "execution_count": 1,
      "metadata": {
        "colab": {
          "base_uri": "https://localhost:8080/",
          "height": 53
        },
        "id": "IZ8gXAtDsr1P",
        "outputId": "bee8616d-c41a-468b-c3f3-d0ff6074e25a"
      },
      "outputs": [
        {
          "output_type": "stream",
          "name": "stdout",
          "text": [
            "0.9909696771777156\n"
          ]
        },
        {
          "output_type": "execute_result",
          "data": {
            "text/plain": [
              "'The value of the correlation coefficient is 0.9909 it means marks and the study_hour has a strong positive correlation: the more you study the more marks you will get.'"
            ],
            "application/vnd.google.colaboratory.intrinsic+json": {
              "type": "string"
            }
          },
          "metadata": {},
          "execution_count": 1
        }
      ],
      "source": [
        "# Q1. Pearson correlation coefficient is a measure of the linear relationship between two variables. \n",
        "# Suppose you have collected data on the amount of time students spend studying for an exam and their final exam scores. \n",
        "# Calculate the Pearson correlation coefficient between these two variables and interpret the result.\n",
        "\n",
        "import pandas as pd\n",
        "import numpy as np\n",
        "\n",
        "\n",
        "df=pd.DataFrame({\"study_hour\":[23,34,56,78,90,34,56],\n",
        "              \"marks\":[34,38,60,82,95,45,67]})\n",
        "\n",
        "corr_coeff=np.corrcoef(df[\"study_hour\"],df[\"marks\"])[0,1]\n",
        "print(corr_coeff)\n",
        "\n",
        "\"\"\"The value of the correlation coefficient is 0.9909 it means marks and the study_hour has a strong positive correlation: the more you study the more marks you will get.\"\"\""
      ]
    },
    {
      "cell_type": "code",
      "source": [
        "# Q2. Spearman's rank correlation is a measure of the monotonic relationship between two variables.\n",
        "# Suppose you have collected data on the amount of sleep individuals get each night and their overall job satisfaction level on a scale of 1 to 10. \n",
        "# Calculate the Spearman's rank correlation between these two variables and interpret the result.\n",
        "from scipy.stats import spearmanr\n",
        "\n",
        "df=pd.DataFrame({\"amount_of_sleep\":[6,6.5,7,7.5,8,5.5,7.5],\n",
        "              \"job_satisfaction_percentage\":[60,68,80,81,60,45,67]})\n",
        "\n",
        "corr_coeff, p_val=spearmanr(df[\"amount_of_sleep\"],df[\"job_satisfaction_percentage\"])\n",
        "\n",
        "print(f\"spearman_coefficient:{corr_coeff}  p_value:{p_val}\")\n",
        "\n",
        "\"\"\"The coefficent of the spearman coeffient is is 0.4. It means that there is a positive relation between amount_of_sleep and job_satisfaction_percentage. But it is weakly positively linked.\"\"\""
      ],
      "metadata": {
        "colab": {
          "base_uri": "https://localhost:8080/",
          "height": 53
        },
        "id": "jo5u2ynRzNcg",
        "outputId": "af37d1ff-6987-40e3-9288-02c9ec5050b3"
      },
      "execution_count": 2,
      "outputs": [
        {
          "output_type": "stream",
          "name": "stdout",
          "text": [
            "spearman_coefficient:0.4  p_value:0.37393392381774704\n"
          ]
        },
        {
          "output_type": "execute_result",
          "data": {
            "text/plain": [
              "'The coefficent of the spearman coeffient is is 0.4. It means that there is a positive relation between amount_of_sleep and job_satisfaction_percentage. But it is weakly positively linked.'"
            ],
            "application/vnd.google.colaboratory.intrinsic+json": {
              "type": "string"
            }
          },
          "metadata": {},
          "execution_count": 2
        }
      ]
    },
    {
      "cell_type": "code",
      "source": [
        "# Q3. Suppose you are conducting a study to examine the relationship between the number of hours of exercise per week and body mass index (BMI) in a sample of adults.\n",
        "# You collected data on both variables for 50 participants.\n",
        "# Calculate the Pearson correlation coefficient and the Spearman's rank correlation between these two variables and compare the results.\n",
        "import numpy as np\n",
        "import pandas as pd\n",
        "from scipy.stats import pearsonr, spearmanr\n",
        "\n",
        "\n",
        "hours_of_exercise = [2,4,3,1,2,5,6,8]\n",
        "\n",
        "bmi =[20,22,24,26,22,21,20.5,23.5]\n",
        "\n",
        "\n",
        "\n",
        "df = pd.DataFrame({'hours_of_exercise': hours_of_exercise, 'bmi': bmi})\n",
        "\n",
        "\n",
        "pearson_corr, p_value = pearsonr(df['hours_of_exercise'], df['bmi'])\n",
        "print('Pearson correlation coefficient:', pearson_corr)\n",
        "\n",
        "spearman_corr, p_value = spearmanr(df['hours_of_exercise'], df['bmi'])\n",
        "print('Spearman correlation coefficient:', spearman_corr)\n",
        "\n",
        "\"\"\"RESULT: Following result for the pearson coefficient and the spearman coefficient shows the hours_of_exercise and the bmi is negatively correalted, it means that if hour_of_exercise decreases then the bmi increases and if the hour_of_exercise increases then the bmi decreases.\"\"\""
      ],
      "metadata": {
        "colab": {
          "base_uri": "https://localhost:8080/",
          "height": 89
        },
        "id": "5TyFL1HD08N8",
        "outputId": "2258a0c3-27ba-402f-c7ea-6926685e7060"
      },
      "execution_count": 3,
      "outputs": [
        {
          "output_type": "stream",
          "name": "stdout",
          "text": [
            "Pearson correlation coefficient: -0.22958140633970775\n",
            "Spearman correlation coefficient: -0.23493975903614456\n"
          ]
        },
        {
          "output_type": "execute_result",
          "data": {
            "text/plain": [
              "'RESULT: Following result for the pearson coefficient and the spearman coefficient shows the hours_of_exercise and the bmi is negatively correalted, it means that if hour_of_exercise decreases then the bmi increases and if the hour_of_exercise increases then the bmi decreases.'"
            ],
            "application/vnd.google.colaboratory.intrinsic+json": {
              "type": "string"
            }
          },
          "metadata": {},
          "execution_count": 3
        }
      ]
    },
    {
      "cell_type": "code",
      "source": [
        "# Q4. A survey was conducted to examine the relationship between age and preference for a particular brand of soft drink. The survey results are shown below:\n",
        "\n",
        "from scipy.stats import spearmanr\n",
        "import pandas as pd\n",
        "\n",
        "df=pd.DataFrame({\"age\":[25,42,37,19,31,28],\n",
        "              \"soft_drink_preference\":[\"coke\",\"pepsi\",\"mountain_dew\",\"coke\",\"pepsi\",\"coke\"]})\n",
        "corr_coeff, p_val=spearmanr(df[\"age\"], df[\"soft_drink_preference\"])\n",
        "print(f\"spearman_coefficient:{corr_coeff}  p_value:{p_val}\")\n",
        "\n",
        "\"\"\"The value of the coefficient is 0.8332 and p_value 0.039 shows there is a strong correlation between the age and the soft_drink_preferred.\"\"\""
      ],
      "metadata": {
        "colab": {
          "base_uri": "https://localhost:8080/",
          "height": 53
        },
        "id": "kijXudEW1c0U",
        "outputId": "c9d8c91b-3833-4302-dec7-bcd82f696959"
      },
      "execution_count": 4,
      "outputs": [
        {
          "output_type": "stream",
          "name": "stdout",
          "text": [
            "spearman_coefficient:0.8332380897952965  p_value:0.03939551647885117\n"
          ]
        },
        {
          "output_type": "execute_result",
          "data": {
            "text/plain": [
              "'The value of the coefficient is 0.8332 and p_value 0.039 shows there is a strong correlation between the age and the soft_drink_preferred.'"
            ],
            "application/vnd.google.colaboratory.intrinsic+json": {
              "type": "string"
            }
          },
          "metadata": {},
          "execution_count": 4
        }
      ]
    }
  ]
}