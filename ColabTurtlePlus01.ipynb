{
  "nbformat": 4,
  "nbformat_minor": 0,
  "metadata": {
    "colab": {
      "provenance": [],
      "authorship_tag": "ABX9TyOGyq1tRu/MLEGroAK8Z9sK",
      "include_colab_link": true
    },
    "kernelspec": {
      "name": "python3",
      "display_name": "Python 3"
    },
    "language_info": {
      "name": "python"
    }
  },
  "cells": [
    {
      "cell_type": "markdown",
      "metadata": {
        "id": "view-in-github",
        "colab_type": "text"
      },
      "source": [
        "<a href=\"https://colab.research.google.com/github/wannasmile/colab_code_note/blob/main/ColabTurtlePlus01.ipynb\" target=\"_parent\"><img src=\"https://colab.research.google.com/assets/colab-badge.svg\" alt=\"Open In Colab\"/></a>"
      ]
    },
    {
      "cell_type": "markdown",
      "source": [
        "## ColabTurtlePlus\n",
        "\n",
        "https://github.com/mathriddle/ColabTurtlePlus\n",
        "\n",
        "\n",
        "The ColabTurtlePlus module provides turtle graphics primitives, in both object-oriented and procedure-oriented ways.\n",
        "\n",
        "The procedural interface provides functions that are derived from the methods of the classes.\n",
        "\n",
        "They have the same names as the corresponding methods. \n",
        "\n",
        "A screen object is automatically created whenever a function derived from a Screen method is called. \n",
        "\n",
        "An (unnamed) turtle object is automatically created whenever any of the functions derived from a Turtle method is called.\n",
        "\n",
        "\n",
        "\n"
      ],
      "metadata": {
        "id": "dBLGmXlQHVFo"
      }
    },
    {
      "cell_type": "markdown",
      "source": [
        "注意：ColabTurtlePlus \n",
        "\n",
        "不仅可以用在Colab，还可以用在JupyterLab。"
      ],
      "metadata": {
        "id": "UVW9tw3UJzSZ"
      }
    },
    {
      "cell_type": "code",
      "execution_count": 1,
      "metadata": {
        "colab": {
          "base_uri": "https://localhost:8080/"
        },
        "id": "udERHhquEi-5",
        "outputId": "c1ff45a9-840c-43ed-9939-1eb02c19fdbe"
      },
      "outputs": [
        {
          "output_type": "stream",
          "name": "stdout",
          "text": [
            "Looking in indexes: https://pypi.org/simple, https://us-python.pkg.dev/colab-wheels/public/simple/\n",
            "Requirement already satisfied: ColabTurtlePlus in /usr/local/lib/python3.8/dist-packages (2.0.1)\n"
          ]
        }
      ],
      "source": [
        "!pip install ColabTurtlePlus"
      ]
    },
    {
      "cell_type": "code",
      "source": [
        "from ColabTurtlePlus.Turtle import *"
      ],
      "metadata": {
        "colab": {
          "base_uri": "https://localhost:8080/"
        },
        "id": "fCC3MQRqEopS",
        "outputId": "9101b5c6-552f-4d98-93da-8ef75ff3903e"
      },
      "execution_count": 2,
      "outputs": [
        {
          "output_type": "stream",
          "name": "stdout",
          "text": [
            "Put clearscreen() as the first line in a cell (after the import command) to re-run turtle commands in the cell\n"
          ]
        }
      ]
    },
    {
      "cell_type": "code",
      "source": [
        "from ColabTurtlePlus.Turtle import *\n",
        "clearscreen()\n",
        "setup(300,300)\n",
        "showborder()\n",
        "color(\"red\", \"yellow\")\n",
        "shape(\"turtle\")\n",
        "pensize(2)\n",
        "speed(7)\n",
        "begin_fill()\n",
        "for _ in range(4):\n",
        "  forward(100)\n",
        "  left(90)\n",
        "circle(-50)\n",
        "end_fill()\n",
        "color(\"black\",\"green\")\n",
        "saveSVG(turtle=True)"
      ],
      "metadata": {
        "colab": {
          "base_uri": "https://localhost:8080/",
          "height": 321
        },
        "id": "fUpE5l1cEtgS",
        "outputId": "f7ed445b-ff47-4834-85d8-85838e7a90db"
      },
      "execution_count": 3,
      "outputs": [
        {
          "output_type": "display_data",
          "data": {
            "text/plain": [
              "<IPython.core.display.HTML object>"
            ],
            "text/html": [
              "\n",
              "      <svg width=\"300\" height=\"300\">  \n",
              "        <rect width=\"100%\" height=\"100%\" style=\"fill:white;stroke:gray;stroke-width:1\"/>\n",
              "        \n",
              "        \n",
              "        <path fill-rule=\"evenodd\" fill-opacity=\"1\" d=\"M 150.0 150.0  L 250.0 150.0  L 250.0 50.0  L 150.0 50.0  L 150.0 150.0  A -50 -50 0 0 1 150.0 250.0  A -50 -50 0 0 1 150.0 150.0 \" stroke-linecap=\"round\" style=\"stroke:red;stroke-width:2\" fill=\"yellow\" />\n",
              "        \n",
              "        \n",
              "        <g id=\"turtle\" visibility=\"visible\" transform=\"rotate(90.0,150.0,150.0) translate(150.0, 150.0)\">\n",
              "<path style=\"stroke:black;fill-rule:evenodd;fill:green;fill-opacity:1;\" transform=\"skewX(0) scale(1,1)\" d=\"m 1.1536693,-18.56101 c -2.105469,1.167969 -3.203125,3.441407 -3.140625,6.5 l 0.011719,0.519532 -0.300782,-0.15625 c -1.308594,-0.671875 -2.828125,-0.824219 -4.378906,-0.429688 -1.9375,0.484375 -3.8906253,2.089844 -6.0117193,4.9257825 -1.332031,1.785156 -1.714843,2.644531 -1.351562,3.035156 l 0.113281,0.125 h 0.363281 c 0.71875,0 1.308594,-0.265625 4.6679693,-2.113282 1.199219,-0.660156 2.183594,-1.199218 2.191406,-1.199218 0.00781,0 -0.023437,0.089844 -0.074218,0.195312 -0.472657,1.058594 -1.046876,2.785156 -1.335938,4.042969 -1.054688,4.574219 -0.351562,8.453125 2.101562,11.582031 0.28125,0.355469 0.292969,0.253906 -0.097656,0.722656 -2.046875,2.4609375 -3.027344,4.8984375 -2.734375,6.8046875 0.050781,0.339844 0.042969,0.335938 0.679688,0.335938 2.023437,0 4.15625,-1.316407 6.21875,-3.835938 0.222656,-0.269531 0.191406,-0.261719 0.425781,-0.113281 0.730469,0.46875 2.460938,1.390625 2.613281,1.390625 0.160157,0 1.765625,-0.753906 2.652344,-1.246094 0.167969,-0.09375 0.308594,-0.164062 0.308594,-0.160156 0.066406,0.105468 0.761719,0.855468 1.085937,1.171875 1.613282,1.570312 3.339844,2.402343 5.3593747,2.570312 0.324219,0.02734 0.355469,0.0078 0.425781,-0.316406 0.375,-1.742187 -0.382812,-4.058594 -2.1445307,-6.5585935 l -0.320312,-0.457031 0.15625,-0.183594 c 3.2460927,-3.824218 3.4335927,-9.08593704 0.558593,-15.816406 l -0.050781,-0.125 1.7382807,0.859375 c 3.585938,1.773437 4.371094,2.097656 5.085938,2.097656 0.945312,0 0.75,-0.863281 -0.558594,-2.507812 C 11.458356,-11.838353 8.3333563,-13.268041 4.8607003,-11.721166 l -0.363281,0.164063 0.019531,-0.09375 c 0.121094,-0.550781 0.183594,-1.800781 0.121094,-2.378907 -0.203125,-1.867187 -1.035157,-3.199218 -2.695313,-4.308593 -0.523437,-0.351563 -0.546875,-0.355469 -0.789062,-0.222657\" />\n",
              "</g>\n",
              "      </svg>\n",
              "    "
            ]
          },
          "metadata": {}
        }
      ]
    },
    {
      "cell_type": "code",
      "source": [
        "from ColabTurtlePlus.Turtle import *\n",
        "clearscreen()\n",
        "#设置 图形窗口的像素大小\n",
        "setup(300,300)\n",
        "#设置 窗口边沿的显示颜色（默认灰色）\n",
        "showborder()\n",
        "\n",
        "#设置 当前pencolor和当前fillcolor\n",
        "color(\"red\", \"yellow\")\n",
        "#设置 turtle成为指定形状\n",
        "shape(\"turtle\")\n",
        "#设置 笔宽\n",
        "pensize(2)\n",
        "#设置 turtle移动速度\n",
        "speed(7)\n",
        "\n",
        "#画一个需要填充的图形之前 使用\n",
        "begin_fill()\n",
        "for _ in range(4):\n",
        "  #沿着 turtle朝向移动\n",
        "  forward(100)\n",
        "  #左转 turtle朝向度数\n",
        "  left(90)\n",
        "#画圆\n",
        "circle(-50)\n",
        "#画一个需要填充的图形之后 使用\n",
        "end_fill()\n",
        "#设置 当前pencolor和当前fillcolor\n",
        "color(\"black\",\"green\")\n",
        "#保存SVG文件（设置是否保存turtle）\n",
        "saveSVG(turtle=True)"
      ],
      "metadata": {
        "colab": {
          "base_uri": "https://localhost:8080/",
          "height": 321
        },
        "id": "jMobrRHCXsH0",
        "outputId": "a890ea2d-14b3-45cb-c22f-7e38c255e9a3"
      },
      "execution_count": 4,
      "outputs": [
        {
          "output_type": "display_data",
          "data": {
            "text/plain": [
              "<IPython.core.display.HTML object>"
            ],
            "text/html": [
              "\n",
              "      <svg width=\"300\" height=\"300\">  \n",
              "        <rect width=\"100%\" height=\"100%\" style=\"fill:white;stroke:gray;stroke-width:1\"/>\n",
              "        \n",
              "        \n",
              "        <path fill-rule=\"evenodd\" fill-opacity=\"1\" d=\"M 150.0 150.0  L 250.0 150.0  L 250.0 50.0  L 150.0 50.0  L 150.0 150.0  A -50 -50 0 0 1 150.0 250.0  A -50 -50 0 0 1 150.0 150.0 \" stroke-linecap=\"round\" style=\"stroke:red;stroke-width:2\" fill=\"yellow\" />\n",
              "        \n",
              "        \n",
              "        <g id=\"turtle\" visibility=\"visible\" transform=\"rotate(90.0,150.0,150.0) translate(150.0, 150.0)\">\n",
              "<path style=\"stroke:black;fill-rule:evenodd;fill:green;fill-opacity:1;\" transform=\"skewX(0) scale(1,1)\" d=\"m 1.1536693,-18.56101 c -2.105469,1.167969 -3.203125,3.441407 -3.140625,6.5 l 0.011719,0.519532 -0.300782,-0.15625 c -1.308594,-0.671875 -2.828125,-0.824219 -4.378906,-0.429688 -1.9375,0.484375 -3.8906253,2.089844 -6.0117193,4.9257825 -1.332031,1.785156 -1.714843,2.644531 -1.351562,3.035156 l 0.113281,0.125 h 0.363281 c 0.71875,0 1.308594,-0.265625 4.6679693,-2.113282 1.199219,-0.660156 2.183594,-1.199218 2.191406,-1.199218 0.00781,0 -0.023437,0.089844 -0.074218,0.195312 -0.472657,1.058594 -1.046876,2.785156 -1.335938,4.042969 -1.054688,4.574219 -0.351562,8.453125 2.101562,11.582031 0.28125,0.355469 0.292969,0.253906 -0.097656,0.722656 -2.046875,2.4609375 -3.027344,4.8984375 -2.734375,6.8046875 0.050781,0.339844 0.042969,0.335938 0.679688,0.335938 2.023437,0 4.15625,-1.316407 6.21875,-3.835938 0.222656,-0.269531 0.191406,-0.261719 0.425781,-0.113281 0.730469,0.46875 2.460938,1.390625 2.613281,1.390625 0.160157,0 1.765625,-0.753906 2.652344,-1.246094 0.167969,-0.09375 0.308594,-0.164062 0.308594,-0.160156 0.066406,0.105468 0.761719,0.855468 1.085937,1.171875 1.613282,1.570312 3.339844,2.402343 5.3593747,2.570312 0.324219,0.02734 0.355469,0.0078 0.425781,-0.316406 0.375,-1.742187 -0.382812,-4.058594 -2.1445307,-6.5585935 l -0.320312,-0.457031 0.15625,-0.183594 c 3.2460927,-3.824218 3.4335927,-9.08593704 0.558593,-15.816406 l -0.050781,-0.125 1.7382807,0.859375 c 3.585938,1.773437 4.371094,2.097656 5.085938,2.097656 0.945312,0 0.75,-0.863281 -0.558594,-2.507812 C 11.458356,-11.838353 8.3333563,-13.268041 4.8607003,-11.721166 l -0.363281,0.164063 0.019531,-0.09375 c 0.121094,-0.550781 0.183594,-1.800781 0.121094,-2.378907 -0.203125,-1.867187 -1.035157,-3.199218 -2.695313,-4.308593 -0.523437,-0.351563 -0.546875,-0.355469 -0.789062,-0.222657\" />\n",
              "</g>\n",
              "      </svg>\n",
              "    "
            ]
          },
          "metadata": {}
        }
      ]
    },
    {
      "cell_type": "code",
      "source": [
        "from ColabTurtlePlus.Turtle import *\n",
        "clearscreen()\n",
        "setup(500,300)\n",
        "T = Turtle()\n",
        "T.color('red', 'yellow')\n",
        "T.speed(13)\n",
        "T.width(1.5)\n",
        "S = T.clone()\n",
        "T.fillrule(\"evenodd\")\n",
        "S.fillrule(\"nonzero\")\n",
        "x0 = -225\n",
        "T.jumpto(x0,0)\n",
        "S.jumpto(25,0)\n",
        "T.begin_fill()\n",
        "S.begin_fill()\n",
        "while True:\n",
        "    T.forward(200)\n",
        "    T.left(170)\n",
        "    S.forward(200)\n",
        "    S.left(170)\n",
        "    if (T.getx()-x0)**2 + T.gety()**2 < 1:\n",
        "        break\n",
        "T.end_fill()\n",
        "S.end_fill()"
      ],
      "metadata": {
        "colab": {
          "base_uri": "https://localhost:8080/",
          "height": 321
        },
        "id": "_-5_P89UEyZ_",
        "outputId": "e7bf9a55-598a-44fb-99d6-6beb9a555830"
      },
      "execution_count": 5,
      "outputs": [
        {
          "output_type": "display_data",
          "data": {
            "text/plain": [
              "<IPython.core.display.HTML object>"
            ],
            "text/html": [
              "\n",
              "      <svg width=\"500\" height=\"300\">  \n",
              "        <rect width=\"100%\" height=\"100%\" style=\"fill:white;stroke:;stroke-width:1\"/>\n",
              "        \n",
              "        \n",
              "        <path fill-rule=\"evenodd\" fill-opacity=\"1\" d=\"M 25.0 150.0  L 225.0 150.0  L 28.038 115.27  L 215.977 183.674  L 42.772 83.674  L 195.981 212.232  L 67.423 59.023  L 167.423 232.228  L 99.019 44.289  L 133.749 241.251  L 133.749 41.251  L 99.019 238.213  L 167.423 50.274  L 67.423 223.479  L 195.981 70.27  L 42.772 198.828  L 215.977 98.828  L 28.038 167.232  L 225.0 132.502  L 25.0 132.502  L 221.962 167.232  L 34.023 98.828  L 207.228 198.828  L 54.019 70.27  L 182.577 223.479  L 82.577 50.274  L 150.981 238.213  L 116.251 41.251  L 116.251 241.251  L 150.981 44.289  L 82.577 232.228  L 182.577 59.023  L 54.019 212.232  L 207.228 83.674  L 34.023 183.674  L 221.962 115.27  L 25.0 150.0 \" stroke-linecap=\"round\" style=\"stroke:red;stroke-width:1.5\" fill=\"yellow\" /><path fill-rule=\"nonzero\" fill-opacity=\"1\" d=\"M 275.0 150.0  L 475.0 150.0  L 278.038 115.27  L 465.977 183.674  L 292.772 83.674  L 445.981 212.232  L 317.423 59.023  L 417.423 232.228  L 349.019 44.289  L 383.749 241.251  L 383.749 41.251  L 349.019 238.213  L 417.423 50.274  L 317.423 223.479  L 445.981 70.27  L 292.772 198.828  L 465.977 98.828  L 278.038 167.232  L 475.0 132.502  L 275.0 132.502  L 471.962 167.232  L 284.023 98.828  L 457.228 198.828  L 304.019 70.27  L 432.577 223.479  L 332.577 50.274  L 400.981 238.213  L 366.251 41.251  L 366.251 241.251  L 400.981 44.289  L 332.577 232.228  L 432.577 59.023  L 304.019 212.232  L 457.228 83.674  L 284.023 183.674  L 471.962 115.27  L 275.0 150.0 \" stroke-linecap=\"round\" style=\"stroke:red;stroke-width:1.5\" fill=\"yellow\" />\n",
              "        \n",
              "        \n",
              "        <g id=\"classic\" visibility=\"visible\" transform=\"rotate(-90,25.0,150.0) translate(25.0, 150.0)\">\n",
              "<polygon points=\"-5,-4.5 0,-2.5 5,-4.5 0,4.5\" transform=\"skewX(0) scale(1,1)\" style=\"stroke:red;fill:yellow;stroke-width:1\" />\n",
              "</g><g id=\"classic\" visibility=\"visible\" transform=\"rotate(-90,275.0,150.0) translate(275.0, 150.0)\">\n",
              "<polygon points=\"-5,-4.5 0,-2.5 5,-4.5 0,4.5\" transform=\"skewX(0.0) scale(1,1)\" style=\"stroke:red;fill:yellow;stroke-width:1\" />\n",
              "</g>\n",
              "      </svg>\n",
              "    "
            ]
          },
          "metadata": {}
        }
      ]
    },
    {
      "cell_type": "code",
      "source": [
        "from ColabTurtlePlus.Turtle import *\n",
        "clearscreen()\n",
        "#设置 图形窗口的像素大小\n",
        "setup(500,300)\n",
        "T = Turtle()\n",
        "#设置 当前pencolor和当前fillcolor\n",
        "T.color('red', 'yellow')\n",
        "#设置 turtle移动速度\n",
        "T.speed(13)\n",
        "#设置 笔宽\n",
        "T.width(1.5)\n",
        "#复制\n",
        "S = T.clone()\n",
        "#设置 Turtle T填充方式\n",
        "T.fillrule(\"evenodd\")\n",
        "#设置 Turtle S填充方式\n",
        "S.fillrule(\"nonzero\")\n",
        "\n",
        "x0 = -225\n",
        "#设置 T位置\n",
        "T.jumpto(x0,0)\n",
        "#设置 S位置\n",
        "S.jumpto(25,0)\n",
        "\n",
        "#画一个需要填充的图形之前 使用\n",
        "T.begin_fill()\n",
        "S.begin_fill()\n",
        "while True:\n",
        "    T.forward(200)\n",
        "    T.left(170)\n",
        "    S.forward(200)\n",
        "    S.left(170)\n",
        "    if (T.getx()-x0)**2 + T.gety()**2 < 1:\n",
        "        break\n",
        "#画一个需要填充的图形之后 使用\n",
        "T.end_fill()\n",
        "S.end_fill()"
      ],
      "metadata": {
        "colab": {
          "base_uri": "https://localhost:8080/",
          "height": 321
        },
        "id": "XPcAWeMyac_K",
        "outputId": "c74c6259-d2a1-4a11-f404-fd707d0e550d"
      },
      "execution_count": 6,
      "outputs": [
        {
          "output_type": "display_data",
          "data": {
            "text/plain": [
              "<IPython.core.display.HTML object>"
            ],
            "text/html": [
              "\n",
              "      <svg width=\"500\" height=\"300\">  \n",
              "        <rect width=\"100%\" height=\"100%\" style=\"fill:white;stroke:;stroke-width:1\"/>\n",
              "        \n",
              "        \n",
              "        <path fill-rule=\"evenodd\" fill-opacity=\"1\" d=\"M 25.0 150.0  L 225.0 150.0  L 28.038 115.27  L 215.977 183.674  L 42.772 83.674  L 195.981 212.232  L 67.423 59.023  L 167.423 232.228  L 99.019 44.289  L 133.749 241.251  L 133.749 41.251  L 99.019 238.213  L 167.423 50.274  L 67.423 223.479  L 195.981 70.27  L 42.772 198.828  L 215.977 98.828  L 28.038 167.232  L 225.0 132.502  L 25.0 132.502  L 221.962 167.232  L 34.023 98.828  L 207.228 198.828  L 54.019 70.27  L 182.577 223.479  L 82.577 50.274  L 150.981 238.213  L 116.251 41.251  L 116.251 241.251  L 150.981 44.289  L 82.577 232.228  L 182.577 59.023  L 54.019 212.232  L 207.228 83.674  L 34.023 183.674  L 221.962 115.27  L 25.0 150.0 \" stroke-linecap=\"round\" style=\"stroke:red;stroke-width:1.5\" fill=\"yellow\" /><path fill-rule=\"nonzero\" fill-opacity=\"1\" d=\"M 275.0 150.0  L 475.0 150.0  L 278.038 115.27  L 465.977 183.674  L 292.772 83.674  L 445.981 212.232  L 317.423 59.023  L 417.423 232.228  L 349.019 44.289  L 383.749 241.251  L 383.749 41.251  L 349.019 238.213  L 417.423 50.274  L 317.423 223.479  L 445.981 70.27  L 292.772 198.828  L 465.977 98.828  L 278.038 167.232  L 475.0 132.502  L 275.0 132.502  L 471.962 167.232  L 284.023 98.828  L 457.228 198.828  L 304.019 70.27  L 432.577 223.479  L 332.577 50.274  L 400.981 238.213  L 366.251 41.251  L 366.251 241.251  L 400.981 44.289  L 332.577 232.228  L 432.577 59.023  L 304.019 212.232  L 457.228 83.674  L 284.023 183.674  L 471.962 115.27  L 275.0 150.0 \" stroke-linecap=\"round\" style=\"stroke:red;stroke-width:1.5\" fill=\"yellow\" />\n",
              "        \n",
              "        \n",
              "        <g id=\"classic\" visibility=\"visible\" transform=\"rotate(-90,25.0,150.0) translate(25.0, 150.0)\">\n",
              "<polygon points=\"-5,-4.5 0,-2.5 5,-4.5 0,4.5\" transform=\"skewX(0) scale(1,1)\" style=\"stroke:red;fill:yellow;stroke-width:1\" />\n",
              "</g><g id=\"classic\" visibility=\"visible\" transform=\"rotate(-90,275.0,150.0) translate(275.0, 150.0)\">\n",
              "<polygon points=\"-5,-4.5 0,-2.5 5,-4.5 0,4.5\" transform=\"skewX(0.0) scale(1,1)\" style=\"stroke:red;fill:yellow;stroke-width:1\" />\n",
              "</g>\n",
              "      </svg>\n",
              "    "
            ]
          },
          "metadata": {}
        }
      ]
    }
  ]
}