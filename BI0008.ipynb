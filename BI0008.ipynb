{
  "nbformat": 4,
  "nbformat_minor": 0,
  "metadata": {
    "colab": {
      "provenance": [],
      "authorship_tag": "ABX9TyPxFmMXE7MSvvjwxpStYHgJ",
      "include_colab_link": true
    },
    "kernelspec": {
      "name": "python3",
      "display_name": "Python 3"
    },
    "language_info": {
      "name": "python"
    }
  },
  "cells": [
    {
      "cell_type": "markdown",
      "metadata": {
        "id": "view-in-github",
        "colab_type": "text"
      },
      "source": [
        "<a href=\"https://colab.research.google.com/github/wannasmile/colab_code_note/blob/main/BI0008.ipynb\" target=\"_parent\"><img src=\"https://colab.research.google.com/assets/colab-badge.svg\" alt=\"Open In Colab\"/></a>"
      ]
    },
    {
      "cell_type": "code",
      "execution_count": 1,
      "metadata": {
        "colab": {
          "base_uri": "https://localhost:8080/"
        },
        "id": "tTQ6s93ipLnv",
        "outputId": "634b585a-ac51-4ba6-f637-12f36749e5f9"
      },
      "outputs": [
        {
          "output_type": "stream",
          "name": "stdout",
          "text": [
            "--2024-11-14 05:27:26--  https://media.githubusercontent.com/media/RaffelRavionaldo/Home-Credit-Indonesia-Score-Card/refs/heads/main/application_train.csv\n",
            "Resolving media.githubusercontent.com (media.githubusercontent.com)... 185.199.109.133, 185.199.111.133, 185.199.108.133, ...\n",
            "Connecting to media.githubusercontent.com (media.githubusercontent.com)|185.199.109.133|:443... connected.\n",
            "HTTP request sent, awaiting response... 200 OK\n",
            "Length: 166133370 (158M) [text/plain]\n",
            "Saving to: ‘application_train.csv’\n",
            "\n",
            "application_train.c 100%[===================>] 158.44M  91.0MB/s    in 1.7s    \n",
            "\n",
            "2024-11-14 05:27:31 (91.0 MB/s) - ‘application_train.csv’ saved [166133370/166133370]\n",
            "\n"
          ]
        }
      ],
      "source": [
        "!wget https://media.githubusercontent.com/media/RaffelRavionaldo/Home-Credit-Indonesia-Score-Card/refs/heads/main/application_train.csv"
      ]
    },
    {
      "cell_type": "code",
      "source": [
        "#!curl -O maxhalford.github.io/files/datasets/creditcardfraud.zip"
      ],
      "metadata": {
        "id": "TMJeo025pko4"
      },
      "execution_count": 2,
      "outputs": []
    },
    {
      "cell_type": "code",
      "source": [
        "!wget https://maxhalford.github.io/files/datasets/creditcardfraud.zip"
      ],
      "metadata": {
        "colab": {
          "base_uri": "https://localhost:8080/"
        },
        "id": "8yWVaZ2avcG5",
        "outputId": "3b40a121-e609-4ad1-810b-9974cd46f059"
      },
      "execution_count": 3,
      "outputs": [
        {
          "output_type": "stream",
          "name": "stdout",
          "text": [
            "--2024-11-14 05:27:32--  https://maxhalford.github.io/files/datasets/creditcardfraud.zip\n",
            "Resolving maxhalford.github.io (maxhalford.github.io)... 185.199.108.153, 185.199.110.153, 185.199.111.153, ...\n",
            "Connecting to maxhalford.github.io (maxhalford.github.io)|185.199.108.153|:443... connected.\n",
            "HTTP request sent, awaiting response... 200 OK\n",
            "Length: 69155672 (66M) [application/zip]\n",
            "Saving to: ‘creditcardfraud.zip’\n",
            "\n",
            "creditcardfraud.zip 100%[===================>]  65.95M  81.6MB/s    in 0.8s    \n",
            "\n",
            "2024-11-14 05:27:34 (81.6 MB/s) - ‘creditcardfraud.zip’ saved [69155672/69155672]\n",
            "\n"
          ]
        }
      ]
    },
    {
      "cell_type": "code",
      "source": [
        "!apt install unzip"
      ],
      "metadata": {
        "colab": {
          "base_uri": "https://localhost:8080/"
        },
        "id": "iYGDvLeTuoUr",
        "outputId": "0b956f16-44b7-4052-a071-94780d4825b3"
      },
      "execution_count": 4,
      "outputs": [
        {
          "output_type": "stream",
          "name": "stdout",
          "text": [
            "Reading package lists... Done\n",
            "Building dependency tree... Done\n",
            "Reading state information... Done\n",
            "unzip is already the newest version (6.0-26ubuntu3.2).\n",
            "0 upgraded, 0 newly installed, 0 to remove and 49 not upgraded.\n"
          ]
        }
      ]
    },
    {
      "cell_type": "code",
      "source": [
        "!unzip -q \"/content/creditcardfraud.zip\""
      ],
      "metadata": {
        "id": "hSPdsQ3Vsx03"
      },
      "execution_count": 5,
      "outputs": []
    },
    {
      "cell_type": "code",
      "source": [
        "import pandas as pd\n",
        "from sklearn import model_selection\n",
        "\n",
        "df = pd.read_csv('creditcard.csv')\n",
        "X = df.drop(columns='Class')\n",
        "y = df['Class']\n",
        "\n",
        "X_train, X_test, y_train, y_test = model_selection.train_test_split(\n",
        "    X, y,\n",
        "    random_state=42\n",
        ")\n",
        "\n",
        "X_fit, X_val, y_fit, y_val = model_selection.train_test_split(\n",
        "    X_train, y_train,\n",
        "    random_state=42\n",
        ")\n",
        "\n",
        "X_train.head()"
      ],
      "metadata": {
        "colab": {
          "base_uri": "https://localhost:8080/",
          "height": 256
        },
        "id": "DVQx6-aps3nU",
        "outputId": "3cc33ad2-edf0-4436-93d4-894002ec94ef"
      },
      "execution_count": 6,
      "outputs": [
        {
          "output_type": "execute_result",
          "data": {
            "text/plain": [
              "           Time        V1        V2        V3        V4        V5        V6  \\\n",
              "83225   59741.0 -1.648591  1.228130  1.370169 -1.735542 -0.029455 -0.484129   \n",
              "52800   45648.0 -0.234775 -0.493269  1.236728 -2.338793 -1.176733  0.885733   \n",
              "21293   31579.0  1.134626 -0.774460 -0.163390 -0.533358 -0.604555 -0.244482   \n",
              "133600  80455.0  0.069514  1.017753  1.033117  1.384376  0.223233 -0.310845   \n",
              "38225   39302.0 -0.199441  0.610092 -0.114437  0.256565  2.290752  4.008475   \n",
              "\n",
              "              V7        V8        V9  ...       V20       V21       V22  \\\n",
              "83225   0.918645 -0.438750  0.982144  ...  0.384201 -0.218076 -0.203458   \n",
              "52800  -1.960981 -2.363412 -2.694774  ...  0.364679 -1.495358 -0.083066   \n",
              "21293  -0.212682  0.040782 -1.136627  ... -0.396476 -0.684454 -1.855269   \n",
              "133600  0.597287 -0.127658 -0.701533  ...  0.148760  0.097023  0.369957   \n",
              "38225  -0.123530  1.038374 -0.075846  ...  0.292972 -0.019733  0.165463   \n",
              "\n",
              "             V23       V24       V25       V26       V27       V28  Amount  \n",
              "83225  -0.213015  0.011372 -0.304481  0.632063 -0.262968 -0.099863   38.42  \n",
              "52800   0.074612 -0.347329  0.541900 -0.433294  0.089293  0.212029   61.20  \n",
              "21293   0.171997 -0.387783 -0.062985  0.245118 -0.061178  0.012180  110.95  \n",
              "133600 -0.219266 -0.124941 -0.049749 -0.112946  0.114440  0.066101   10.00  \n",
              "38225  -0.080978  1.020656 -0.300730 -0.269595  0.481769  0.254114   22.00  \n",
              "\n",
              "[5 rows x 30 columns]"
            ],
            "text/html": [
              "\n",
              "  <div id=\"df-76251c0e-67a1-4d01-9b5b-2c2cfcd05ad1\" class=\"colab-df-container\">\n",
              "    <div>\n",
              "<style scoped>\n",
              "    .dataframe tbody tr th:only-of-type {\n",
              "        vertical-align: middle;\n",
              "    }\n",
              "\n",
              "    .dataframe tbody tr th {\n",
              "        vertical-align: top;\n",
              "    }\n",
              "\n",
              "    .dataframe thead th {\n",
              "        text-align: right;\n",
              "    }\n",
              "</style>\n",
              "<table border=\"1\" class=\"dataframe\">\n",
              "  <thead>\n",
              "    <tr style=\"text-align: right;\">\n",
              "      <th></th>\n",
              "      <th>Time</th>\n",
              "      <th>V1</th>\n",
              "      <th>V2</th>\n",
              "      <th>V3</th>\n",
              "      <th>V4</th>\n",
              "      <th>V5</th>\n",
              "      <th>V6</th>\n",
              "      <th>V7</th>\n",
              "      <th>V8</th>\n",
              "      <th>V9</th>\n",
              "      <th>...</th>\n",
              "      <th>V20</th>\n",
              "      <th>V21</th>\n",
              "      <th>V22</th>\n",
              "      <th>V23</th>\n",
              "      <th>V24</th>\n",
              "      <th>V25</th>\n",
              "      <th>V26</th>\n",
              "      <th>V27</th>\n",
              "      <th>V28</th>\n",
              "      <th>Amount</th>\n",
              "    </tr>\n",
              "  </thead>\n",
              "  <tbody>\n",
              "    <tr>\n",
              "      <th>83225</th>\n",
              "      <td>59741.0</td>\n",
              "      <td>-1.648591</td>\n",
              "      <td>1.228130</td>\n",
              "      <td>1.370169</td>\n",
              "      <td>-1.735542</td>\n",
              "      <td>-0.029455</td>\n",
              "      <td>-0.484129</td>\n",
              "      <td>0.918645</td>\n",
              "      <td>-0.438750</td>\n",
              "      <td>0.982144</td>\n",
              "      <td>...</td>\n",
              "      <td>0.384201</td>\n",
              "      <td>-0.218076</td>\n",
              "      <td>-0.203458</td>\n",
              "      <td>-0.213015</td>\n",
              "      <td>0.011372</td>\n",
              "      <td>-0.304481</td>\n",
              "      <td>0.632063</td>\n",
              "      <td>-0.262968</td>\n",
              "      <td>-0.099863</td>\n",
              "      <td>38.42</td>\n",
              "    </tr>\n",
              "    <tr>\n",
              "      <th>52800</th>\n",
              "      <td>45648.0</td>\n",
              "      <td>-0.234775</td>\n",
              "      <td>-0.493269</td>\n",
              "      <td>1.236728</td>\n",
              "      <td>-2.338793</td>\n",
              "      <td>-1.176733</td>\n",
              "      <td>0.885733</td>\n",
              "      <td>-1.960981</td>\n",
              "      <td>-2.363412</td>\n",
              "      <td>-2.694774</td>\n",
              "      <td>...</td>\n",
              "      <td>0.364679</td>\n",
              "      <td>-1.495358</td>\n",
              "      <td>-0.083066</td>\n",
              "      <td>0.074612</td>\n",
              "      <td>-0.347329</td>\n",
              "      <td>0.541900</td>\n",
              "      <td>-0.433294</td>\n",
              "      <td>0.089293</td>\n",
              "      <td>0.212029</td>\n",
              "      <td>61.20</td>\n",
              "    </tr>\n",
              "    <tr>\n",
              "      <th>21293</th>\n",
              "      <td>31579.0</td>\n",
              "      <td>1.134626</td>\n",
              "      <td>-0.774460</td>\n",
              "      <td>-0.163390</td>\n",
              "      <td>-0.533358</td>\n",
              "      <td>-0.604555</td>\n",
              "      <td>-0.244482</td>\n",
              "      <td>-0.212682</td>\n",
              "      <td>0.040782</td>\n",
              "      <td>-1.136627</td>\n",
              "      <td>...</td>\n",
              "      <td>-0.396476</td>\n",
              "      <td>-0.684454</td>\n",
              "      <td>-1.855269</td>\n",
              "      <td>0.171997</td>\n",
              "      <td>-0.387783</td>\n",
              "      <td>-0.062985</td>\n",
              "      <td>0.245118</td>\n",
              "      <td>-0.061178</td>\n",
              "      <td>0.012180</td>\n",
              "      <td>110.95</td>\n",
              "    </tr>\n",
              "    <tr>\n",
              "      <th>133600</th>\n",
              "      <td>80455.0</td>\n",
              "      <td>0.069514</td>\n",
              "      <td>1.017753</td>\n",
              "      <td>1.033117</td>\n",
              "      <td>1.384376</td>\n",
              "      <td>0.223233</td>\n",
              "      <td>-0.310845</td>\n",
              "      <td>0.597287</td>\n",
              "      <td>-0.127658</td>\n",
              "      <td>-0.701533</td>\n",
              "      <td>...</td>\n",
              "      <td>0.148760</td>\n",
              "      <td>0.097023</td>\n",
              "      <td>0.369957</td>\n",
              "      <td>-0.219266</td>\n",
              "      <td>-0.124941</td>\n",
              "      <td>-0.049749</td>\n",
              "      <td>-0.112946</td>\n",
              "      <td>0.114440</td>\n",
              "      <td>0.066101</td>\n",
              "      <td>10.00</td>\n",
              "    </tr>\n",
              "    <tr>\n",
              "      <th>38225</th>\n",
              "      <td>39302.0</td>\n",
              "      <td>-0.199441</td>\n",
              "      <td>0.610092</td>\n",
              "      <td>-0.114437</td>\n",
              "      <td>0.256565</td>\n",
              "      <td>2.290752</td>\n",
              "      <td>4.008475</td>\n",
              "      <td>-0.123530</td>\n",
              "      <td>1.038374</td>\n",
              "      <td>-0.075846</td>\n",
              "      <td>...</td>\n",
              "      <td>0.292972</td>\n",
              "      <td>-0.019733</td>\n",
              "      <td>0.165463</td>\n",
              "      <td>-0.080978</td>\n",
              "      <td>1.020656</td>\n",
              "      <td>-0.300730</td>\n",
              "      <td>-0.269595</td>\n",
              "      <td>0.481769</td>\n",
              "      <td>0.254114</td>\n",
              "      <td>22.00</td>\n",
              "    </tr>\n",
              "  </tbody>\n",
              "</table>\n",
              "<p>5 rows × 30 columns</p>\n",
              "</div>\n",
              "    <div class=\"colab-df-buttons\">\n",
              "\n",
              "  <div class=\"colab-df-container\">\n",
              "    <button class=\"colab-df-convert\" onclick=\"convertToInteractive('df-76251c0e-67a1-4d01-9b5b-2c2cfcd05ad1')\"\n",
              "            title=\"Convert this dataframe to an interactive table.\"\n",
              "            style=\"display:none;\">\n",
              "\n",
              "  <svg xmlns=\"http://www.w3.org/2000/svg\" height=\"24px\" viewBox=\"0 -960 960 960\">\n",
              "    <path d=\"M120-120v-720h720v720H120Zm60-500h600v-160H180v160Zm220 220h160v-160H400v160Zm0 220h160v-160H400v160ZM180-400h160v-160H180v160Zm440 0h160v-160H620v160ZM180-180h160v-160H180v160Zm440 0h160v-160H620v160Z\"/>\n",
              "  </svg>\n",
              "    </button>\n",
              "\n",
              "  <style>\n",
              "    .colab-df-container {\n",
              "      display:flex;\n",
              "      gap: 12px;\n",
              "    }\n",
              "\n",
              "    .colab-df-convert {\n",
              "      background-color: #E8F0FE;\n",
              "      border: none;\n",
              "      border-radius: 50%;\n",
              "      cursor: pointer;\n",
              "      display: none;\n",
              "      fill: #1967D2;\n",
              "      height: 32px;\n",
              "      padding: 0 0 0 0;\n",
              "      width: 32px;\n",
              "    }\n",
              "\n",
              "    .colab-df-convert:hover {\n",
              "      background-color: #E2EBFA;\n",
              "      box-shadow: 0px 1px 2px rgba(60, 64, 67, 0.3), 0px 1px 3px 1px rgba(60, 64, 67, 0.15);\n",
              "      fill: #174EA6;\n",
              "    }\n",
              "\n",
              "    .colab-df-buttons div {\n",
              "      margin-bottom: 4px;\n",
              "    }\n",
              "\n",
              "    [theme=dark] .colab-df-convert {\n",
              "      background-color: #3B4455;\n",
              "      fill: #D2E3FC;\n",
              "    }\n",
              "\n",
              "    [theme=dark] .colab-df-convert:hover {\n",
              "      background-color: #434B5C;\n",
              "      box-shadow: 0px 1px 3px 1px rgba(0, 0, 0, 0.15);\n",
              "      filter: drop-shadow(0px 1px 2px rgba(0, 0, 0, 0.3));\n",
              "      fill: #FFFFFF;\n",
              "    }\n",
              "  </style>\n",
              "\n",
              "    <script>\n",
              "      const buttonEl =\n",
              "        document.querySelector('#df-76251c0e-67a1-4d01-9b5b-2c2cfcd05ad1 button.colab-df-convert');\n",
              "      buttonEl.style.display =\n",
              "        google.colab.kernel.accessAllowed ? 'block' : 'none';\n",
              "\n",
              "      async function convertToInteractive(key) {\n",
              "        const element = document.querySelector('#df-76251c0e-67a1-4d01-9b5b-2c2cfcd05ad1');\n",
              "        const dataTable =\n",
              "          await google.colab.kernel.invokeFunction('convertToInteractive',\n",
              "                                                    [key], {});\n",
              "        if (!dataTable) return;\n",
              "\n",
              "        const docLinkHtml = 'Like what you see? Visit the ' +\n",
              "          '<a target=\"_blank\" href=https://colab.research.google.com/notebooks/data_table.ipynb>data table notebook</a>'\n",
              "          + ' to learn more about interactive tables.';\n",
              "        element.innerHTML = '';\n",
              "        dataTable['output_type'] = 'display_data';\n",
              "        await google.colab.output.renderOutput(dataTable, element);\n",
              "        const docLink = document.createElement('div');\n",
              "        docLink.innerHTML = docLinkHtml;\n",
              "        element.appendChild(docLink);\n",
              "      }\n",
              "    </script>\n",
              "  </div>\n",
              "\n",
              "\n",
              "<div id=\"df-ce8c14e0-62f5-423f-9d11-89f256b711b4\">\n",
              "  <button class=\"colab-df-quickchart\" onclick=\"quickchart('df-ce8c14e0-62f5-423f-9d11-89f256b711b4')\"\n",
              "            title=\"Suggest charts\"\n",
              "            style=\"display:none;\">\n",
              "\n",
              "<svg xmlns=\"http://www.w3.org/2000/svg\" height=\"24px\"viewBox=\"0 0 24 24\"\n",
              "     width=\"24px\">\n",
              "    <g>\n",
              "        <path d=\"M19 3H5c-1.1 0-2 .9-2 2v14c0 1.1.9 2 2 2h14c1.1 0 2-.9 2-2V5c0-1.1-.9-2-2-2zM9 17H7v-7h2v7zm4 0h-2V7h2v10zm4 0h-2v-4h2v4z\"/>\n",
              "    </g>\n",
              "</svg>\n",
              "  </button>\n",
              "\n",
              "<style>\n",
              "  .colab-df-quickchart {\n",
              "      --bg-color: #E8F0FE;\n",
              "      --fill-color: #1967D2;\n",
              "      --hover-bg-color: #E2EBFA;\n",
              "      --hover-fill-color: #174EA6;\n",
              "      --disabled-fill-color: #AAA;\n",
              "      --disabled-bg-color: #DDD;\n",
              "  }\n",
              "\n",
              "  [theme=dark] .colab-df-quickchart {\n",
              "      --bg-color: #3B4455;\n",
              "      --fill-color: #D2E3FC;\n",
              "      --hover-bg-color: #434B5C;\n",
              "      --hover-fill-color: #FFFFFF;\n",
              "      --disabled-bg-color: #3B4455;\n",
              "      --disabled-fill-color: #666;\n",
              "  }\n",
              "\n",
              "  .colab-df-quickchart {\n",
              "    background-color: var(--bg-color);\n",
              "    border: none;\n",
              "    border-radius: 50%;\n",
              "    cursor: pointer;\n",
              "    display: none;\n",
              "    fill: var(--fill-color);\n",
              "    height: 32px;\n",
              "    padding: 0;\n",
              "    width: 32px;\n",
              "  }\n",
              "\n",
              "  .colab-df-quickchart:hover {\n",
              "    background-color: var(--hover-bg-color);\n",
              "    box-shadow: 0 1px 2px rgba(60, 64, 67, 0.3), 0 1px 3px 1px rgba(60, 64, 67, 0.15);\n",
              "    fill: var(--button-hover-fill-color);\n",
              "  }\n",
              "\n",
              "  .colab-df-quickchart-complete:disabled,\n",
              "  .colab-df-quickchart-complete:disabled:hover {\n",
              "    background-color: var(--disabled-bg-color);\n",
              "    fill: var(--disabled-fill-color);\n",
              "    box-shadow: none;\n",
              "  }\n",
              "\n",
              "  .colab-df-spinner {\n",
              "    border: 2px solid var(--fill-color);\n",
              "    border-color: transparent;\n",
              "    border-bottom-color: var(--fill-color);\n",
              "    animation:\n",
              "      spin 1s steps(1) infinite;\n",
              "  }\n",
              "\n",
              "  @keyframes spin {\n",
              "    0% {\n",
              "      border-color: transparent;\n",
              "      border-bottom-color: var(--fill-color);\n",
              "      border-left-color: var(--fill-color);\n",
              "    }\n",
              "    20% {\n",
              "      border-color: transparent;\n",
              "      border-left-color: var(--fill-color);\n",
              "      border-top-color: var(--fill-color);\n",
              "    }\n",
              "    30% {\n",
              "      border-color: transparent;\n",
              "      border-left-color: var(--fill-color);\n",
              "      border-top-color: var(--fill-color);\n",
              "      border-right-color: var(--fill-color);\n",
              "    }\n",
              "    40% {\n",
              "      border-color: transparent;\n",
              "      border-right-color: var(--fill-color);\n",
              "      border-top-color: var(--fill-color);\n",
              "    }\n",
              "    60% {\n",
              "      border-color: transparent;\n",
              "      border-right-color: var(--fill-color);\n",
              "    }\n",
              "    80% {\n",
              "      border-color: transparent;\n",
              "      border-right-color: var(--fill-color);\n",
              "      border-bottom-color: var(--fill-color);\n",
              "    }\n",
              "    90% {\n",
              "      border-color: transparent;\n",
              "      border-bottom-color: var(--fill-color);\n",
              "    }\n",
              "  }\n",
              "</style>\n",
              "\n",
              "  <script>\n",
              "    async function quickchart(key) {\n",
              "      const quickchartButtonEl =\n",
              "        document.querySelector('#' + key + ' button');\n",
              "      quickchartButtonEl.disabled = true;  // To prevent multiple clicks.\n",
              "      quickchartButtonEl.classList.add('colab-df-spinner');\n",
              "      try {\n",
              "        const charts = await google.colab.kernel.invokeFunction(\n",
              "            'suggestCharts', [key], {});\n",
              "      } catch (error) {\n",
              "        console.error('Error during call to suggestCharts:', error);\n",
              "      }\n",
              "      quickchartButtonEl.classList.remove('colab-df-spinner');\n",
              "      quickchartButtonEl.classList.add('colab-df-quickchart-complete');\n",
              "    }\n",
              "    (() => {\n",
              "      let quickchartButtonEl =\n",
              "        document.querySelector('#df-ce8c14e0-62f5-423f-9d11-89f256b711b4 button');\n",
              "      quickchartButtonEl.style.display =\n",
              "        google.colab.kernel.accessAllowed ? 'block' : 'none';\n",
              "    })();\n",
              "  </script>\n",
              "</div>\n",
              "    </div>\n",
              "  </div>\n"
            ],
            "application/vnd.google.colaboratory.intrinsic+json": {
              "type": "dataframe",
              "variable_name": "X_train"
            }
          },
          "metadata": {},
          "execution_count": 6
        }
      ]
    },
    {
      "cell_type": "code",
      "source": [
        "import lightgbm\n",
        "from sklearn import metrics\n",
        "\n",
        "fit = lightgbm.Dataset(X_fit, y_fit)\n",
        "val = lightgbm.Dataset(X_val, y_val, reference=fit)\n",
        "\n",
        "model = lightgbm.train(\n",
        "    params={\n",
        "        'learning_rate': 0.01,\n",
        "        'objective': 'binary'\n",
        "    },\n",
        "    train_set=fit,\n",
        "    num_boost_round=10000,\n",
        "    valid_sets=(fit, val),\n",
        "    valid_names=('fit', 'val'),\n",
        "    callbacks=[\n",
        "        lightgbm.early_stopping(stopping_rounds=20),\n",
        "        lightgbm.log_evaluation(100)  # Use log_evaluation for verbose output\n",
        "    ]\n",
        ")\n",
        "\n",
        "y_pred = model.predict(X_test)\n",
        "\n",
        "print()\n",
        "print(f\"Test's ROC AUC: {metrics.roc_auc_score(y_test, y_pred):.5f}\")\n",
        "print(f\"Test's logloss: {metrics.log_loss(y_test, y_pred):.5f}\")"
      ],
      "metadata": {
        "colab": {
          "base_uri": "https://localhost:8080/"
        },
        "id": "QpwBUi3Nvzu-",
        "outputId": "c41ed0ba-6d0e-4769-b70c-92339a212644"
      },
      "execution_count": 7,
      "outputs": [
        {
          "output_type": "stream",
          "name": "stderr",
          "text": [
            "/usr/local/lib/python3.10/dist-packages/dask/dataframe/__init__.py:42: FutureWarning: \n",
            "Dask dataframe query planning is disabled because dask-expr is not installed.\n",
            "\n",
            "You can install it with `pip install dask[dataframe]` or `conda install dask`.\n",
            "This will raise in a future version.\n",
            "\n",
            "  warnings.warn(msg, FutureWarning)\n"
          ]
        },
        {
          "output_type": "stream",
          "name": "stdout",
          "text": [
            "[LightGBM] [Info] Number of positive: 283, number of negative: 159920\n",
            "[LightGBM] [Info] Auto-choosing row-wise multi-threading, the overhead of testing was 0.016738 seconds.\n",
            "You can set `force_row_wise=true` to remove the overhead.\n",
            "And if memory is not enough, you can set `force_col_wise=true`.\n",
            "[LightGBM] [Info] Total Bins 7650\n",
            "[LightGBM] [Info] Number of data points in the train set: 160203, number of used features: 30\n",
            "[LightGBM] [Info] [binary:BoostFromScore]: pavg=0.001767 -> initscore=-6.336982\n",
            "[LightGBM] [Info] Start training from score -6.336982\n",
            "Training until validation scores don't improve for 20 rounds\n",
            "[100]\tfit's binary_logloss: 0.0018981\tval's binary_logloss: 0.0035569\n",
            "[200]\tfit's binary_logloss: 0.00080822\tval's binary_logloss: 0.00283644\n",
            "[300]\tfit's binary_logloss: 0.000396519\tval's binary_logloss: 0.00264941\n",
            "Early stopping, best iteration is:\n",
            "[352]\tfit's binary_logloss: 0.000281286\tval's binary_logloss: 0.00261413\n",
            "\n",
            "Test's ROC AUC: 0.97772\n",
            "Test's logloss: 0.00237\n"
          ]
        }
      ]
    },
    {
      "cell_type": "code",
      "source": [
        "from scipy import special\n",
        "\n",
        "def logloss_objective(preds, train_data):\n",
        "    y = train_data.get_label()\n",
        "    p = special.expit(preds)\n",
        "    grad = p - y\n",
        "    hess = p * (1 - p)\n",
        "    return grad, hess"
      ],
      "metadata": {
        "id": "23c5VR_Rwt0L"
      },
      "execution_count": 8,
      "outputs": []
    },
    {
      "cell_type": "code",
      "source": [
        "import numpy as np\n",
        "\n",
        "def logloss_metric(preds, train_data):\n",
        "    y = train_data.get_label()\n",
        "    p = special.expit(preds)\n",
        "\n",
        "    ll = np.empty_like(p)\n",
        "    pos = y == 1\n",
        "    ll[pos] = np.log(p[pos])\n",
        "    ll[~pos] = np.log(1 - p[~pos])\n",
        "\n",
        "    is_higher_better = False\n",
        "    return 'logloss', -ll.mean(), is_higher_better"
      ],
      "metadata": {
        "id": "N7S5DetBw068"
      },
      "execution_count": 9,
      "outputs": []
    },
    {
      "cell_type": "code",
      "source": [
        "# import lightgbm\n",
        "# from scipy import special\n",
        "# import numpy as np\n",
        "# from sklearn import metrics\n",
        "#\n",
        "# model = lightgbm.train(\n",
        "#     params={'learning_rate': 0.01},\n",
        "#     train_set=fit,\n",
        "#     num_boost_round=10000,\n",
        "#     valid_sets=(fit, val),\n",
        "#     valid_names=('fit', 'val'),\n",
        "#     # Use callbacks instead of early_stopping_rounds and verbose_eval\n",
        "#     callbacks=[\n",
        "#         lightgbm.early_stopping(stopping_rounds=20),  # Early stopping\n",
        "#         lightgbm.log_evaluation(100)  # Verbose output every 100 iterations\n",
        "#     ],\n",
        "#     # Notice the two following parameters\n",
        "#     fobj=logloss_objective,\n",
        "#     feval=logloss_metric\n",
        "# )\n",
        "#\n",
        "# # Notice how we use a sigmoid here to obtain probabilities\n",
        "# y_pred = special.expit(model.predict(X_test))\n",
        "#\n",
        "# print()\n",
        "# print(f\"Test's ROC AUC: {metrics.roc_auc_score(y_test, y_pred):.5f}\")\n",
        "# print(f\"Test's logloss: {metrics.log_loss(y_test, y_pred):.5f}\")"
      ],
      "metadata": {
        "id": "9YS7cEmYxQnb"
      },
      "execution_count": 10,
      "outputs": []
    },
    {
      "cell_type": "code",
      "source": [
        "import lightgbm\n",
        "from scipy import special\n",
        "import numpy as np\n",
        "from sklearn import metrics\n",
        "\n",
        "# Define the custom objective function\n",
        "def logloss_objective(preds, train_data):\n",
        "    y = train_data.get_label()\n",
        "    p = special.expit(preds)\n",
        "    grad = p - y\n",
        "    hess = p * (1 - p)\n",
        "    return grad, hess\n",
        "\n",
        "# Define the custom metric function\n",
        "def logloss_metric(preds, train_data):\n",
        "    y = train_data.get_label()\n",
        "    p = special.expit(preds)\n",
        "\n",
        "    ll = np.empty_like(p)\n",
        "    pos = y == 1\n",
        "    ll[pos] = np.log(p[pos])\n",
        "    ll[~pos] = np.log(1 - p[~pos])\n",
        "\n",
        "    is_higher_better = False\n",
        "    return 'logloss', -ll.mean(), is_higher_better\n",
        "\n",
        "# Pass the custom objective function through the params dictionary\n",
        "model = lightgbm.train(\n",
        "    params={'learning_rate': 0.01, 'objective': logloss_objective}, # Pass objective here\n",
        "    train_set=fit,\n",
        "    num_boost_round=10000,\n",
        "    valid_sets=(fit, val),\n",
        "    valid_names=('fit', 'val'),\n",
        "    # Use callbacks instead of early_stopping_rounds and verbose_eval\n",
        "    callbacks=[\n",
        "        lightgbm.early_stopping(stopping_rounds=20),  # Early stopping\n",
        "        lightgbm.log_evaluation(100)  # Verbose output every 100 iterations\n",
        "    ],\n",
        "    feval=logloss_metric # feval is still a valid argument\n",
        ")\n",
        "\n",
        "# Notice how we use a sigmoid here to obtain probabilities\n",
        "y_pred = special.expit(model.predict(X_test))\n",
        "\n",
        "print()\n",
        "print(f\"Test's ROC AUC: {metrics.roc_auc_score(y_test, y_pred):.5f}\")\n",
        "print(f\"Test's logloss: {metrics.log_loss(y_test, y_pred):.5f}\")"
      ],
      "metadata": {
        "colab": {
          "base_uri": "https://localhost:8080/"
        },
        "id": "NXwpHFJDxqTu",
        "outputId": "e4716521-aefe-4bca-e0b0-54bfebfefcb1"
      },
      "execution_count": 11,
      "outputs": [
        {
          "output_type": "stream",
          "name": "stdout",
          "text": [
            "[LightGBM] [Info] Using self-defined objective function\n",
            "[LightGBM] [Info] Auto-choosing col-wise multi-threading, the overhead of testing was 0.059357 seconds.\n",
            "You can set `force_col_wise=true` to remove the overhead.\n",
            "[LightGBM] [Info] Total Bins 7650\n",
            "[LightGBM] [Info] Number of data points in the train set: 160203, number of used features: 30\n",
            "[LightGBM] [Info] Using self-defined objective function\n",
            "Training until validation scores don't improve for 20 rounds\n",
            "[100]\tfit's logloss: 0.203632\tval's logloss: 0.203803\n",
            "[200]\tfit's logloss: 0.0709961\tval's logloss: 0.0712959\n",
            "[300]\tfit's logloss: 0.0263333\tval's logloss: 0.0267926\n",
            "[400]\tfit's logloss: 0.0103193\tval's logloss: 0.0110446\n",
            "[500]\tfit's logloss: 0.00419716\tval's logloss: 0.00541233\n",
            "[600]\tfit's logloss: 0.00181725\tval's logloss: 0.00341563\n",
            "[700]\tfit's logloss: 0.000777108\tval's logloss: 0.00277328\n",
            "[800]\tfit's logloss: 0.000378409\tval's logloss: 0.00259164\n",
            "Early stopping, best iteration is:\n",
            "[874]\tfit's logloss: 0.000237358\tval's logloss: 0.00257534\n",
            "\n",
            "Test's ROC AUC: 0.97701\n",
            "Test's logloss: 0.00227\n"
          ]
        }
      ]
    },
    {
      "cell_type": "code",
      "source": [
        "import lightgbm\n",
        "import numpy as np\n",
        "import pandas as pd\n",
        "from scipy import special\n",
        "from sklearn import metrics\n",
        "from sklearn import model_selection\n",
        "\n",
        "def logloss_init_score(y):\n",
        "    p = y.mean()\n",
        "    p = np.clip(p, 1e-15, 1 - 1e-15)\n",
        "    log_odds = np.log(p / (1 - p))\n",
        "    return log_odds\n",
        "\n",
        "def logloss_objective(preds, train_data):\n",
        "    y = train_data.get_label()\n",
        "    p = special.expit(preds)\n",
        "    grad = p - y\n",
        "    hess = p * (1 - p)\n",
        "    return grad, hess\n",
        "\n",
        "def logloss_metric(preds, train_data):\n",
        "    y = train_data.get_label()\n",
        "    p = special.expit(preds)\n",
        "    is_higher_better = False\n",
        "    return 'logloss', metrics.log_loss(y, p), is_higher_better\n",
        "\n",
        "df = pd.read_csv('creditcard.csv')\n",
        "X = df.drop(columns='Class')\n",
        "y = df['Class']\n",
        "\n",
        "X_train, X_test, y_train, y_test = model_selection.train_test_split(\n",
        "    X, y,\n",
        "    random_state=42\n",
        ")\n",
        "\n",
        "X_fit, X_val, y_fit, y_val = model_selection.train_test_split(\n",
        "    X_train, y_train,\n",
        "    random_state=42\n",
        ")\n",
        "\n",
        "fit = lightgbm.Dataset(\n",
        "    X_fit, y_fit,\n",
        "    init_score=np.full_like(y_fit, logloss_init_score(y_fit), dtype=float)\n",
        ")\n",
        "\n",
        "val = lightgbm.Dataset(\n",
        "    X_val, y_val,\n",
        "    init_score=np.full_like(y_val, logloss_init_score(y_fit), dtype=float),\n",
        "    reference=fit\n",
        ")\n",
        "\n",
        "# Pass the custom objective function through the params dictionary\n",
        "model = lightgbm.train(\n",
        "    params={'learning_rate': 0.01, 'objective': logloss_objective}, # Pass objective here\n",
        "    train_set=fit,\n",
        "    num_boost_round=10000,\n",
        "    valid_sets=(fit, val),\n",
        "    valid_names=('fit', 'val'),\n",
        "    # Use callbacks instead of early_stopping_rounds and verbose_eval\n",
        "    callbacks=[\n",
        "        lightgbm.early_stopping(stopping_rounds=20),  # Early stopping\n",
        "        lightgbm.log_evaluation(100)  # Verbose output every 100 iterations\n",
        "    ],\n",
        "    feval=logloss_metric # feval is still a valid argument\n",
        ")\n",
        "\n",
        "y_pred = special.expit(logloss_init_score(y_fit) + model.predict(X_test))\n",
        "\n",
        "print()\n",
        "print(f\"Test's ROC AUC: {metrics.roc_auc_score(y_test, y_pred):.5f}\")\n",
        "print(f\"Test's logloss: {metrics.log_loss(y_test, y_pred):.5f}\")"
      ],
      "metadata": {
        "colab": {
          "base_uri": "https://localhost:8080/"
        },
        "id": "8xJvocUhyegh",
        "outputId": "8dad26ce-ca28-4e56-f925-3140b1d19cf7"
      },
      "execution_count": 12,
      "outputs": [
        {
          "output_type": "stream",
          "name": "stdout",
          "text": [
            "[LightGBM] [Info] Using self-defined objective function\n",
            "[LightGBM] [Info] Auto-choosing col-wise multi-threading, the overhead of testing was 0.054293 seconds.\n",
            "You can set `force_col_wise=true` to remove the overhead.\n",
            "[LightGBM] [Info] Total Bins 7650\n",
            "[LightGBM] [Info] Number of data points in the train set: 160203, number of used features: 30\n",
            "[LightGBM] [Info] Using self-defined objective function\n",
            "Training until validation scores don't improve for 20 rounds\n",
            "[100]\tfit's logloss: 0.0018981\tval's logloss: 0.0035569\n",
            "[200]\tfit's logloss: 0.00080822\tval's logloss: 0.00283644\n",
            "[300]\tfit's logloss: 0.000396519\tval's logloss: 0.00264941\n",
            "Early stopping, best iteration is:\n",
            "[352]\tfit's logloss: 0.000281286\tval's logloss: 0.00261413\n",
            "\n",
            "Test's ROC AUC: 0.97772\n",
            "Test's logloss: 0.00237\n"
          ]
        }
      ]
    },
    {
      "cell_type": "code",
      "source": [
        "import numpy as np\n",
        "from scipy import optimize\n",
        "from scipy import special\n",
        "\n",
        "class FocalLoss:\n",
        "\n",
        "    def __init__(self, gamma, alpha=None):\n",
        "        self.alpha = alpha\n",
        "        self.gamma = gamma\n",
        "\n",
        "    def at(self, y):\n",
        "        if self.alpha is None:\n",
        "            return np.ones_like(y)\n",
        "        return np.where(y, self.alpha, 1 - self.alpha)\n",
        "\n",
        "    def pt(self, y, p):\n",
        "        p = np.clip(p, 1e-15, 1 - 1e-15)\n",
        "        return np.where(y, p, 1 - p)\n",
        "\n",
        "    def __call__(self, y_true, y_pred):\n",
        "        at = self.at(y_true)\n",
        "        pt = self.pt(y_true, y_pred)\n",
        "        return -at * (1 - pt) ** self.gamma * np.log(pt)\n",
        "\n",
        "    def grad(self, y_true, y_pred):\n",
        "        y = 2 * y_true - 1  # {0, 1} -> {-1, 1}\n",
        "        at = self.at(y_true)\n",
        "        pt = self.pt(y_true, y_pred)\n",
        "        g = self.gamma\n",
        "        return at * y * (1 - pt) ** g * (g * pt * np.log(pt) + pt - 1)\n",
        "\n",
        "    def hess(self, y_true, y_pred):\n",
        "        y = 2 * y_true - 1  # {0, 1} -> {-1, 1}\n",
        "        at = self.at(y_true)\n",
        "        pt = self.pt(y_true, y_pred)\n",
        "        g = self.gamma\n",
        "\n",
        "        u = at * y * (1 - pt) ** g\n",
        "        du = -at * y * g * (1 - pt) ** (g - 1)\n",
        "        v = g * pt * np.log(pt) + pt - 1\n",
        "        dv = g * np.log(pt) + g + 1\n",
        "\n",
        "        return (du * v + u * dv) * y * (pt * (1 - pt))\n",
        "\n",
        "    def init_score(self, y_true):\n",
        "        res = optimize.minimize_scalar(\n",
        "            lambda p: self(y_true, p).sum(),\n",
        "            bounds=(0, 1),\n",
        "            method='bounded'\n",
        "        )\n",
        "        p = res.x\n",
        "        log_odds = np.log(p / (1 - p))\n",
        "        return log_odds\n",
        "\n",
        "    def lgb_obj(self, preds, train_data):\n",
        "        y = train_data.get_label()\n",
        "        p = special.expit(preds)\n",
        "        return self.grad(y, p), self.hess(y, p)\n",
        "\n",
        "    def lgb_eval(self, preds, train_data):\n",
        "        y = train_data.get_label()\n",
        "        p = special.expit(preds)\n",
        "        is_higher_better = False\n",
        "        return 'focal_loss', self(y, p).mean(), is_higher_better"
      ],
      "metadata": {
        "id": "J-kuAJpHzced"
      },
      "execution_count": 13,
      "outputs": []
    },
    {
      "cell_type": "code",
      "source": [
        "def check_gradient(func, grad, values, eps=1e-8):\n",
        "    approx = (func(values + eps) - func(values - eps)) / (2 * eps)\n",
        "    return np.linalg.norm(approx - grad(values))"
      ],
      "metadata": {
        "id": "7zKwMShDzgYk"
      },
      "execution_count": 14,
      "outputs": []
    },
    {
      "cell_type": "code",
      "source": [
        "np.random.seed(42)\n",
        "y_true = np.random.uniform(0, 1, 100) > .5\n",
        "y_pred = np.random.uniform(0, 1, 100)"
      ],
      "metadata": {
        "id": "pVsAqVrLzkh0"
      },
      "execution_count": 15,
      "outputs": []
    },
    {
      "cell_type": "code",
      "source": [
        "fl = FocalLoss(alpha=.3, gamma=2)\n",
        "\n",
        "check_gradient(\n",
        "    func=lambda x: fl(y_true, x),\n",
        "    grad=lambda x: fl.grad(y_true, x) / (x * (1 - x)),\n",
        "    values=y_pred\n",
        ")"
      ],
      "metadata": {
        "colab": {
          "base_uri": "https://localhost:8080/"
        },
        "id": "BsqaEyYIznsv",
        "outputId": "6e3fa770-e2ed-4ba1-a34e-aacce242947c"
      },
      "execution_count": 16,
      "outputs": [
        {
          "output_type": "execute_result",
          "data": {
            "text/plain": [
              "2.3954956968511336e-07"
            ]
          },
          "metadata": {},
          "execution_count": 16
        }
      ]
    },
    {
      "cell_type": "code",
      "source": [
        "for gamma in [0, 1, 2, 3]:\n",
        "    for alpha in [.1, .3, .5, .7, .9]:\n",
        "        fl = FocalLoss(alpha=alpha, gamma=gamma)\n",
        "        diff = check_gradient(\n",
        "            func=lambda x: fl(y_true, x),\n",
        "            grad=lambda x: fl.grad(y_true, x) / (x * (1 - x)),\n",
        "            values=y_pred\n",
        "        )\n",
        "        assert diff < 1e-6"
      ],
      "metadata": {
        "id": "NSXmVXO2zwYF"
      },
      "execution_count": 17,
      "outputs": []
    },
    {
      "cell_type": "code",
      "source": [
        "for gamma in [0, 1, 2, 3]:\n",
        "    for alpha in [.1, .3, .5, .7, .9]:\n",
        "        fl = FocalLoss(alpha=alpha, gamma=gamma)\n",
        "        diff = check_gradient(\n",
        "            func=lambda x: fl.grad(y_true, x),\n",
        "            grad=lambda x: fl.hess(y_true, x) / (x * (1 - x)),\n",
        "            values=y_pred\n",
        "        )\n",
        "        assert diff < 1e-6"
      ],
      "metadata": {
        "id": "F8W4UwPHz0ye"
      },
      "execution_count": 18,
      "outputs": []
    },
    {
      "cell_type": "code",
      "source": [
        "import matplotlib\n",
        "import matplotlib.pyplot as plt\n",
        "from scipy import special\n",
        "\n",
        "fig, ax = plt.subplots(figsize=(10, 7))\n",
        "matplotlib.rc('font', size=14)\n",
        "\n",
        "np.random.seed(10)\n",
        "y = np.random.randint(2, size=500)  # random 0s and 1s\n",
        "\n",
        "for alpha in [.1, .5, .9]:\n",
        "    for gamma in [1, 3]:\n",
        "        fl = FocalLoss(alpha=alpha, gamma=gamma)\n",
        "        ps = np.linspace(5e-2, 1 - 5e-2, 100)\n",
        "        ls = [fl(y, p).sum() for p in ps]\n",
        "\n",
        "        curve = ax.plot(ps, ls, label=r'$\\alpha$ = %s, $\\gamma$ = %s' % (alpha, gamma))[0]\n",
        "        p = special.expit(fl.init_score(y))\n",
        "        ax.axvline(p, color=curve.get_color(), linestyle='--')\n",
        "\n",
        "ax.legend()\n",
        "ax.grid()\n",
        "ax.set_title('Obtained initialization constants')\n",
        "ax.set_xlabel(r'$p$')\n",
        "ax.set_ylabel('Focal loss value')\n",
        "fig.savefig('focal_loss_min.png')"
      ],
      "metadata": {
        "colab": {
          "base_uri": "https://localhost:8080/",
          "height": 646
        },
        "id": "lebaoFwVz3lG",
        "outputId": "9ab10c26-7c5d-4b82-8a57-cbfe38ea3190"
      },
      "execution_count": 19,
      "outputs": [
        {
          "output_type": "display_data",
          "data": {
            "text/plain": [
              "<Figure size 1000x700 with 1 Axes>"
            ],
            "image/png": "[encoded data removed]"
          },
          "metadata": {}
        }
      ]
    },
    {
      "cell_type": "code",
      "source": [
        "import lightgbm\n",
        "import numpy as np\n",
        "import pandas as pd\n",
        "from scipy import optimize\n",
        "from scipy import special\n",
        "from sklearn import metrics\n",
        "from sklearn import model_selection\n",
        "\n",
        "df = pd.read_csv('creditcard.csv')\n",
        "X = df.drop(columns='Class')\n",
        "y = df['Class']\n",
        "\n",
        "fl = FocalLoss(alpha=None, gamma=0)\n",
        "\n",
        "X_train, X_test, y_train, y_test = model_selection.train_test_split(\n",
        "    X, y,\n",
        "    random_state=42\n",
        ")\n",
        "\n",
        "X_fit, X_val, y_fit, y_val = model_selection.train_test_split(\n",
        "    X_train, y_train,\n",
        "    random_state=42\n",
        ")\n",
        "\n",
        "fit = lightgbm.Dataset(\n",
        "    X_fit, y_fit,\n",
        "    init_score=np.full_like(y_fit, fl.init_score(y_fit), dtype=float)\n",
        ")\n",
        "\n",
        "val = lightgbm.Dataset(\n",
        "    X_val, y_val,\n",
        "    init_score=np.full_like(y_val, fl.init_score(y_fit), dtype=float),\n",
        "    reference=fit\n",
        ")\n",
        "\n",
        "# Pass the custom objective function through the params dictionary\n",
        "model = lightgbm.train(\n",
        "    params={'learning_rate': 0.01, 'objective': fl.lgb_obj}, # Pass objective here\n",
        "    train_set=fit,\n",
        "    num_boost_round=10000,\n",
        "    valid_sets=(fit, val),\n",
        "    valid_names=('fit', 'val'),\n",
        "    # Use callbacks instead of early_stopping_rounds and verbose_eval\n",
        "    callbacks=[\n",
        "        lightgbm.early_stopping(stopping_rounds=20),  # Early stopping\n",
        "        lightgbm.log_evaluation(100)  # Verbose output every 100 iterations\n",
        "    ],\n",
        "    feval=fl.lgb_eval # feval is still a valid argument\n",
        ")\n",
        "\n",
        "\n",
        "y_pred = special.expit(fl.init_score(y_fit) + model.predict(X_test))\n",
        "\n",
        "print()\n",
        "print(f\"Test's ROC AUC: {metrics.roc_auc_score(y_test, y_pred):.5f}\")\n",
        "print(f\"Test's logloss: {metrics.log_loss(y_test, y_pred):.5f}\")"
      ],
      "metadata": {
        "colab": {
          "base_uri": "https://localhost:8080/"
        },
        "id": "EAVygruIz-YN",
        "outputId": "3eeca236-4715-4d8f-a443-0114a656728d"
      },
      "execution_count": 20,
      "outputs": [
        {
          "output_type": "stream",
          "name": "stdout",
          "text": [
            "[LightGBM] [Info] Using self-defined objective function\n",
            "[LightGBM] [Info] Auto-choosing col-wise multi-threading, the overhead of testing was 0.137886 seconds.\n",
            "You can set `force_col_wise=true` to remove the overhead.\n",
            "[LightGBM] [Info] Total Bins 7650\n",
            "[LightGBM] [Info] Number of data points in the train set: 160203, number of used features: 30\n",
            "[LightGBM] [Info] Using self-defined objective function\n",
            "Training until validation scores don't improve for 20 rounds\n",
            "[100]\tfit's focal_loss: 0.00190475\tval's focal_loss: 0.00356043\n",
            "[200]\tfit's focal_loss: 0.000811846\tval's focal_loss: 0.00285806\n",
            "[300]\tfit's focal_loss: 0.000401933\tval's focal_loss: 0.00267161\n",
            "Early stopping, best iteration is:\n",
            "[345]\tfit's focal_loss: 0.000297174\tval's focal_loss: 0.00263719\n",
            "\n",
            "Test's ROC AUC: 0.97948\n",
            "Test's logloss: 0.00237\n"
          ]
        }
      ]
    },
    {
      "cell_type": "markdown",
      "source": [
        "https://maxhalford.github.io/blog/lightgbm-focal-loss/#motivation"
      ],
      "metadata": {
        "id": "zxg6f3TY46H6"
      }
    },
    {
      "cell_type": "markdown",
      "source": [
        "Multiclass Focal Loss"
      ],
      "metadata": {
        "id": "Lgrp65bfBVfh"
      }
    },
    {
      "cell_type": "code",
      "source": [
        "preds = np.random.rand(100*4)"
      ],
      "metadata": {
        "id": "DWtc8bdhBKgv"
      },
      "execution_count": 21,
      "outputs": []
    },
    {
      "cell_type": "code",
      "source": [
        "preds[120]"
      ],
      "metadata": {
        "colab": {
          "base_uri": "https://localhost:8080/"
        },
        "id": "xO4xr2moBZSJ",
        "outputId": "051520b1-0197-4aa6-9a68-4fe9de58a04c"
      },
      "execution_count": 22,
      "outputs": [
        {
          "output_type": "execute_result",
          "data": {
            "text/plain": [
              "0.27252617599113516"
            ]
          },
          "metadata": {},
          "execution_count": 22
        }
      ]
    },
    {
      "cell_type": "code",
      "source": [
        "preds.reshape(-1 , 4, order='F')[20, 1]"
      ],
      "metadata": {
        "colab": {
          "base_uri": "https://localhost:8080/"
        },
        "id": "1osYLJdVBbCn",
        "outputId": "4d6f8d1e-0812-433b-ccea-dd7c91e90662"
      },
      "execution_count": 23,
      "outputs": [
        {
          "output_type": "execute_result",
          "data": {
            "text/plain": [
              "0.27252617599113516"
            ]
          },
          "metadata": {},
          "execution_count": 23
        }
      ]
    },
    {
      "cell_type": "code",
      "source": [
        "np.all(preds[:100] == preds.reshape(-1 , 4, order='F')[:100,0])"
      ],
      "metadata": {
        "colab": {
          "base_uri": "https://localhost:8080/"
        },
        "id": "QgPGzz3OBdfx",
        "outputId": "e5fcb865-b628-44db-af8a-f7139f32da54"
      },
      "execution_count": 24,
      "outputs": [
        {
          "output_type": "execute_result",
          "data": {
            "text/plain": [
              "True"
            ]
          },
          "metadata": {},
          "execution_count": 24
        }
      ]
    },
    {
      "cell_type": "code",
      "source": [
        "def focal_loss_lgb(y_pred, dtrain, alpha, gamma, num_class):\n",
        "    \"\"\"\n",
        "    Focal Loss for lightgbm\n",
        "\n",
        "    Parameters:\n",
        "    -----------\n",
        "    y_pred: numpy.ndarray\n",
        "        array with the predictions\n",
        "    dtrain: lightgbm.Dataset\n",
        "    alpha, gamma: float\n",
        "        See original paper https://arxiv.org/pdf/1708.02002.pdf\n",
        "    num_class: int\n",
        "        number of classes\n",
        "    \"\"\"\n",
        "    a,g = alpha, gamma\n",
        "    y_true = dtrain.label\n",
        "    # n observations x num_class arrays\n",
        "    y_true = np.eye(num_class)[y_true.astype('int')]\n",
        "    y_pred = y_pred.reshape(-1,num_class, order='F')\n",
        "    # alpha and gamma multiplicative factors with BCEWithLogitsLoss\n",
        "    def fl(x,t):\n",
        "        p = 1/(1+np.exp(-x))\n",
        "        return -( a*t + (1-a)*(1-t) ) * (( 1 - ( t*p + (1-t)*(1-p)) )**g) * ( t*np.log(p)+(1-t)*np.log(1-p) )\n",
        "    partial_fl = lambda x: fl(x, y_true)\n",
        "    grad = derivative(partial_fl, y_pred, n=1, dx=1e-6)\n",
        "    hess = derivative(partial_fl, y_pred, n=2, dx=1e-6)\n",
        "    # flatten in column-major (Fortran-style) order\n",
        "    return grad.flatten('F'), hess.flatten('F')"
      ],
      "metadata": {
        "id": "yVYpokNLBf3Y"
      },
      "execution_count": 25,
      "outputs": []
    },
    {
      "cell_type": "code",
      "source": [
        "def focal_loss_lgb_eval_error(y_pred, dtrain, alpha, gamma, num_class):\n",
        "    \"\"\"\n",
        "    Focal Loss for lightgbm\n",
        "\n",
        "    Parameters:\n",
        "    -----------\n",
        "    y_pred: numpy.ndarray\n",
        "        array with the predictions\n",
        "    dtrain: lightgbm.Dataset\n",
        "    alpha, gamma: float\n",
        "        See original paper https://arxiv.org/pdf/1708.02002.pdf\n",
        "    num_class: int\n",
        "        number of classes\n",
        "    \"\"\"\n",
        "    a,g = alpha, gamma\n",
        "    y_true = dtrain.label\n",
        "    y_true = np.eye(num_class)[y_true.astype('int')]\n",
        "    y_pred = y_pred.reshape(-1, num_class, order='F')\n",
        "    p = 1/(1+np.exp(-y_pred))\n",
        "    loss = -( a*y_true + (1-a)*(1-y_true) ) * (( 1 - ( y_true*p + (1-y_true)*(1-p)) )**g) * ( y_true*np.log(p)+(1-y_true)*np.log(1-p) )\n",
        "    # a variant can be np.sum(loss)/num_class\n",
        "    return 'focal_loss', np.mean(loss), False"
      ],
      "metadata": {
        "id": "chL88DArBlbz"
      },
      "execution_count": 26,
      "outputs": []
    },
    {
      "cell_type": "code",
      "source": [
        "import numpy as np\n",
        "import lightgbm as lgb\n",
        "\n",
        "from sklearn import datasets\n",
        "from sklearn.model_selection import train_test_split\n",
        "from sklearn.metrics import  accuracy_score\n",
        "from scipy.misc import derivative\n",
        "\n",
        "\n",
        "digits = datasets.load_digits()\n",
        "X = digits.data\n",
        "y = digits.target"
      ],
      "metadata": {
        "id": "RKUpALk-B5ZR"
      },
      "execution_count": 27,
      "outputs": []
    },
    {
      "cell_type": "code",
      "source": [
        "X_tr, X_val, y_tr, y_val = train_test_split(X, y, test_size=0.2, random_state=1)\n",
        "lgbtrain = lgb.Dataset(X_tr, y_tr, free_raw_data=True)\n",
        "lgbeval = lgb.Dataset(X_val, y_val)"
      ],
      "metadata": {
        "id": "plogd2iCB-Hp"
      },
      "execution_count": 28,
      "outputs": []
    },
    {
      "cell_type": "code",
      "source": [
        "import numpy as np\n",
        "import lightgbm as lgb\n",
        "\n",
        "from sklearn import datasets\n",
        "from sklearn.model_selection import train_test_split\n",
        "from sklearn.metrics import accuracy_score\n",
        "from scipy.misc import derivative\n",
        "\n",
        "\n",
        "digits = datasets.load_digits()\n",
        "X = digits.data\n",
        "y = digits.target\n",
        "\n",
        "X_tr, X_val, y_tr, y_val = train_test_split(X, y, test_size=0.2, random_state=1)\n",
        "lgbtrain = lgb.Dataset(X_tr, y_tr, free_raw_data=True)\n",
        "lgbeval = lgb.Dataset(X_val, y_val)\n",
        "\n",
        "# Define focal loss and evaluation function\n",
        "focal_loss = lambda x, y: focal_loss_lgb(x, y, 0.25, 2., 10)\n",
        "eval_error = lambda x, y: focal_loss_lgb_eval_error(x, y, 0.25, 2., 10)\n",
        "\n",
        "# Update params dictionary to include objective and metric\n",
        "params = {\n",
        "    'learning_rate': 0.1,\n",
        "    'num_boost_round': 10,\n",
        "    'num_class': 10,\n",
        "    'objective': focal_loss, # Pass focal_loss as the objective function\n",
        "    'metric': 'custom', # Use 'custom' metric for the evaluation function\n",
        "}\n",
        "\n",
        "# Train the model\n",
        "model = lgb.train(\n",
        "    params,\n",
        "    lgbtrain,\n",
        "    valid_sets=[lgbeval],\n",
        "    feval=eval_error # Pass eval_error as the evaluation function\n",
        ")"
      ],
      "metadata": {
        "colab": {
          "base_uri": "https://localhost:8080/"
        },
        "id": "Q44EgqdOCCHC",
        "outputId": "63992c7a-3d5e-4634-9f09-bae8a24850ec"
      },
      "execution_count": 29,
      "outputs": [
        {
          "output_type": "stream",
          "name": "stdout",
          "text": [
            "[LightGBM] [Info] Using self-defined objective function\n",
            "[LightGBM] [Info] Auto-choosing row-wise multi-threading, the overhead of testing was 0.000595 seconds.\n",
            "You can set `force_row_wise=true` to remove the overhead.\n",
            "And if memory is not enough, you can set `force_col_wise=true`.\n",
            "[LightGBM] [Info] Total Bins 833\n",
            "[LightGBM] [Info] Number of data points in the train set: 1437, number of used features: 53\n",
            "[LightGBM] [Info] Using self-defined objective function\n",
            "[LightGBM] [Warning] No further splits with positive gain, best gain: -inf\n",
            "[LightGBM] [Warning] No further splits with positive gain, best gain: -inf\n",
            "[LightGBM] [Warning] No further splits with positive gain, best gain: -inf\n",
            "[LightGBM] [Warning] No further splits with positive gain, best gain: -inf\n",
            "[LightGBM] [Warning] No further splits with positive gain, best gain: -inf\n",
            "[LightGBM] [Warning] No further splits with positive gain, best gain: -inf\n",
            "[LightGBM] [Warning] No further splits with positive gain, best gain: -inf\n",
            "[LightGBM] [Warning] No further splits with positive gain, best gain: -inf\n",
            "[LightGBM] [Warning] No further splits with positive gain, best gain: -inf\n",
            "[LightGBM] [Warning] No further splits with positive gain, best gain: -inf\n",
            "[LightGBM] [Warning] No further splits with positive gain, best gain: -inf\n",
            "[LightGBM] [Warning] No further splits with positive gain, best gain: -inf\n",
            "[LightGBM] [Warning] No further splits with positive gain, best gain: -inf\n",
            "[LightGBM] [Warning] No further splits with positive gain, best gain: -inf\n",
            "[LightGBM] [Warning] No further splits with positive gain, best gain: -inf\n",
            "[LightGBM] [Warning] No further splits with positive gain, best gain: -inf\n",
            "[LightGBM] [Warning] No further splits with positive gain, best gain: -inf\n",
            "[LightGBM] [Warning] No further splits with positive gain, best gain: -inf\n",
            "[LightGBM] [Warning] No further splits with positive gain, best gain: -inf\n",
            "[LightGBM] [Warning] No further splits with positive gain, best gain: -inf\n",
            "[LightGBM] [Warning] No further splits with positive gain, best gain: -inf\n",
            "[LightGBM] [Warning] No further splits with positive gain, best gain: -inf\n",
            "[LightGBM] [Warning] No further splits with positive gain, best gain: -inf\n",
            "[LightGBM] [Warning] No further splits with positive gain, best gain: -inf\n",
            "[LightGBM] [Warning] No further splits with positive gain, best gain: -inf\n",
            "[LightGBM] [Warning] No further splits with positive gain, best gain: -inf\n",
            "[LightGBM] [Warning] No further splits with positive gain, best gain: -inf\n",
            "[LightGBM] [Warning] No further splits with positive gain, best gain: -inf\n",
            "[LightGBM] [Warning] No further splits with positive gain, best gain: -inf\n",
            "[LightGBM] [Warning] No further splits with positive gain, best gain: -inf\n",
            "[LightGBM] [Warning] No further splits with positive gain, best gain: -inf\n",
            "[LightGBM] [Warning] No further splits with positive gain, best gain: -inf\n",
            "[LightGBM] [Warning] No further splits with positive gain, best gain: -inf\n",
            "[LightGBM] [Warning] No further splits with positive gain, best gain: -inf\n",
            "[LightGBM] [Warning] No further splits with positive gain, best gain: -inf\n",
            "[LightGBM] [Warning] No further splits with positive gain, best gain: -inf\n",
            "[LightGBM] [Warning] No further splits with positive gain, best gain: -inf\n",
            "[LightGBM] [Warning] No further splits with positive gain, best gain: -inf\n",
            "[LightGBM] [Warning] No further splits with positive gain, best gain: -inf\n",
            "[LightGBM] [Warning] No further splits with positive gain, best gain: -inf\n",
            "[LightGBM] [Warning] No further splits with positive gain, best gain: -inf\n",
            "[LightGBM] [Warning] No further splits with positive gain, best gain: -inf\n",
            "[LightGBM] [Warning] No further splits with positive gain, best gain: -inf\n",
            "[LightGBM] [Warning] No further splits with positive gain, best gain: -inf\n"
          ]
        },
        {
          "output_type": "stream",
          "name": "stderr",
          "text": [
            "/usr/local/lib/python3.10/dist-packages/lightgbm/engine.py:204: UserWarning: Found `num_boost_round` in params. Will use it instead of argument\n",
            "  _log_warning(f\"Found `{alias}` in params. Will use it instead of argument\")\n",
            "<ipython-input-25-f4eeef46f75e>:25: DeprecationWarning: scipy.misc.derivative is deprecated in SciPy v1.10.0; and will be completely removed in SciPy v1.12.0. You may consider using findiff: https://github.com/maroba/findiff or numdifftools: https://github.com/pbrod/numdifftools\n",
            "  grad = derivative(partial_fl, y_pred, n=1, dx=1e-6)\n",
            "<ipython-input-25-f4eeef46f75e>:26: DeprecationWarning: scipy.misc.derivative is deprecated in SciPy v1.10.0; and will be completely removed in SciPy v1.12.0. You may consider using findiff: https://github.com/maroba/findiff or numdifftools: https://github.com/pbrod/numdifftools\n",
            "  hess = derivative(partial_fl, y_pred, n=2, dx=1e-6)\n"
          ]
        }
      ]
    }
  ]
}