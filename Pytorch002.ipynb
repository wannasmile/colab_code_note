{
  "nbformat": 4,
  "nbformat_minor": 0,
  "metadata": {
    "colab": {
      "provenance": [],
      "authorship_tag": "ABX9TyMksXTRxQczZE5gjWDlisae",
      "include_colab_link": true
    },
    "kernelspec": {
      "name": "python3",
      "display_name": "Python 3"
    },
    "language_info": {
      "name": "python"
    }
  },
  "cells": [
    {
      "cell_type": "markdown",
      "metadata": {
        "id": "view-in-github",
        "colab_type": "text"
      },
      "source": [
        "<a href=\"https://colab.research.google.com/github/wannasmile/colab_code_note/blob/main/Pytorch002.ipynb\" target=\"_parent\"><img src=\"https://colab.research.google.com/assets/colab-badge.svg\" alt=\"Open In Colab\"/></a>"
      ]
    },
    {
      "cell_type": "code",
      "execution_count": 1,
      "metadata": {
        "colab": {
          "base_uri": "https://localhost:8080/",
          "height": 1000
        },
        "id": "CoWsMN4pn8_S",
        "outputId": "cd04f77e-e3a4-4807-e459-8b28dd0e3559"
      },
      "outputs": [
        {
          "output_type": "stream",
          "name": "stdout",
          "text": [
            "Epoch[20/1000], loss: 0.515539\n",
            "Epoch[40/1000], loss: 0.434402\n",
            "Epoch[60/1000], loss: 0.377037\n",
            "Epoch[80/1000], loss: 0.336474\n",
            "Epoch[100/1000], loss: 0.307785\n",
            "Epoch[120/1000], loss: 0.287488\n",
            "Epoch[140/1000], loss: 0.273123\n",
            "Epoch[160/1000], loss: 0.262949\n",
            "Epoch[180/1000], loss: 0.255738\n",
            "Epoch[200/1000], loss: 0.250621\n",
            "Epoch[220/1000], loss: 0.246983\n",
            "Epoch[240/1000], loss: 0.244392\n",
            "Epoch[260/1000], loss: 0.242539\n",
            "Epoch[280/1000], loss: 0.241209\n",
            "Epoch[300/1000], loss: 0.240248\n",
            "Epoch[320/1000], loss: 0.239548\n",
            "Epoch[340/1000], loss: 0.239033\n",
            "Epoch[360/1000], loss: 0.238648\n",
            "Epoch[380/1000], loss: 0.238355\n",
            "Epoch[400/1000], loss: 0.238128\n",
            "Epoch[420/1000], loss: 0.237946\n",
            "Epoch[440/1000], loss: 0.237797\n",
            "Epoch[460/1000], loss: 0.237671\n",
            "Epoch[480/1000], loss: 0.237562\n",
            "Epoch[500/1000], loss: 0.237464\n",
            "Epoch[520/1000], loss: 0.237374\n",
            "Epoch[540/1000], loss: 0.237290\n",
            "Epoch[560/1000], loss: 0.237210\n",
            "Epoch[580/1000], loss: 0.237133\n",
            "Epoch[600/1000], loss: 0.237058\n",
            "Epoch[620/1000], loss: 0.236984\n",
            "Epoch[640/1000], loss: 0.236912\n",
            "Epoch[660/1000], loss: 0.236841\n",
            "Epoch[680/1000], loss: 0.236770\n",
            "Epoch[700/1000], loss: 0.236699\n",
            "Epoch[720/1000], loss: 0.236629\n",
            "Epoch[740/1000], loss: 0.236559\n",
            "Epoch[760/1000], loss: 0.236489\n",
            "Epoch[780/1000], loss: 0.236420\n",
            "Epoch[800/1000], loss: 0.236350\n",
            "Epoch[820/1000], loss: 0.236281\n",
            "Epoch[840/1000], loss: 0.236212\n",
            "Epoch[860/1000], loss: 0.236142\n",
            "Epoch[880/1000], loss: 0.236073\n",
            "Epoch[900/1000], loss: 0.236004\n",
            "Epoch[920/1000], loss: 0.235935\n",
            "Epoch[940/1000], loss: 0.235867\n",
            "Epoch[960/1000], loss: 0.235798\n",
            "Epoch[980/1000], loss: 0.235729\n",
            "Epoch[1000/1000], loss: 0.235661\n"
          ]
        },
        {
          "output_type": "display_data",
          "data": {
            "text/plain": [
              "<Figure size 1000x500 with 1 Axes>"
            ],
            "image/png": "[encoded data removed]"
          },
          "metadata": {}
        }
      ],
      "source": [
        "import matplotlib.pyplot as plt\n",
        "import numpy as np\n",
        "import torch\n",
        "from torch import nn\n",
        "from torch.autograd import Variable\n",
        "\n",
        "x_train = np.array([[3.3], [4.4], [5.5], [6.71], [6.93], [4.168],\n",
        "                    [9.779], [6.182], [7.59], [2.167], [7.042],\n",
        "                    [10.791], [5.313], [7.997], [3.1]], dtype=np.float32)\n",
        "\n",
        "y_train = np.array([[1.7], [2.76], [2.09], [3.19], [1.694], [1.573],\n",
        "                    [3.366], [2.596], [2.53], [1.221], [2.827],\n",
        "                    [3.465], [1.65], [2.904], [1.3]], dtype=np.float32)\n",
        "\n",
        "\n",
        "x_train = torch.from_numpy(x_train)\n",
        "\n",
        "y_train = torch.from_numpy(y_train)\n",
        "\n",
        "\n",
        "# Linear Regression Model\n",
        "class linearRegression(nn.Module):\n",
        "    def __init__(self):\n",
        "        super().__init__()\n",
        "        #super(linearRegression, self).__init__()\n",
        "        self.linear = nn.Linear(1, 1)  # input and output is 1 dimension\n",
        "\n",
        "    def forward(self, x):\n",
        "        out = self.linear(x)\n",
        "        return out\n",
        "\n",
        "\n",
        "model = linearRegression()\n",
        "# 定义loss和优化函数\n",
        "criterion = nn.MSELoss()\n",
        "optimizer = torch.optim.SGD(model.parameters(), lr=1e-4)\n",
        "\n",
        "# 开始训练\n",
        "num_epochs = 1000\n",
        "for epoch in range(num_epochs):\n",
        "    inputs = x_train\n",
        "    target = y_train\n",
        "\n",
        "    # forward\n",
        "    out = model(inputs)\n",
        "    loss = criterion(out, target)\n",
        "    # backward\n",
        "    optimizer.zero_grad()\n",
        "    loss.backward()\n",
        "    optimizer.step()\n",
        "\n",
        "    if (epoch+1) % 20 == 0:\n",
        "        print(f'Epoch[{epoch+1}/{num_epochs}], loss: {loss.item():.6f}')\n",
        "\n",
        "model.eval()\n",
        "with torch.no_grad():\n",
        "    predict = model(x_train)\n",
        "predict = predict.data.numpy()\n",
        "\n",
        "fig = plt.figure(figsize=(10, 5))\n",
        "plt.plot(x_train.numpy(), y_train.numpy(), 'ro', label='Original data')\n",
        "plt.plot(x_train.numpy(), predict, label='Fitting Line')\n",
        "# 显示图例\n",
        "plt.legend()\n",
        "plt.show()\n",
        "\n",
        "# 保存模型\n",
        "torch.save(model.state_dict(), './linear.pth')"
      ]
    }
  ]
}