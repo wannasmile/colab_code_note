{
  "nbformat": 4,
  "nbformat_minor": 0,
  "metadata": {
    "colab": {
      "provenance": [],
      "authorship_tag": "ABX9TyPmJtlGb4NpPYIrFxwL75yo",
      "include_colab_link": true
    },
    "kernelspec": {
      "name": "python3",
      "display_name": "Python 3"
    },
    "language_info": {
      "name": "python"
    }
  },
  "cells": [
    {
      "cell_type": "markdown",
      "metadata": {
        "id": "view-in-github",
        "colab_type": "text"
      },
      "source": [
        "<a href=\"https://colab.research.google.com/github/wannasmile/colab_code_note/blob/main/FORECAST001.ipynb\" target=\"_parent\"><img src=\"https://colab.research.google.com/assets/colab-badge.svg\" alt=\"Open In Colab\"/></a>"
      ]
    },
    {
      "cell_type": "markdown",
      "source": [
        "\n",
        "第一代统计学方法一般会对时间序列进行平稳性假设及对多主键协同预测需人工处理，且主要适用于小规模单变量时序预测问题；\n",
        "第二代机器学习方法依赖大量人工基于业务理解生成的特征，挖掘过程耗时耗力，难以在短时间获得较好性能；\n",
        "考虑到结果提交的时效和需要相对灵活的网络结构可供后续优化，故第三代深度学习方法作为首选，像DeepAR、N-BEATS这样的深度学习方法在M5沃尔玛销量预测竞赛中显示其预测潜力。\n",
        "\n",
        "\n",
        "\n",
        "\n",
        "第一代是传统统计学里的时间序列预测算法\n",
        "包括\n",
        "移动平均（Moving Average）\n",
        "指数平滑（Exponential Smoothing）\n",
        "ARIMA\n",
        "Holt-Winters等\n",
        "\n",
        "第二代预测算法是基于机器学习算法。\n",
        "经典的机器学习算法\n",
        "包括线性回归（Linear Regression）\n",
        "支持向量机回归（Support Vector Regression）\n",
        "随机森林（Random Forests）\n",
        "梯度提升决策树（Gradient Boosting Decision Trees）等等\n",
        "\n",
        "这类算法弥补了第一代算法里无法考虑外生因子的短板，在数据丰富的场景取得了显著的效果提升。\n",
        "\n",
        "第三代预测算法是基于深度学习的算法，也是目前大家研究最多的方法。其最大的优势是灵活性高，目前行业内大家都还在探索阶段，各方采纳的具体技术路线也多有不同。目前有以下几个探索路线：\n",
        "\n",
        "传统的神经网络时序模型\n",
        "如RNN，LSTM，GRU，self-attention等，基本都是从NLP模型中借鉴过来，在单量预测场景中，可以在这些模型的基础上新增外生变量，提高精度。\n",
        "\n",
        "用神经网络模拟第一代传统统计学模型，克服第一代模型每个样本单独建模，泛化能力较差的问题\n",
        "如Amazon推出的DeepAR，N-beats通过多个模块学习基线、趋势、季节性，类似ARIMA的神经网络实现。\n",
        "\n",
        "用神经网络模拟决策树的弱分类器投票思想\n",
        "如Forestnet，CCO的TreeDRNet等。\n",
        "\n",
        "时序神经网络和图神经网路结合，主要是借用图结构来刻画多个实体间的相关关系，形成时空图网络结构\n",
        "如STGAT，STHAN等。\n",
        "\n",
        "利用神经网络实现多任务学习，不同粒度的数据蕴含了不同的信息，联合学习可以最大程度提取更多信息，提高预测精度\n",
        "例如盒马SKU级别销量预测和品类预测联合学习。\n"
      ],
      "metadata": {
        "id": "s-T4H7HNpO5o"
      }
    }
  ]
}