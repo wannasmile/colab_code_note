{
  "nbformat": 4,
  "nbformat_minor": 0,
  "metadata": {
    "colab": {
      "provenance": [],
      "collapsed_sections": [],
      "authorship_tag": "ABX9TyObtgXon748rplkkeQM/Dk3",
      "include_colab_link": true
    },
    "kernelspec": {
      "name": "python3",
      "display_name": "Python 3"
    },
    "language_info": {
      "name": "python"
    }
  },
  "cells": [
    {
      "cell_type": "markdown",
      "metadata": {
        "id": "view-in-github",
        "colab_type": "text"
      },
      "source": [
        "<a href=\"https://colab.research.google.com/github/wannasmile/colab_code_note/blob/main/ID3DT03.ipynb\" target=\"_parent\"><img src=\"https://colab.research.google.com/assets/colab-badge.svg\" alt=\"Open In Colab\"/></a>"
      ]
    },
    {
      "cell_type": "code",
      "execution_count": 1,
      "metadata": {
        "colab": {
          "base_uri": "https://localhost:8080/"
        },
        "id": "BVIdF4E8GgWy",
        "outputId": "ff395f8f-61ca-410e-9a03-35d16078dd6a"
      },
      "outputs": [
        {
          "output_type": "stream",
          "name": "stdout",
          "text": [
            "Looking in indexes: https://pypi.org/simple, https://us-python.pkg.dev/colab-wheels/public/simple/\n",
            "Requirement already satisfied: numpy in /usr/local/lib/python3.7/dist-packages (1.21.6)\n",
            "Looking in indexes: https://pypi.org/simple, https://us-python.pkg.dev/colab-wheels/public/simple/\n",
            "Requirement already satisfied: python-javabridge in /usr/local/lib/python3.7/dist-packages (4.0.3)\n",
            "Requirement already satisfied: numpy>=1.20.1 in /usr/local/lib/python3.7/dist-packages (from python-javabridge) (1.21.6)\n",
            "Looking in indexes: https://pypi.org/simple, https://us-python.pkg.dev/colab-wheels/public/simple/\n",
            "Requirement already satisfied: python-weka-wrapper3 in /usr/local/lib/python3.7/dist-packages (0.2.10)\n",
            "Requirement already satisfied: numpy in /usr/local/lib/python3.7/dist-packages (from python-weka-wrapper3) (1.21.6)\n",
            "Requirement already satisfied: python-javabridge>=4.0.0 in /usr/local/lib/python3.7/dist-packages (from python-weka-wrapper3) (4.0.3)\n",
            "Requirement already satisfied: packaging in /usr/local/lib/python3.7/dist-packages (from python-weka-wrapper3) (21.3)\n",
            "Requirement already satisfied: pyparsing!=3.0.5,>=2.0.2 in /usr/local/lib/python3.7/dist-packages (from packaging->python-weka-wrapper3) (3.0.9)\n"
          ]
        }
      ],
      "source": [
        "# install necessary packages\n",
        "!pip install numpy\n",
        "!pip install python-javabridge\n",
        "!pip install python-weka-wrapper3"
      ]
    },
    {
      "cell_type": "code",
      "source": [
        "# start JVM\n",
        "import weka.core.jvm as jvm\n",
        "\n",
        "jvm.start()"
      ],
      "metadata": {
        "colab": {
          "base_uri": "https://localhost:8080/"
        },
        "id": "AN7u8KYdGzC8",
        "outputId": "5848d069-d21e-4aeb-fd97-e93feb82f089"
      },
      "execution_count": 2,
      "outputs": [
        {
          "output_type": "stream",
          "name": "stderr",
          "text": [
            "DEBUG:weka.core.jvm:Adding bundled jars\n",
            "DEBUG:weka.core.jvm:Classpath=['/usr/local/lib/python3.7/dist-packages/javabridge/jars/rhino-1.7R4.jar', '/usr/local/lib/python3.7/dist-packages/javabridge/jars/runnablequeue.jar', '/usr/local/lib/python3.7/dist-packages/javabridge/jars/cpython.jar', '/usr/local/lib/python3.7/dist-packages/weka/lib/weka.jar', '/usr/local/lib/python3.7/dist-packages/weka/lib/python-weka-wrapper.jar']\n",
            "DEBUG:weka.core.jvm:MaxHeapSize=default\n",
            "DEBUG:weka.core.jvm:Package support disabled\n"
          ]
        }
      ]
    },
    {
      "cell_type": "code",
      "source": [
        "!wget https://raw.githubusercontent.com/fracpete/python-weka-wrapper3-examples/master/src/wekaexamples/data/bodyfat.arff"
      ],
      "metadata": {
        "colab": {
          "base_uri": "https://localhost:8080/"
        },
        "id": "9302IKsYGkED",
        "outputId": "c71d524f-5700-476c-b2b7-fdf4b6132760"
      },
      "execution_count": 3,
      "outputs": [
        {
          "output_type": "stream",
          "name": "stdout",
          "text": [
            "--2022-09-20 08:58:43--  https://raw.githubusercontent.com/fracpete/python-weka-wrapper3-examples/master/src/wekaexamples/data/bodyfat.arff\n",
            "Resolving raw.githubusercontent.com (raw.githubusercontent.com)... 185.199.108.133, 185.199.109.133, 185.199.110.133, ...\n",
            "Connecting to raw.githubusercontent.com (raw.githubusercontent.com)|185.199.108.133|:443... connected.\n",
            "HTTP request sent, awaiting response... 200 OK\n",
            "Length: 24433 (24K) [text/plain]\n",
            "Saving to: ‘bodyfat.arff.1’\n",
            "\n",
            "\rbodyfat.arff.1        0%[                    ]       0  --.-KB/s               \rbodyfat.arff.1      100%[===================>]  23.86K  --.-KB/s    in 0.002s  \n",
            "\n",
            "2022-09-20 08:58:43 (10.6 MB/s) - ‘bodyfat.arff.1’ saved [24433/24433]\n",
            "\n"
          ]
        }
      ]
    },
    {
      "cell_type": "code",
      "source": [
        "import os\n",
        "import tempfile\n",
        "\n",
        "\n",
        "def get_data_dir():\n",
        "    \"\"\"\n",
        "    Returns the data directory.\n",
        "    :return: the data directory\n",
        "    :rtype: str\n",
        "    \"\"\"\n",
        "    rootdir = os.path.dirname(__file__)\n",
        "    libdir = rootdir + os.sep + \"data\"\n",
        "    return libdir\n",
        "\n",
        "\n",
        "def print_title(title):\n",
        "    \"\"\"\n",
        "    Prints the title underlined.\n",
        "    :param title: the title to print\n",
        "    :type title: str\n",
        "    \"\"\"\n",
        "\n",
        "    print(\"\\n\" + title)\n",
        "    print(\"=\" * len(title))\n",
        "\n",
        "\n",
        "def print_info(info):\n",
        "    \"\"\"\n",
        "    Prints the info.\n",
        "    :param info: the info to print\n",
        "    :type info: str\n",
        "    \"\"\"\n",
        "\n",
        "    print(\"\\n\" + info)\n",
        "\n",
        "\n",
        "def get_tmp_dir():\n",
        "    \"\"\"\n",
        "    Returns the tmp directory.\n",
        "    :return: the tmp directory\n",
        "    \"\"\"\n",
        "    return tempfile.gettempdir()"
      ],
      "metadata": {
        "id": "V7_AHdXkGnXL"
      },
      "execution_count": 4,
      "outputs": []
    },
    {
      "cell_type": "code",
      "source": [
        "\n",
        "import os\n",
        "import traceback\n",
        "import weka.core.jvm as jvm\n",
        "#import wekaexamples.helper as helper\n",
        "from weka.core.converters import Loader\n",
        "from weka.classifiers import Classifier\n",
        "\n",
        "\n",
        "def main():\n",
        "    \"\"\"\n",
        "    Just runs some example code.\n",
        "    \"\"\"\n",
        "\n",
        "    # load a dataset\n",
        "    #bodyfat_file = helper.get_data_dir() + os.sep + \"bodyfat.arff\"\n",
        "    #bodyfat_file = get_data_dir() + os.sep + \"bodyfat.arff\"\n",
        "    #print_info(\"Loading dataset: \" + bodyfat_file)\n",
        "    #helper.print_info(\"Loading dataset: \" + bodyfat_file)\n",
        "    loader = Loader(classname=\"weka.core.converters.ArffLoader\")\n",
        "    #bodyfat_data = loader.load_file(bodyfat_file)\n",
        "    bodyfat_data = loader.load_file(\"bodyfat.arff\")\n",
        "    bodyfat_data.class_is_last()\n",
        "\n",
        "    # classifier help\n",
        "    #helper.print_title(\"Creating help string\")\n",
        "    print_title(\"Creating help string\")\n",
        "    classifier = Classifier(classname=\"weka.classifiers.trees.M5P\")\n",
        "    classifier.build_classifier(bodyfat_data)\n",
        "    print(classifier)\n",
        "\n",
        "\n",
        "\n",
        "main()"
      ],
      "metadata": {
        "colab": {
          "base_uri": "https://localhost:8080/"
        },
        "id": "suxXs6lXGuxK",
        "outputId": "065877ad-7d9e-452c-8102-00da97c34a32"
      },
      "execution_count": 5,
      "outputs": [
        {
          "output_type": "stream",
          "name": "stdout",
          "text": [
            "\n",
            "Creating help string\n",
            "====================\n",
            "M5 pruned model tree:\n",
            "(using smoothed linear models)\n",
            "\n",
            "Density <= 1.056 : LM1 (130/2.308%)\n",
            "Density >  1.056 : \n",
            "|   Density <= 1.066 : LM2 (43/0.408%)\n",
            "|   Density >  1.066 : \n",
            "|   |   Density <= 1.078 : LM3 (46/16.847%)\n",
            "|   |   Density >  1.078 : \n",
            "|   |   |   Density <= 1.083 : LM4 (15/0.394%)\n",
            "|   |   |   Density >  1.083 : \n",
            "|   |   |   |   Density <= 1.092 : LM5 (14/0.295%)\n",
            "|   |   |   |   Density >  1.092 : LM6 (4/12.453%)\n",
            "\n",
            "LM num: 1\n",
            "class = \n",
            "\t-455.1528 * Density \n",
            "\t+ 0.0055 * Chest \n",
            "\t+ 498.7782\n",
            "\n",
            "LM num: 2\n",
            "class = \n",
            "\t-420.9264 * Density \n",
            "\t+ 0.0056 * Weight \n",
            "\t+ 0.0058 * Chest \n",
            "\t+ 461.5628\n",
            "\n",
            "LM num: 3\n",
            "class = \n",
            "\t-379.58 * Density \n",
            "\t+ 0.0095 * Weight \n",
            "\t+ 0.0058 * Chest \n",
            "\t+ 416.5434\n",
            "\n",
            "LM num: 4\n",
            "class = \n",
            "\t-327.0091 * Density \n",
            "\t+ 0.0272 * Weight \n",
            "\t+ 0.0058 * Chest \n",
            "\t+ 356.6599\n",
            "\n",
            "LM num: 5\n",
            "class = \n",
            "\t-269.6005 * Density \n",
            "\t+ 0.0412 * Weight \n",
            "\t+ 0.0058 * Chest \n",
            "\t+ 292.0701\n",
            "\n",
            "LM num: 6\n",
            "class = \n",
            "\t-213.5057 * Density \n",
            "\t+ 0.0592 * Weight \n",
            "\t+ 0.0058 * Chest \n",
            "\t+ 228.2906\n",
            "\n",
            "Number of Rules : 6\n"
          ]
        }
      ]
    },
    {
      "cell_type": "code",
      "source": [
        "# stop JVM\n",
        "jvm.stop()"
      ],
      "metadata": {
        "id": "JECwIlJ4HDXl"
      },
      "execution_count": 6,
      "outputs": []
    },
    {
      "cell_type": "markdown",
      "source": [
        "https://github.com/fracpete/python-weka-wrapper3-examples"
      ],
      "metadata": {
        "id": "SwfNdErsHcuD"
      }
    }
  ]
}