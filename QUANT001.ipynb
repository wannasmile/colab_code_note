{
  "nbformat": 4,
  "nbformat_minor": 0,
  "metadata": {
    "colab": {
      "provenance": [],
      "collapsed_sections": [],
      "authorship_tag": "ABX9TyMNIP9kgHKKKULiGGkQ1Bwc",
      "include_colab_link": true
    },
    "kernelspec": {
      "name": "python3",
      "display_name": "Python 3"
    },
    "language_info": {
      "name": "python"
    }
  },
  "cells": [
    {
      "cell_type": "markdown",
      "metadata": {
        "id": "view-in-github",
        "colab_type": "text"
      },
      "source": [
        "<a href=\"https://colab.research.google.com/github/wannasmile/colab_code_note/blob/main/QUANT001.ipynb\" target=\"_parent\"><img src=\"https://colab.research.google.com/assets/colab-badge.svg\" alt=\"Open In Colab\"/></a>"
      ]
    },
    {
      "cell_type": "markdown",
      "source": [
        "## 算法类库\n",
        "### 典型资源：\n",
        "*   talib金融指标库\n",
        "*   vollib波动率计算包\n",
        "*   pyfolio投资组合风险分析\n",
        "\n",
        "#### 优点：\n",
        "*   开箱即用\n",
        "*   行业长期验证\n",
        "\n",
        "#### 痛点：\n",
        "*   扩展性、可控性较低\n",
        "\n",
        "\n",
        "### 金工框架：\n",
        "*   backtrader回测框架\n",
        "*   zipline回测框架\n",
        "*   vnpy回测框架\n",
        "\n",
        "#### 优点：\n",
        "*   开箱即用\n",
        "*   组件较为丰富\n",
        "\n",
        "#### 痛点：\n",
        "*   扩展性、可控性较低\n",
        "*   多数无集群、分布式能力\n",
        "\n",
        "\n",
        "### 量化平台：\n",
        "*   主要以聚宽、米矿、优矿、万矿、worldquant、quantopain等在线量化平台为主\n",
        "\n",
        "#### 优点：\n",
        "*   功能丰富\n",
        "*   用户体验好\n",
        "\n",
        "#### 痛点：\n",
        "*   不可控，内部实现完全黑箱，有隐含风险（如米矿出现未来函数事件）\n",
        "*   高阶数据、功能收费\n",
        "*   部分公司为竞对\n"
      ],
      "metadata": {
        "id": "Agrzsdz2VUBT"
      }
    },
    {
      "cell_type": "markdown",
      "source": [
        "## 数据来源\n",
        "### 行情：\n",
        "*   tr接口调用\n",
        "\n",
        "#### 优点：\n",
        "*   性能及可用性保障高\n",
        "*   数据质量可追溯\n",
        "\n",
        "#### 痛点：\n",
        "*   数据覆盖不足，可用数据仅占投研所需的10%\n",
        "*   数据采购、上线周期长（采购上线平均周期4周）\n",
        "*   dev、sit几乎无数据\n",
        "*   无法简单跨语言调用\n",
        "\n",
        "### glidata：\n",
        "*   导出文件下载\n",
        "*   同步至odps\n",
        "\n",
        "#### 优点：\n",
        "*   数据品类相对全面\n",
        "*   有完整的数据字典\n",
        "\n",
        "#### 痛点：\n",
        "*   导出、同步过程冗长、效率低\n",
        "*   不符合商业标准（部分未采购），仅线下研究使用\n",
        "\n",
        "\n",
        "### wind终端：\n",
        "*   导出文件\n",
        "*   调用万德sdk\n",
        "\n",
        "#### 优点：\n",
        "*   数据品类全面\n",
        "*   独有数据丰富\n",
        "*   业界数据质量标杆\n",
        "\n",
        "#### 痛点：\n",
        "*   导出、同步过程冗长、效率低\n",
        "*   数据不符合商用标准，仅线下研究使用\n",
        "*   wind客户端为借用公司账号，且每日查询数据有限制\n",
        "\n",
        "### 其他开源数据tushare等：\n",
        "*   调用sdk\n",
        "\n",
        "#### 优点：\n",
        "*   数据免费\n",
        "*   有另类数据\n",
        "\n",
        "#### 痛点：\n",
        "*   数据不符合商用标准，仅线下研究使用\n",
        "*   数据来源杂乱、正确性无保障"
      ],
      "metadata": {
        "id": "TN-k6XObbsRp"
      }
    },
    {
      "cell_type": "markdown",
      "source": [
        "## 研发环境\n",
        "### odps：\n",
        "*   sql+udf\n",
        "\n",
        "#### 优点：\n",
        "*   分布式计算能力\n",
        "*   历史积累丰富\n",
        "*   完善的稳定性机制\n",
        "\n",
        "#### 痛点：\n",
        "*   sql处理复杂场景、开发成本高、排查问题困难\n",
        "*   非时序角度管理数据，使用不便\n",
        "*   复杂场景代码可维护性变差/需建立大量中间过程数据表\n",
        "*   数据回流线上实时性差\n",
        "\n",
        "### ai studio：\n",
        "*   拖拽建立模型\n",
        "*   编码建立模型\n",
        "\n",
        "#### 优点：\n",
        "*   分布式计算能力\n",
        "*   历史积累丰富\n",
        "*   完善的稳定性机制\n",
        "\n",
        "#### 痛点：\n",
        "*   缺少标准金工模型工具\n",
        "*   与部分金工类库不兼容\n",
        "*   无法使用实时行情数据\n",
        "*   数据回流线上实时性差\n",
        "\n",
        "\n",
        "### 本地：\n",
        "*   python/r等\n",
        "\n",
        "#### 优点：\n",
        "*   自主灵活\n",
        "\n",
        "#### 痛点：\n",
        "*   单机执行计算性能不足\n",
        "*   策略需要在其他系统平台中重建\n",
        "\n"
      ],
      "metadata": {
        "id": "8P-3MdMBhXDZ"
      }
    },
    {
      "cell_type": "code",
      "execution_count": null,
      "metadata": {
        "id": "-vAdFBi8VQrG"
      },
      "outputs": [],
      "source": []
    }
  ]
}