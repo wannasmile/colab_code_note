{
  "cells": [
    {
      "cell_type": "markdown",
      "metadata": {
        "id": "view-in-github",
        "colab_type": "text"
      },
      "source": [
        "<a href=\"https://colab.research.google.com/github/wannasmile/colab_code_note/blob/main/DEEPAR03.ipynb\" target=\"_parent\"><img src=\"https://colab.research.google.com/assets/colab-badge.svg\" alt=\"Open In Colab\"/></a>"
      ]
    },
    {
      "cell_type": "markdown",
      "metadata": {
        "id": "UtOzIGEb56hp"
      },
      "source": [
        "Via a simple fit() call, AutoGluon can train: \n",
        "\n",
        "* simple forecasting models (e.g., ARIMA, ETS)\n",
        "* powerful neural network-based models (e.g., DeepAR, Transformer, MQ-CNN)\n",
        "* and fit greedy weighted ensembles built on these\n",
        "\n",
        "to produce multi-step ahead probabilistic forecasts for univariate time series data.\n",
        "\n",
        "\n",
        "NOTE\n",
        "\n",
        "autogluon.timeseries depends on Apache MXNet."
      ]
    },
    {
      "cell_type": "code",
      "execution_count": 1,
      "metadata": {
        "id": "omHs6wTI3HDJ"
      },
      "outputs": [],
      "source": [
        "#pip3 install -U pip\n",
        "#pip3 install -U setuptools wheel\n",
        "\n",
        "# CPU version of pytorch has smaller footprint - see installation instructions in\n",
        "# pytorch documentation - https://pytorch.org/get-started/locally/\n",
        "#pip3 install torch==1.12+cpu torchvision==0.13.0+cpu torchtext==0.13.0 -f https://download.pytorch.org/whl/cpu/torch_stable.html\n",
        "\n",
        "#pip3 install autogluon"
      ]
    },
    {
      "cell_type": "code",
      "execution_count": 2,
      "metadata": {
        "colab": {
          "base_uri": "https://localhost:8080/"
        },
        "id": "pIMM8Hvi36IH",
        "outputId": "0870da53-1442-4a04-ea64-d088444d5647"
      },
      "outputs": [
        {
          "output_type": "stream",
          "name": "stdout",
          "text": [
            "Looking in indexes: https://pypi.org/simple, https://us-python.pkg.dev/colab-wheels/public/simple/\n",
            "Requirement already satisfied: autogluon in /usr/local/lib/python3.7/dist-packages (0.5.2)\n",
            "Requirement already satisfied: autogluon.vision==0.5.2 in /usr/local/lib/python3.7/dist-packages (from autogluon) (0.5.2)\n",
            "Requirement already satisfied: autogluon.text==0.5.2 in /usr/local/lib/python3.7/dist-packages (from autogluon) (0.5.2)\n",
            "Requirement already satisfied: autogluon.multimodal==0.5.2 in /usr/local/lib/python3.7/dist-packages (from autogluon) (0.5.2)\n",
            "Requirement already satisfied: autogluon.timeseries[all]==0.5.2 in /usr/local/lib/python3.7/dist-packages (from autogluon) (0.5.2)\n",
            "Requirement already satisfied: autogluon.core[all]==0.5.2 in /usr/local/lib/python3.7/dist-packages (from autogluon) (0.5.2)\n",
            "Requirement already satisfied: autogluon.features==0.5.2 in /usr/local/lib/python3.7/dist-packages (from autogluon) (0.5.2)\n",
            "Requirement already satisfied: autogluon.tabular[all]==0.5.2 in /usr/local/lib/python3.7/dist-packages (from autogluon) (0.5.2)\n",
            "Requirement already satisfied: scikit-learn<1.1,>=1.0.0 in /usr/local/lib/python3.7/dist-packages (from autogluon.core[all]==0.5.2->autogluon) (1.0.2)\n",
            "Requirement already satisfied: pandas!=1.4.0,<1.5,>=1.2.5 in /usr/local/lib/python3.7/dist-packages (from autogluon.core[all]==0.5.2->autogluon) (1.3.5)\n",
            "Requirement already satisfied: dask<=2021.11.2,>=2021.09.1 in /usr/local/lib/python3.7/dist-packages (from autogluon.core[all]==0.5.2->autogluon) (2021.11.2)\n",
            "Requirement already satisfied: tqdm>=4.38.0 in /usr/local/lib/python3.7/dist-packages (from autogluon.core[all]==0.5.2->autogluon) (4.64.1)\n",
            "Requirement already satisfied: autogluon.common==0.5.2 in /usr/local/lib/python3.7/dist-packages (from autogluon.core[all]==0.5.2->autogluon) (0.5.2)\n",
            "Requirement already satisfied: requests in /usr/local/lib/python3.7/dist-packages (from autogluon.core[all]==0.5.2->autogluon) (2.23.0)\n",
            "Requirement already satisfied: scipy<1.8.0,>=1.5.4 in /usr/local/lib/python3.7/dist-packages (from autogluon.core[all]==0.5.2->autogluon) (1.7.3)\n",
            "Requirement already satisfied: numpy<1.23,>=1.21 in /usr/local/lib/python3.7/dist-packages (from autogluon.core[all]==0.5.2->autogluon) (1.21.6)\n",
            "Requirement already satisfied: boto3 in /usr/local/lib/python3.7/dist-packages (from autogluon.core[all]==0.5.2->autogluon) (1.24.83)\n",
            "Requirement already satisfied: distributed<=2021.11.2,>=2021.09.1 in /usr/local/lib/python3.7/dist-packages (from autogluon.core[all]==0.5.2->autogluon) (2021.11.2)\n",
            "Requirement already satisfied: matplotlib in /usr/local/lib/python3.7/dist-packages (from autogluon.core[all]==0.5.2->autogluon) (3.2.2)\n",
            "Requirement already satisfied: ray<1.14,>=1.13 in /usr/local/lib/python3.7/dist-packages (from autogluon.core[all]==0.5.2->autogluon) (1.13.0)\n",
            "Requirement already satisfied: hyperopt<0.2.8,>=0.2.7 in /usr/local/lib/python3.7/dist-packages (from autogluon.core[all]==0.5.2->autogluon) (0.2.7)\n",
            "Requirement already satisfied: psutil<6,>=5.7.3 in /usr/local/lib/python3.7/dist-packages (from autogluon.features==0.5.2->autogluon) (5.8.0)\n",
            "Requirement already satisfied: nlpaug<=1.1.10,>=1.1.10 in /usr/local/lib/python3.7/dist-packages (from autogluon.multimodal==0.5.2->autogluon) (1.1.10)\n",
            "Requirement already satisfied: Pillow<9.1.0,>=9.0.1 in /usr/local/lib/python3.7/dist-packages (from autogluon.multimodal==0.5.2->autogluon) (9.0.1)\n",
            "Requirement already satisfied: pytorch-lightning<1.7.0,>=1.6.0 in /usr/local/lib/python3.7/dist-packages (from autogluon.multimodal==0.5.2->autogluon) (1.6.5)\n",
            "Requirement already satisfied: torchmetrics<0.8.0,>=0.7.2 in /usr/local/lib/python3.7/dist-packages (from autogluon.multimodal==0.5.2->autogluon) (0.7.3)\n",
            "Requirement already satisfied: torch<1.13,>=1.9 in /usr/local/lib/python3.7/dist-packages (from autogluon.multimodal==0.5.2->autogluon) (1.12.1+cu113)\n",
            "Requirement already satisfied: torchvision<0.14.0 in /usr/local/lib/python3.7/dist-packages (from autogluon.multimodal==0.5.2->autogluon) (0.13.1+cu113)\n",
            "Requirement already satisfied: smart-open<5.3.0,>=5.2.1 in /usr/local/lib/python3.7/dist-packages (from autogluon.multimodal==0.5.2->autogluon) (5.2.1)\n",
            "Requirement already satisfied: sentencepiece<0.2.0,>=0.1.95 in /usr/local/lib/python3.7/dist-packages (from autogluon.multimodal==0.5.2->autogluon) (0.1.95)\n",
            "Requirement already satisfied: omegaconf<2.2.0,>=2.1.1 in /usr/local/lib/python3.7/dist-packages (from autogluon.multimodal==0.5.2->autogluon) (2.1.2)\n",
            "Requirement already satisfied: fairscale<=0.4.6,>=0.4.5 in /usr/local/lib/python3.7/dist-packages (from autogluon.multimodal==0.5.2->autogluon) (0.4.6)\n",
            "Requirement already satisfied: nptyping<1.5.0,>=1.4.4 in /usr/local/lib/python3.7/dist-packages (from autogluon.multimodal==0.5.2->autogluon) (1.4.4)\n",
            "Requirement already satisfied: torchtext<0.14.0 in /usr/local/lib/python3.7/dist-packages (from autogluon.multimodal==0.5.2->autogluon) (0.13.1)\n",
            "Requirement already satisfied: transformers<4.21.0,>=4.18.0 in /usr/local/lib/python3.7/dist-packages (from autogluon.multimodal==0.5.2->autogluon) (4.20.1)\n",
            "Requirement already satisfied: scikit-image<0.20.0,>=0.19.1 in /usr/local/lib/python3.7/dist-packages (from autogluon.multimodal==0.5.2->autogluon) (0.19.3)\n",
            "Requirement already satisfied: protobuf<=3.18.1 in /usr/local/lib/python3.7/dist-packages (from autogluon.multimodal==0.5.2->autogluon) (3.17.3)\n",
            "Requirement already satisfied: nltk<4.0.0,>=3.4.5 in /usr/local/lib/python3.7/dist-packages (from autogluon.multimodal==0.5.2->autogluon) (3.7)\n",
            "Requirement already satisfied: timm<0.6.0 in /usr/local/lib/python3.7/dist-packages (from autogluon.multimodal==0.5.2->autogluon) (0.5.4)\n",
            "Requirement already satisfied: pytorch-metric-learning<1.4.0,>=1.3.0 in /usr/local/lib/python3.7/dist-packages (from autogluon.multimodal==0.5.2->autogluon) (1.3.2)\n",
            "Requirement already satisfied: networkx<3.0,>=2.3 in /usr/local/lib/python3.7/dist-packages (from autogluon.tabular[all]==0.5.2->autogluon) (2.6.3)\n",
            "Requirement already satisfied: xgboost<1.5,>=1.4 in /usr/local/lib/python3.7/dist-packages (from autogluon.tabular[all]==0.5.2->autogluon) (1.4.2)\n",
            "Requirement already satisfied: lightgbm<3.4,>=3.3 in /usr/local/lib/python3.7/dist-packages (from autogluon.tabular[all]==0.5.2->autogluon) (3.3.2)\n",
            "Requirement already satisfied: catboost<1.1,>=1.0 in /usr/local/lib/python3.7/dist-packages (from autogluon.tabular[all]==0.5.2->autogluon) (1.0.6)\n",
            "Requirement already satisfied: fastai<2.8,>=2.3.1 in /usr/local/lib/python3.7/dist-packages (from autogluon.tabular[all]==0.5.2->autogluon) (2.7.9)\n",
            "Requirement already satisfied: autogluon-contrib-nlp==0.0.1b20220208 in /usr/local/lib/python3.7/dist-packages (from autogluon.text==0.5.2->autogluon) (0.0.1b20220208)\n",
            "Requirement already satisfied: sacrebleu in /usr/local/lib/python3.7/dist-packages (from autogluon-contrib-nlp==0.0.1b20220208->autogluon.text==0.5.2->autogluon) (2.2.1)\n",
            "Requirement already satisfied: contextvars in /usr/local/lib/python3.7/dist-packages (from autogluon-contrib-nlp==0.0.1b20220208->autogluon.text==0.5.2->autogluon) (2.4)\n",
            "Requirement already satisfied: flake8 in /usr/local/lib/python3.7/dist-packages (from autogluon-contrib-nlp==0.0.1b20220208->autogluon.text==0.5.2->autogluon) (3.9.2)\n",
            "Requirement already satisfied: sacremoses>=0.0.38 in /usr/local/lib/python3.7/dist-packages (from autogluon-contrib-nlp==0.0.1b20220208->autogluon.text==0.5.2->autogluon) (0.0.53)\n",
            "Requirement already satisfied: yacs>=0.1.6 in /usr/local/lib/python3.7/dist-packages (from autogluon-contrib-nlp==0.0.1b20220208->autogluon.text==0.5.2->autogluon) (0.1.8)\n",
            "Requirement already satisfied: pyarrow in /usr/local/lib/python3.7/dist-packages (from autogluon-contrib-nlp==0.0.1b20220208->autogluon.text==0.5.2->autogluon) (6.0.1)\n",
            "Requirement already satisfied: regex in /usr/local/lib/python3.7/dist-packages (from autogluon-contrib-nlp==0.0.1b20220208->autogluon.text==0.5.2->autogluon) (2022.6.2)\n",
            "Requirement already satisfied: tokenizers>=0.9.4 in /usr/local/lib/python3.7/dist-packages (from autogluon-contrib-nlp==0.0.1b20220208->autogluon.text==0.5.2->autogluon) (0.12.1)\n",
            "Requirement already satisfied: gluonts<0.10.0,>=0.8.0 in /usr/local/lib/python3.7/dist-packages (from autogluon.timeseries[all]==0.5.2->autogluon) (0.9.9)\n",
            "Requirement already satisfied: tbats~=1.1 in /usr/local/lib/python3.7/dist-packages (from autogluon.timeseries[all]==0.5.2->autogluon) (1.1.0)\n",
            "Requirement already satisfied: sktime~=0.11.4 in /usr/local/lib/python3.7/dist-packages (from autogluon.timeseries[all]==0.5.2->autogluon) (0.11.4)\n",
            "Requirement already satisfied: pmdarima~=1.8.2 in /usr/local/lib/python3.7/dist-packages (from autogluon.timeseries[all]==0.5.2->autogluon) (1.8.5)\n",
            "Requirement already satisfied: gluoncv<0.10.6,>=0.10.5 in /usr/local/lib/python3.7/dist-packages (from autogluon.vision==0.5.2->autogluon) (0.10.5.post0)\n",
            "Requirement already satisfied: graphviz in /usr/local/lib/python3.7/dist-packages (from catboost<1.1,>=1.0->autogluon.tabular[all]==0.5.2->autogluon) (0.8.4)\n",
            "Requirement already satisfied: plotly in /usr/local/lib/python3.7/dist-packages (from catboost<1.1,>=1.0->autogluon.tabular[all]==0.5.2->autogluon) (5.5.0)\n",
            "Requirement already satisfied: six in /usr/local/lib/python3.7/dist-packages (from catboost<1.1,>=1.0->autogluon.tabular[all]==0.5.2->autogluon) (1.15.0)\n",
            "Requirement already satisfied: cloudpickle>=1.1.1 in /usr/local/lib/python3.7/dist-packages (from dask<=2021.11.2,>=2021.09.1->autogluon.core[all]==0.5.2->autogluon) (1.5.0)\n",
            "Requirement already satisfied: partd>=0.3.10 in /usr/local/lib/python3.7/dist-packages (from dask<=2021.11.2,>=2021.09.1->autogluon.core[all]==0.5.2->autogluon) (1.3.0)\n",
            "Requirement already satisfied: packaging>=20.0 in /usr/local/lib/python3.7/dist-packages (from dask<=2021.11.2,>=2021.09.1->autogluon.core[all]==0.5.2->autogluon) (21.3)\n",
            "Requirement already satisfied: pyyaml in /usr/local/lib/python3.7/dist-packages (from dask<=2021.11.2,>=2021.09.1->autogluon.core[all]==0.5.2->autogluon) (6.0)\n",
            "Requirement already satisfied: toolz>=0.8.2 in /usr/local/lib/python3.7/dist-packages (from dask<=2021.11.2,>=2021.09.1->autogluon.core[all]==0.5.2->autogluon) (0.12.0)\n",
            "Requirement already satisfied: fsspec>=0.6.0 in /usr/local/lib/python3.7/dist-packages (from dask<=2021.11.2,>=2021.09.1->autogluon.core[all]==0.5.2->autogluon) (2022.8.2)\n",
            "Requirement already satisfied: tornado>=5 in /usr/local/lib/python3.7/dist-packages (from distributed<=2021.11.2,>=2021.09.1->autogluon.core[all]==0.5.2->autogluon) (5.1.1)\n",
            "Requirement already satisfied: sortedcontainers!=2.0.0,!=2.0.1 in /usr/local/lib/python3.7/dist-packages (from distributed<=2021.11.2,>=2021.09.1->autogluon.core[all]==0.5.2->autogluon) (2.4.0)\n",
            "Requirement already satisfied: jinja2 in /usr/local/lib/python3.7/dist-packages (from distributed<=2021.11.2,>=2021.09.1->autogluon.core[all]==0.5.2->autogluon) (2.11.3)\n",
            "Requirement already satisfied: msgpack>=0.6.0 in /usr/local/lib/python3.7/dist-packages (from distributed<=2021.11.2,>=2021.09.1->autogluon.core[all]==0.5.2->autogluon) (1.0.4)\n",
            "Requirement already satisfied: tblib>=1.6.0 in /usr/local/lib/python3.7/dist-packages (from distributed<=2021.11.2,>=2021.09.1->autogluon.core[all]==0.5.2->autogluon) (1.7.0)\n",
            "Requirement already satisfied: setuptools in /usr/local/lib/python3.7/dist-packages (from distributed<=2021.11.2,>=2021.09.1->autogluon.core[all]==0.5.2->autogluon) (57.4.0)\n",
            "Requirement already satisfied: zict>=0.1.3 in /usr/local/lib/python3.7/dist-packages (from distributed<=2021.11.2,>=2021.09.1->autogluon.core[all]==0.5.2->autogluon) (2.2.0)\n",
            "Requirement already satisfied: click>=6.6 in /usr/local/lib/python3.7/dist-packages (from distributed<=2021.11.2,>=2021.09.1->autogluon.core[all]==0.5.2->autogluon) (7.1.2)\n",
            "Requirement already satisfied: fastprogress>=0.2.4 in /usr/local/lib/python3.7/dist-packages (from fastai<2.8,>=2.3.1->autogluon.tabular[all]==0.5.2->autogluon) (1.0.3)\n",
            "Requirement already satisfied: spacy<4 in /usr/local/lib/python3.7/dist-packages (from fastai<2.8,>=2.3.1->autogluon.tabular[all]==0.5.2->autogluon) (3.4.1)\n",
            "Requirement already satisfied: pip in /usr/local/lib/python3.7/dist-packages (from fastai<2.8,>=2.3.1->autogluon.tabular[all]==0.5.2->autogluon) (21.1.3)\n",
            "Requirement already satisfied: fastdownload<2,>=0.0.5 in /usr/local/lib/python3.7/dist-packages (from fastai<2.8,>=2.3.1->autogluon.tabular[all]==0.5.2->autogluon) (0.0.7)\n",
            "Requirement already satisfied: fastcore<1.6,>=1.4.5 in /usr/local/lib/python3.7/dist-packages (from fastai<2.8,>=2.3.1->autogluon.tabular[all]==0.5.2->autogluon) (1.5.25)\n",
            "Requirement already satisfied: portalocker in /usr/local/lib/python3.7/dist-packages (from gluoncv<0.10.6,>=0.10.5->autogluon.vision==0.5.2->autogluon) (2.5.1)\n",
            "Requirement already satisfied: autocfg in /usr/local/lib/python3.7/dist-packages (from gluoncv<0.10.6,>=0.10.5->autogluon.vision==0.5.2->autogluon) (0.0.8)\n",
            "Requirement already satisfied: opencv-python in /usr/local/lib/python3.7/dist-packages (from gluoncv<0.10.6,>=0.10.5->autogluon.vision==0.5.2->autogluon) (4.6.0.66)\n",
            "Requirement already satisfied: typing-extensions~=4.0 in /usr/local/lib/python3.7/dist-packages (from gluonts<0.10.0,>=0.8.0->autogluon.timeseries[all]==0.5.2->autogluon) (4.1.1)\n",
            "Requirement already satisfied: holidays>=0.9 in /usr/local/lib/python3.7/dist-packages (from gluonts<0.10.0,>=0.8.0->autogluon.timeseries[all]==0.5.2->autogluon) (0.15)\n",
            "Requirement already satisfied: pydantic~=1.1 in /usr/local/lib/python3.7/dist-packages (from gluonts<0.10.0,>=0.8.0->autogluon.timeseries[all]==0.5.2->autogluon) (1.9.2)\n",
            "Requirement already satisfied: korean-lunar-calendar in /usr/local/lib/python3.7/dist-packages (from holidays>=0.9->gluonts<0.10.0,>=0.8.0->autogluon.timeseries[all]==0.5.2->autogluon) (0.2.1)\n",
            "Requirement already satisfied: convertdate>=2.3.0 in /usr/local/lib/python3.7/dist-packages (from holidays>=0.9->gluonts<0.10.0,>=0.8.0->autogluon.timeseries[all]==0.5.2->autogluon) (2.4.0)\n",
            "Requirement already satisfied: hijri-converter in /usr/local/lib/python3.7/dist-packages (from holidays>=0.9->gluonts<0.10.0,>=0.8.0->autogluon.timeseries[all]==0.5.2->autogluon) (2.2.4)\n",
            "Requirement already satisfied: python-dateutil in /usr/local/lib/python3.7/dist-packages (from holidays>=0.9->gluonts<0.10.0,>=0.8.0->autogluon.timeseries[all]==0.5.2->autogluon) (2.8.2)\n",
            "Requirement already satisfied: pymeeus<=1,>=0.3.13 in /usr/local/lib/python3.7/dist-packages (from convertdate>=2.3.0->holidays>=0.9->gluonts<0.10.0,>=0.8.0->autogluon.timeseries[all]==0.5.2->autogluon) (0.5.11)\n",
            "Requirement already satisfied: py4j in /usr/local/lib/python3.7/dist-packages (from hyperopt<0.2.8,>=0.2.7->autogluon.core[all]==0.5.2->autogluon) (0.10.9.7)\n",
            "Requirement already satisfied: future in /usr/local/lib/python3.7/dist-packages (from hyperopt<0.2.8,>=0.2.7->autogluon.core[all]==0.5.2->autogluon) (0.16.0)\n",
            "Requirement already satisfied: wheel in /usr/local/lib/python3.7/dist-packages (from lightgbm<3.4,>=3.3->autogluon.tabular[all]==0.5.2->autogluon) (0.37.1)\n",
            "Requirement already satisfied: pyparsing!=2.0.4,!=2.1.2,!=2.1.6,>=2.0.1 in /usr/local/lib/python3.7/dist-packages (from matplotlib->autogluon.core[all]==0.5.2->autogluon) (3.0.9)\n",
            "Requirement already satisfied: kiwisolver>=1.0.1 in /usr/local/lib/python3.7/dist-packages (from matplotlib->autogluon.core[all]==0.5.2->autogluon) (1.4.4)\n",
            "Requirement already satisfied: cycler>=0.10 in /usr/local/lib/python3.7/dist-packages (from matplotlib->autogluon.core[all]==0.5.2->autogluon) (0.11.0)\n",
            "Requirement already satisfied: joblib in /usr/local/lib/python3.7/dist-packages (from nltk<4.0.0,>=3.4.5->autogluon.multimodal==0.5.2->autogluon) (1.1.0)\n",
            "Requirement already satisfied: typish>=1.7.0 in /usr/local/lib/python3.7/dist-packages (from nptyping<1.5.0,>=1.4.4->autogluon.multimodal==0.5.2->autogluon) (1.9.3)\n",
            "Requirement already satisfied: antlr4-python3-runtime==4.8 in /usr/local/lib/python3.7/dist-packages (from omegaconf<2.2.0,>=2.1.1->autogluon.multimodal==0.5.2->autogluon) (4.8)\n",
            "Requirement already satisfied: pytz>=2017.3 in /usr/local/lib/python3.7/dist-packages (from pandas!=1.4.0,<1.5,>=1.2.5->autogluon.core[all]==0.5.2->autogluon) (2022.2.1)\n",
            "Requirement already satisfied: locket in /usr/local/lib/python3.7/dist-packages (from partd>=0.3.10->dask<=2021.11.2,>=2021.09.1->autogluon.core[all]==0.5.2->autogluon) (1.0.0)\n",
            "Requirement already satisfied: urllib3 in /usr/local/lib/python3.7/dist-packages (from pmdarima~=1.8.2->autogluon.timeseries[all]==0.5.2->autogluon) (1.25.11)\n",
            "Requirement already satisfied: statsmodels!=0.12.0,>=0.11 in /usr/local/lib/python3.7/dist-packages (from pmdarima~=1.8.2->autogluon.timeseries[all]==0.5.2->autogluon) (0.12.2)\n",
            "Requirement already satisfied: Cython!=0.29.18,>=0.29 in /usr/local/lib/python3.7/dist-packages (from pmdarima~=1.8.2->autogluon.timeseries[all]==0.5.2->autogluon) (0.29.32)\n",
            "Requirement already satisfied: pyDeprecate>=0.3.1 in /usr/local/lib/python3.7/dist-packages (from pytorch-lightning<1.7.0,>=1.6.0->autogluon.multimodal==0.5.2->autogluon) (0.3.2)\n",
            "Requirement already satisfied: tensorboard>=2.2.0 in /usr/local/lib/python3.7/dist-packages (from pytorch-lightning<1.7.0,>=1.6.0->autogluon.multimodal==0.5.2->autogluon) (2.8.0)\n",
            "Requirement already satisfied: aiohttp!=4.0.0a0,!=4.0.0a1 in /usr/local/lib/python3.7/dist-packages (from fsspec>=0.6.0->dask<=2021.11.2,>=2021.09.1->autogluon.core[all]==0.5.2->autogluon) (3.8.1)\n",
            "Requirement already satisfied: asynctest==0.13.0 in /usr/local/lib/python3.7/dist-packages (from aiohttp!=4.0.0a0,!=4.0.0a1->fsspec>=0.6.0->dask<=2021.11.2,>=2021.09.1->autogluon.core[all]==0.5.2->autogluon) (0.13.0)\n",
            "Requirement already satisfied: frozenlist>=1.1.1 in /usr/local/lib/python3.7/dist-packages (from aiohttp!=4.0.0a0,!=4.0.0a1->fsspec>=0.6.0->dask<=2021.11.2,>=2021.09.1->autogluon.core[all]==0.5.2->autogluon) (1.3.1)\n",
            "Requirement already satisfied: yarl<2.0,>=1.0 in /usr/local/lib/python3.7/dist-packages (from aiohttp!=4.0.0a0,!=4.0.0a1->fsspec>=0.6.0->dask<=2021.11.2,>=2021.09.1->autogluon.core[all]==0.5.2->autogluon) (1.8.1)\n",
            "Requirement already satisfied: async-timeout<5.0,>=4.0.0a3 in /usr/local/lib/python3.7/dist-packages (from aiohttp!=4.0.0a0,!=4.0.0a1->fsspec>=0.6.0->dask<=2021.11.2,>=2021.09.1->autogluon.core[all]==0.5.2->autogluon) (4.0.2)\n",
            "Requirement already satisfied: multidict<7.0,>=4.5 in /usr/local/lib/python3.7/dist-packages (from aiohttp!=4.0.0a0,!=4.0.0a1->fsspec>=0.6.0->dask<=2021.11.2,>=2021.09.1->autogluon.core[all]==0.5.2->autogluon) (6.0.2)\n",
            "Requirement already satisfied: charset-normalizer<3.0,>=2.0 in /usr/local/lib/python3.7/dist-packages (from aiohttp!=4.0.0a0,!=4.0.0a1->fsspec>=0.6.0->dask<=2021.11.2,>=2021.09.1->autogluon.core[all]==0.5.2->autogluon) (2.1.1)\n",
            "Requirement already satisfied: aiosignal>=1.1.2 in /usr/local/lib/python3.7/dist-packages (from aiohttp!=4.0.0a0,!=4.0.0a1->fsspec>=0.6.0->dask<=2021.11.2,>=2021.09.1->autogluon.core[all]==0.5.2->autogluon) (1.2.0)\n",
            "Requirement already satisfied: attrs>=17.3.0 in /usr/local/lib/python3.7/dist-packages (from aiohttp!=4.0.0a0,!=4.0.0a1->fsspec>=0.6.0->dask<=2021.11.2,>=2021.09.1->autogluon.core[all]==0.5.2->autogluon) (22.1.0)\n",
            "Requirement already satisfied: grpcio<=1.43.0,>=1.28.1 in /usr/local/lib/python3.7/dist-packages (from ray<1.14,>=1.13->autogluon.core[all]==0.5.2->autogluon) (1.43.0)\n",
            "Requirement already satisfied: filelock in /usr/local/lib/python3.7/dist-packages (from ray<1.14,>=1.13->autogluon.core[all]==0.5.2->autogluon) (3.8.0)\n",
            "Requirement already satisfied: jsonschema in /usr/local/lib/python3.7/dist-packages (from ray<1.14,>=1.13->autogluon.core[all]==0.5.2->autogluon) (4.3.3)\n",
            "Requirement already satisfied: virtualenv in /usr/local/lib/python3.7/dist-packages (from ray<1.14,>=1.13->autogluon.core[all]==0.5.2->autogluon) (20.16.5)\n",
            "Requirement already satisfied: tensorboardX>=1.9 in /usr/local/lib/python3.7/dist-packages (from ray<1.14,>=1.13->autogluon.core[all]==0.5.2->autogluon) (2.5.1)\n",
            "Requirement already satisfied: tabulate in /usr/local/lib/python3.7/dist-packages (from ray<1.14,>=1.13->autogluon.core[all]==0.5.2->autogluon) (0.8.10)\n",
            "Requirement already satisfied: certifi>=2017.4.17 in /usr/local/lib/python3.7/dist-packages (from requests->autogluon.core[all]==0.5.2->autogluon) (2022.6.15)\n",
            "Requirement already satisfied: idna<3,>=2.5 in /usr/local/lib/python3.7/dist-packages (from requests->autogluon.core[all]==0.5.2->autogluon) (2.10)\n",
            "Requirement already satisfied: chardet<4,>=3.0.2 in /usr/local/lib/python3.7/dist-packages (from requests->autogluon.core[all]==0.5.2->autogluon) (3.0.4)\n",
            "Requirement already satisfied: PyWavelets>=1.1.1 in /usr/local/lib/python3.7/dist-packages (from scikit-image<0.20.0,>=0.19.1->autogluon.multimodal==0.5.2->autogluon) (1.3.0)\n",
            "Requirement already satisfied: tifffile>=2019.7.26 in /usr/local/lib/python3.7/dist-packages (from scikit-image<0.20.0,>=0.19.1->autogluon.multimodal==0.5.2->autogluon) (2021.11.2)\n",
            "Requirement already satisfied: imageio>=2.4.1 in /usr/local/lib/python3.7/dist-packages (from scikit-image<0.20.0,>=0.19.1->autogluon.multimodal==0.5.2->autogluon) (2.9.0)\n",
            "Requirement already satisfied: threadpoolctl>=2.0.0 in /usr/local/lib/python3.7/dist-packages (from scikit-learn<1.1,>=1.0.0->autogluon.core[all]==0.5.2->autogluon) (3.1.0)\n",
            "Requirement already satisfied: numba>=0.53 in /usr/local/lib/python3.7/dist-packages (from sktime~=0.11.4->autogluon.timeseries[all]==0.5.2->autogluon) (0.56.2)\n",
            "Requirement already satisfied: deprecated>=1.2.13 in /usr/local/lib/python3.7/dist-packages (from sktime~=0.11.4->autogluon.timeseries[all]==0.5.2->autogluon) (1.2.13)\n",
            "Requirement already satisfied: wrapt<2,>=1.10 in /usr/local/lib/python3.7/dist-packages (from deprecated>=1.2.13->sktime~=0.11.4->autogluon.timeseries[all]==0.5.2->autogluon) (1.14.1)\n",
            "Requirement already satisfied: llvmlite<0.40,>=0.39.0dev0 in /usr/local/lib/python3.7/dist-packages (from numba>=0.53->sktime~=0.11.4->autogluon.timeseries[all]==0.5.2->autogluon) (0.39.1)\n",
            "Requirement already satisfied: importlib-metadata in /usr/local/lib/python3.7/dist-packages (from numba>=0.53->sktime~=0.11.4->autogluon.timeseries[all]==0.5.2->autogluon) (4.12.0)\n",
            "Requirement already satisfied: cymem<2.1.0,>=2.0.2 in /usr/local/lib/python3.7/dist-packages (from spacy<4->fastai<2.8,>=2.3.1->autogluon.tabular[all]==0.5.2->autogluon) (2.0.6)\n",
            "Requirement already satisfied: preshed<3.1.0,>=3.0.2 in /usr/local/lib/python3.7/dist-packages (from spacy<4->fastai<2.8,>=2.3.1->autogluon.tabular[all]==0.5.2->autogluon) (3.0.7)\n",
            "Requirement already satisfied: langcodes<4.0.0,>=3.2.0 in /usr/local/lib/python3.7/dist-packages (from spacy<4->fastai<2.8,>=2.3.1->autogluon.tabular[all]==0.5.2->autogluon) (3.3.0)\n",
            "Requirement already satisfied: typer<0.5.0,>=0.3.0 in /usr/local/lib/python3.7/dist-packages (from spacy<4->fastai<2.8,>=2.3.1->autogluon.tabular[all]==0.5.2->autogluon) (0.4.2)\n",
            "Requirement already satisfied: spacy-loggers<2.0.0,>=1.0.0 in /usr/local/lib/python3.7/dist-packages (from spacy<4->fastai<2.8,>=2.3.1->autogluon.tabular[all]==0.5.2->autogluon) (1.0.3)\n",
            "Requirement already satisfied: thinc<8.2.0,>=8.1.0 in /usr/local/lib/python3.7/dist-packages (from spacy<4->fastai<2.8,>=2.3.1->autogluon.tabular[all]==0.5.2->autogluon) (8.1.0)\n",
            "Requirement already satisfied: wasabi<1.1.0,>=0.9.1 in /usr/local/lib/python3.7/dist-packages (from spacy<4->fastai<2.8,>=2.3.1->autogluon.tabular[all]==0.5.2->autogluon) (0.10.1)\n",
            "Requirement already satisfied: srsly<3.0.0,>=2.4.3 in /usr/local/lib/python3.7/dist-packages (from spacy<4->fastai<2.8,>=2.3.1->autogluon.tabular[all]==0.5.2->autogluon) (2.4.4)\n",
            "Requirement already satisfied: catalogue<2.1.0,>=2.0.6 in /usr/local/lib/python3.7/dist-packages (from spacy<4->fastai<2.8,>=2.3.1->autogluon.tabular[all]==0.5.2->autogluon) (2.0.8)\n",
            "Requirement already satisfied: pathy>=0.3.5 in /usr/local/lib/python3.7/dist-packages (from spacy<4->fastai<2.8,>=2.3.1->autogluon.tabular[all]==0.5.2->autogluon) (0.6.2)\n",
            "Requirement already satisfied: murmurhash<1.1.0,>=0.28.0 in /usr/local/lib/python3.7/dist-packages (from spacy<4->fastai<2.8,>=2.3.1->autogluon.tabular[all]==0.5.2->autogluon) (1.0.8)\n",
            "Requirement already satisfied: spacy-legacy<3.1.0,>=3.0.9 in /usr/local/lib/python3.7/dist-packages (from spacy<4->fastai<2.8,>=2.3.1->autogluon.tabular[all]==0.5.2->autogluon) (3.0.10)\n",
            "Requirement already satisfied: zipp>=0.5 in /usr/local/lib/python3.7/dist-packages (from catalogue<2.1.0,>=2.0.6->spacy<4->fastai<2.8,>=2.3.1->autogluon.tabular[all]==0.5.2->autogluon) (3.8.1)\n",
            "Requirement already satisfied: patsy>=0.5 in /usr/local/lib/python3.7/dist-packages (from statsmodels!=0.12.0,>=0.11->pmdarima~=1.8.2->autogluon.timeseries[all]==0.5.2->autogluon) (0.5.2)\n",
            "Requirement already satisfied: tensorboard-plugin-wit>=1.6.0 in /usr/local/lib/python3.7/dist-packages (from tensorboard>=2.2.0->pytorch-lightning<1.7.0,>=1.6.0->autogluon.multimodal==0.5.2->autogluon) (1.8.1)\n",
            "Requirement already satisfied: werkzeug>=0.11.15 in /usr/local/lib/python3.7/dist-packages (from tensorboard>=2.2.0->pytorch-lightning<1.7.0,>=1.6.0->autogluon.multimodal==0.5.2->autogluon) (1.0.1)\n",
            "Requirement already satisfied: markdown>=2.6.8 in /usr/local/lib/python3.7/dist-packages (from tensorboard>=2.2.0->pytorch-lightning<1.7.0,>=1.6.0->autogluon.multimodal==0.5.2->autogluon) (3.4.1)\n",
            "Requirement already satisfied: google-auth-oauthlib<0.5,>=0.4.1 in /usr/local/lib/python3.7/dist-packages (from tensorboard>=2.2.0->pytorch-lightning<1.7.0,>=1.6.0->autogluon.multimodal==0.5.2->autogluon) (0.4.6)\n",
            "Requirement already satisfied: google-auth<3,>=1.6.3 in /usr/local/lib/python3.7/dist-packages (from tensorboard>=2.2.0->pytorch-lightning<1.7.0,>=1.6.0->autogluon.multimodal==0.5.2->autogluon) (1.35.0)\n",
            "Requirement already satisfied: absl-py>=0.4 in /usr/local/lib/python3.7/dist-packages (from tensorboard>=2.2.0->pytorch-lightning<1.7.0,>=1.6.0->autogluon.multimodal==0.5.2->autogluon) (1.2.0)\n",
            "Requirement already satisfied: tensorboard-data-server<0.7.0,>=0.6.0 in /usr/local/lib/python3.7/dist-packages (from tensorboard>=2.2.0->pytorch-lightning<1.7.0,>=1.6.0->autogluon.multimodal==0.5.2->autogluon) (0.6.1)\n",
            "Requirement already satisfied: cachetools<5.0,>=2.0.0 in /usr/local/lib/python3.7/dist-packages (from google-auth<3,>=1.6.3->tensorboard>=2.2.0->pytorch-lightning<1.7.0,>=1.6.0->autogluon.multimodal==0.5.2->autogluon) (4.2.4)\n",
            "Requirement already satisfied: rsa<5,>=3.1.4 in /usr/local/lib/python3.7/dist-packages (from google-auth<3,>=1.6.3->tensorboard>=2.2.0->pytorch-lightning<1.7.0,>=1.6.0->autogluon.multimodal==0.5.2->autogluon) (4.9)\n",
            "Requirement already satisfied: pyasn1-modules>=0.2.1 in /usr/local/lib/python3.7/dist-packages (from google-auth<3,>=1.6.3->tensorboard>=2.2.0->pytorch-lightning<1.7.0,>=1.6.0->autogluon.multimodal==0.5.2->autogluon) (0.2.8)\n",
            "Requirement already satisfied: requests-oauthlib>=0.7.0 in /usr/local/lib/python3.7/dist-packages (from google-auth-oauthlib<0.5,>=0.4.1->tensorboard>=2.2.0->pytorch-lightning<1.7.0,>=1.6.0->autogluon.multimodal==0.5.2->autogluon) (1.3.1)\n",
            "Requirement already satisfied: pyasn1<0.5.0,>=0.4.6 in /usr/local/lib/python3.7/dist-packages (from pyasn1-modules>=0.2.1->google-auth<3,>=1.6.3->tensorboard>=2.2.0->pytorch-lightning<1.7.0,>=1.6.0->autogluon.multimodal==0.5.2->autogluon) (0.4.8)\n",
            "Requirement already satisfied: oauthlib>=3.0.0 in /usr/local/lib/python3.7/dist-packages (from requests-oauthlib>=0.7.0->google-auth-oauthlib<0.5,>=0.4.1->tensorboard>=2.2.0->pytorch-lightning<1.7.0,>=1.6.0->autogluon.multimodal==0.5.2->autogluon) (3.2.0)\n",
            "Requirement already satisfied: blis<0.8.0,>=0.7.8 in /usr/local/lib/python3.7/dist-packages (from thinc<8.2.0,>=8.1.0->spacy<4->fastai<2.8,>=2.3.1->autogluon.tabular[all]==0.5.2->autogluon) (0.7.8)\n",
            "Requirement already satisfied: huggingface-hub<1.0,>=0.1.0 in /usr/local/lib/python3.7/dist-packages (from transformers<4.21.0,>=4.18.0->autogluon.multimodal==0.5.2->autogluon) (0.10.0)\n",
            "Requirement already satisfied: heapdict in /usr/local/lib/python3.7/dist-packages (from zict>=0.1.3->distributed<=2021.11.2,>=2021.09.1->autogluon.core[all]==0.5.2->autogluon) (1.0.1)\n",
            "Requirement already satisfied: s3transfer<0.7.0,>=0.6.0 in /usr/local/lib/python3.7/dist-packages (from boto3->autogluon.core[all]==0.5.2->autogluon) (0.6.0)\n",
            "Requirement already satisfied: jmespath<2.0.0,>=0.7.1 in /usr/local/lib/python3.7/dist-packages (from boto3->autogluon.core[all]==0.5.2->autogluon) (1.0.1)\n",
            "Requirement already satisfied: botocore<1.28.0,>=1.27.83 in /usr/local/lib/python3.7/dist-packages (from boto3->autogluon.core[all]==0.5.2->autogluon) (1.27.83)\n",
            "Requirement already satisfied: immutables>=0.9 in /usr/local/lib/python3.7/dist-packages (from contextvars->autogluon-contrib-nlp==0.0.1b20220208->autogluon.text==0.5.2->autogluon) (0.19)\n",
            "Requirement already satisfied: pyflakes<2.4.0,>=2.3.0 in /usr/local/lib/python3.7/dist-packages (from flake8->autogluon-contrib-nlp==0.0.1b20220208->autogluon.text==0.5.2->autogluon) (2.3.1)\n",
            "Requirement already satisfied: mccabe<0.7.0,>=0.6.0 in /usr/local/lib/python3.7/dist-packages (from flake8->autogluon-contrib-nlp==0.0.1b20220208->autogluon.text==0.5.2->autogluon) (0.6.1)\n",
            "Requirement already satisfied: pycodestyle<2.8.0,>=2.7.0 in /usr/local/lib/python3.7/dist-packages (from flake8->autogluon-contrib-nlp==0.0.1b20220208->autogluon.text==0.5.2->autogluon) (2.7.0)\n",
            "Requirement already satisfied: MarkupSafe>=0.23 in /usr/local/lib/python3.7/dist-packages (from jinja2->distributed<=2021.11.2,>=2021.09.1->autogluon.core[all]==0.5.2->autogluon) (2.0.1)\n",
            "Requirement already satisfied: pyrsistent!=0.17.0,!=0.17.1,!=0.17.2,>=0.14.0 in /usr/local/lib/python3.7/dist-packages (from jsonschema->ray<1.14,>=1.13->autogluon.core[all]==0.5.2->autogluon) (0.18.1)\n",
            "Requirement already satisfied: importlib-resources>=1.4.0 in /usr/local/lib/python3.7/dist-packages (from jsonschema->ray<1.14,>=1.13->autogluon.core[all]==0.5.2->autogluon) (5.9.0)\n",
            "Requirement already satisfied: tenacity>=6.2.0 in /usr/local/lib/python3.7/dist-packages (from plotly->catboost<1.1,>=1.0->autogluon.tabular[all]==0.5.2->autogluon) (8.0.1)\n",
            "Requirement already satisfied: lxml in /usr/local/lib/python3.7/dist-packages (from sacrebleu->autogluon-contrib-nlp==0.0.1b20220208->autogluon.text==0.5.2->autogluon) (4.9.1)\n",
            "Requirement already satisfied: colorama in /usr/local/lib/python3.7/dist-packages (from sacrebleu->autogluon-contrib-nlp==0.0.1b20220208->autogluon.text==0.5.2->autogluon) (0.4.5)\n",
            "Requirement already satisfied: distlib<1,>=0.3.5 in /usr/local/lib/python3.7/dist-packages (from virtualenv->ray<1.14,>=1.13->autogluon.core[all]==0.5.2->autogluon) (0.3.6)\n",
            "Requirement already satisfied: platformdirs<3,>=2.4 in /usr/local/lib/python3.7/dist-packages (from virtualenv->ray<1.14,>=1.13->autogluon.core[all]==0.5.2->autogluon) (2.5.2)\n"
          ]
        }
      ],
      "source": [
        "!pip install mxnet>=1.9\n",
        "!pip install autogluon"
      ]
    },
    {
      "cell_type": "markdown",
      "metadata": {
        "id": "KpE0Qh0R6r37"
      },
      "source": [
        "This tutorial demonstrates how to quickly start using AutoGluon to produce forecasts of COVID-19 cases in a country given historical data from each country.\n",
        "\n",
        "\n",
        "autogluon.timeseries provides the TimeSeriesPredictor and TimeSeriesDataFrame classes for interacting with time series models. \n",
        "\n",
        "TimeSeriesDataFrame contains time series data. The TimeSeriesPredictor class provides the interface for fitting, tuning and selecting forecasting models.\n",
        "\n"
      ]
    },
    {
      "cell_type": "code",
      "execution_count": 3,
      "metadata": {
        "id": "LeD41cHA4DRL"
      },
      "outputs": [],
      "source": [
        "import pandas as pd\n",
        "from matplotlib import pyplot as plt\n",
        "\n",
        "from autogluon.timeseries import TimeSeriesPredictor, TimeSeriesDataFrame"
      ]
    },
    {
      "cell_type": "markdown",
      "metadata": {
        "id": "iUq764vs7Ip1"
      },
      "source": [
        "TimeSeriesDataFrame objects hold time series data, often with multiple “items” (time series) such as different products in demand forecasting. \n",
        "This setting is also sometimes referred to as a “panel” of time series. TimeSeriesDataFrame inherits from Pandas DataFrame, and the attributes and methods of pandas.\n",
        "\n",
        "DataFrames are available in TimeSeriesDataFrames.\n",
        "\n",
        "In our example, we work with COVID case data as of April 2020 where our goal is to forecast the number of confirmed COVID cases for each country in the data set. \n",
        "Below, we load time series data from an AWS S3 bucket, and prepare it for use in autogluon.timeseries. \n",
        "\n",
        "Note that we make sure the date field is parsed by pandas, and provide the columns containing the item (id_column) and timestamps (timestamp_column) to TimeSeriesDataFrame. \n",
        "\n",
        "We also plot the trajectories of COVID cases with two example countries: Germany and the UK."
      ]
    },
    {
      "cell_type": "code",
      "execution_count": 4,
      "metadata": {
        "colab": {
          "base_uri": "https://localhost:8080/",
          "height": 229
        },
        "id": "lvKdJ0sY4qUu",
        "outputId": "255a5e5d-e016-4e4f-b0c6-fdb59bd90b45"
      },
      "outputs": [
        {
          "output_type": "execute_result",
          "data": {
            "text/plain": [
              "<matplotlib.legend.Legend at 0x7f5addcd6190>"
            ]
          },
          "metadata": {},
          "execution_count": 4
        },
        {
          "output_type": "display_data",
          "data": {
            "text/plain": [
              "<Figure size 1440x216 with 1 Axes>"
            ],
            "image/png": "[encoded data removed]"
          },
          "metadata": {
            "needs_background": "light"
          }
        }
      ],
      "source": [
        "df = pd.read_csv(\n",
        "    \"https://autogluon.s3-us-west-2.amazonaws.com/datasets/CovidTimeSeries/train.csv\",\n",
        "    parse_dates=[\"Date\"],\n",
        ")\n",
        "\n",
        "train_data = TimeSeriesDataFrame.from_data_frame(\n",
        "    df,\n",
        "    id_column=\"name\",\n",
        "    timestamp_column=\"Date\",\n",
        ")\n",
        "\n",
        "plt.figure(figsize=(20, 3))\n",
        "for country in [\"United Kingdom_\", \"Germany_\"]:\n",
        "    plt.plot(train_data.loc[country], label=country)\n",
        "plt.legend()"
      ]
    },
    {
      "cell_type": "code",
      "execution_count": 5,
      "metadata": {
        "colab": {
          "base_uri": "https://localhost:8080/",
          "height": 238
        },
        "id": "kGkly9gA4wKC",
        "outputId": "567f156c-0044-4ee0-8d5d-62f7d8fb5890"
      },
      "outputs": [
        {
          "output_type": "execute_result",
          "data": {
            "text/plain": [
              "                         ConfirmedCases\n",
              "item_id      timestamp                 \n",
              "Afghanistan_ 2020-01-22             0.0\n",
              "             2020-01-23             0.0\n",
              "             2020-01-24             0.0\n",
              "             2020-01-25             0.0\n",
              "             2020-01-26             0.0"
            ],
            "text/html": [
              "\n",
              "  <div id=\"df-42f6d102-a996-411d-a6f8-0d56695d3672\">\n",
              "    <div class=\"colab-df-container\">\n",
              "      <div>\n",
              "<style scoped>\n",
              "    .dataframe tbody tr th:only-of-type {\n",
              "        vertical-align: middle;\n",
              "    }\n",
              "\n",
              "    .dataframe tbody tr th {\n",
              "        vertical-align: top;\n",
              "    }\n",
              "\n",
              "    .dataframe thead th {\n",
              "        text-align: right;\n",
              "    }\n",
              "</style>\n",
              "<table border=\"1\" class=\"dataframe\">\n",
              "  <thead>\n",
              "    <tr style=\"text-align: right;\">\n",
              "      <th></th>\n",
              "      <th></th>\n",
              "      <th>ConfirmedCases</th>\n",
              "    </tr>\n",
              "    <tr>\n",
              "      <th>item_id</th>\n",
              "      <th>timestamp</th>\n",
              "      <th></th>\n",
              "    </tr>\n",
              "  </thead>\n",
              "  <tbody>\n",
              "    <tr>\n",
              "      <th rowspan=\"5\" valign=\"top\">Afghanistan_</th>\n",
              "      <th>2020-01-22</th>\n",
              "      <td>0.0</td>\n",
              "    </tr>\n",
              "    <tr>\n",
              "      <th>2020-01-23</th>\n",
              "      <td>0.0</td>\n",
              "    </tr>\n",
              "    <tr>\n",
              "      <th>2020-01-24</th>\n",
              "      <td>0.0</td>\n",
              "    </tr>\n",
              "    <tr>\n",
              "      <th>2020-01-25</th>\n",
              "      <td>0.0</td>\n",
              "    </tr>\n",
              "    <tr>\n",
              "      <th>2020-01-26</th>\n",
              "      <td>0.0</td>\n",
              "    </tr>\n",
              "  </tbody>\n",
              "</table>\n",
              "</div>\n",
              "      <button class=\"colab-df-convert\" onclick=\"convertToInteractive('df-42f6d102-a996-411d-a6f8-0d56695d3672')\"\n",
              "              title=\"Convert this dataframe to an interactive table.\"\n",
              "              style=\"display:none;\">\n",
              "        \n",
              "  <svg xmlns=\"http://www.w3.org/2000/svg\" height=\"24px\"viewBox=\"0 0 24 24\"\n",
              "       width=\"24px\">\n",
              "    <path d=\"M0 0h24v24H0V0z\" fill=\"none\"/>\n",
              "    <path d=\"M18.56 5.44l.94 2.06.94-2.06 2.06-.94-2.06-.94-.94-2.06-.94 2.06-2.06.94zm-11 1L8.5 8.5l.94-2.06 2.06-.94-2.06-.94L8.5 2.5l-.94 2.06-2.06.94zm10 10l.94 2.06.94-2.06 2.06-.94-2.06-.94-.94-2.06-.94 2.06-2.06.94z\"/><path d=\"M17.41 7.96l-1.37-1.37c-.4-.4-.92-.59-1.43-.59-.52 0-1.04.2-1.43.59L10.3 9.45l-7.72 7.72c-.78.78-.78 2.05 0 2.83L4 21.41c.39.39.9.59 1.41.59.51 0 1.02-.2 1.41-.59l7.78-7.78 2.81-2.81c.8-.78.8-2.07 0-2.86zM5.41 20L4 18.59l7.72-7.72 1.47 1.35L5.41 20z\"/>\n",
              "  </svg>\n",
              "      </button>\n",
              "      \n",
              "  <style>\n",
              "    .colab-df-container {\n",
              "      display:flex;\n",
              "      flex-wrap:wrap;\n",
              "      gap: 12px;\n",
              "    }\n",
              "\n",
              "    .colab-df-convert {\n",
              "      background-color: #E8F0FE;\n",
              "      border: none;\n",
              "      border-radius: 50%;\n",
              "      cursor: pointer;\n",
              "      display: none;\n",
              "      fill: #1967D2;\n",
              "      height: 32px;\n",
              "      padding: 0 0 0 0;\n",
              "      width: 32px;\n",
              "    }\n",
              "\n",
              "    .colab-df-convert:hover {\n",
              "      background-color: #E2EBFA;\n",
              "      box-shadow: 0px 1px 2px rgba(60, 64, 67, 0.3), 0px 1px 3px 1px rgba(60, 64, 67, 0.15);\n",
              "      fill: #174EA6;\n",
              "    }\n",
              "\n",
              "    [theme=dark] .colab-df-convert {\n",
              "      background-color: #3B4455;\n",
              "      fill: #D2E3FC;\n",
              "    }\n",
              "\n",
              "    [theme=dark] .colab-df-convert:hover {\n",
              "      background-color: #434B5C;\n",
              "      box-shadow: 0px 1px 3px 1px rgba(0, 0, 0, 0.15);\n",
              "      filter: drop-shadow(0px 1px 2px rgba(0, 0, 0, 0.3));\n",
              "      fill: #FFFFFF;\n",
              "    }\n",
              "  </style>\n",
              "\n",
              "      <script>\n",
              "        const buttonEl =\n",
              "          document.querySelector('#df-42f6d102-a996-411d-a6f8-0d56695d3672 button.colab-df-convert');\n",
              "        buttonEl.style.display =\n",
              "          google.colab.kernel.accessAllowed ? 'block' : 'none';\n",
              "\n",
              "        async function convertToInteractive(key) {\n",
              "          const element = document.querySelector('#df-42f6d102-a996-411d-a6f8-0d56695d3672');\n",
              "          const dataTable =\n",
              "            await google.colab.kernel.invokeFunction('convertToInteractive',\n",
              "                                                     [key], {});\n",
              "          if (!dataTable) return;\n",
              "\n",
              "          const docLinkHtml = 'Like what you see? Visit the ' +\n",
              "            '<a target=\"_blank\" href=https://colab.research.google.com/notebooks/data_table.ipynb>data table notebook</a>'\n",
              "            + ' to learn more about interactive tables.';\n",
              "          element.innerHTML = '';\n",
              "          dataTable['output_type'] = 'display_data';\n",
              "          await google.colab.output.renderOutput(dataTable, element);\n",
              "          const docLink = document.createElement('div');\n",
              "          docLink.innerHTML = docLinkHtml;\n",
              "          element.appendChild(docLink);\n",
              "        }\n",
              "      </script>\n",
              "    </div>\n",
              "  </div>\n",
              "  "
            ]
          },
          "metadata": {},
          "execution_count": 5
        }
      ],
      "source": [
        "train_data.head()"
      ]
    },
    {
      "cell_type": "markdown",
      "metadata": {
        "id": "yL_TVZzF8IEl"
      },
      "source": [
        "Note how TimeSeriesDataFrame objects organize the data with a pandas.MultiIndex where the first level of the index corresponds to the item (here, country) and the second level contains the dates for which the values were observed. \n",
        "\n",
        "We can also use the loc accessor, as in pandas, to access individual country data."
      ]
    },
    {
      "cell_type": "code",
      "execution_count": 6,
      "metadata": {
        "colab": {
          "base_uri": "https://localhost:8080/",
          "height": 238
        },
        "id": "bwvDCx-34ypD",
        "outputId": "cf6d75af-b2b2-4be3-ed4b-5ac66cc6ad5d"
      },
      "outputs": [
        {
          "output_type": "execute_result",
          "data": {
            "text/plain": [
              "            ConfirmedCases\n",
              "timestamp                 \n",
              "2020-01-22             0.0\n",
              "2020-01-23             0.0\n",
              "2020-01-24             0.0\n",
              "2020-01-25             0.0\n",
              "2020-01-26             0.0"
            ],
            "text/html": [
              "\n",
              "  <div id=\"df-4cf00914-63b2-486d-a082-5409d375ef9a\">\n",
              "    <div class=\"colab-df-container\">\n",
              "      <div>\n",
              "<style scoped>\n",
              "    .dataframe tbody tr th:only-of-type {\n",
              "        vertical-align: middle;\n",
              "    }\n",
              "\n",
              "    .dataframe tbody tr th {\n",
              "        vertical-align: top;\n",
              "    }\n",
              "\n",
              "    .dataframe thead th {\n",
              "        text-align: right;\n",
              "    }\n",
              "</style>\n",
              "<table border=\"1\" class=\"dataframe\">\n",
              "  <thead>\n",
              "    <tr style=\"text-align: right;\">\n",
              "      <th></th>\n",
              "      <th>ConfirmedCases</th>\n",
              "    </tr>\n",
              "    <tr>\n",
              "      <th>timestamp</th>\n",
              "      <th></th>\n",
              "    </tr>\n",
              "  </thead>\n",
              "  <tbody>\n",
              "    <tr>\n",
              "      <th>2020-01-22</th>\n",
              "      <td>0.0</td>\n",
              "    </tr>\n",
              "    <tr>\n",
              "      <th>2020-01-23</th>\n",
              "      <td>0.0</td>\n",
              "    </tr>\n",
              "    <tr>\n",
              "      <th>2020-01-24</th>\n",
              "      <td>0.0</td>\n",
              "    </tr>\n",
              "    <tr>\n",
              "      <th>2020-01-25</th>\n",
              "      <td>0.0</td>\n",
              "    </tr>\n",
              "    <tr>\n",
              "      <th>2020-01-26</th>\n",
              "      <td>0.0</td>\n",
              "    </tr>\n",
              "  </tbody>\n",
              "</table>\n",
              "</div>\n",
              "      <button class=\"colab-df-convert\" onclick=\"convertToInteractive('df-4cf00914-63b2-486d-a082-5409d375ef9a')\"\n",
              "              title=\"Convert this dataframe to an interactive table.\"\n",
              "              style=\"display:none;\">\n",
              "        \n",
              "  <svg xmlns=\"http://www.w3.org/2000/svg\" height=\"24px\"viewBox=\"0 0 24 24\"\n",
              "       width=\"24px\">\n",
              "    <path d=\"M0 0h24v24H0V0z\" fill=\"none\"/>\n",
              "    <path d=\"M18.56 5.44l.94 2.06.94-2.06 2.06-.94-2.06-.94-.94-2.06-.94 2.06-2.06.94zm-11 1L8.5 8.5l.94-2.06 2.06-.94-2.06-.94L8.5 2.5l-.94 2.06-2.06.94zm10 10l.94 2.06.94-2.06 2.06-.94-2.06-.94-.94-2.06-.94 2.06-2.06.94z\"/><path d=\"M17.41 7.96l-1.37-1.37c-.4-.4-.92-.59-1.43-.59-.52 0-1.04.2-1.43.59L10.3 9.45l-7.72 7.72c-.78.78-.78 2.05 0 2.83L4 21.41c.39.39.9.59 1.41.59.51 0 1.02-.2 1.41-.59l7.78-7.78 2.81-2.81c.8-.78.8-2.07 0-2.86zM5.41 20L4 18.59l7.72-7.72 1.47 1.35L5.41 20z\"/>\n",
              "  </svg>\n",
              "      </button>\n",
              "      \n",
              "  <style>\n",
              "    .colab-df-container {\n",
              "      display:flex;\n",
              "      flex-wrap:wrap;\n",
              "      gap: 12px;\n",
              "    }\n",
              "\n",
              "    .colab-df-convert {\n",
              "      background-color: #E8F0FE;\n",
              "      border: none;\n",
              "      border-radius: 50%;\n",
              "      cursor: pointer;\n",
              "      display: none;\n",
              "      fill: #1967D2;\n",
              "      height: 32px;\n",
              "      padding: 0 0 0 0;\n",
              "      width: 32px;\n",
              "    }\n",
              "\n",
              "    .colab-df-convert:hover {\n",
              "      background-color: #E2EBFA;\n",
              "      box-shadow: 0px 1px 2px rgba(60, 64, 67, 0.3), 0px 1px 3px 1px rgba(60, 64, 67, 0.15);\n",
              "      fill: #174EA6;\n",
              "    }\n",
              "\n",
              "    [theme=dark] .colab-df-convert {\n",
              "      background-color: #3B4455;\n",
              "      fill: #D2E3FC;\n",
              "    }\n",
              "\n",
              "    [theme=dark] .colab-df-convert:hover {\n",
              "      background-color: #434B5C;\n",
              "      box-shadow: 0px 1px 3px 1px rgba(0, 0, 0, 0.15);\n",
              "      filter: drop-shadow(0px 1px 2px rgba(0, 0, 0, 0.3));\n",
              "      fill: #FFFFFF;\n",
              "    }\n",
              "  </style>\n",
              "\n",
              "      <script>\n",
              "        const buttonEl =\n",
              "          document.querySelector('#df-4cf00914-63b2-486d-a082-5409d375ef9a button.colab-df-convert');\n",
              "        buttonEl.style.display =\n",
              "          google.colab.kernel.accessAllowed ? 'block' : 'none';\n",
              "\n",
              "        async function convertToInteractive(key) {\n",
              "          const element = document.querySelector('#df-4cf00914-63b2-486d-a082-5409d375ef9a');\n",
              "          const dataTable =\n",
              "            await google.colab.kernel.invokeFunction('convertToInteractive',\n",
              "                                                     [key], {});\n",
              "          if (!dataTable) return;\n",
              "\n",
              "          const docLinkHtml = 'Like what you see? Visit the ' +\n",
              "            '<a target=\"_blank\" href=https://colab.research.google.com/notebooks/data_table.ipynb>data table notebook</a>'\n",
              "            + ' to learn more about interactive tables.';\n",
              "          element.innerHTML = '';\n",
              "          dataTable['output_type'] = 'display_data';\n",
              "          await google.colab.output.renderOutput(dataTable, element);\n",
              "          const docLink = document.createElement('div');\n",
              "          docLink.innerHTML = docLinkHtml;\n",
              "          element.appendChild(docLink);\n",
              "        }\n",
              "      </script>\n",
              "    </div>\n",
              "  </div>\n",
              "  "
            ]
          },
          "metadata": {},
          "execution_count": 6
        }
      ],
      "source": [
        "train_data.loc['Afghanistan_'].head()"
      ]
    },
    {
      "cell_type": "markdown",
      "metadata": {
        "id": "Dz2iIEuc_MZj"
      },
      "source": [
        "The primary use case of autogluon.timeseries is time series forecasting. \n",
        "\n",
        "In our example, our goal is to train models on COVID case data that can forecast the future trajectory of cases given the past, for each country in the data set. \n",
        "\n",
        "By default, autogluon.timeseries supports multi-step ahead probabilistic forecasting. \n",
        "That is, multiple time steps in the future can be forecasted, given that models are trained with the prerequisite number of steps (also known as the forecast horizon). \n",
        "\n",
        "Moreover, when trained models are used to predict the future, the library will provide both \"mean\" forecasts–expected values of the time series in the future, as well as quantiles of the forecast distribution."
      ]
    },
    {
      "cell_type": "markdown",
      "metadata": {
        "id": "5UnDvBqw8yrX"
      },
      "source": [
        "In order to train our forecasting models, we first split the data into training and test data sets. \n",
        "\n",
        "In forecasting, this is often done via excluding the last prediction_length many steps of the data set during training, and only use these steps to compute validation scores (also known as an “out of time” validation sample). \n",
        "\n",
        "We carry out this split via the slice_by_timestep method provided by TimeSeriesDataFrame which takes python slice objects."
      ]
    },
    {
      "cell_type": "code",
      "execution_count": 7,
      "metadata": {
        "id": "-n1xxYS841bn"
      },
      "outputs": [],
      "source": [
        "prediction_length = 5\n",
        "\n",
        "# the full data set\n",
        "test_data = train_data.copy()  \n",
        "\n",
        "# the data set with the last prediction_length time steps included, i.e., akin to `a[:-5]`\n",
        "train_data = train_data.slice_by_timestep(slice(None, -prediction_length))"
      ]
    },
    {
      "cell_type": "markdown",
      "metadata": {
        "id": "DQpelGk_9Aac"
      },
      "source": [
        "Below, for a single country we plot the training and test data sets showing how they overlap and explicitly mark the forecast horizon of the test data set. \n",
        "The test scores will be computed on forecasts provided for this range."
      ]
    },
    {
      "cell_type": "code",
      "execution_count": 8,
      "metadata": {
        "colab": {
          "base_uri": "https://localhost:8080/",
          "height": 229
        },
        "id": "A9ObL82B48hB",
        "outputId": "acb316a1-703e-4dda-fcbb-50f7170ba1bc"
      },
      "outputs": [
        {
          "output_type": "execute_result",
          "data": {
            "text/plain": [
              "<matplotlib.legend.Legend at 0x7f5add044190>"
            ]
          },
          "metadata": {},
          "execution_count": 8
        },
        {
          "output_type": "display_data",
          "data": {
            "text/plain": [
              "<Figure size 1440x216 with 1 Axes>"
            ],
            "image/png": "[encoded data removed]"
          },
          "metadata": {
            "needs_background": "light"
          }
        }
      ],
      "source": [
        "plt.figure(figsize=(20, 3))\n",
        "plt.plot(test_data.loc[\"Germany_\"], label=\"test\")\n",
        "plt.plot(train_data.loc[\"Germany_\"], label=\"train\")\n",
        "\n",
        "test_range = (\n",
        "    test_data.loc[\"Germany_\"].index.max(),\n",
        "    train_data.loc[\"Germany_\"].index.max(),\n",
        ")\n",
        "\n",
        "plt.fill_betweenx(\n",
        "    y=(0, test_data.loc[\"Germany_\"][\"ConfirmedCases\"].max()),\n",
        "    x1=test_range[0],\n",
        "    x2=test_range[1],\n",
        "    alpha=0.1,\n",
        "    label=\"test forecast horizon\",\n",
        ")\n",
        "\n",
        "plt.legend()"
      ]
    },
    {
      "cell_type": "markdown",
      "metadata": {
        "id": "9dqVenpH9ahr"
      },
      "source": [
        "Below we instantiate a TimeSeriesPredictor object and instruct AutoGluon to fit models that can forecast up to 5 time-points into the future (prediction_length) and save them in the folder ./autogluon-covidforecast. \n",
        "\n",
        "\n",
        "We also specify that AutoGluon should rank models according to mean absolute percentage error (MAPE) and that the target field to be forecasted is “ConfirmedCases”."
      ]
    },
    {
      "cell_type": "code",
      "execution_count": 9,
      "metadata": {
        "colab": {
          "base_uri": "https://localhost:8080/"
        },
        "id": "OefqOFaZ4_08",
        "outputId": "eb9c8f08-8547-4d0c-f384-ecaf95c501d1"
      },
      "outputs": [
        {
          "output_type": "stream",
          "name": "stderr",
          "text": [
            "WARNING:autogluon.common.utils.utils:Warning: path already exists! This predictor may overwrite an existing predictor! path=\"autogluon-covidforecast\"\n",
            "INFO:autogluon.timeseries.predictor:presets is set to low_quality\n",
            "INFO:autogluon.timeseries.predictor:================ TimeSeriesPredictor ================\n",
            "INFO:autogluon.timeseries.predictor:TimeSeriesPredictor.fit() called\n",
            "INFO:autogluon.timeseries.predictor:Setting presets to: low_quality\n",
            "INFO:autogluon.timeseries.predictor:Fitting with arguments:\n",
            "INFO:autogluon.timeseries.predictor:{'evaluation_metric': 'MAPE',\n",
            " 'hyperparameter_tune_kwargs': None,\n",
            " 'hyperparameters': 'toy',\n",
            " 'prediction_length': 5,\n",
            " 'target_column': 'ConfirmedCases',\n",
            " 'time_limit': None}\n",
            "INFO:autogluon.timeseries.predictor:Provided training data set with 20971 rows, 313 items. Average time series length is 67.0.\n",
            "INFO:autogluon.timeseries.predictor:Training artifacts will be saved to: /content/autogluon-covidforecast\n",
            "INFO:autogluon.timeseries.predictor:=====================================================\n",
            "WARNING:autogluon.timeseries.predictor:Validation data is None, will hold the last prediction_length 5 time steps out to use as validation set.\n",
            "INFO:autogluon.timeseries.trainer:\n",
            "Starting training. Start time is 2022-09-30 10:56:30\n",
            "INFO:autogluon.timeseries.trainer:Models that will be trained: ['AutoETS', 'SimpleFeedForward', 'DeepAR', 'ARIMA', 'Transformer']\n",
            "INFO:autogluon.timeseries.trainer:Training timeseries model AutoETS. \n",
            "INFO:autogluon.timeseries.trainer:\t-0.3287       = Validation score (-MAPE)\n",
            "INFO:autogluon.timeseries.trainer:\t10.22   s     = Training runtime\n",
            "INFO:autogluon.timeseries.trainer:\t44.95   s     = Validation (prediction) runtime\n",
            "INFO:autogluon.timeseries.trainer:Training timeseries model SimpleFeedForward. \n",
            "INFO:autogluon.timeseries.trainer:\t-0.3494       = Validation score (-MAPE)\n",
            "INFO:autogluon.timeseries.trainer:\t6.06    s     = Training runtime\n",
            "INFO:autogluon.timeseries.trainer:\t2.16    s     = Validation (prediction) runtime\n",
            "INFO:autogluon.timeseries.trainer:Training timeseries model DeepAR. \n",
            "INFO:autogluon.timeseries.trainer:\t-0.4295       = Validation score (-MAPE)\n",
            "INFO:autogluon.timeseries.trainer:\t11.05   s     = Training runtime\n",
            "INFO:autogluon.timeseries.trainer:\t5.18    s     = Validation (prediction) runtime\n",
            "INFO:autogluon.timeseries.trainer:Training timeseries model ARIMA. \n",
            "INFO:autogluon.timeseries.trainer:\t-0.3665       = Validation score (-MAPE)\n",
            "INFO:autogluon.timeseries.trainer:\t14.29   s     = Training runtime\n",
            "INFO:autogluon.timeseries.trainer:\t51.97   s     = Validation (prediction) runtime\n",
            "INFO:autogluon.timeseries.trainer:Training timeseries model Transformer. \n",
            "INFO:autogluon.timeseries.trainer:\t-1.1238       = Validation score (-MAPE)\n",
            "INFO:autogluon.timeseries.trainer:\t10.87   s     = Training runtime\n",
            "INFO:autogluon.timeseries.trainer:\t5.25    s     = Validation (prediction) runtime\n",
            "INFO:autogluon.timeseries.trainer:Fitting simple weighted ensemble.\n",
            "INFO:autogluon.timeseries.trainer:\t-0.3159       = Validation score (-MAPE)\n",
            "INFO:autogluon.timeseries.trainer:\t200.05  s     = Training runtime\n",
            "INFO:autogluon.timeseries.trainer:\t52.29   s     = Validation (prediction) runtime\n",
            "INFO:autogluon.timeseries.trainer:Training complete. Models trained: ['AutoETS', 'SimpleFeedForward', 'DeepAR', 'ARIMA', 'Transformer', 'WeightedEnsemble']\n",
            "INFO:autogluon.timeseries.trainer:Total runtime: 469.00 s\n",
            "INFO:autogluon.timeseries.trainer:Best model: WeightedEnsemble\n",
            "INFO:autogluon.timeseries.trainer:Best model score: -0.3159\n"
          ]
        },
        {
          "output_type": "execute_result",
          "data": {
            "text/plain": [
              "<autogluon.timeseries.predictor.TimeSeriesPredictor at 0x7f5adcfd2310>"
            ]
          },
          "metadata": {},
          "execution_count": 9
        }
      ],
      "source": [
        "predictor = TimeSeriesPredictor(\n",
        "    path=\"autogluon-covidforecast\",\n",
        "    target=\"ConfirmedCases\",\n",
        "    prediction_length=prediction_length,\n",
        "    eval_metric=\"MAPE\",\n",
        ")\n",
        "predictor.fit(\n",
        "    train_data=train_data,\n",
        "    presets=\"low_quality\",\n",
        ")"
      ]
    },
    {
      "cell_type": "markdown",
      "metadata": {
        "id": "RCekw_zL9tdx"
      },
      "source": [
        "In a short amount of time AutoGluon fits four time series forecasting models on the training data. \n",
        "\n",
        "These models are three neural network forecasters: DeepAR, MQCNN, a simple feedforward neural network, and a simple exponential smoothing model with automatic parameter tuning: Auto-ETS. \n",
        "\n",
        "AutoGluon also constructs a weighted ensemble of these models capable of quantile forecasting.\n",
        "\n",
        "We can view the test performance of each model AutoGluon has trained via the leaderboard() method. \n",
        "\n",
        "We provide the test data set to the leaderboard function to see how well our fitted models are doing on the held out time frame. \n",
        "\n",
        "In AutoGluon leaderboards, higher scores always correspond to better predictive performance. \n",
        "Therefore our MAPE scores are presented with a “flipped” sign, such that higher “negative MAPE”s correspond to better models."
      ]
    },
    {
      "cell_type": "code",
      "execution_count": 10,
      "metadata": {
        "colab": {
          "base_uri": "https://localhost:8080/",
          "height": 329
        },
        "id": "OGUGtXKa5FIy",
        "outputId": "bfbedb32-f361-458c-e904-34e395e27f9c"
      },
      "outputs": [
        {
          "output_type": "stream",
          "name": "stderr",
          "text": [
            "INFO:autogluon.timeseries.trainer:Additional data provided, testing on additional data. Resulting leaderboard will be sorted according to test score (`score_test`).\n",
            "WARNING:autogluon.timeseries.models.sktime.abstract_sktime:Different set of items than those provided during training were provided for prediction. The model AutoETS will be re-trained on newly provided data\n",
            "WARNING:autogluon.timeseries.models.sktime.abstract_sktime:Different set of items than those provided during training were provided for prediction. The model ARIMA will be re-trained on newly provided data\n",
            "WARNING:autogluon.timeseries.models.sktime.abstract_sktime:Different set of items than those provided during training were provided for prediction. The model AutoETS will be re-trained on newly provided data\n"
          ]
        },
        {
          "output_type": "execute_result",
          "data": {
            "text/plain": [
              "               model  score_test  score_val  pred_time_test  pred_time_val  \\\n",
              "0  SimpleFeedForward   -0.181031  -0.349431        2.263331       2.164552   \n",
              "1   WeightedEnsemble   -0.224415  -0.315940       50.219230      52.292770   \n",
              "2            AutoETS   -0.247532  -0.328701       43.898949      44.947295   \n",
              "3             DeepAR   -0.267786  -0.429464        5.376025       5.180923   \n",
              "4              ARIMA   -0.286547  -0.366499       70.183752      51.965482   \n",
              "5        Transformer   -0.321885  -1.123790        5.363759       5.254678   \n",
              "\n",
              "   fit_time_marginal  fit_order  \n",
              "0           6.064228          2  \n",
              "1         200.049981          6  \n",
              "2          10.220143          1  \n",
              "3          11.052577          3  \n",
              "4          14.289503          4  \n",
              "5          10.872283          5  "
            ],
            "text/html": [
              "\n",
              "  <div id=\"df-f90fc713-e978-4a93-8185-5256fc72dac9\">\n",
              "    <div class=\"colab-df-container\">\n",
              "      <div>\n",
              "<style scoped>\n",
              "    .dataframe tbody tr th:only-of-type {\n",
              "        vertical-align: middle;\n",
              "    }\n",
              "\n",
              "    .dataframe tbody tr th {\n",
              "        vertical-align: top;\n",
              "    }\n",
              "\n",
              "    .dataframe thead th {\n",
              "        text-align: right;\n",
              "    }\n",
              "</style>\n",
              "<table border=\"1\" class=\"dataframe\">\n",
              "  <thead>\n",
              "    <tr style=\"text-align: right;\">\n",
              "      <th></th>\n",
              "      <th>model</th>\n",
              "      <th>score_test</th>\n",
              "      <th>score_val</th>\n",
              "      <th>pred_time_test</th>\n",
              "      <th>pred_time_val</th>\n",
              "      <th>fit_time_marginal</th>\n",
              "      <th>fit_order</th>\n",
              "    </tr>\n",
              "  </thead>\n",
              "  <tbody>\n",
              "    <tr>\n",
              "      <th>0</th>\n",
              "      <td>SimpleFeedForward</td>\n",
              "      <td>-0.181031</td>\n",
              "      <td>-0.349431</td>\n",
              "      <td>2.263331</td>\n",
              "      <td>2.164552</td>\n",
              "      <td>6.064228</td>\n",
              "      <td>2</td>\n",
              "    </tr>\n",
              "    <tr>\n",
              "      <th>1</th>\n",
              "      <td>WeightedEnsemble</td>\n",
              "      <td>-0.224415</td>\n",
              "      <td>-0.315940</td>\n",
              "      <td>50.219230</td>\n",
              "      <td>52.292770</td>\n",
              "      <td>200.049981</td>\n",
              "      <td>6</td>\n",
              "    </tr>\n",
              "    <tr>\n",
              "      <th>2</th>\n",
              "      <td>AutoETS</td>\n",
              "      <td>-0.247532</td>\n",
              "      <td>-0.328701</td>\n",
              "      <td>43.898949</td>\n",
              "      <td>44.947295</td>\n",
              "      <td>10.220143</td>\n",
              "      <td>1</td>\n",
              "    </tr>\n",
              "    <tr>\n",
              "      <th>3</th>\n",
              "      <td>DeepAR</td>\n",
              "      <td>-0.267786</td>\n",
              "      <td>-0.429464</td>\n",
              "      <td>5.376025</td>\n",
              "      <td>5.180923</td>\n",
              "      <td>11.052577</td>\n",
              "      <td>3</td>\n",
              "    </tr>\n",
              "    <tr>\n",
              "      <th>4</th>\n",
              "      <td>ARIMA</td>\n",
              "      <td>-0.286547</td>\n",
              "      <td>-0.366499</td>\n",
              "      <td>70.183752</td>\n",
              "      <td>51.965482</td>\n",
              "      <td>14.289503</td>\n",
              "      <td>4</td>\n",
              "    </tr>\n",
              "    <tr>\n",
              "      <th>5</th>\n",
              "      <td>Transformer</td>\n",
              "      <td>-0.321885</td>\n",
              "      <td>-1.123790</td>\n",
              "      <td>5.363759</td>\n",
              "      <td>5.254678</td>\n",
              "      <td>10.872283</td>\n",
              "      <td>5</td>\n",
              "    </tr>\n",
              "  </tbody>\n",
              "</table>\n",
              "</div>\n",
              "      <button class=\"colab-df-convert\" onclick=\"convertToInteractive('df-f90fc713-e978-4a93-8185-5256fc72dac9')\"\n",
              "              title=\"Convert this dataframe to an interactive table.\"\n",
              "              style=\"display:none;\">\n",
              "        \n",
              "  <svg xmlns=\"http://www.w3.org/2000/svg\" height=\"24px\"viewBox=\"0 0 24 24\"\n",
              "       width=\"24px\">\n",
              "    <path d=\"M0 0h24v24H0V0z\" fill=\"none\"/>\n",
              "    <path d=\"M18.56 5.44l.94 2.06.94-2.06 2.06-.94-2.06-.94-.94-2.06-.94 2.06-2.06.94zm-11 1L8.5 8.5l.94-2.06 2.06-.94-2.06-.94L8.5 2.5l-.94 2.06-2.06.94zm10 10l.94 2.06.94-2.06 2.06-.94-2.06-.94-.94-2.06-.94 2.06-2.06.94z\"/><path d=\"M17.41 7.96l-1.37-1.37c-.4-.4-.92-.59-1.43-.59-.52 0-1.04.2-1.43.59L10.3 9.45l-7.72 7.72c-.78.78-.78 2.05 0 2.83L4 21.41c.39.39.9.59 1.41.59.51 0 1.02-.2 1.41-.59l7.78-7.78 2.81-2.81c.8-.78.8-2.07 0-2.86zM5.41 20L4 18.59l7.72-7.72 1.47 1.35L5.41 20z\"/>\n",
              "  </svg>\n",
              "      </button>\n",
              "      \n",
              "  <style>\n",
              "    .colab-df-container {\n",
              "      display:flex;\n",
              "      flex-wrap:wrap;\n",
              "      gap: 12px;\n",
              "    }\n",
              "\n",
              "    .colab-df-convert {\n",
              "      background-color: #E8F0FE;\n",
              "      border: none;\n",
              "      border-radius: 50%;\n",
              "      cursor: pointer;\n",
              "      display: none;\n",
              "      fill: #1967D2;\n",
              "      height: 32px;\n",
              "      padding: 0 0 0 0;\n",
              "      width: 32px;\n",
              "    }\n",
              "\n",
              "    .colab-df-convert:hover {\n",
              "      background-color: #E2EBFA;\n",
              "      box-shadow: 0px 1px 2px rgba(60, 64, 67, 0.3), 0px 1px 3px 1px rgba(60, 64, 67, 0.15);\n",
              "      fill: #174EA6;\n",
              "    }\n",
              "\n",
              "    [theme=dark] .colab-df-convert {\n",
              "      background-color: #3B4455;\n",
              "      fill: #D2E3FC;\n",
              "    }\n",
              "\n",
              "    [theme=dark] .colab-df-convert:hover {\n",
              "      background-color: #434B5C;\n",
              "      box-shadow: 0px 1px 3px 1px rgba(0, 0, 0, 0.15);\n",
              "      filter: drop-shadow(0px 1px 2px rgba(0, 0, 0, 0.3));\n",
              "      fill: #FFFFFF;\n",
              "    }\n",
              "  </style>\n",
              "\n",
              "      <script>\n",
              "        const buttonEl =\n",
              "          document.querySelector('#df-f90fc713-e978-4a93-8185-5256fc72dac9 button.colab-df-convert');\n",
              "        buttonEl.style.display =\n",
              "          google.colab.kernel.accessAllowed ? 'block' : 'none';\n",
              "\n",
              "        async function convertToInteractive(key) {\n",
              "          const element = document.querySelector('#df-f90fc713-e978-4a93-8185-5256fc72dac9');\n",
              "          const dataTable =\n",
              "            await google.colab.kernel.invokeFunction('convertToInteractive',\n",
              "                                                     [key], {});\n",
              "          if (!dataTable) return;\n",
              "\n",
              "          const docLinkHtml = 'Like what you see? Visit the ' +\n",
              "            '<a target=\"_blank\" href=https://colab.research.google.com/notebooks/data_table.ipynb>data table notebook</a>'\n",
              "            + ' to learn more about interactive tables.';\n",
              "          element.innerHTML = '';\n",
              "          dataTable['output_type'] = 'display_data';\n",
              "          await google.colab.output.renderOutput(dataTable, element);\n",
              "          const docLink = document.createElement('div');\n",
              "          docLink.innerHTML = docLinkHtml;\n",
              "          element.appendChild(docLink);\n",
              "        }\n",
              "      </script>\n",
              "    </div>\n",
              "  </div>\n",
              "  "
            ]
          },
          "metadata": {},
          "execution_count": 10
        }
      ],
      "source": [
        "predictor.leaderboard(test_data, silent=True)"
      ]
    },
    {
      "cell_type": "markdown",
      "metadata": {
        "id": "G466l7cT-rNH"
      },
      "source": [
        "We can now use the TimeSeriesPredictor to look at actual forecasts. \n",
        "By default, AutoGluon will select the best performing model to forecast time series with. \n",
        "Let’s use the predictor to compute forecasts, and plot forecasts for an example country."
      ]
    },
    {
      "cell_type": "code",
      "execution_count": 11,
      "metadata": {
        "colab": {
          "base_uri": "https://localhost:8080/"
        },
        "id": "RhMgRri_5IEP",
        "outputId": "b7889244-1561-4c7c-a8fb-d76db43675a6"
      },
      "outputs": [
        {
          "output_type": "stream",
          "name": "stderr",
          "text": [
            "INFO:autogluon.timeseries.trainer:Model not specified in predict, will default to the model with the best validation score: WeightedEnsemble\n",
            "WARNING:autogluon.timeseries.models.sktime.abstract_sktime:Different set of items than those provided during training were provided for prediction. The model AutoETS will be re-trained on newly provided data\n"
          ]
        }
      ],
      "source": [
        "predictions = predictor.predict(train_data)"
      ]
    },
    {
      "cell_type": "code",
      "execution_count": 12,
      "metadata": {
        "colab": {
          "base_uri": "https://localhost:8080/",
          "height": 227
        },
        "id": "nOWZmJPV5Kkd",
        "outputId": "ecee1578-4deb-4bab-81bc-c769971fce07"
      },
      "outputs": [
        {
          "output_type": "display_data",
          "data": {
            "text/plain": [
              "<Figure size 1440x216 with 1 Axes>"
            ],
            "image/png": "[encoded data removed]"
          },
          "metadata": {
            "needs_background": "light"
          }
        }
      ],
      "source": [
        "plt.figure(figsize=(20, 3))\n",
        "\n",
        "ytrue = train_data.loc['France_'][\"ConfirmedCases\"]\n",
        "ypred = predictions.loc['France_']\n",
        "\n",
        "# prepend the last value of true range to predicted range for plotting continuity\n",
        "ypred.loc[ytrue.index[-1]] = [ytrue[-1]] * 10\n",
        "ypred = ypred.sort_index()\n",
        "\n",
        "ytrue_test = test_data.loc['France_'][\"ConfirmedCases\"][-5:]\n",
        "\n",
        "plt.plot(ytrue[-30:], label=\"Training Data\")\n",
        "plt.plot(ypred[\"mean\"], label=\"Mean Forecasts\")\n",
        "plt.plot(ytrue_test, label=\"Actual\")\n",
        "\n",
        "plt.fill_between(\n",
        "    ypred.index, ypred[\"0.1\"], ypred[\"0.9\"], color=\"red\", alpha=0.1\n",
        ")\n",
        "plt.title(\"COVID Case Forecasts in France, compared to actual trajectory\")\n",
        "_ = plt.legend()"
      ]
    },
    {
      "cell_type": "markdown",
      "metadata": {
        "id": "QOBZHHqf-2t_"
      },
      "source": [
        "As we used a “toy” presets setting (presets=\"low_quality\") our forecasts may appear to not be doing very well. \n",
        "\n",
        "In realistic scenarios, users can set presets to be one of: \"best_quality\", \"high_quality\", \"good_quality\", \"medium_quality\". \n",
        "Higher quality presets will generally produce superior forecasting accuracy but take longer to train and may produce less efficient models."
      ]
    }
  ],
  "metadata": {
    "colab": {
      "collapsed_sections": [],
      "provenance": [],
      "authorship_tag": "ABX9TyOlxoNkpOEfAwSV73QYJi5D",
      "include_colab_link": true
    },
    "kernelspec": {
      "display_name": "Python 3",
      "name": "python3"
    },
    "language_info": {
      "name": "python"
    }
  },
  "nbformat": 4,
  "nbformat_minor": 0
}