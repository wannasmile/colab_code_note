{
  "nbformat": 4,
  "nbformat_minor": 0,
  "metadata": {
    "colab": {
      "provenance": [],
      "authorship_tag": "ABX9TyOiQcQFVbmDVvTkMWf+0X4g",
      "include_colab_link": true
    },
    "kernelspec": {
      "name": "python3",
      "display_name": "Python 3"
    },
    "language_info": {
      "name": "python"
    }
  },
  "cells": [
    {
      "cell_type": "markdown",
      "metadata": {
        "id": "view-in-github",
        "colab_type": "text"
      },
      "source": [
        "<a href=\"https://colab.research.google.com/github/wannasmile/colab_code_note/blob/main/SMALL001.ipynb\" target=\"_parent\"><img src=\"https://colab.research.google.com/assets/colab-badge.svg\" alt=\"Open In Colab\"/></a>"
      ]
    },
    {
      "cell_type": "markdown",
      "source": [
        "Small Is the New Big"
      ],
      "metadata": {
        "id": "1V2gztgrnjR1"
      }
    },
    {
      "cell_type": "markdown",
      "source": [
        "带权重做聚类"
      ],
      "metadata": {
        "id": "C8rLkKdrnsvN"
      }
    },
    {
      "cell_type": "code",
      "execution_count": null,
      "metadata": {
        "colab": {
          "base_uri": "https://localhost:8080/"
        },
        "id": "Hbv8nZnIm7Qh",
        "outputId": "50577ee3-faf3-421c-cbff-2afce9e20ad2"
      },
      "outputs": [
        {
          "output_type": "stream",
          "name": "stdout",
          "text": [
            "Cluster centers (scaled):\n",
            " [[0.   0.75]\n",
            " [1.   0.5 ]\n",
            " [0.   0.  ]]\n",
            "Cluster centers (original):\n",
            " [[ 1.  3.]\n",
            " [10.  2.]\n",
            " [ 1.  0.]]\n",
            "Predicted labels:\n",
            " [0 0 2 1 1 1]\n"
          ]
        }
      ],
      "source": [
        "from sklearn.cluster import KMeans\n",
        "from sklearn.metrics.pairwise import pairwise_distances_argmin\n",
        "from sklearn.metrics.pairwise import pairwise_distances\n",
        "from sklearn.preprocessing import MinMaxScaler\n",
        "import numpy as np\n",
        "\n",
        "# 假设有以下特征数据\n",
        "X = np.array([[1, 2], [1, 4], [1, 0],\n",
        "              [10, 2], [10, 4], [10, 0]])\n",
        "\n",
        "# 定义权重\n",
        "feature_weights = [10, 1]  # 假设我们更关心第一个特征\n",
        "\n",
        "# 标准化数据并应用权重\n",
        "scaler = MinMaxScaler()\n",
        "X_scaled = scaler.fit_transform(X)\n",
        "X_scaled_weighted = X_scaled * feature_weights\n",
        "\n",
        "# 使用权重后的数据进行聚类\n",
        "kmeans = KMeans(n_clusters=3)\n",
        "kmeans.fit(X_scaled_weighted)\n",
        "\n",
        "# 获取聚类中心\n",
        "centroids = kmeans.cluster_centers_\n",
        "\n",
        "# 反标准化中心点以得到原始特征空间的表示\n",
        "centroids_scaled = centroids / feature_weights\n",
        "centroids_original = scaler.inverse_transform(centroids_scaled)\n",
        "\n",
        "print(\"Cluster centers (scaled):\\n\", centroids_scaled)\n",
        "print(\"Cluster centers (original):\\n\", centroids_original)\n",
        "\n",
        "# 预测\n",
        "labels = kmeans.predict(X_scaled_weighted)\n",
        "print(\"Predicted labels:\\n\", labels)"
      ]
    },
    {
      "cell_type": "markdown",
      "source": [
        "Git要求每个提交都关联一个用户身份，包括用户名和电子邮件地址。这不仅帮助确认提交的作者，也有助于跟踪谁做了更改。以下是如何设置你的Git用户身份的步骤：\n",
        "\n",
        "### 1. 设置全局用户身份\n",
        "\n",
        "如果你希望在所有的项目中使用相同的用户身份，你可以为Git设置全局配置。打开终端或命令提示符，并运行以下命令：\n",
        "\n",
        "```bash\n",
        "git config --global user.name \"Your Name\"\n",
        "git config --global user.email you@example.com\n",
        "```\n",
        "\n",
        "将 `\"Your Name\"` 替换为你的名字，将 `you@example.com` 替换为你的电子邮件地址。\n",
        "\n",
        "### 2. 设置本地仓库的用户身份\n",
        "\n",
        "如果你只在特定的项目或仓库中使用特定的用户身份，你可以为那个仓库设置本地配置。这意味着身份仅在该仓库中有效。在终端或命令提示符中，导航到你的仓库目录，并运行：\n",
        "\n",
        "```bash\n",
        "git config user.name \"Your Name\"\n",
        "git config user.email you@example.com\n",
        "```\n",
        "\n",
        "同样，将 `\"Your Name\"` 和 `you@example.com` 替换为你的名字和电子邮件地址。**注意**，这次命令中不加 `--global` 参数。\n",
        "\n",
        "### 3. 验证配置\n",
        "\n",
        "你可以通过以下命令来验证你的配置已经生效：\n",
        "\n",
        "```bash\n",
        "git config --list\n",
        "```\n",
        "\n",
        "这个命令会显示你的所有Git配置选项和值，包括用户身份配置。\n",
        "\n",
        "### 4. 继续你的Git操作\n",
        "\n",
        "配置完毕后，你可以继续之前尝试进行的Git操作，比如提交更改（commit）。如果之前遇到错误，现在应该能够顺利进行。\n",
        "\n",
        "### 小贴士\n",
        "\n",
        "- 确保你的电子邮件地址是有效的，并且在相应的Git平台（如GitHub、GitLab、Bitbucket等）上与你的账户相关联。\n",
        "- 如果你在多个Git托管服务上工作，可能需要为不同的服务使用不同的电子邮件地址。在这种情况下，为每个仓库设置本地用户身份可能是更好的选择。\n",
        "\n"
      ],
      "metadata": {
        "id": "G7772nYeqCBc"
      }
    },
    {
      "cell_type": "markdown",
      "source": [
        "当你在Visual Studio Code (VS Code) 中使用Git，遇到“没有暂存的更改来提交”的消息时，这通常意味着在你尝试提交之前，没有对代码或文件进行更改，或者你没有将这些更改暂存。以下是一些步骤和建议，帮助你在遇到这种情况时进行排查和处理：\n",
        "\n",
        "### 1. 确认更改\n",
        "首先，请确保你已经对项目中的文件做了更改。可以在VS Code的**源代码管理**面板（左侧导航栏中的第4个图标）或编辑器底部的状态栏上查看是否有未提交的更改。\n",
        "\n",
        "### 2. 查看文件状态\n",
        "在VS Code的终端（**Terminal**）中，导航到你的项目目录并运行以下命令来查看文件状态：\n",
        "```bash\n",
        "git status\n",
        "```\n",
        "这个命令会显示哪些文件有了更改但还未暂存，以及哪些文件还未被跟踪。\n",
        "\n",
        "### 3. 暂存更改\n",
        "如果文件已经有了更改但还没有暂存，你需要将它们添加到暂存区。在**源代码管理**面板中，你可以通过点击未暂存文件旁边的`+`号来暂存更改。你也可以在终端中使用以下命令来添加：\n",
        "```bash\n",
        "git add .\n",
        "```\n",
        "这个命令会将所有更改过的文件添加到暂存区。如果你只想添加特定的文件，可以将`.`替换为文件名。\n",
        "\n",
        "### 4. 提交更改\n",
        "确保你已经暂存了需要提交的更改后，就可以在**源代码管理**面板中填写提交信息，然后点击提交按钮（通常是类似对勾的图标）。或者，在终端中执行：\n",
        "```bash\n",
        "git commit -m \"你的提交信息\"\n",
        "```\n",
        "替换`\"你的提交信息\"`为你的具体情况。\n",
        "\n",
        "### 5. 检查.gitignore文件\n",
        "如果你的更改没有出现在**未暂存**的列表中，可能是因为这些更改的文件被`.gitignore`文件中的规则所忽略。请检查你的`.gitignore`文件，确保你的更改不会因此被忽略。\n",
        "\n",
        "### 6. 确认Git分支\n",
        "有时候，你可能在错误的分支上工作。使用`git branch`命令检查当前所在的分支，确保你在正确的分支上提交更改。\n",
        "\n",
        "### 7. 同步远程更改\n",
        "如果其他人在同一个项目上工作并且已经推送了更改，你可能需要先拉取这些更改再提交：\n",
        "```bash\n",
        "git pull\n",
        "```\n",
        "这会获取远程分支的最新更改并与你的当前分支合并。\n",
        "\n",
        "### 总结\n",
        "按照这些步骤，你应该能够诊断为什么VS Code中会出现“没有暂存的更改来提交”的问题，并进行相应的处理。记住，有效的使用Git和VS Code的**源代码管理**面板能帮助你更好地跟踪和提交项目的更改。"
      ],
      "metadata": {
        "id": "_cNf4U8Sobr-"
      }
    },
    {
      "cell_type": "markdown",
      "source": [
        "\n",
        "修改代码\n",
        "\n",
        "如何同步\n",
        "\n",
        "终端输入：\n",
        "\n",
        "git status\n",
        "\n",
        "git add .\n",
        "\n",
        "git commit -m \"提交信息\"\n",
        "\n",
        "git pull\n",
        "\n",
        "代码签名\n",
        "\n",
        "sync changes\n",
        "\n",
        "git push\n"
      ],
      "metadata": {
        "id": "H7gJeaL-oflO"
      }
    },
    {
      "cell_type": "markdown",
      "source": [
        "在Git中，\"sync changes\"通常意味着将本地的更改与远程仓库同步。这可以通过以下步骤实现：\n",
        "\n",
        "将本地的更改暂存：\n",
        "\n",
        "git add .\n",
        "\n",
        "提交这些更改到本地仓库：\n",
        "\n",
        "git commit -m \"Your commit message\"\n",
        "\n",
        "拉取远程仓库的最新更改，以确保你的本地分支是最新的，并且没有冲突：\n",
        "\n",
        "git pull origin your-branch-name\n",
        "\n",
        "将你的更改推送到远程仓库：\n",
        "\n",
        "git push origin your-branch-name\n",
        "\n",
        "如果在git pull时遇到冲突，你需要手动解决这些冲突，然后再提交更改。\n",
        "\n",
        "这是一个简单的同步流程。如果你需要处理特定的同步需求（例如，同步特定的文件或文件夹），你可能需要调整这些命令以适应你的具体需求。"
      ],
      "metadata": {
        "id": "edQuZJvPpnHy"
      }
    },
    {
      "cell_type": "markdown",
      "source": [
        "将数组 [1, 2, 3, 4, 5] 转换为 数据表\n",
        "\n",
        "\n",
        "``` sql\n",
        "SELECT\n",
        "    exploded_item\n",
        "FROM (\n",
        "    SELECT EXPLODE(array(1, 2, 3, 4, 5)) AS exploded_item\n",
        ") exploded_table\n",
        ";\n",
        "```\n",
        "\n"
      ],
      "metadata": {
        "id": "an0XYRn0rExH"
      }
    },
    {
      "cell_type": "markdown",
      "source": [
        "\n",
        "\n",
        "``` sql\n",
        "set hive.strict.checks.cartesian.product = false;\n",
        "set hive.mapred.mode = nostrict;\n",
        "select\n",
        "*,\n",
        "array_contains (a.mall_id_list, b.mall_id)\n",
        "from\n",
        "(\n",
        "select array(1, 2, 3, 4, 5, 8, 9, 10) as mall_id_list union all\n",
        "select array(4, 5, 6, 7, 9) union all\n",
        "select array(56)\n",
        ") a\n",
        "cross join (\n",
        "select 9 as mall_id union all\n",
        "select 2\n",
        ") b;\n",
        "\n",
        "```\n",
        "\n"
      ],
      "metadata": {
        "id": "w-8t4JinrOdw"
      }
    },
    {
      "cell_type": "code",
      "source": [
        "from sklearn.cluster import KMeans\n",
        "from sklearn.metrics.pairwise import pairwise_distances_argmin\n",
        "from sklearn.metrics.pairwise import pairwise_distances\n",
        "from sklearn.preprocessing import MinMaxScaler\n",
        "import numpy as np\n",
        "import pandas as pd\n",
        "from sklearn.cluster import KMeans\n",
        "\n",
        "# 假设df是你的DataFrame，'id'是你希望保留的列名\n",
        "df = pd.DataFrame({\n",
        "    'id': [1, 2, 3, 4, 5],\n",
        "    'feature1': [10, 20, 10, 40, 50],\n",
        "    'feature2': [15, 25, 15, 45, 55],\n",
        "    # 更多列\n",
        "})\n",
        "\n",
        "# 定义权重, make sure the number of weights matches the number of features\n",
        "feature_weights = [10, 1]  # Now we have weights for feature1 and feature2\n",
        "\n",
        "# 指定要用于聚类的特征列（不包括'id'列）\n",
        "features = df.drop('id', axis=1)\n",
        "\n",
        "# 标准化数据并应用权重\n",
        "scaler = MinMaxScaler()\n",
        "features_scaled = scaler.fit_transform(features)\n",
        "features_scaled_weighted = features_scaled * feature_weights # Apply weights to the scaled features\n",
        "\n",
        "\n",
        "# 指定聚类的数量\n",
        "num_clusters = 2\n",
        "\n",
        "# 创建KMeans模型\n",
        "kmeans = KMeans(n_clusters=num_clusters, random_state=0)\n",
        "\n",
        "# 对特征列进行聚类\n",
        "df['cluster'] = kmeans.fit_predict(features_scaled_weighted) # use weighted features for clustering\n",
        "\n",
        "# 结果DataFrame现在包括了'id'列和基于指定特征的聚类结果'cluster'列\n",
        "print(df)"
      ],
      "metadata": {
        "colab": {
          "base_uri": "https://localhost:8080/"
        },
        "id": "7tai0qim9dZa",
        "outputId": "3d376631-d844-47a6-d51a-cb1e4ef9542e"
      },
      "execution_count": null,
      "outputs": [
        {
          "output_type": "stream",
          "name": "stdout",
          "text": [
            "   id  feature1  feature2  cluster\n",
            "0   1        10        15        0\n",
            "1   2        20        25        0\n",
            "2   3        10        15        0\n",
            "3   4        40        45        1\n",
            "4   5        50        55        1\n"
          ]
        }
      ]
    }
  ]
}