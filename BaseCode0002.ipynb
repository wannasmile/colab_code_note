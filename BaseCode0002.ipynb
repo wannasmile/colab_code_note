{
  "nbformat": 4,
  "nbformat_minor": 0,
  "metadata": {
    "colab": {
      "provenance": [],
      "authorship_tag": "ABX9TyNTmZdsR3r9R5847vI9M55F",
      "include_colab_link": true
    },
    "kernelspec": {
      "name": "python3",
      "display_name": "Python 3"
    },
    "language_info": {
      "name": "python"
    }
  },
  "cells": [
    {
      "cell_type": "markdown",
      "metadata": {
        "id": "view-in-github",
        "colab_type": "text"
      },
      "source": [
        "<a href=\"https://colab.research.google.com/github/wannasmile/colab_code_note/blob/main/BaseCode0002.ipynb\" target=\"_parent\"><img src=\"https://colab.research.google.com/assets/colab-badge.svg\" alt=\"Open In Colab\"/></a>"
      ]
    },
    {
      "cell_type": "markdown",
      "source": [
        "# 交替合并字符串"
      ],
      "metadata": {
        "id": "WqyLWVr2X4Fb"
      }
    },
    {
      "cell_type": "markdown",
      "source": [
        "给你两个字符串 word1 和 word2 。请你从 word1 开始，通过交替添加字母来合并字符串。如果一个字符串比另一个字符串长，就将多出来的字母追加到合并后字符串的末尾。\n",
        "\n",
        "返回 合并后的字符串 。"
      ],
      "metadata": {
        "id": "mUMRlP7cYXln"
      }
    },
    {
      "cell_type": "markdown",
      "source": [
        "1. 字符串的长度：\n",
        "\n",
        "\n",
        "\n",
        "```\n",
        "len(str)\n",
        "```\n",
        "\n",
        "\n",
        "2. 字符串的遍历：\n",
        "\n",
        "\n",
        "```\n",
        "text = \"hello\"\n",
        "for char in text:\n",
        "    print(char)\n",
        "```\n",
        "\n",
        "```\n",
        "text = \"hello\"\n",
        "for index, char in enumerate(text):\n",
        "    print(f\"Index {index}: {char}\")\n",
        "\n",
        "```\n",
        "\n",
        "\n",
        "\n",
        "```\n",
        "# 列表推导式\n",
        "text = \"hello\"\n",
        "chars = [char for char in text]\n",
        "print(chars)  # 输出: ['h', 'e', 'l', 'l', 'o']\n",
        "```\n",
        "\n",
        "\n",
        "\n",
        "\n",
        "```\n",
        "# map() 函数\n",
        "text = \"hello\"\n",
        "chars = list(map(lambda char: char.upper(), text))\n",
        "print(chars)  # 输出: ['H', 'E', 'L', 'L', 'O']\n",
        "```\n",
        "\n",
        "\n",
        "\n",
        "```\n",
        "# 生成器表达式\n",
        "text = \"hello\"\n",
        "chars = (char for char in text)\n",
        "for char in chars:\n",
        "    print(char)\n",
        "\n",
        "```\n",
        "\n",
        "\n",
        "3. 字符串的统计和替换：\n",
        "\n",
        "```\n",
        "text = \"hello\"\n",
        "\n",
        "# 计算字符'e'在字符串中出现的次数\n",
        "count = text.count('e')\n",
        "print(count)  # 输出: 1\n",
        "\n",
        "# 替换字符串中的字符\n",
        "replaced_text = text.replace('e', 'a')\n",
        "print(replaced_text)  # 输出: 'hallo'\n",
        "\n",
        "```\n",
        "\n",
        "\n",
        "4. 字符串的分割：\n",
        "\n",
        "\n",
        "\n",
        "```\n",
        "text = \"hello world\"\n",
        "words = text.split()  # 默认按空格分裂字符串\n",
        "print(words)  # 输出: ['hello', 'world']\n",
        "\n",
        "text = \"one:two:three:four\"\n",
        "words = text.split(\":\", 2)  # 指定冒号为分隔符，并限制只分裂前两个元素\n",
        "print(words)  # 输出: ['one', 'two', 'three:four']\n",
        "\n",
        "```\n",
        "\n",
        "\n",
        "\n",
        "\n"
      ],
      "metadata": {
        "id": "f6NhX8iWGYMd"
      }
    },
    {
      "cell_type": "code",
      "execution_count": 1,
      "metadata": {
        "colab": {
          "base_uri": "https://localhost:8080/"
        },
        "id": "540dO5TlBnRq",
        "outputId": "bc27080f-8c64-4080-d9e1-e27fa85901f6"
      },
      "outputs": [
        {
          "output_type": "stream",
          "name": "stdout",
          "text": [
            "apbqcr\n",
            "apbqrs\n",
            "apbqcd\n"
          ]
        }
      ],
      "source": [
        "#1 <= word1.length, word2.length <= 100\n",
        "#word1 和 word2 由小写英文字母组成\n",
        "def mergeAlternately(word1: str, word2: str) -> str:\n",
        "  max = 200\n",
        "  len1 = len(word1)\n",
        "  len2 = len(word2)\n",
        "  res = ''\n",
        "  for i in range(0,max):\n",
        "    if i%2 == 0:\n",
        "      if(i/2 >= len1):\n",
        "        continue\n",
        "      res += word1[int(i/2)]\n",
        "    else:\n",
        "      if(i//2 >= len2):\n",
        "        continue\n",
        "      res += word2[int(i//2)]\n",
        "  return res\n",
        "\n",
        "\n",
        "print(mergeAlternately(\"abc\", \"pqr\"))\n",
        "print(mergeAlternately(\"ab\", \"pqrs\"))\n",
        "print(mergeAlternately(\"abcd\", \"pq\"))\n"
      ]
    },
    {
      "cell_type": "markdown",
      "source": [
        "综上所述，这段代码首先创建了一个交替合并两个字符串的列表，如果有剩余的部分，则将剩余部分添加到末尾。最后，将列表转换成字符串并返回。"
      ],
      "metadata": {
        "id": "ZsRREVkFXe0X"
      }
    },
    {
      "cell_type": "code",
      "source": [
        "#1 <= word1.length, word2.length <= 100\n",
        "#word1 和 word2 由小写英文字母组成\n",
        "class Solution:\n",
        "    def mergeAlternately(self, word1: str, word2: str) -> str:\n",
        "        n1, n2 = len(word1), len(word2)\n",
        "        return ''.join(sum([[x, y] for x, y in zip(word1, word2)], [])) + (word1[n2:] if n1 > n2 else word2[n1:])\n",
        "\n",
        "s = Solution()\n",
        "print(s.mergeAlternately(\"abc\", \"pqr\"))\n",
        "print(s.mergeAlternately(\"ab\", \"pqrs\"))\n",
        "print(s.mergeAlternately(\"abcd\", \"pq\"))"
      ],
      "metadata": {
        "colab": {
          "base_uri": "https://localhost:8080/"
        },
        "id": "0_bFH-nYIp6q",
        "outputId": "1855a76d-82c1-4d41-eedb-a22bc3d6af44"
      },
      "execution_count": 2,
      "outputs": [
        {
          "output_type": "stream",
          "name": "stdout",
          "text": [
            "apbqcr\n",
            "apbqrs\n",
            "apbqcd\n"
          ]
        }
      ]
    },
    {
      "cell_type": "code",
      "source": [
        "#1 <= word1.length, word2.length <= 100\n",
        "#word1 和 word2 由小写英文字母组成\n",
        "class Solution:\n",
        "#这定义了Solution类和其中的mergeAlternately方法。该方法使用了类型注解，word1: str和word2: str表明两个参数都应该是字符串，-> str说明返回值也是一个字符串。\n",
        "    def mergeAlternately(self, word1: str, word2: str) -> str:\n",
        "#这一行计算两个输入字符串word1和word2的长度，并将长度分别赋值给变量n1和n2。\n",
        "        n1, n2 = len(word1), len(word2)\n",
        "#这一行是代码中的关键部分，它做了几件事情：\n",
        "#1. zip(word1, word2)创建了一个迭代器，它将word1和word2中的字符配对，形成一个元组的序列。如果一个字符串比另一个短，zip会在达到最短字符串的末尾停止。\n",
        "#2. [x, y] for x, y in zip(word1, word2)是一个列表推导式，它为zip生成的每个元组构建了一个包含两个字符的列表。\n",
        "#3. sum(..., [])将所有的小列表连接在一起，形成一个大列表。这里使用sum的一个技巧，它通常用于数字相加，但这里使用空列表[]作为起始值，实际上做了列表的合并。\n",
        "#4. ''.join(...)将合并后的字符列表转换成一个字符串。\n",
        "#5. (word1[n2:] if n1 > n2 else word2[n1:])这一行是一个三元表达式，用于处理word1或word2还有剩余字符的情况（即一个字符串比另一个长）。如果word1更长（n1 > n2），则将word1中从索引n2到结尾的剩余部分追加到结果字符串。否则，如果word2更长，则将word2中从索引n1到结尾的剩余部分追加到结果字符串。\n",
        "        return ''.join(sum([[x, y] for x, y in zip(word1, word2)], [])) + (word1[n2:] if n1 > n2 else word2[n1:])\n",
        "\n",
        "s = Solution()\n",
        "print(s.mergeAlternately(\"abc\", \"pqr\"))\n",
        "print(s.mergeAlternately(\"ab\", \"pqrs\"))\n",
        "print(s.mergeAlternately(\"abcd\", \"pq\"))"
      ],
      "metadata": {
        "colab": {
          "base_uri": "https://localhost:8080/"
        },
        "id": "pGUkwgBjDbxJ",
        "outputId": "1f3e1dcf-080e-4168-c436-14d43d159921"
      },
      "execution_count": 3,
      "outputs": [
        {
          "output_type": "stream",
          "name": "stdout",
          "text": [
            "apbqcr\n",
            "apbqrs\n",
            "apbqcd\n"
          ]
        }
      ]
    },
    {
      "cell_type": "markdown",
      "source": [
        "sum函数\n",
        "\n",
        "一、字符串相连错误做法：\n",
        "\n",
        "```\n",
        "sum(['a','b'],[])\n",
        "\n",
        "---------------------------------------------------------------------------\n",
        "TypeError                                 Traceback (most recent call last)\n",
        "<ipython-input-24-4c8dcdf26d49> in <cell line: 1>()\n",
        "----> 1 sum(['a','b'],[])\n",
        "\n",
        "TypeError: can only concatenate list (not \"str\") to list\n",
        "```\n",
        "\n",
        "\n",
        "sum函数在Python中被设计用来计算数值序列的总和，而不是用来连接序列。当尝试使用sum来处理字符串列表时，会遇到问题。如果你尝试将sum与列表一起使用，第一个参数应该是一个包含列表的序列（空列表除外），而第二个参数是一个起始值，这个起始值应与前面序列中的元素类型相同。\n",
        "\n",
        "\n",
        "\n",
        "二、字符串相连正确做法：\n",
        "\n",
        "\n",
        "```\n",
        "combined_list = ['a', 'b'] + []\n",
        "print(combined_list)  # 输出: ['a', 'b']\n",
        "```\n",
        "\n",
        "\n",
        "```\n",
        "list_of_lists = [['a'], ['b']]\n",
        "combined_list = sum(list_of_lists, [])\n",
        "print(combined_list)  # 输出: ['a', 'b']\n",
        "```\n",
        "\n",
        "\n",
        "```\n",
        "list = ['a', 'b']\n",
        "combined_list = sum([], list)\n",
        "print(combined_list)  # 输出: ['a', 'b']\n",
        "```\n",
        "\n",
        "\n",
        "三、其他方法：\n",
        "\n",
        "如果你已经有一个列表，想将字符串添加（追加）到列表中，你可以使用append()方法或extend()方法。\n",
        "\n",
        "使用append()添加单个元素：\n",
        "\n",
        "\n",
        "```\n",
        "my_list = []\n",
        "my_list.append('a')\n",
        "my_list.append('b')\n",
        "# my_list 现在是 ['a', 'b']\n",
        "```\n",
        "\n",
        "\n",
        "使用extend()合并列表：\n",
        "\n",
        "```\n",
        "my_list = []\n",
        "my_list.extend(['a', 'b'])\n",
        "# my_list 现在是 ['a', 'b']\n",
        "```\n",
        "\n",
        "\n",
        "\n"
      ],
      "metadata": {
        "id": "ozYYB1OjTi_f"
      }
    },
    {
      "cell_type": "code",
      "source": [
        "sum([['a','b']],[])"
      ],
      "metadata": {
        "colab": {
          "base_uri": "https://localhost:8080/"
        },
        "id": "90pTBYQeRHjQ",
        "outputId": "34bb34b0-9238-4977-a9a0-85b5507144e2"
      },
      "execution_count": 4,
      "outputs": [
        {
          "output_type": "execute_result",
          "data": {
            "text/plain": [
              "['a', 'b']"
            ]
          },
          "metadata": {},
          "execution_count": 4
        }
      ]
    },
    {
      "cell_type": "code",
      "source": [
        "sum([['a','b']],['c'])"
      ],
      "metadata": {
        "colab": {
          "base_uri": "https://localhost:8080/"
        },
        "id": "pmfb3LOGUJ-m",
        "outputId": "61ab71a8-e914-4acc-dd24-46d6a9d76300"
      },
      "execution_count": 5,
      "outputs": [
        {
          "output_type": "execute_result",
          "data": {
            "text/plain": [
              "['c', 'a', 'b']"
            ]
          },
          "metadata": {},
          "execution_count": 5
        }
      ]
    },
    {
      "cell_type": "code",
      "source": [
        "sum([['a','b']],['c','d'])"
      ],
      "metadata": {
        "colab": {
          "base_uri": "https://localhost:8080/"
        },
        "id": "712U38WTUPca",
        "outputId": "ab819fd0-bb60-4642-aee9-8369c527bdbf"
      },
      "execution_count": 6,
      "outputs": [
        {
          "output_type": "execute_result",
          "data": {
            "text/plain": [
              "['c', 'd', 'a', 'b']"
            ]
          },
          "metadata": {},
          "execution_count": 6
        }
      ]
    },
    {
      "cell_type": "code",
      "source": [
        "sum([['a','b']],[['c','d']])"
      ],
      "metadata": {
        "colab": {
          "base_uri": "https://localhost:8080/"
        },
        "id": "gzdtauhbUZ4z",
        "outputId": "6ad569cf-f66b-4572-a804-a2e6f87105a9"
      },
      "execution_count": 7,
      "outputs": [
        {
          "output_type": "execute_result",
          "data": {
            "text/plain": [
              "[['c', 'd'], 'a', 'b']"
            ]
          },
          "metadata": {},
          "execution_count": 7
        }
      ]
    },
    {
      "cell_type": "code",
      "source": [
        "sum([[]],['a','b'])"
      ],
      "metadata": {
        "colab": {
          "base_uri": "https://localhost:8080/"
        },
        "id": "mnifiX07U-t0",
        "outputId": "41d6b43a-d6cb-40dd-bb8a-42d70f32ae3f"
      },
      "execution_count": 8,
      "outputs": [
        {
          "output_type": "execute_result",
          "data": {
            "text/plain": [
              "['a', 'b']"
            ]
          },
          "metadata": {},
          "execution_count": 8
        }
      ]
    },
    {
      "cell_type": "code",
      "source": [
        "sum([],['a','b'])"
      ],
      "metadata": {
        "colab": {
          "base_uri": "https://localhost:8080/"
        },
        "id": "Keu5BtnvVDb0",
        "outputId": "f8e7e120-6c65-4235-d9ac-7274666f65ea"
      },
      "execution_count": 9,
      "outputs": [
        {
          "output_type": "execute_result",
          "data": {
            "text/plain": [
              "['a', 'b']"
            ]
          },
          "metadata": {},
          "execution_count": 9
        }
      ]
    },
    {
      "cell_type": "code",
      "source": [
        "''.join(sum([['a','b']],[]))"
      ],
      "metadata": {
        "colab": {
          "base_uri": "https://localhost:8080/",
          "height": 35
        },
        "id": "djKtfwG2QZHP",
        "outputId": "799ab1f9-14ee-40e2-ad3c-c7c7f8b8bcff"
      },
      "execution_count": 10,
      "outputs": [
        {
          "output_type": "execute_result",
          "data": {
            "text/plain": [
              "'ab'"
            ],
            "application/vnd.google.colaboratory.intrinsic+json": {
              "type": "string"
            }
          },
          "metadata": {},
          "execution_count": 10
        }
      ]
    },
    {
      "cell_type": "code",
      "source": [
        "for x,y in zip('ab','cdef'):\n",
        "  print([x,y])"
      ],
      "metadata": {
        "colab": {
          "base_uri": "https://localhost:8080/"
        },
        "id": "qSKRoKM7Q2ep",
        "outputId": "9b6780f3-fb6c-4d07-ffb0-d2fb3a5f4dff"
      },
      "execution_count": 11,
      "outputs": [
        {
          "output_type": "stream",
          "name": "stdout",
          "text": [
            "['a', 'c']\n",
            "['b', 'd']\n"
          ]
        }
      ]
    },
    {
      "cell_type": "markdown",
      "source": [
        "# 字符串的最大公因子"
      ],
      "metadata": {
        "id": "tpQCjQY7X6oL"
      }
    },
    {
      "cell_type": "markdown",
      "source": [
        "对于字符串 s 和 t，只有在 s = t + ... + t（t 自身连接 1 次或多次）时，我们才认定 “t 能除尽 s”。\n",
        "\n",
        "给定两个字符串 str1 和 str2 。返回 最长字符串 x，要求满足 x 能除尽 str1 且 x 能除尽 str2 。\n",
        "\n",
        "示例 1：\n",
        "\n",
        "输入：str1 = \"ABCABC\", str2 = \"ABC\"\n",
        "\n",
        "输出：\"ABC\"\n",
        "\n",
        "\n",
        "示例 2：\n",
        "\n",
        "输入：str1 = \"ABABAB\", str2 = \"ABAB\"\n",
        "\n",
        "输出：\"AB\"\n",
        "\n",
        "\n",
        "示例 3：\n",
        "\n",
        "输入：str1 = \"LEET\", str2 = \"CODE\"\n",
        "\n",
        "输出：\"\"\n",
        "\n"
      ],
      "metadata": {
        "id": "BRfhee15YAV1"
      }
    },
    {
      "cell_type": "code",
      "source": [
        "def gcdOfStrings(str1: str, str2: str) -> str:\n",
        "  len1,len2 = len(str1),len(str2)\n",
        "  #sstr,lstr,slen,llen = str1,str2,len1,len2 if len1>len2 else str2,str1,len2,len1\n",
        "  if len1>len2:\n",
        "    sstr,lstr,slen,llen = str1,str2,len1,len2\n",
        "  else:\n",
        "    sstr,lstr,slen,llen = str2,str1,len2,len1\n",
        "\n",
        "  gcd=''\n",
        "  for i in range(0,slen):\n",
        "    snum=slen//(i+1)\n",
        "    if(sstr[0:i+1]*snum == sstr):\n",
        "      lnum=llen//(i+1)\n",
        "      if(sstr[0:i+1]*lnum == lstr):\n",
        "        gcd=sstr[0:i+1]\n",
        "        continue\n",
        "      else:\n",
        "        break\n",
        "  return gcd\n",
        "\n",
        "\n",
        "print(gcdOfStrings('ABCABC', 'ABC'))\n",
        "print(gcdOfStrings('ABABAB', 'ABAB'))\n",
        "print(gcdOfStrings('CODE', 'LEET'))\n",
        "print(gcdOfStrings('ABABABAB', 'ABAB'))\n",
        "print(gcdOfStrings('ABABABAB', 'ABABC'))"
      ],
      "metadata": {
        "colab": {
          "base_uri": "https://localhost:8080/"
        },
        "id": "VVYjpCU8X9om",
        "outputId": "25ef5888-6126-4b56-fb26-093dc0ebee6d"
      },
      "execution_count": 12,
      "outputs": [
        {
          "output_type": "stream",
          "name": "stdout",
          "text": [
            "ABC\n",
            "AB\n",
            "\n",
            "ABAB\n",
            "\n"
          ]
        }
      ]
    },
    {
      "cell_type": "code",
      "source": [
        "import math\n",
        "class Solution:\n",
        "    def gcdOfStrings(self, str1: str, str2: str) -> str:\n",
        "        candidate_len = math.gcd(len(str1), len(str2))\n",
        "        candidate = str1[: candidate_len]\n",
        "        if candidate * (len(str1) // candidate_len) == str1 and candidate * (len(str2) // candidate_len) == str2:\n",
        "            return candidate\n",
        "        return ''\n",
        "\n",
        "\n",
        "s = Solution()\n",
        "print(s.gcdOfStrings('ABCABC', 'ABC'))\n",
        "print(s.gcdOfStrings('ABABAB', 'ABAB'))\n",
        "print(s.gcdOfStrings('CODE', 'LEET'))\n",
        "print(s.gcdOfStrings('ABABABAB', 'ABAB'))"
      ],
      "metadata": {
        "colab": {
          "base_uri": "https://localhost:8080/"
        },
        "id": "vSYZRMnnl6fy",
        "outputId": "30da42ce-b155-4dd7-b991-322b1c239071"
      },
      "execution_count": 13,
      "outputs": [
        {
          "output_type": "stream",
          "name": "stdout",
          "text": [
            "ABC\n",
            "AB\n",
            "\n",
            "ABAB\n"
          ]
        }
      ]
    },
    {
      "cell_type": "markdown",
      "source": [
        "判断一个字符串是另一个字符串子串的方法\n",
        "\n",
        "\n",
        "在Python中，判断一个字符串是否是另一个字符串的子串，你可以使用以下几种方法：\n",
        "\n",
        "1. in 操作符\n",
        "\n",
        "这是最简单的方法。如果子串在另一个字符串中，in 将返回 True，否则返回 False。\n",
        "```\n",
        "substring = \"hello\"\n",
        "string = \"hello world\"\n",
        "result = substring in string  # 返回 True\n",
        "```\n",
        "\n",
        "\n",
        "2. str.find() 方法\n",
        "\n",
        "这个方法在字符串中查找子串的首次出现，并返回子串开始的索引。如果找不到子串，返回 -1。\n",
        "```\n",
        "substring = \"hello\"\n",
        "string = \"hello world\"\n",
        "index = string.find(substring)\n",
        "if index != -1:\n",
        "    result = True  # 子串存在\n",
        "else:\n",
        "    result = False  # 子串不存在\n",
        "```\n",
        "\n",
        "3. str.index() 方法\n",
        "\n",
        "这个方法和 find() 类似，但如果找不到子串，它会引发一个 ValueError 异常。\n",
        "```\n",
        "substring = \"hello\"\n",
        "string = \"hello world\"\n",
        "try:\n",
        "    index = string.index(substring)\n",
        "    result = True  # 子串存在\n",
        "except ValueError:\n",
        "    result = False  # 子串不存在\n",
        "```\n",
        "\n",
        "4. str.count() 方法\n",
        "\n",
        "计算子串在字符串中出现的次数。如果返回值大于 0，表明子串至少出现一次。\n",
        "```\n",
        "substring = \"hello\"\n",
        "string = \"hello world\"\n",
        "count = string.count(substring)\n",
        "result = count > 0  # 返回 True 如果子串至少出现一次\n",
        "```\n",
        "\n",
        "5. 正则表达式\n",
        "\n",
        "如果你需要更复杂的子串匹配逻辑，你可以使用 re 模块提供的正则表达式功能。\n",
        "```\n",
        "import re\n",
        "substring = \"hello\"\n",
        "string = \"hello world\"\n",
        "result = re.search(substring, string) is not None  # 返回 True 如果子串存在\n",
        "```\n",
        "这些方法中，in 操作符和 str.find() 是最常用的检查子串是否存在的方法。in 操作符的可读性好，并且语法简洁；而 str.find() 和 str.index() 除了能告诉你子串是否存在外，还可以给出子串的位置。而 str.count() 则可以告诉你子串出现的次数。如果需要更复杂的匹配规则，你可能需要使用正则表达式。"
      ],
      "metadata": {
        "id": "N8dftWAnm0xK"
      }
    }
  ]
}