{
  "cells": [
    {
      "cell_type": "markdown",
      "metadata": {
        "id": "view-in-github",
        "colab_type": "text"
      },
      "source": [
        "<a href=\"https://colab.research.google.com/github/wannasmile/colab_code_note/blob/main/QUANT014.ipynb\" target=\"_parent\"><img src=\"https://colab.research.google.com/assets/colab-badge.svg\" alt=\"Open In Colab\"/></a>"
      ]
    },
    {
      "cell_type": "code",
      "execution_count": null,
      "metadata": {
        "id": "hS7iMqWqVtAB"
      },
      "outputs": [],
      "source": [
        "import sys, site  # 导入 sys 和 site 模块，用于系统相关操作和站点配置\n",
        "from pathlib import Path  # 导入 pathlib 模块，用于处理文件路径\n",
        "\n",
        "try:\n",
        "    import qlib  # 尝试导入 qlib 库\n",
        "except ImportError:\n",
        "    # 如果导入失败，则安装 qlib\n",
        "    ! pip install --upgrade numpy  # 使用 pip 安装或升级 numpy 库\n",
        "    ! pip install pyqlib  # 使用 pip 安装 pyqlib 库\n",
        "    if \"google.colab\" in sys.modules:  # 如果当前环境是 Google Colab\n",
        "        # Google Colab 环境可能较旧，需要降级 pyyaml 以兼容其他包\n",
        "        ! pip install pyyaml==5.4.1  # 使用 pip 安装特定版本的 pyyaml 库\n",
        "    # 重新加载站点配置，使新安装的库生效\n",
        "    site.main()\n",
        "\n",
        "scripts_dir = Path.cwd().parent.joinpath(\"scripts\")  # 获取 scripts 目录的路径\n",
        "if not scripts_dir.joinpath(\"get_data.py\").exists():  # 如果 get_data.py 脚本不存在\n",
        "    # 下载 get_data.py 脚本\n",
        "    scripts_dir = Path(\"~/tmp/qlib_code/scripts\").expanduser().resolve()  # 获取脚本目录的绝对路径，并展开用户目录\n",
        "    scripts_dir.mkdir(parents=True, exist_ok=True)  # 创建脚本目录，如果父目录不存在则创建，如果目录已存在则不报错\n",
        "    import requests  # 导入 requests 库，用于发送 HTTP 请求\n",
        "\n",
        "    with requests.get(\"https://raw.githubusercontent.com/microsoft/qlib/main/scripts/get_data.py\", timeout=10) as resp:  # 发送 GET 请求下载脚本，设置超时时间为 10 秒\n",
        "        with open(scripts_dir.joinpath(\"get_data.py\"), \"wb\") as fp:  # 以二进制写入模式打开脚本文件\n",
        "            fp.write(resp.content)  # 将下载的脚本内容写入文件"
      ]
    },
    {
      "cell_type": "code",
      "execution_count": null,
      "metadata": {
        "id": "IvifarEIVw91"
      },
      "outputs": [],
      "source": [
        "import qlib  # 导入 qlib 库，用于量化投资研究\n",
        "import pandas as pd  # 导入 pandas 库，用于数据处理\n",
        "from qlib.constant import REG_CN  # 从 qlib.constant 模块导入 REG_CN 常量，表示中国市场\n",
        "from qlib.utils import exists_qlib_data, init_instance_by_config  # 从 qlib.utils 模块导入函数，用于检查数据和初始化实例\n",
        "from qlib.workflow import R  # 从 qlib.workflow 模块导入 R 对象，用于管理实验记录\n",
        "from qlib.workflow.record_temp import SignalRecord, PortAnaRecord  # 从 qlib.workflow.record_temp 模块导入记录类，用于记录信号和投资组合分析\n",
        "from qlib.utils import flatten_dict  # 从 qlib.utils 模块导入函数，用于展平字典"
      ]
    },
    {
      "cell_type": "code",
      "execution_count": null,
      "metadata": {
        "colab": {
          "base_uri": "https://localhost:8080/"
        },
        "id": "Kl1lwwPwWY--",
        "outputId": "ecea6569-93d1-424c-8eb7-778cf6d81199"
      },
      "outputs": [
        {
          "name": "stderr",
          "output_type": "stream",
          "text": [
            "[1190:MainThread](2025-03-15 07:09:29,242) INFO - qlib.Initialization - [config.py:420] - default_conf: client.\n",
            "[1190:MainThread](2025-03-15 07:09:29,247) INFO - qlib.Initialization - [__init__.py:74] - qlib successfully initialized based on client settings.\n",
            "[1190:MainThread](2025-03-15 07:09:29,254) INFO - qlib.Initialization - [__init__.py:76] - data_path={'__DEFAULT_FREQ': PosixPath('/root/.qlib/qlib_data/cn_data')}\n"
          ]
        }
      ],
      "source": [
        "# 使用默认数据\n",
        "# 注意：需要从远程下载数据：python scripts/get_data.py qlib_data_cn --target_dir ~/.qlib/qlib_data/cn_data\n",
        "provider_uri = \"~/.qlib/qlib_data/cn_data\"  # 设置数据提供者 URI，即数据存储路径\n",
        "if not exists_qlib_data(provider_uri):  # 检查数据是否已存在\n",
        "    print(f\"在 {provider_uri} 中未找到 Qlib 数据\")  # 如果数据不存在，则打印提示信息\n",
        "    sys.path.append(str(scripts_dir))  # 将脚本目录添加到系统路径，以便导入 get_data.py\n",
        "    from get_data import GetData  # 从 get_data.py 导入 GetData 类\n",
        "\n",
        "    GetData().qlib_data(target_dir=provider_uri, region=REG_CN)  # 下载 Qlib 数据，指定目标目录和市场区域\n",
        "qlib.init(provider_uri=provider_uri, region=REG_CN)  # 初始化 Qlib，指定数据提供者 URI 和市场区域"
      ]
    },
    {
      "cell_type": "code",
      "execution_count": null,
      "metadata": {
        "id": "BrGD7KAYWd4G"
      },
      "outputs": [],
      "source": [
        "market = \"csi300\"  # 设置市场为沪深300指数\n",
        "benchmark = \"SH000300\"  # 设置基准为沪深300指数"
      ]
    },
    {
      "cell_type": "code",
      "execution_count": null,
      "metadata": {
        "colab": {
          "base_uri": "https://localhost:8080/"
        },
        "id": "85MvVYQ0YG2D",
        "outputId": "9f7539d3-5c5c-43f3-c111-dceb5f9686ab"
      },
      "outputs": [
        {
          "name": "stdout",
          "output_type": "stream",
          "text": [
            "Requirement already satisfied: catboost in /usr/local/lib/python3.11/dist-packages (1.2.7)\n",
            "Requirement already satisfied: graphviz in /usr/local/lib/python3.11/dist-packages (from catboost) (0.20.3)\n",
            "Requirement already satisfied: matplotlib in /usr/local/lib/python3.11/dist-packages (from catboost) (3.10.0)\n",
            "Requirement already satisfied: numpy<2.0,>=1.16.0 in /usr/local/lib/python3.11/dist-packages (from catboost) (1.26.4)\n",
            "Requirement already satisfied: pandas>=0.24 in /usr/local/lib/python3.11/dist-packages (from catboost) (2.2.2)\n",
            "Requirement already satisfied: scipy in /usr/local/lib/python3.11/dist-packages (from catboost) (1.14.1)\n",
            "Requirement already satisfied: plotly in /usr/local/lib/python3.11/dist-packages (from catboost) (5.24.1)\n",
            "Requirement already satisfied: six in /usr/local/lib/python3.11/dist-packages (from catboost) (1.17.0)\n",
            "Requirement already satisfied: python-dateutil>=2.8.2 in /usr/local/lib/python3.11/dist-packages (from pandas>=0.24->catboost) (2.8.2)\n",
            "Requirement already satisfied: pytz>=2020.1 in /usr/local/lib/python3.11/dist-packages (from pandas>=0.24->catboost) (2025.1)\n",
            "Requirement already satisfied: tzdata>=2022.7 in /usr/local/lib/python3.11/dist-packages (from pandas>=0.24->catboost) (2025.1)\n",
            "Requirement already satisfied: contourpy>=1.0.1 in /usr/local/lib/python3.11/dist-packages (from matplotlib->catboost) (1.3.1)\n",
            "Requirement already satisfied: cycler>=0.10 in /usr/local/lib/python3.11/dist-packages (from matplotlib->catboost) (0.12.1)\n",
            "Requirement already satisfied: fonttools>=4.22.0 in /usr/local/lib/python3.11/dist-packages (from matplotlib->catboost) (4.56.0)\n",
            "Requirement already satisfied: kiwisolver>=1.3.1 in /usr/local/lib/python3.11/dist-packages (from matplotlib->catboost) (1.4.8)\n",
            "Requirement already satisfied: packaging>=20.0 in /usr/local/lib/python3.11/dist-packages (from matplotlib->catboost) (24.2)\n",
            "Requirement already satisfied: pillow>=8 in /usr/local/lib/python3.11/dist-packages (from matplotlib->catboost) (11.1.0)\n",
            "Requirement already satisfied: pyparsing>=2.3.1 in /usr/local/lib/python3.11/dist-packages (from matplotlib->catboost) (3.2.1)\n",
            "Requirement already satisfied: tenacity>=6.2.0 in /usr/local/lib/python3.11/dist-packages (from plotly->catboost) (9.0.0)\n"
          ]
        }
      ],
      "source": [
        "!pip install catboost"
      ]
    },
    {
      "cell_type": "code",
      "execution_count": null,
      "metadata": {
        "colab": {
          "background_save": true,
          "base_uri": "https://localhost:8080/"
        },
        "id": "xZ7cb0RuX7aU",
        "outputId": "12dd4241-a3e9-4022-974b-debf3c1eaa4a"
      },
      "outputs": [
        {
          "name": "stderr",
          "output_type": "stream",
          "text": [
            "[1190:MainThread](2025-03-15 07:12:54,398) INFO - qlib.timer - [log.py:127] - Time cost: 180.278s | Loading data Done\n",
            "[1190:MainThread](2025-03-15 07:12:55,653) INFO - qlib.timer - [log.py:127] - Time cost: 0.319s | DropnaLabel Done\n",
            "[1190:MainThread](2025-03-15 07:12:59,511) INFO - qlib.timer - [log.py:127] - Time cost: 3.856s | CSZScoreNorm Done\n",
            "[1190:MainThread](2025-03-15 07:12:59,527) INFO - qlib.timer - [log.py:127] - Time cost: 5.127s | fit & process data Done\n",
            "[1190:MainThread](2025-03-15 07:12:59,530) INFO - qlib.timer - [log.py:127] - Time cost: 185.409s | Init data Done\n",
            "[1190:MainThread](2025-03-15 07:12:59,543) WARNING - qlib.workflow - [expm.py:231] - No valid experiment found. Create a new experiment with name train_model.\n",
            "[1190:MainThread](2025-03-15 07:12:59,549) INFO - qlib.workflow - [exp.py:258] - Experiment 990456155965144949 starts running ...\n",
            "[1190:MainThread](2025-03-15 07:12:59,843) INFO - qlib.workflow - [recorder.py:345] - Recorder fd27a8f59cc845a9b7738211d05d70f9 starts running under Experiment 990456155965144949 ...\n",
            "[1190:MainThread](2025-03-15 07:12:59,861) INFO - qlib.workflow - [recorder.py:378] - Fail to log the uncommitted code of $CWD(/content) when run git diff.\n",
            "[1190:MainThread](2025-03-15 07:12:59,871) INFO - qlib.workflow - [recorder.py:378] - Fail to log the uncommitted code of $CWD(/content) when run git status.\n",
            "[1190:MainThread](2025-03-15 07:12:59,890) INFO - qlib.workflow - [recorder.py:378] - Fail to log the uncommitted code of $CWD(/content) when run git diff --cached.\n"
          ]
        },
        {
          "name": "stdout",
          "output_type": "stream",
          "text": [
            "Training until validation scores don't improve for 50 rounds\n",
            "[20]\ttrain's l2: 0.990585\tvalid's l2: 0.99431\n",
            "[40]\ttrain's l2: 0.986931\tvalid's l2: 0.993693\n",
            "[60]\ttrain's l2: 0.984352\tvalid's l2: 0.99349\n",
            "[80]\ttrain's l2: 0.982319\tvalid's l2: 0.993382\n",
            "[100]\ttrain's l2: 0.980442\tvalid's l2: 0.99331\n",
            "[120]\ttrain's l2: 0.97871\tvalid's l2: 0.993247\n",
            "[140]\ttrain's l2: 0.976987\tvalid's l2: 0.993334\n",
            "[160]\ttrain's l2: 0.97536\tvalid's l2: 0.993338\n",
            "Early stopping, best iteration is:\n",
            "[122]\ttrain's l2: 0.978519\tvalid's l2: 0.993238\n"
          ]
        },
        {
          "name": "stderr",
          "output_type": "stream",
          "text": [
            "[1190:MainThread](2025-03-15 07:14:42,737) INFO - qlib.timer - [log.py:127] - Time cost: 0.280s | waiting `async_log` Done\n"
          ]
        }
      ],
      "source": [
        "###################################\n",
        "# 训练模型\n",
        "###################################\n",
        "data_handler_config = {  # 数据处理器配置\n",
        "    \"start_time\": \"2008-01-01\",  # 数据起始时间\n",
        "    \"end_time\": \"2020-08-01\",  # 数据结束时间\n",
        "    \"fit_start_time\": \"2008-01-01\",  # 模型拟合起始时间\n",
        "    \"fit_end_time\": \"2014-12-31\",  # 模型拟合结束时间\n",
        "    \"instruments\": market,  # 使用的市场\n",
        "}\n",
        "\n",
        "task = {  # 任务配置\n",
        "    \"model\": {  # 模型配置\n",
        "        \"class\": \"LGBModel\",  # 模型类名\n",
        "        \"module_path\": \"qlib.contrib.model.gbdt\",  # 模型模块路径\n",
        "        \"kwargs\": {  # 模型参数\n",
        "            \"loss\": \"mse\",  # 损失函数：均方误差\n",
        "            \"colsample_bytree\": 0.8879,  # 列采样比例\n",
        "            \"learning_rate\": 0.0421,  # 学习率\n",
        "            \"subsample\": 0.8789,  # 行采样比例\n",
        "            \"lambda_l1\": 205.6999,  # L1 正则化系数\n",
        "            \"lambda_l2\": 580.9768,  # L2 正则化系数\n",
        "            \"max_depth\": 8,  # 最大树深度\n",
        "            \"num_leaves\": 210,  # 叶子节点数\n",
        "            \"num_threads\": 20,  # 线程数\n",
        "        },\n",
        "    },\n",
        "    \"dataset\": {  # 数据集配置\n",
        "        \"class\": \"DatasetH\",  # 数据集类名\n",
        "        \"module_path\": \"qlib.data.dataset\",  # 数据集模块路径\n",
        "        \"kwargs\": {  # 数据集参数\n",
        "            \"handler\": {  # 数据处理器配置\n",
        "                \"class\": \"Alpha158\",  # 数据处理器类名\n",
        "                \"module_path\": \"qlib.contrib.data.handler\",  # 数据处理器模块路径\n",
        "                \"kwargs\": data_handler_config,  # 数据处理器参数\n",
        "            },\n",
        "            \"segments\": {  # 数据集分段\n",
        "                \"train\": (\"2008-01-01\", \"2014-12-31\"),  # 训练集时间段\n",
        "                \"valid\": (\"2015-01-01\", \"2016-12-31\"),  # 验证集时间段\n",
        "                \"test\": (\"2017-01-01\", \"2020-08-01\"),  # 测试集时间段\n",
        "            },\n",
        "        },\n",
        "    },\n",
        "}\n",
        "\n",
        "# 模型初始化\n",
        "model = init_instance_by_config(task[\"model\"])  # 根据配置初始化模型实例\n",
        "dataset = init_instance_by_config(task[\"dataset\"])  # 根据配置初始化数据集实例\n",
        "\n",
        "# 开始实验训练模型\n",
        "with R.start(experiment_name=\"train_model\"):  # 启动实验，命名为 \"train_model\"\n",
        "    R.log_params(**flatten_dict(task))  # 记录实验参数\n",
        "    model.fit(dataset)  # 训练模型\n",
        "    R.save_objects(trained_model=model)  # 保存训练好的模型\n",
        "    rid = R.get_recorder().id  # 获取实验记录 ID"
      ]
    },
    {
      "cell_type": "code",
      "execution_count": null,
      "metadata": {
        "colab": {
          "background_save": true,
          "base_uri": "https://localhost:8080/",
          "referenced_widgets": [
            "23dd5af045414a65b6e388a897b0edf0"
          ]
        },
        "id": "KtAoiK8hYBie",
        "outputId": "8baa834b-2eda-4930-b656-698751781263"
      },
      "outputs": [
        {
          "name": "stderr",
          "output_type": "stream",
          "text": [
            "[1190:MainThread](2025-03-15 07:14:42,765) WARNING - qlib.workflow - [expm.py:231] - No valid experiment found. Create a new experiment with name backtest_analysis.\n",
            "[1190:MainThread](2025-03-15 07:14:42,775) INFO - qlib.workflow - [exp.py:258] - Experiment 208014624712546602 starts running ...\n",
            "[1190:MainThread](2025-03-15 07:14:42,793) INFO - qlib.workflow - [recorder.py:345] - Recorder b5f44ac05ccd49999d0cbb40930121bb starts running under Experiment 208014624712546602 ...\n",
            "[1190:MainThread](2025-03-15 07:14:42,805) INFO - qlib.workflow - [recorder.py:378] - Fail to log the uncommitted code of $CWD(/content) when run git diff.\n",
            "[1190:MainThread](2025-03-15 07:14:42,814) INFO - qlib.workflow - [recorder.py:378] - Fail to log the uncommitted code of $CWD(/content) when run git status.\n",
            "[1190:MainThread](2025-03-15 07:14:42,825) INFO - qlib.workflow - [recorder.py:378] - Fail to log the uncommitted code of $CWD(/content) when run git diff --cached.\n",
            "[1190:MainThread](2025-03-15 07:14:47,066) INFO - qlib.workflow - [record_temp.py:198] - Signal record 'pred.pkl' has been saved as the artifact of the Experiment 208014624712546602\n",
            "[1190:MainThread](2025-03-15 07:14:47,113) INFO - qlib.backtest caller - [__init__.py:93] - Create new exchange\n"
          ]
        },
        {
          "name": "stdout",
          "output_type": "stream",
          "text": [
            "'The following are prediction results of the LGBModel model.'\n",
            "                          score\n",
            "datetime   instrument          \n",
            "2017-01-03 SH600000   -0.042865\n",
            "           SH600008    0.005925\n",
            "           SH600009    0.030596\n",
            "           SH600010   -0.013973\n",
            "           SH600015   -0.141758\n"
          ]
        },
        {
          "name": "stderr",
          "output_type": "stream",
          "text": [
            "[1190:MainThread](2025-03-15 07:15:20,536) WARNING - qlib.online operator - [exchange.py:219] - $close field data contains nan.\n",
            "[1190:MainThread](2025-03-15 07:15:20,540) WARNING - qlib.online operator - [exchange.py:219] - $close field data contains nan.\n",
            "[1190:MainThread](2025-03-15 07:15:20,559) WARNING - qlib.online operator - [exchange.py:226] - factor.day.bin file not exists or factor contains `nan`. Order using adjusted_price.\n",
            "[1190:MainThread](2025-03-15 07:15:20,560) WARNING - qlib.online operator - [exchange.py:228] - trade unit 100 is not supported in adjusted_price mode.\n",
            "/usr/local/lib/python3.11/dist-packages/qlib/contrib/strategy/signal_strategy.py:61: DeprecationWarning: `model` `dataset` is deprecated; use `signal`.\n",
            "  warnings.warn(\"`model` `dataset` is deprecated; use `signal`.\", DeprecationWarning)\n",
            "[1190:MainThread](2025-03-15 07:15:51,184) WARNING - qlib.data - [data.py:665] - load calendar error: freq=day, future=True; return current calendar!\n",
            "[1190:MainThread](2025-03-15 07:15:51,190) WARNING - qlib.data - [data.py:668] - You can get future calendar by referring to the following document: https://github.com/microsoft/qlib/blob/main/scripts/data_collector/contrib/README.md\n",
            "[1190:MainThread](2025-03-15 07:15:51,215) WARNING - qlib.BaseExecutor - [executor.py:121] - `common_infra` is not set for <qlib.backtest.executor.SimulatorExecutor object at 0x7eb471dc7550>\n"
          ]
        },
        {
          "data": {
            "application/vnd.jupyter.widget-view+json": {
              "model_id": "23dd5af045414a65b6e388a897b0edf0",
              "version_major": 2,
              "version_minor": 0
            },
            "text/plain": [
              "backtest loop:   0%|          | 0/871 [00:00<?, ?it/s]"
            ]
          },
          "metadata": {},
          "output_type": "display_data"
        },
        {
          "name": "stderr",
          "output_type": "stream",
          "text": [
            "/usr/local/lib/python3.11/dist-packages/qlib/utils/index_data.py:492: RuntimeWarning: Mean of empty slice\n",
            "  return np.nanmean(self.data)\n",
            "/usr/local/lib/python3.11/dist-packages/qlib/utils/index_data.py:492: RuntimeWarning: Mean of empty slice\n",
            "  return np.nanmean(self.data)\n",
            "/usr/local/lib/python3.11/dist-packages/qlib/utils/index_data.py:492: RuntimeWarning: Mean of empty slice\n",
            "  return np.nanmean(self.data)\n",
            "[1190:MainThread](2025-03-15 07:16:14,522) INFO - qlib.workflow - [record_temp.py:515] - Portfolio analysis record 'port_analysis_1day.pkl' has been saved as the artifact of the Experiment 208014624712546602\n",
            "[1190:MainThread](2025-03-15 07:16:14,560) INFO - qlib.workflow - [record_temp.py:540] - Indicator analysis record 'indicator_analysis_1day.pkl' has been saved as the artifact of the Experiment 208014624712546602\n"
          ]
        },
        {
          "name": "stdout",
          "output_type": "stream",
          "text": [
            "'The following are analysis results of benchmark return(1day).'\n",
            "                       risk\n",
            "mean               0.000477\n",
            "std                0.012295\n",
            "annualized_return  0.113561\n",
            "information_ratio  0.598699\n",
            "max_drawdown      -0.370479\n",
            "'The following are analysis results of the excess return without cost(1day).'\n",
            "                       risk\n",
            "mean               0.000748\n",
            "std                0.005687\n",
            "annualized_return  0.178088\n",
            "information_ratio  2.029781\n",
            "max_drawdown      -0.057265\n",
            "'The following are analysis results of the excess return with cost(1day).'\n",
            "                       risk\n",
            "mean               0.000553\n",
            "std                0.005685\n",
            "annualized_return  0.131583\n",
            "information_ratio  1.500251\n",
            "max_drawdown      -0.066180\n",
            "'The following are analysis results of indicators(1day).'\n",
            "     value\n",
            "ffr    1.0\n",
            "pa     0.0\n",
            "pos    0.0\n"
          ]
        },
        {
          "name": "stderr",
          "output_type": "stream",
          "text": [
            "[1190:MainThread](2025-03-15 07:16:16,267) INFO - qlib.timer - [log.py:127] - Time cost: 0.000s | waiting `async_log` Done\n"
          ]
        }
      ],
      "source": [
        "###################################\n",
        "# 预测、回测和分析\n",
        "###################################\n",
        "port_analysis_config = {  # 投资组合分析配置\n",
        "    \"executor\": {  # 执行器配置\n",
        "        \"class\": \"SimulatorExecutor\",  # 执行器类名\n",
        "        \"module_path\": \"qlib.backtest.executor\",  # 执行器模块路径\n",
        "        \"kwargs\": {  # 执行器参数\n",
        "            \"time_per_step\": \"day\",  # 每步时间间隔：天\n",
        "            \"generate_portfolio_metrics\": True,  # 生成投资组合指标\n",
        "        },\n",
        "    },\n",
        "    \"strategy\": {  # 策略配置\n",
        "        \"class\": \"TopkDropoutStrategy\",  # 策略类名\n",
        "        \"module_path\": \"qlib.contrib.strategy.signal_strategy\",  # 策略模块路径\n",
        "        \"kwargs\": {  # 策略参数\n",
        "            \"model\": model,  # 使用的模型\n",
        "            \"dataset\": dataset,  # 使用的数据集\n",
        "            \"topk\": 50,  # 选择前 50 只股票\n",
        "            \"n_drop\": 5,  # 丢弃 5 只股票\n",
        "        },\n",
        "    },\n",
        "    \"backtest\": {  # 回测配置\n",
        "        \"start_time\": \"2017-01-01\",  # 回测起始时间\n",
        "        \"end_time\": \"2020-08-01\",  # 回测结束时间\n",
        "        \"account\": 100000000,  # 初始资金：1 亿\n",
        "        \"benchmark\": benchmark,  # 基准\n",
        "        \"exchange_kwargs\": {  # 交易所参数\n",
        "            \"freq\": \"day\",  # 交易频率：天\n",
        "            \"limit_threshold\": 0.095,  # 涨跌停阈值：9.5%\n",
        "            \"deal_price\": \"close\",  # 成交价格：收盘价\n",
        "            \"open_cost\": 0.0005,  # 开仓手续费：0.05%\n",
        "            \"close_cost\": 0.0015,  # 平仓手续费：0.15%\n",
        "            \"min_cost\": 5,  # 最低手续费：5 元\n",
        "        },\n",
        "    },\n",
        "}\n",
        "\n",
        "# 回测和分析\n",
        "with R.start(experiment_name=\"backtest_analysis\"):  # 启动实验，命名为 \"backtest_analysis\"\n",
        "    recorder = R.get_recorder(recorder_id=rid, experiment_name=\"train_model\")  # 获取训练模型实验的记录器\n",
        "    model = recorder.load_object(\"trained_model\")  # 加载训练好的模型\n",
        "\n",
        "    # 预测\n",
        "    recorder = R.get_recorder()  # 获取当前实验的记录器\n",
        "    ba_rid = recorder.id  # 获取当前实验的记录器 ID\n",
        "    sr = SignalRecord(model, dataset, recorder)  # 创建信号记录器\n",
        "    sr.generate()  # 生成信号\n",
        "\n",
        "    # 回测和分析\n",
        "    par = PortAnaRecord(recorder, port_analysis_config, \"day\")  # 创建投资组合分析记录器\n",
        "    par.generate()  # 生成投资组合分析结果"
      ]
    },
    {
      "cell_type": "code",
      "execution_count": null,
      "metadata": {
        "colab": {
          "background_save": true
        },
        "id": "dAV0_aHUYNTT",
        "outputId": "68338832-1998-48cc-831e-fc6eea0bcd75"
      },
      "outputs": [
        {
          "name": "stdout",
          "output_type": "stream",
          "text": [
            "{'class': 'Recorder', 'id': 'b5f44ac05ccd49999d0cbb40930121bb', 'name': 'mlflow_recorder', 'experiment_id': '208014624712546602', 'start_time': '2025-03-15 07:14:42', 'end_time': '2025-03-15 07:16:16', 'status': 'FINISHED'}\n"
          ]
        }
      ],
      "source": [
        "from qlib.contrib.report import analysis_model, analysis_position  # 导入模型分析和持仓分析模块\n",
        "from qlib.data import D  # 导入数据模块\n",
        "\n",
        "recorder = R.get_recorder(recorder_id=ba_rid, experiment_name=\"backtest_analysis\")  # 获取回测分析实验的记录器\n",
        "print(recorder)  # 打印记录器信息\n",
        "pred_df = recorder.load_object(\"pred.pkl\")  # 加载预测结果 DataFrame\n",
        "report_normal_df = recorder.load_object(\"portfolio_analysis/report_normal_1day.pkl\")  # 加载常规报告 DataFrame，1 天频率\n",
        "positions = recorder.load_object(\"portfolio_analysis/positions_normal_1day.pkl\")  # 加载持仓 DataFrame，1 天频率\n",
        "analysis_df = recorder.load_object(\"portfolio_analysis/port_analysis_1day.pkl\")  # 加载投资组合分析 DataFrame，1 天频率"
      ]
    },
    {
      "cell_type": "code",
      "execution_count": null,
      "metadata": {
        "id": "1Qa7O9z7Zz8I"
      },
      "outputs": [],
      "source": [
        "analysis_position.report_graph(report_normal_df)  # 生成并显示持仓分析报告图表，使用常规报告数据"
      ]
    },
    {
      "cell_type": "code",
      "execution_count": null,
      "metadata": {
        "id": "ZTNTIbVuZ_V6"
      },
      "outputs": [],
      "source": [
        "analysis_position.risk_analysis_graph(analysis_df, report_normal_df)  # 生成并显示风险分析图表，使用投资组合分析数据和常规报告数据"
      ]
    },
    {
      "cell_type": "code",
      "execution_count": null,
      "metadata": {
        "id": "6IdeHRTYaCBT"
      },
      "outputs": [],
      "source": [
        "label_df = dataset.prepare(\"test\", col_set=\"label\")  # 准备测试集标签数据，列名为 \"label\"\n",
        "label_df.columns = [\"label\"]  # 将标签数据列名重命名为 \"label\""
      ]
    },
    {
      "cell_type": "code",
      "execution_count": null,
      "metadata": {
        "id": "HNOY4bVyaGpA"
      },
      "outputs": [],
      "source": [
        "pred_label = pd.concat([label_df, pred_df], axis=1, sort=True).reindex(label_df.index)  # 合并标签数据和预测数据，并按照标签数据的索引重新排序\n",
        "analysis_position.score_ic_graph(pred_label)  # 生成并显示 IC 值图表，使用合并后的预测标签数据"
      ]
    },
    {
      "cell_type": "code",
      "execution_count": null,
      "metadata": {
        "id": "TzZgCH6HaJMd"
      },
      "outputs": [],
      "source": [
        "analysis_model.model_performance_graph(pred_label)  # 生成并显示模型性能图表，使用合并后的预测标签数据"
      ]
    }
  ],
  "metadata": {
    "colab": {
      "provenance": [],
      "authorship_tag": "ABX9TyNAb8ho5q3OgprxeVaAjP/R",
      "include_colab_link": true
    },
    "kernelspec": {
      "display_name": "Python 3",
      "name": "python3"
    },
    "language_info": {
      "name": "python"
    }
  },
  "nbformat": 4,
  "nbformat_minor": 0
}