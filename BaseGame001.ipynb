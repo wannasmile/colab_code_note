{
  "nbformat": 4,
  "nbformat_minor": 0,
  "metadata": {
    "colab": {
      "provenance": [],
      "authorship_tag": "ABX9TyOOUv225lIHtILhD6cNIwpl",
      "include_colab_link": true
    },
    "kernelspec": {
      "name": "python3",
      "display_name": "Python 3"
    },
    "language_info": {
      "name": "python"
    }
  },
  "cells": [
    {
      "cell_type": "markdown",
      "metadata": {
        "id": "view-in-github",
        "colab_type": "text"
      },
      "source": [
        "<a href=\"https://colab.research.google.com/github/wannasmile/colab_code_note/blob/main/BaseGame001.ipynb\" target=\"_parent\"><img src=\"https://colab.research.google.com/assets/colab-badge.svg\" alt=\"Open In Colab\"/></a>"
      ]
    },
    {
      "cell_type": "code",
      "source": [
        "from typing import List"
      ],
      "metadata": {
        "id": "3PgfPY5yfdA8"
      },
      "execution_count": 1,
      "outputs": []
    },
    {
      "cell_type": "code",
      "execution_count": 2,
      "metadata": {
        "id": "i1gi_VORdicW"
      },
      "outputs": [],
      "source": [
        "class Solution:\n",
        "    def judgePoint24(self, nums: List[int]) -> bool:\n",
        "        TARGET = 24\n",
        "        EPSILON = 1e-6\n",
        "        ADD, MULTIPLY, SUBTRACT, DIVIDE = 0, 1, 2, 3\n",
        "\n",
        "        def solve(nums: List[float]) -> bool:\n",
        "            if not nums:\n",
        "                return False\n",
        "            if len(nums) == 1:\n",
        "                return abs(nums[0] - TARGET) < EPSILON\n",
        "            for i, x in enumerate(nums):\n",
        "                for j, y in enumerate(nums):\n",
        "                    if i != j:\n",
        "                        newNums = list()\n",
        "                        for k, z in enumerate(nums):\n",
        "                            if k != i and k != j:\n",
        "                                newNums.append(z)\n",
        "                        for k in range(4):\n",
        "                            if k < 2 and i > j:\n",
        "                                continue\n",
        "                            if k == ADD:\n",
        "                                newNums.append(x + y)\n",
        "                            elif k == MULTIPLY:\n",
        "                                newNums.append(x * y)\n",
        "                            elif k == SUBTRACT:\n",
        "                                newNums.append(x - y)\n",
        "                            elif k == DIVIDE:\n",
        "                                if abs(y) < EPSILON:\n",
        "                                    continue\n",
        "                                newNums.append(x / y)\n",
        "                            if solve(newNums):\n",
        "                                print(newNums)\n",
        "                                return True\n",
        "                            newNums.pop()\n",
        "            return False\n",
        "\n",
        "        return solve(nums)\n"
      ]
    },
    {
      "cell_type": "code",
      "source": [
        "solv = Solution()\n",
        "solv.judgePoint24([11,11,10,4])"
      ],
      "metadata": {
        "colab": {
          "base_uri": "https://localhost:8080/"
        },
        "id": "2-F4dOi-dmfW",
        "outputId": "e50f37e1-f1b1-42b9-803f-59842c67f80c"
      },
      "execution_count": 3,
      "outputs": [
        {
          "output_type": "execute_result",
          "data": {
            "text/plain": [
              "False"
            ]
          },
          "metadata": {},
          "execution_count": 3
        }
      ]
    },
    {
      "cell_type": "code",
      "source": [
        "solv.judgePoint24([4,4,10,10])"
      ],
      "metadata": {
        "colab": {
          "base_uri": "https://localhost:8080/"
        },
        "id": "bmdU_yQ3fj68",
        "outputId": "8e00acf1-43ef-486e-840d-f6a393dbd61a"
      },
      "execution_count": 4,
      "outputs": [
        {
          "output_type": "stream",
          "name": "stdout",
          "text": [
            "[24.0]\n",
            "[4, 96]\n",
            "[4, 4, 100]\n"
          ]
        },
        {
          "output_type": "execute_result",
          "data": {
            "text/plain": [
              "True"
            ]
          },
          "metadata": {},
          "execution_count": 4
        }
      ]
    },
    {
      "cell_type": "code",
      "source": [
        "solv.judgePoint24([3,3,6,2])"
      ],
      "metadata": {
        "colab": {
          "base_uri": "https://localhost:8080/"
        },
        "id": "DWK8WOz8u55n",
        "outputId": "123d41b6-19c8-45b1-a9fc-5df568b4f4cf"
      },
      "execution_count": 5,
      "outputs": [
        {
          "output_type": "stream",
          "name": "stdout",
          "text": [
            "[24]\n",
            "[6, 4]\n",
            "[6, 2, 6]\n"
          ]
        },
        {
          "output_type": "execute_result",
          "data": {
            "text/plain": [
              "True"
            ]
          },
          "metadata": {},
          "execution_count": 5
        }
      ]
    },
    {
      "cell_type": "code",
      "source": [
        "solv.judgePoint24([6,3,8,2])"
      ],
      "metadata": {
        "colab": {
          "base_uri": "https://localhost:8080/"
        },
        "id": "QD1r_r09vQMM",
        "outputId": "6a939b7d-a740-45e9-d7f3-0004c5dac7cb"
      },
      "execution_count": 6,
      "outputs": [
        {
          "output_type": "stream",
          "name": "stdout",
          "text": [
            "[24]\n",
            "[18, 6]\n",
            "[8, 2, 18]\n"
          ]
        },
        {
          "output_type": "execute_result",
          "data": {
            "text/plain": [
              "True"
            ]
          },
          "metadata": {},
          "execution_count": 6
        }
      ]
    },
    {
      "cell_type": "code",
      "source": [
        "solv.judgePoint24([6,8,9,9])"
      ],
      "metadata": {
        "colab": {
          "base_uri": "https://localhost:8080/"
        },
        "id": "sriG2jvCv0Tl",
        "outputId": "fa469ce2-b0ec-4e52-d7aa-1da4e2768a94"
      },
      "execution_count": 7,
      "outputs": [
        {
          "output_type": "stream",
          "name": "stdout",
          "text": [
            "[24.0]\n",
            "[0.75, 18]\n",
            "[9, 9, 0.75]\n"
          ]
        },
        {
          "output_type": "execute_result",
          "data": {
            "text/plain": [
              "True"
            ]
          },
          "metadata": {},
          "execution_count": 7
        }
      ]
    },
    {
      "cell_type": "code",
      "source": [
        "solv.judgePoint24([6,8,9,12])"
      ],
      "metadata": {
        "colab": {
          "base_uri": "https://localhost:8080/"
        },
        "id": "RRx-UiCMwBqR",
        "outputId": "6459cc5a-5066-4441-fc5d-6c372f107555"
      },
      "execution_count": 8,
      "outputs": [
        {
          "output_type": "stream",
          "name": "stdout",
          "text": [
            "[24.0]\n",
            "[12, 12.0]\n",
            "[9, 12, 0.75]\n"
          ]
        },
        {
          "output_type": "execute_result",
          "data": {
            "text/plain": [
              "True"
            ]
          },
          "metadata": {},
          "execution_count": 8
        }
      ]
    },
    {
      "cell_type": "code",
      "source": [
        "solv.judgePoint24([6,8,9,10])"
      ],
      "metadata": {
        "colab": {
          "base_uri": "https://localhost:8080/"
        },
        "id": "vEqa5zjWwZ43",
        "outputId": "47fa2629-6a9c-4f7d-c22c-d4ba1be33257"
      },
      "execution_count": 9,
      "outputs": [
        {
          "output_type": "stream",
          "name": "stdout",
          "text": [
            "[24]\n",
            "[6, -18]\n",
            "[6, 9, -2]\n"
          ]
        },
        {
          "output_type": "execute_result",
          "data": {
            "text/plain": [
              "True"
            ]
          },
          "metadata": {},
          "execution_count": 9
        }
      ]
    },
    {
      "cell_type": "code",
      "source": [
        "solv.judgePoint24([6,8,9,11])"
      ],
      "metadata": {
        "colab": {
          "base_uri": "https://localhost:8080/"
        },
        "id": "gjIDFpEZxARw",
        "outputId": "044e06fa-abad-4050-8f97-0dda6e9b4faf"
      },
      "execution_count": 10,
      "outputs": [
        {
          "output_type": "stream",
          "name": "stdout",
          "text": [
            "[24.0]\n",
            "[48, 2]\n",
            "[9, 11, 48]\n"
          ]
        },
        {
          "output_type": "execute_result",
          "data": {
            "text/plain": [
              "True"
            ]
          },
          "metadata": {},
          "execution_count": 10
        }
      ]
    },
    {
      "cell_type": "code",
      "source": [
        "solv.judgePoint24([6,8,9,13])"
      ],
      "metadata": {
        "colab": {
          "base_uri": "https://localhost:8080/"
        },
        "id": "gcGFBg6HxKNV",
        "outputId": "4eddc3c2-8f12-4a47-da2c-a242a0beceeb"
      },
      "execution_count": 11,
      "outputs": [
        {
          "output_type": "stream",
          "name": "stdout",
          "text": [
            "[24]\n",
            "[-2, 22]\n",
            "[9, 13, -2]\n"
          ]
        },
        {
          "output_type": "execute_result",
          "data": {
            "text/plain": [
              "True"
            ]
          },
          "metadata": {},
          "execution_count": 11
        }
      ]
    },
    {
      "cell_type": "code",
      "source": [
        "solv.judgePoint24([6,8,9,9])"
      ],
      "metadata": {
        "colab": {
          "base_uri": "https://localhost:8080/"
        },
        "id": "HYwMsCraxQn4",
        "outputId": "33ce6e89-d3aa-4e89-c65c-74cd0c8e90c7"
      },
      "execution_count": 12,
      "outputs": [
        {
          "output_type": "stream",
          "name": "stdout",
          "text": [
            "[24.0]\n",
            "[0.75, 18]\n",
            "[9, 9, 0.75]\n"
          ]
        },
        {
          "output_type": "execute_result",
          "data": {
            "text/plain": [
              "True"
            ]
          },
          "metadata": {},
          "execution_count": 12
        }
      ]
    },
    {
      "cell_type": "code",
      "source": [
        "solv.judgePoint24([6,8,9,8])"
      ],
      "metadata": {
        "colab": {
          "base_uri": "https://localhost:8080/"
        },
        "id": "iU1s4h-bxYX2",
        "outputId": "8b6718d9-b5fd-4798-b166-e913a136e189"
      },
      "execution_count": 13,
      "outputs": [
        {
          "output_type": "stream",
          "name": "stdout",
          "text": [
            "[24]\n",
            "[48, 72]\n",
            "[9, 8, 48]\n"
          ]
        },
        {
          "output_type": "execute_result",
          "data": {
            "text/plain": [
              "True"
            ]
          },
          "metadata": {},
          "execution_count": 13
        }
      ]
    },
    {
      "cell_type": "code",
      "source": [
        "solv.judgePoint24([6,8,9,7])"
      ],
      "metadata": {
        "colab": {
          "base_uri": "https://localhost:8080/"
        },
        "id": "eEDy9yh8yFMp",
        "outputId": "b1fc84aa-3f8d-46d3-baec-66b73f733c7d"
      },
      "execution_count": 14,
      "outputs": [
        {
          "output_type": "stream",
          "name": "stdout",
          "text": [
            "[24.0]\n",
            "[48, 2]\n",
            "[9, 7, 48]\n"
          ]
        },
        {
          "output_type": "execute_result",
          "data": {
            "text/plain": [
              "True"
            ]
          },
          "metadata": {},
          "execution_count": 14
        }
      ]
    },
    {
      "cell_type": "code",
      "source": [
        "solv.judgePoint24([6,8,9,6])"
      ],
      "metadata": {
        "colab": {
          "base_uri": "https://localhost:8080/"
        },
        "id": "0Ln5WkOGyINt",
        "outputId": "3feee89e-e254-4452-fbdd-a02467aa6c6b"
      },
      "execution_count": 15,
      "outputs": [
        {
          "output_type": "stream",
          "name": "stdout",
          "text": [
            "[24]\n",
            "[6, -18]\n",
            "[9, 6, -2]\n"
          ]
        },
        {
          "output_type": "execute_result",
          "data": {
            "text/plain": [
              "True"
            ]
          },
          "metadata": {},
          "execution_count": 15
        }
      ]
    },
    {
      "cell_type": "code",
      "source": [
        "solv.judgePoint24([6,8,9,5])"
      ],
      "metadata": {
        "colab": {
          "base_uri": "https://localhost:8080/"
        },
        "id": "KH6juOGVyMjQ",
        "outputId": "9f46ba7e-fe12-49e0-8a9e-76d776e77411"
      },
      "execution_count": 16,
      "outputs": [
        {
          "output_type": "stream",
          "name": "stdout",
          "text": [
            "[24.0]\n",
            "[15, 1.6]\n",
            "[8, 5, 15]\n"
          ]
        },
        {
          "output_type": "execute_result",
          "data": {
            "text/plain": [
              "True"
            ]
          },
          "metadata": {},
          "execution_count": 16
        }
      ]
    },
    {
      "cell_type": "code",
      "source": [
        "solv.judgePoint24([6,8,9,4])"
      ],
      "metadata": {
        "colab": {
          "base_uri": "https://localhost:8080/"
        },
        "id": "MDb3N918yiY6",
        "outputId": "b8aedb3f-a97f-4233-a7de-89eaa9e5fbd7"
      },
      "execution_count": 17,
      "outputs": [
        {
          "output_type": "stream",
          "name": "stdout",
          "text": [
            "[24]\n",
            "[24, 1]\n",
            "[8, 9, 24]\n"
          ]
        },
        {
          "output_type": "execute_result",
          "data": {
            "text/plain": [
              "True"
            ]
          },
          "metadata": {},
          "execution_count": 17
        }
      ]
    },
    {
      "cell_type": "code",
      "source": [
        "solv.judgePoint24([6,8,9,3])"
      ],
      "metadata": {
        "colab": {
          "base_uri": "https://localhost:8080/"
        },
        "id": "CUKoYPLDyv55",
        "outputId": "0ab95460-3dff-4060-f5f9-f667c700c6c8"
      },
      "execution_count": 18,
      "outputs": [
        {
          "output_type": "stream",
          "name": "stdout",
          "text": [
            "[24.0]\n",
            "[3, 72]\n",
            "[8, 9, 3]\n"
          ]
        },
        {
          "output_type": "execute_result",
          "data": {
            "text/plain": [
              "True"
            ]
          },
          "metadata": {},
          "execution_count": 18
        }
      ]
    },
    {
      "cell_type": "code",
      "source": [
        "solv.judgePoint24([6,8,9,2])"
      ],
      "metadata": {
        "colab": {
          "base_uri": "https://localhost:8080/"
        },
        "id": "x5VFGF5UyybK",
        "outputId": "570865d6-e2fe-4bb7-9ac5-f9e255f2c8f4"
      },
      "execution_count": 19,
      "outputs": [
        {
          "output_type": "stream",
          "name": "stdout",
          "text": [
            "[24.0]\n",
            "[0.75, 18]\n",
            "[9, 2, 0.75]\n"
          ]
        },
        {
          "output_type": "execute_result",
          "data": {
            "text/plain": [
              "True"
            ]
          },
          "metadata": {},
          "execution_count": 19
        }
      ]
    },
    {
      "cell_type": "code",
      "source": [
        "solv.judgePoint24([9,7,7,11])"
      ],
      "metadata": {
        "colab": {
          "base_uri": "https://localhost:8080/"
        },
        "id": "uClknc10y1go",
        "outputId": "48bc06e7-0638-4d1a-fac2-851271e220ec"
      },
      "execution_count": 20,
      "outputs": [
        {
          "output_type": "execute_result",
          "data": {
            "text/plain": [
              "False"
            ]
          },
          "metadata": {},
          "execution_count": 20
        }
      ]
    },
    {
      "cell_type": "code",
      "source": [
        "solv.judgePoint24([1,1,9,10])"
      ],
      "metadata": {
        "colab": {
          "base_uri": "https://localhost:8080/"
        },
        "id": "0cmK-70TX3kp",
        "outputId": "9bf43aca-8452-4134-f59c-53f3e943f21a"
      },
      "execution_count": 21,
      "outputs": [
        {
          "output_type": "execute_result",
          "data": {
            "text/plain": [
              "False"
            ]
          },
          "metadata": {},
          "execution_count": 21
        }
      ]
    },
    {
      "cell_type": "code",
      "source": [
        "solv.judgePoint24([12,7,3,10])"
      ],
      "metadata": {
        "colab": {
          "base_uri": "https://localhost:8080/"
        },
        "id": "MuN7H7MQYgPa",
        "outputId": "5fe6f3e8-d094-4162-ee29-3e4333fa1787"
      },
      "execution_count": 22,
      "outputs": [
        {
          "output_type": "execute_result",
          "data": {
            "text/plain": [
              "False"
            ]
          },
          "metadata": {},
          "execution_count": 22
        }
      ]
    },
    {
      "cell_type": "code",
      "source": [
        "solv.judgePoint24([7,5,6,9])"
      ],
      "metadata": {
        "colab": {
          "base_uri": "https://localhost:8080/"
        },
        "id": "iXmQNAfcaF0T",
        "outputId": "b83e87ef-ab85-478d-9409-fd63fff4055a"
      },
      "execution_count": 23,
      "outputs": [
        {
          "output_type": "stream",
          "name": "stdout",
          "text": [
            "[24]\n",
            "[6, 18]\n",
            "[6, 9, 2]\n"
          ]
        },
        {
          "output_type": "execute_result",
          "data": {
            "text/plain": [
              "True"
            ]
          },
          "metadata": {},
          "execution_count": 23
        }
      ]
    },
    {
      "cell_type": "code",
      "source": [
        "solv.judgePoint24([7,2,12,13])"
      ],
      "metadata": {
        "colab": {
          "base_uri": "https://localhost:8080/"
        },
        "id": "a0KVwmSZaSE6",
        "outputId": "5e4442ee-a70a-439e-886d-8346b88f0152"
      },
      "execution_count": 24,
      "outputs": [
        {
          "output_type": "stream",
          "name": "stdout",
          "text": [
            "[24]\n",
            "[12, -12]\n",
            "[2, 12, -6]\n"
          ]
        },
        {
          "output_type": "execute_result",
          "data": {
            "text/plain": [
              "True"
            ]
          },
          "metadata": {},
          "execution_count": 24
        }
      ]
    },
    {
      "cell_type": "code",
      "source": [
        "solv.judgePoint24([9,9,3,10])"
      ],
      "metadata": {
        "colab": {
          "base_uri": "https://localhost:8080/"
        },
        "id": "tCDfTRxwcCR3",
        "outputId": "86467e0f-04ca-4b0e-b4a9-68764e73dc86"
      },
      "execution_count": 25,
      "outputs": [
        {
          "output_type": "stream",
          "name": "stdout",
          "text": [
            "[24]\n",
            "[3, 8]\n",
            "[3, 10, 18]\n"
          ]
        },
        {
          "output_type": "execute_result",
          "data": {
            "text/plain": [
              "True"
            ]
          },
          "metadata": {},
          "execution_count": 25
        }
      ]
    }
  ]
}