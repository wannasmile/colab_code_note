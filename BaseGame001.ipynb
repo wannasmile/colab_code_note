{
  "nbformat": 4,
  "nbformat_minor": 0,
  "metadata": {
    "colab": {
      "provenance": [],
      "authorship_tag": "ABX9TyNVLghiweZfsnjn0ZdGci8/",
      "include_colab_link": true
    },
    "kernelspec": {
      "name": "python3",
      "display_name": "Python 3"
    },
    "language_info": {
      "name": "python"
    }
  },
  "cells": [
    {
      "cell_type": "markdown",
      "metadata": {
        "id": "view-in-github",
        "colab_type": "text"
      },
      "source": [
        "<a href=\"https://colab.research.google.com/github/wannasmile/colab_code_note/blob/main/BaseGame001.ipynb\" target=\"_parent\"><img src=\"https://colab.research.google.com/assets/colab-badge.svg\" alt=\"Open In Colab\"/></a>"
      ]
    },
    {
      "cell_type": "code",
      "source": [
        "from typing import List"
      ],
      "metadata": {
        "id": "3PgfPY5yfdA8"
      },
      "execution_count": 1,
      "outputs": []
    },
    {
      "cell_type": "code",
      "execution_count": 2,
      "metadata": {
        "id": "i1gi_VORdicW"
      },
      "outputs": [],
      "source": [
        "class Solution:\n",
        "    def judgePoint24(self, nums: List[int]) -> bool:\n",
        "        TARGET = 24\n",
        "        EPSILON = 1e-6\n",
        "        ADD, MULTIPLY, SUBTRACT, DIVIDE = 0, 1, 2, 3\n",
        "\n",
        "        def solve(nums: List[float]) -> bool:\n",
        "            if not nums:\n",
        "                return False\n",
        "            if len(nums) == 1:\n",
        "                return abs(nums[0] - TARGET) < EPSILON\n",
        "            for i, x in enumerate(nums):\n",
        "                for j, y in enumerate(nums):\n",
        "                    if i != j:\n",
        "                        newNums = list()\n",
        "                        for k, z in enumerate(nums):\n",
        "                            if k != i and k != j:\n",
        "                                newNums.append(z)\n",
        "                        for k in range(4):\n",
        "                            if k < 2 and i > j:\n",
        "                                continue\n",
        "                            if k == ADD:\n",
        "                                newNums.append(x + y)\n",
        "                            elif k == MULTIPLY:\n",
        "                                newNums.append(x * y)\n",
        "                            elif k == SUBTRACT:\n",
        "                                newNums.append(x - y)\n",
        "                            elif k == DIVIDE:\n",
        "                                if abs(y) < EPSILON:\n",
        "                                    continue\n",
        "                                newNums.append(x / y)\n",
        "                            if solve(newNums):\n",
        "                                print(newNums)\n",
        "                                return True\n",
        "                            newNums.pop()\n",
        "            return False\n",
        "\n",
        "        return solve(nums)\n"
      ]
    },
    {
      "cell_type": "code",
      "source": [
        "solv = Solution()\n",
        "solv.judgePoint24([11,11,10,4])"
      ],
      "metadata": {
        "colab": {
          "base_uri": "https://localhost:8080/"
        },
        "id": "2-F4dOi-dmfW",
        "outputId": "14de1596-43ee-4e2a-ca5a-55127f294de8"
      },
      "execution_count": 3,
      "outputs": [
        {
          "output_type": "execute_result",
          "data": {
            "text/plain": [
              "False"
            ]
          },
          "metadata": {},
          "execution_count": 3
        }
      ]
    },
    {
      "cell_type": "code",
      "source": [
        "solv.judgePoint24([4,4,10,10])"
      ],
      "metadata": {
        "colab": {
          "base_uri": "https://localhost:8080/"
        },
        "id": "bmdU_yQ3fj68",
        "outputId": "1ff06c53-a71c-44a8-ba89-2ae2ddc7766c"
      },
      "execution_count": 4,
      "outputs": [
        {
          "output_type": "stream",
          "name": "stdout",
          "text": [
            "[24.0]\n",
            "[4, 96]\n",
            "[4, 4, 100]\n"
          ]
        },
        {
          "output_type": "execute_result",
          "data": {
            "text/plain": [
              "True"
            ]
          },
          "metadata": {},
          "execution_count": 4
        }
      ]
    },
    {
      "cell_type": "code",
      "source": [
        "solv.judgePoint24([3,3,6,2])"
      ],
      "metadata": {
        "colab": {
          "base_uri": "https://localhost:8080/"
        },
        "id": "DWK8WOz8u55n",
        "outputId": "64233c7b-95e5-4dca-9cf9-a4e53e9fc073"
      },
      "execution_count": 5,
      "outputs": [
        {
          "output_type": "stream",
          "name": "stdout",
          "text": [
            "[24]\n",
            "[6, 4]\n",
            "[6, 2, 6]\n"
          ]
        },
        {
          "output_type": "execute_result",
          "data": {
            "text/plain": [
              "True"
            ]
          },
          "metadata": {},
          "execution_count": 5
        }
      ]
    },
    {
      "cell_type": "code",
      "source": [
        "solv.judgePoint24([6,3,8,2])"
      ],
      "metadata": {
        "colab": {
          "base_uri": "https://localhost:8080/"
        },
        "id": "QD1r_r09vQMM",
        "outputId": "c05ef5b3-5e1d-41ce-d588-f349b9bfd6a0"
      },
      "execution_count": 6,
      "outputs": [
        {
          "output_type": "stream",
          "name": "stdout",
          "text": [
            "[24]\n",
            "[18, 6]\n",
            "[8, 2, 18]\n"
          ]
        },
        {
          "output_type": "execute_result",
          "data": {
            "text/plain": [
              "True"
            ]
          },
          "metadata": {},
          "execution_count": 6
        }
      ]
    },
    {
      "cell_type": "code",
      "source": [
        "solv.judgePoint24([6,8,9,9])"
      ],
      "metadata": {
        "colab": {
          "base_uri": "https://localhost:8080/"
        },
        "id": "sriG2jvCv0Tl",
        "outputId": "fef257ea-315d-4fbc-e33f-bd9a6e58c2ac"
      },
      "execution_count": 7,
      "outputs": [
        {
          "output_type": "stream",
          "name": "stdout",
          "text": [
            "[24.0]\n",
            "[0.75, 18]\n",
            "[9, 9, 0.75]\n"
          ]
        },
        {
          "output_type": "execute_result",
          "data": {
            "text/plain": [
              "True"
            ]
          },
          "metadata": {},
          "execution_count": 7
        }
      ]
    },
    {
      "cell_type": "code",
      "source": [
        "solv.judgePoint24([6,8,9,12])"
      ],
      "metadata": {
        "colab": {
          "base_uri": "https://localhost:8080/"
        },
        "id": "RRx-UiCMwBqR",
        "outputId": "665376d3-f2d0-488e-c307-cbcd0a2c9266"
      },
      "execution_count": 8,
      "outputs": [
        {
          "output_type": "stream",
          "name": "stdout",
          "text": [
            "[24.0]\n",
            "[12, 12.0]\n",
            "[9, 12, 0.75]\n"
          ]
        },
        {
          "output_type": "execute_result",
          "data": {
            "text/plain": [
              "True"
            ]
          },
          "metadata": {},
          "execution_count": 8
        }
      ]
    },
    {
      "cell_type": "code",
      "source": [
        "solv.judgePoint24([6,8,9,10])"
      ],
      "metadata": {
        "colab": {
          "base_uri": "https://localhost:8080/"
        },
        "id": "vEqa5zjWwZ43",
        "outputId": "a1abec5b-8260-4b17-8acf-ddbfb34b76ed"
      },
      "execution_count": 9,
      "outputs": [
        {
          "output_type": "stream",
          "name": "stdout",
          "text": [
            "[24]\n",
            "[6, -18]\n",
            "[6, 9, -2]\n"
          ]
        },
        {
          "output_type": "execute_result",
          "data": {
            "text/plain": [
              "True"
            ]
          },
          "metadata": {},
          "execution_count": 9
        }
      ]
    },
    {
      "cell_type": "code",
      "source": [
        "solv.judgePoint24([6,8,9,11])"
      ],
      "metadata": {
        "colab": {
          "base_uri": "https://localhost:8080/"
        },
        "id": "gjIDFpEZxARw",
        "outputId": "20ca3f65-6092-4a9d-dfa8-64512dbf2ca0"
      },
      "execution_count": 10,
      "outputs": [
        {
          "output_type": "stream",
          "name": "stdout",
          "text": [
            "[24.0]\n",
            "[48, 2]\n",
            "[9, 11, 48]\n"
          ]
        },
        {
          "output_type": "execute_result",
          "data": {
            "text/plain": [
              "True"
            ]
          },
          "metadata": {},
          "execution_count": 10
        }
      ]
    },
    {
      "cell_type": "code",
      "source": [
        "solv.judgePoint24([6,8,9,13])"
      ],
      "metadata": {
        "colab": {
          "base_uri": "https://localhost:8080/"
        },
        "id": "gcGFBg6HxKNV",
        "outputId": "2ac327d0-7f02-4c10-cbb9-04bfbdcbf63b"
      },
      "execution_count": 11,
      "outputs": [
        {
          "output_type": "stream",
          "name": "stdout",
          "text": [
            "[24]\n",
            "[-2, 22]\n",
            "[9, 13, -2]\n"
          ]
        },
        {
          "output_type": "execute_result",
          "data": {
            "text/plain": [
              "True"
            ]
          },
          "metadata": {},
          "execution_count": 11
        }
      ]
    },
    {
      "cell_type": "code",
      "source": [
        "solv.judgePoint24([6,8,9,9])"
      ],
      "metadata": {
        "colab": {
          "base_uri": "https://localhost:8080/"
        },
        "id": "HYwMsCraxQn4",
        "outputId": "24cfd02d-6170-4bd8-f310-39941f4effda"
      },
      "execution_count": 12,
      "outputs": [
        {
          "output_type": "stream",
          "name": "stdout",
          "text": [
            "[24.0]\n",
            "[0.75, 18]\n",
            "[9, 9, 0.75]\n"
          ]
        },
        {
          "output_type": "execute_result",
          "data": {
            "text/plain": [
              "True"
            ]
          },
          "metadata": {},
          "execution_count": 12
        }
      ]
    },
    {
      "cell_type": "code",
      "source": [
        "solv.judgePoint24([6,8,9,8])"
      ],
      "metadata": {
        "colab": {
          "base_uri": "https://localhost:8080/"
        },
        "id": "iU1s4h-bxYX2",
        "outputId": "37d88d99-fc3b-4b79-b4f5-b95783bf41f7"
      },
      "execution_count": 13,
      "outputs": [
        {
          "output_type": "stream",
          "name": "stdout",
          "text": [
            "[24]\n",
            "[48, 72]\n",
            "[9, 8, 48]\n"
          ]
        },
        {
          "output_type": "execute_result",
          "data": {
            "text/plain": [
              "True"
            ]
          },
          "metadata": {},
          "execution_count": 13
        }
      ]
    },
    {
      "cell_type": "code",
      "source": [
        "solv.judgePoint24([6,8,9,7])"
      ],
      "metadata": {
        "colab": {
          "base_uri": "https://localhost:8080/"
        },
        "id": "eEDy9yh8yFMp",
        "outputId": "3d51491a-1d81-4867-a61b-c9e5f1353732"
      },
      "execution_count": 14,
      "outputs": [
        {
          "output_type": "stream",
          "name": "stdout",
          "text": [
            "[24.0]\n",
            "[48, 2]\n",
            "[9, 7, 48]\n"
          ]
        },
        {
          "output_type": "execute_result",
          "data": {
            "text/plain": [
              "True"
            ]
          },
          "metadata": {},
          "execution_count": 14
        }
      ]
    },
    {
      "cell_type": "code",
      "source": [
        "solv.judgePoint24([6,8,9,6])"
      ],
      "metadata": {
        "colab": {
          "base_uri": "https://localhost:8080/"
        },
        "id": "0Ln5WkOGyINt",
        "outputId": "132ca4ec-4416-414e-c0f4-983619624a8c"
      },
      "execution_count": 15,
      "outputs": [
        {
          "output_type": "stream",
          "name": "stdout",
          "text": [
            "[24]\n",
            "[6, -18]\n",
            "[9, 6, -2]\n"
          ]
        },
        {
          "output_type": "execute_result",
          "data": {
            "text/plain": [
              "True"
            ]
          },
          "metadata": {},
          "execution_count": 15
        }
      ]
    },
    {
      "cell_type": "code",
      "source": [
        "solv.judgePoint24([6,8,9,5])"
      ],
      "metadata": {
        "colab": {
          "base_uri": "https://localhost:8080/"
        },
        "id": "KH6juOGVyMjQ",
        "outputId": "9cb38cfb-57b1-4ee2-a580-bbe41647b1ed"
      },
      "execution_count": 16,
      "outputs": [
        {
          "output_type": "stream",
          "name": "stdout",
          "text": [
            "[24.0]\n",
            "[15, 1.6]\n",
            "[8, 5, 15]\n"
          ]
        },
        {
          "output_type": "execute_result",
          "data": {
            "text/plain": [
              "True"
            ]
          },
          "metadata": {},
          "execution_count": 16
        }
      ]
    },
    {
      "cell_type": "code",
      "source": [
        "solv.judgePoint24([6,8,9,4])"
      ],
      "metadata": {
        "colab": {
          "base_uri": "https://localhost:8080/"
        },
        "id": "MDb3N918yiY6",
        "outputId": "93bc9355-9619-4d12-dfd5-946fe7f774a8"
      },
      "execution_count": 17,
      "outputs": [
        {
          "output_type": "stream",
          "name": "stdout",
          "text": [
            "[24]\n",
            "[24, 1]\n",
            "[8, 9, 24]\n"
          ]
        },
        {
          "output_type": "execute_result",
          "data": {
            "text/plain": [
              "True"
            ]
          },
          "metadata": {},
          "execution_count": 17
        }
      ]
    },
    {
      "cell_type": "code",
      "source": [
        "solv.judgePoint24([6,8,9,3])"
      ],
      "metadata": {
        "colab": {
          "base_uri": "https://localhost:8080/"
        },
        "id": "CUKoYPLDyv55",
        "outputId": "5b7b7ecd-5359-494e-9450-aeaffcc171f9"
      },
      "execution_count": 18,
      "outputs": [
        {
          "output_type": "stream",
          "name": "stdout",
          "text": [
            "[24.0]\n",
            "[3, 72]\n",
            "[8, 9, 3]\n"
          ]
        },
        {
          "output_type": "execute_result",
          "data": {
            "text/plain": [
              "True"
            ]
          },
          "metadata": {},
          "execution_count": 18
        }
      ]
    },
    {
      "cell_type": "code",
      "source": [
        "solv.judgePoint24([6,8,9,2])"
      ],
      "metadata": {
        "colab": {
          "base_uri": "https://localhost:8080/"
        },
        "id": "x5VFGF5UyybK",
        "outputId": "e97b9a55-eda0-4602-d08c-faa47d7076e3"
      },
      "execution_count": 19,
      "outputs": [
        {
          "output_type": "stream",
          "name": "stdout",
          "text": [
            "[24.0]\n",
            "[0.75, 18]\n",
            "[9, 2, 0.75]\n"
          ]
        },
        {
          "output_type": "execute_result",
          "data": {
            "text/plain": [
              "True"
            ]
          },
          "metadata": {},
          "execution_count": 19
        }
      ]
    },
    {
      "cell_type": "code",
      "source": [
        "solv.judgePoint24([6,8,9,1])"
      ],
      "metadata": {
        "colab": {
          "base_uri": "https://localhost:8080/"
        },
        "id": "uClknc10y1go",
        "outputId": "491dd5d1-89c8-4e18-98b8-38e9ab835163"
      },
      "execution_count": 20,
      "outputs": [
        {
          "output_type": "stream",
          "name": "stdout",
          "text": [
            "[24]\n",
            "[14, 10]\n",
            "[9, 1, 14]\n"
          ]
        },
        {
          "output_type": "execute_result",
          "data": {
            "text/plain": [
              "True"
            ]
          },
          "metadata": {},
          "execution_count": 20
        }
      ]
    }
  ]
}