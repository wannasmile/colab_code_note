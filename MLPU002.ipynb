{
  "nbformat": 4,
  "nbformat_minor": 0,
  "metadata": {
    "colab": {
      "provenance": [],
      "authorship_tag": "ABX9TyPZop186qp+FbGokC86cxZO",
      "include_colab_link": true
    },
    "kernelspec": {
      "name": "python3",
      "display_name": "Python 3"
    },
    "language_info": {
      "name": "python"
    }
  },
  "cells": [
    {
      "cell_type": "markdown",
      "metadata": {
        "id": "view-in-github",
        "colab_type": "text"
      },
      "source": [
        "<a href=\"https://colab.research.google.com/github/wannasmile/colab_code_note/blob/main/MLPU002.ipynb\" target=\"_parent\"><img src=\"https://colab.research.google.com/assets/colab-badge.svg\" alt=\"Open In Colab\"/></a>"
      ]
    },
    {
      "cell_type": "markdown",
      "source": [
        "PU Learning比较有代表性的一篇，当样本稀疏时，PU Learning提供了另一种求解思路。\n",
        "\n",
        "\n",
        "首先PU Learning针对的数据分布是Positive data和Unlabeled data，和通常正反例不同，而是正例和未打标数据，这样的数据集在实际生产和生活中经常存在。\n",
        "比如，如果我们认为一个患者确诊某一疾病是正例，那会有大量的人群是Unlabeled状态，但Unlabeled不代表没有患病更不能看作负例；\n",
        "还有推荐系统，通常认为用户点击是正例，未点击是负例，这建立在认为曝光等于真实触达的先验假设之上，但可能用户的视线压根就没有看到该位置，根本就没有触达，这时便属于Unlabeled状态；在游戏中也是这样，如果视野内某个位置出现了金币我们可以认为该坐标是正例，那其他未探索的地图也是Unlabeled状态。\n",
        "\n",
        "\n",
        "对于这样的场景，我们希望模型能够通过在正例和未标记样例上学得正例在整体样本空间下的真实分布情况，比如通过确诊病例和没来看病的人群数据，我们可以预估该疾病到底在整体人群中的发病率是多少；通过用户点击数据和下发曝光数据判断真实CTR值；通过已经获得的金币和未探索的地图信息，知道整张地图的金币数分布等。\n",
        "\n",
        "\n",
        "对于以上问题，可以概括为：在正例-未打标样本的非标准数据集（标准数据集指正例-负例形式）上训练一个与标准数据集下相近的分类器，从而缓解样本分布上的偏差。这一学习过程我们希望和在正负例上直接训练的效果接近，在实际应用中，通过分类器提供的可以在未标注数据上预测其为正例的概率，产生实际价值。\n",
        "\n"
      ],
      "metadata": {
        "id": "LWfDctu0N6FX"
      }
    },
    {
      "cell_type": "markdown",
      "source": [
        "当您只有几个正样本时，如何对未标记的数据进行分类\n",
        "\n",
        "\n",
        "假设您有一个支付交易数据集。一些交易被标记为欺诈交易，其余交易被标记为真实交易，您需要设计一个模型来区分欺诈交易和真实交易。假设您有足够的数据和良好的特征，这似乎是一个简单的分类任务。但是，假设只有 15% 的数据被标记，并且标记的样本仅属于一个类别，于是您的训练集包含 15% 标记为真实的样本，而其余样本则未标记，可能是真实的，也可能是欺诈的。你会如何对它们进行分类？需求的这种变化是否只是将这项任务变成了无监督学习问题？嗯，不一定。\n",
        "\n",
        "\n",
        "这个问题通常被称为 PU（正且未标记）分类问题，首先应该与两个相似且常见的“标记问题”区分开来，这两个问题使许多分类任务变得复杂。\n",
        "\n",
        "第一种也是最常见的标签问题是小训练集的问题。当尽管您拥有相当数量的数据，但实际上只有一小部分被标记时，就会出现这种情况。这个问题有很多种，具体的训练方法也有很多。\n",
        "\n",
        "另一个常见的标记问题（通常与 PU 问题混为一谈）涉及这样的情况：我们的训练数据集已完全标记，但它仅包含一个类。例如，假设我们拥有的只是一个非欺诈交易的数据集，并且我们需要使用该数据集来训练一个模型来区分（类似的）非欺诈交易和欺诈交易。这也是一个常见问题，通常被视为无监督异常值检测问题，尽管在 ML 领域也有很多广泛使用的工具是专门为处理这些场景而设计的（OneClassSVM 可能是最著名的）。\n",
        "\n",
        "相反，PU 分类问题是涉及训练集的情况，其中只有部分数据被标记为正，而其余数据未标记，并且可以是正的或负的。例如，假设你的雇主是一家银行，可以为你提供大量交易数据，但只能确认其中一部分是100%真实的。我将在这里使用的示例涉及与欺诈钞票相关的类似场景。它包含 1200 张纸币的数据集，其中大部分没有标签，只有部分被确认为真品。尽管 PU 问题也很常见，但与前面提到的两个分类问题相比，它们的讨论通常要少得多，并且广泛可用的实践示例或库也很少。"
      ],
      "metadata": {
        "id": "xu8ssJNiQD_G"
      }
    },
    {
      "cell_type": "markdown",
      "source": [
        "Learning classifiers from only Positive and unlabeled data（2008）\n",
        "\n",
        "本质上声称，给定一个包含正数据和未标记数据的数据集，某个样本为正样本的概率 [P(y=1|x)] 等于该样本被标记的概率 [P(s=1|x)] 除以我们的数据集中标记正样本的概率 [P(s=1|y=1)]。\n",
        "\n"
      ],
      "metadata": {
        "id": "XUhgQBSIRa_h"
      }
    },
    {
      "cell_type": "code",
      "execution_count": 1,
      "metadata": {
        "colab": {
          "base_uri": "https://localhost:8080/"
        },
        "id": "bAT-ymyRN4xA",
        "outputId": "97cf755a-de02-477a-831a-81df381edc1d"
      },
      "outputs": [
        {
          "output_type": "stream",
          "name": "stdout",
          "text": [
            "--2024-03-23 09:24:30--  https://raw.githubusercontent.com/wannasmile/colab_code_note/main/data_banknote_authentication.txt\n",
            "Resolving raw.githubusercontent.com (raw.githubusercontent.com)... 185.199.108.133, 185.199.109.133, 185.199.110.133, ...\n",
            "Connecting to raw.githubusercontent.com (raw.githubusercontent.com)|185.199.108.133|:443... connected.\n",
            "HTTP request sent, awaiting response... 200 OK\n",
            "Length: 46400 (45K) [text/plain]\n",
            "Saving to: ‘data_banknote_authentication.txt.5’\n",
            "\n",
            "\r          data_bank   0%[                    ]       0  --.-KB/s               \rdata_banknote_authe 100%[===================>]  45.31K  --.-KB/s    in 0.006s  \n",
            "\n",
            "2024-03-23 09:24:30 (6.91 MB/s) - ‘data_banknote_authentication.txt.5’ saved [46400/46400]\n",
            "\n"
          ]
        }
      ],
      "source": [
        "!wget https://raw.githubusercontent.com/wannasmile/colab_code_note/main/data_banknote_authentication.txt"
      ]
    },
    {
      "cell_type": "code",
      "source": [
        "import pandas as pd\n",
        "import numpy as np\n",
        "data = pd.read_csv('data_banknote_authentication.txt', header=None)"
      ],
      "metadata": {
        "id": "NRoJaZUMSgUz"
      },
      "execution_count": 2,
      "outputs": []
    },
    {
      "cell_type": "markdown",
      "source": [
        "载入数据\n",
        "\n",
        "数据包含4个特征列和1个标签列"
      ],
      "metadata": {
        "id": "puoY660USxS7"
      }
    },
    {
      "cell_type": "code",
      "source": [
        "print(data.shape)\n",
        "data.head(10)"
      ],
      "metadata": {
        "colab": {
          "base_uri": "https://localhost:8080/",
          "height": 381
        },
        "id": "BkNzsOEvSwv_",
        "outputId": "2521efc6-64d5-4c67-aeab-3a398616d39c"
      },
      "execution_count": 3,
      "outputs": [
        {
          "output_type": "stream",
          "name": "stdout",
          "text": [
            "(1372, 5)\n"
          ]
        },
        {
          "output_type": "execute_result",
          "data": {
            "text/plain": [
              "         0       1        2        3  4\n",
              "0  3.62160  8.6661 -2.80730 -0.44699  0\n",
              "1  4.54590  8.1674 -2.45860 -1.46210  0\n",
              "2  3.86600 -2.6383  1.92420  0.10645  0\n",
              "3  3.45660  9.5228 -4.01120 -3.59440  0\n",
              "4  0.32924 -4.4552  4.57180 -0.98880  0\n",
              "5  4.36840  9.6718 -3.96060 -3.16250  0\n",
              "6  3.59120  3.0129  0.72888  0.56421  0\n",
              "7  2.09220 -6.8100  8.46360 -0.60216  0\n",
              "8  3.20320  5.7588 -0.75345 -0.61251  0\n",
              "9  1.53560  9.1772 -2.27180 -0.73535  0"
            ],
            "text/html": [
              "\n",
              "  <div id=\"df-bea80f90-84c4-4188-b0a5-30a21dbe0c3c\" class=\"colab-df-container\">\n",
              "    <div>\n",
              "<style scoped>\n",
              "    .dataframe tbody tr th:only-of-type {\n",
              "        vertical-align: middle;\n",
              "    }\n",
              "\n",
              "    .dataframe tbody tr th {\n",
              "        vertical-align: top;\n",
              "    }\n",
              "\n",
              "    .dataframe thead th {\n",
              "        text-align: right;\n",
              "    }\n",
              "</style>\n",
              "<table border=\"1\" class=\"dataframe\">\n",
              "  <thead>\n",
              "    <tr style=\"text-align: right;\">\n",
              "      <th></th>\n",
              "      <th>0</th>\n",
              "      <th>1</th>\n",
              "      <th>2</th>\n",
              "      <th>3</th>\n",
              "      <th>4</th>\n",
              "    </tr>\n",
              "  </thead>\n",
              "  <tbody>\n",
              "    <tr>\n",
              "      <th>0</th>\n",
              "      <td>3.62160</td>\n",
              "      <td>8.6661</td>\n",
              "      <td>-2.80730</td>\n",
              "      <td>-0.44699</td>\n",
              "      <td>0</td>\n",
              "    </tr>\n",
              "    <tr>\n",
              "      <th>1</th>\n",
              "      <td>4.54590</td>\n",
              "      <td>8.1674</td>\n",
              "      <td>-2.45860</td>\n",
              "      <td>-1.46210</td>\n",
              "      <td>0</td>\n",
              "    </tr>\n",
              "    <tr>\n",
              "      <th>2</th>\n",
              "      <td>3.86600</td>\n",
              "      <td>-2.6383</td>\n",
              "      <td>1.92420</td>\n",
              "      <td>0.10645</td>\n",
              "      <td>0</td>\n",
              "    </tr>\n",
              "    <tr>\n",
              "      <th>3</th>\n",
              "      <td>3.45660</td>\n",
              "      <td>9.5228</td>\n",
              "      <td>-4.01120</td>\n",
              "      <td>-3.59440</td>\n",
              "      <td>0</td>\n",
              "    </tr>\n",
              "    <tr>\n",
              "      <th>4</th>\n",
              "      <td>0.32924</td>\n",
              "      <td>-4.4552</td>\n",
              "      <td>4.57180</td>\n",
              "      <td>-0.98880</td>\n",
              "      <td>0</td>\n",
              "    </tr>\n",
              "    <tr>\n",
              "      <th>5</th>\n",
              "      <td>4.36840</td>\n",
              "      <td>9.6718</td>\n",
              "      <td>-3.96060</td>\n",
              "      <td>-3.16250</td>\n",
              "      <td>0</td>\n",
              "    </tr>\n",
              "    <tr>\n",
              "      <th>6</th>\n",
              "      <td>3.59120</td>\n",
              "      <td>3.0129</td>\n",
              "      <td>0.72888</td>\n",
              "      <td>0.56421</td>\n",
              "      <td>0</td>\n",
              "    </tr>\n",
              "    <tr>\n",
              "      <th>7</th>\n",
              "      <td>2.09220</td>\n",
              "      <td>-6.8100</td>\n",
              "      <td>8.46360</td>\n",
              "      <td>-0.60216</td>\n",
              "      <td>0</td>\n",
              "    </tr>\n",
              "    <tr>\n",
              "      <th>8</th>\n",
              "      <td>3.20320</td>\n",
              "      <td>5.7588</td>\n",
              "      <td>-0.75345</td>\n",
              "      <td>-0.61251</td>\n",
              "      <td>0</td>\n",
              "    </tr>\n",
              "    <tr>\n",
              "      <th>9</th>\n",
              "      <td>1.53560</td>\n",
              "      <td>9.1772</td>\n",
              "      <td>-2.27180</td>\n",
              "      <td>-0.73535</td>\n",
              "      <td>0</td>\n",
              "    </tr>\n",
              "  </tbody>\n",
              "</table>\n",
              "</div>\n",
              "    <div class=\"colab-df-buttons\">\n",
              "\n",
              "  <div class=\"colab-df-container\">\n",
              "    <button class=\"colab-df-convert\" onclick=\"convertToInteractive('df-bea80f90-84c4-4188-b0a5-30a21dbe0c3c')\"\n",
              "            title=\"Convert this dataframe to an interactive table.\"\n",
              "            style=\"display:none;\">\n",
              "\n",
              "  <svg xmlns=\"http://www.w3.org/2000/svg\" height=\"24px\" viewBox=\"0 -960 960 960\">\n",
              "    <path d=\"M120-120v-720h720v720H120Zm60-500h600v-160H180v160Zm220 220h160v-160H400v160Zm0 220h160v-160H400v160ZM180-400h160v-160H180v160Zm440 0h160v-160H620v160ZM180-180h160v-160H180v160Zm440 0h160v-160H620v160Z\"/>\n",
              "  </svg>\n",
              "    </button>\n",
              "\n",
              "  <style>\n",
              "    .colab-df-container {\n",
              "      display:flex;\n",
              "      gap: 12px;\n",
              "    }\n",
              "\n",
              "    .colab-df-convert {\n",
              "      background-color: #E8F0FE;\n",
              "      border: none;\n",
              "      border-radius: 50%;\n",
              "      cursor: pointer;\n",
              "      display: none;\n",
              "      fill: #1967D2;\n",
              "      height: 32px;\n",
              "      padding: 0 0 0 0;\n",
              "      width: 32px;\n",
              "    }\n",
              "\n",
              "    .colab-df-convert:hover {\n",
              "      background-color: #E2EBFA;\n",
              "      box-shadow: 0px 1px 2px rgba(60, 64, 67, 0.3), 0px 1px 3px 1px rgba(60, 64, 67, 0.15);\n",
              "      fill: #174EA6;\n",
              "    }\n",
              "\n",
              "    .colab-df-buttons div {\n",
              "      margin-bottom: 4px;\n",
              "    }\n",
              "\n",
              "    [theme=dark] .colab-df-convert {\n",
              "      background-color: #3B4455;\n",
              "      fill: #D2E3FC;\n",
              "    }\n",
              "\n",
              "    [theme=dark] .colab-df-convert:hover {\n",
              "      background-color: #434B5C;\n",
              "      box-shadow: 0px 1px 3px 1px rgba(0, 0, 0, 0.15);\n",
              "      filter: drop-shadow(0px 1px 2px rgba(0, 0, 0, 0.3));\n",
              "      fill: #FFFFFF;\n",
              "    }\n",
              "  </style>\n",
              "\n",
              "    <script>\n",
              "      const buttonEl =\n",
              "        document.querySelector('#df-bea80f90-84c4-4188-b0a5-30a21dbe0c3c button.colab-df-convert');\n",
              "      buttonEl.style.display =\n",
              "        google.colab.kernel.accessAllowed ? 'block' : 'none';\n",
              "\n",
              "      async function convertToInteractive(key) {\n",
              "        const element = document.querySelector('#df-bea80f90-84c4-4188-b0a5-30a21dbe0c3c');\n",
              "        const dataTable =\n",
              "          await google.colab.kernel.invokeFunction('convertToInteractive',\n",
              "                                                    [key], {});\n",
              "        if (!dataTable) return;\n",
              "\n",
              "        const docLinkHtml = 'Like what you see? Visit the ' +\n",
              "          '<a target=\"_blank\" href=https://colab.research.google.com/notebooks/data_table.ipynb>data table notebook</a>'\n",
              "          + ' to learn more about interactive tables.';\n",
              "        element.innerHTML = '';\n",
              "        dataTable['output_type'] = 'display_data';\n",
              "        await google.colab.output.renderOutput(dataTable, element);\n",
              "        const docLink = document.createElement('div');\n",
              "        docLink.innerHTML = docLinkHtml;\n",
              "        element.appendChild(docLink);\n",
              "      }\n",
              "    </script>\n",
              "  </div>\n",
              "\n",
              "\n",
              "<div id=\"df-3a930a96-ea1c-4f98-81ee-affe21c0efcf\">\n",
              "  <button class=\"colab-df-quickchart\" onclick=\"quickchart('df-3a930a96-ea1c-4f98-81ee-affe21c0efcf')\"\n",
              "            title=\"Suggest charts\"\n",
              "            style=\"display:none;\">\n",
              "\n",
              "<svg xmlns=\"http://www.w3.org/2000/svg\" height=\"24px\"viewBox=\"0 0 24 24\"\n",
              "     width=\"24px\">\n",
              "    <g>\n",
              "        <path d=\"M19 3H5c-1.1 0-2 .9-2 2v14c0 1.1.9 2 2 2h14c1.1 0 2-.9 2-2V5c0-1.1-.9-2-2-2zM9 17H7v-7h2v7zm4 0h-2V7h2v10zm4 0h-2v-4h2v4z\"/>\n",
              "    </g>\n",
              "</svg>\n",
              "  </button>\n",
              "\n",
              "<style>\n",
              "  .colab-df-quickchart {\n",
              "      --bg-color: #E8F0FE;\n",
              "      --fill-color: #1967D2;\n",
              "      --hover-bg-color: #E2EBFA;\n",
              "      --hover-fill-color: #174EA6;\n",
              "      --disabled-fill-color: #AAA;\n",
              "      --disabled-bg-color: #DDD;\n",
              "  }\n",
              "\n",
              "  [theme=dark] .colab-df-quickchart {\n",
              "      --bg-color: #3B4455;\n",
              "      --fill-color: #D2E3FC;\n",
              "      --hover-bg-color: #434B5C;\n",
              "      --hover-fill-color: #FFFFFF;\n",
              "      --disabled-bg-color: #3B4455;\n",
              "      --disabled-fill-color: #666;\n",
              "  }\n",
              "\n",
              "  .colab-df-quickchart {\n",
              "    background-color: var(--bg-color);\n",
              "    border: none;\n",
              "    border-radius: 50%;\n",
              "    cursor: pointer;\n",
              "    display: none;\n",
              "    fill: var(--fill-color);\n",
              "    height: 32px;\n",
              "    padding: 0;\n",
              "    width: 32px;\n",
              "  }\n",
              "\n",
              "  .colab-df-quickchart:hover {\n",
              "    background-color: var(--hover-bg-color);\n",
              "    box-shadow: 0 1px 2px rgba(60, 64, 67, 0.3), 0 1px 3px 1px rgba(60, 64, 67, 0.15);\n",
              "    fill: var(--button-hover-fill-color);\n",
              "  }\n",
              "\n",
              "  .colab-df-quickchart-complete:disabled,\n",
              "  .colab-df-quickchart-complete:disabled:hover {\n",
              "    background-color: var(--disabled-bg-color);\n",
              "    fill: var(--disabled-fill-color);\n",
              "    box-shadow: none;\n",
              "  }\n",
              "\n",
              "  .colab-df-spinner {\n",
              "    border: 2px solid var(--fill-color);\n",
              "    border-color: transparent;\n",
              "    border-bottom-color: var(--fill-color);\n",
              "    animation:\n",
              "      spin 1s steps(1) infinite;\n",
              "  }\n",
              "\n",
              "  @keyframes spin {\n",
              "    0% {\n",
              "      border-color: transparent;\n",
              "      border-bottom-color: var(--fill-color);\n",
              "      border-left-color: var(--fill-color);\n",
              "    }\n",
              "    20% {\n",
              "      border-color: transparent;\n",
              "      border-left-color: var(--fill-color);\n",
              "      border-top-color: var(--fill-color);\n",
              "    }\n",
              "    30% {\n",
              "      border-color: transparent;\n",
              "      border-left-color: var(--fill-color);\n",
              "      border-top-color: var(--fill-color);\n",
              "      border-right-color: var(--fill-color);\n",
              "    }\n",
              "    40% {\n",
              "      border-color: transparent;\n",
              "      border-right-color: var(--fill-color);\n",
              "      border-top-color: var(--fill-color);\n",
              "    }\n",
              "    60% {\n",
              "      border-color: transparent;\n",
              "      border-right-color: var(--fill-color);\n",
              "    }\n",
              "    80% {\n",
              "      border-color: transparent;\n",
              "      border-right-color: var(--fill-color);\n",
              "      border-bottom-color: var(--fill-color);\n",
              "    }\n",
              "    90% {\n",
              "      border-color: transparent;\n",
              "      border-bottom-color: var(--fill-color);\n",
              "    }\n",
              "  }\n",
              "</style>\n",
              "\n",
              "  <script>\n",
              "    async function quickchart(key) {\n",
              "      const quickchartButtonEl =\n",
              "        document.querySelector('#' + key + ' button');\n",
              "      quickchartButtonEl.disabled = true;  // To prevent multiple clicks.\n",
              "      quickchartButtonEl.classList.add('colab-df-spinner');\n",
              "      try {\n",
              "        const charts = await google.colab.kernel.invokeFunction(\n",
              "            'suggestCharts', [key], {});\n",
              "      } catch (error) {\n",
              "        console.error('Error during call to suggestCharts:', error);\n",
              "      }\n",
              "      quickchartButtonEl.classList.remove('colab-df-spinner');\n",
              "      quickchartButtonEl.classList.add('colab-df-quickchart-complete');\n",
              "    }\n",
              "    (() => {\n",
              "      let quickchartButtonEl =\n",
              "        document.querySelector('#df-3a930a96-ea1c-4f98-81ee-affe21c0efcf button');\n",
              "      quickchartButtonEl.style.display =\n",
              "        google.colab.kernel.accessAllowed ? 'block' : 'none';\n",
              "    })();\n",
              "  </script>\n",
              "</div>\n",
              "    </div>\n",
              "  </div>\n"
            ],
            "application/vnd.google.colaboratory.intrinsic+json": {
              "type": "dataframe",
              "variable_name": "data",
              "summary": "{\n  \"name\": \"data\",\n  \"rows\": 1372,\n  \"fields\": [\n    {\n      \"column\": 0,\n      \"properties\": {\n        \"dtype\": \"number\",\n        \"std\": 2.8427625862785617,\n        \"min\": -7.0421,\n        \"max\": 6.8248,\n        \"num_unique_values\": 1338,\n        \"samples\": [\n          -2.286,\n          -0.539,\n          0.89512\n        ],\n        \"semantic_type\": \"\",\n        \"description\": \"\"\n      }\n    },\n    {\n      \"column\": 1,\n      \"properties\": {\n        \"dtype\": \"number\",\n        \"std\": 5.869046743695517,\n        \"min\": -13.7731,\n        \"max\": 12.9516,\n        \"num_unique_values\": 1256,\n        \"samples\": [\n          11.2217,\n          -4.6145,\n          6.1499\n        ],\n        \"semantic_type\": \"\",\n        \"description\": \"\"\n      }\n    },\n    {\n      \"column\": 2,\n      \"properties\": {\n        \"dtype\": \"number\",\n        \"std\": 4.310030090106596,\n        \"min\": -5.2861,\n        \"max\": 17.9274,\n        \"num_unique_values\": 1270,\n        \"samples\": [\n          7.8981,\n          9.8208,\n          0.20021\n        ],\n        \"semantic_type\": \"\",\n        \"description\": \"\"\n      }\n    },\n    {\n      \"column\": 3,\n      \"properties\": {\n        \"dtype\": \"number\",\n        \"std\": 2.10101313735961,\n        \"min\": -8.5482,\n        \"max\": 2.4495,\n        \"num_unique_values\": 1156,\n        \"samples\": [\n          1.0271,\n          0.90946,\n          -0.026738\n        ],\n        \"semantic_type\": \"\",\n        \"description\": \"\"\n      }\n    },\n    {\n      \"column\": 4,\n      \"properties\": {\n        \"dtype\": \"number\",\n        \"std\": 0,\n        \"min\": 0,\n        \"max\": 1,\n        \"num_unique_values\": 2,\n        \"samples\": [\n          1,\n          0\n        ],\n        \"semantic_type\": \"\",\n        \"description\": \"\"\n      }\n    }\n  ]\n}"
            }
          },
          "metadata": {},
          "execution_count": 3
        }
      ]
    },
    {
      "cell_type": "code",
      "source": [
        "data.iloc[:, 1].value_counts()"
      ],
      "metadata": {
        "colab": {
          "base_uri": "https://localhost:8080/"
        },
        "id": "23dXX3PYmpAU",
        "outputId": "f34a52fc-725f-4aa4-cfad-296560d0f37c"
      },
      "execution_count": 4,
      "outputs": [
        {
          "output_type": "execute_result",
          "data": {
            "text/plain": [
              "-4.45520    6\n",
              "-3.26330    5\n",
              " 0.70980    4\n",
              "-3.79710    4\n",
              "-0.02480    4\n",
              "           ..\n",
              " 8.81100    1\n",
              " 6.40230    1\n",
              " 7.27970    1\n",
              " 2.10860    1\n",
              "-0.65804    1\n",
              "Name: 1, Length: 1256, dtype: int64"
            ]
          },
          "metadata": {},
          "execution_count": 4
        }
      ]
    },
    {
      "cell_type": "markdown",
      "source": [
        "正负样本比"
      ],
      "metadata": {
        "id": "q0CAOmXUTIKf"
      }
    },
    {
      "cell_type": "code",
      "source": [
        "data.iloc[:, -1].value_counts()"
      ],
      "metadata": {
        "colab": {
          "base_uri": "https://localhost:8080/"
        },
        "id": "wc2v2yU8SuAB",
        "outputId": "9999e8cb-9a46-42b2-8039-b982ed685d4d"
      },
      "execution_count": 5,
      "outputs": [
        {
          "output_type": "execute_result",
          "data": {
            "text/plain": [
              "0    762\n",
              "1    610\n",
              "Name: 4, dtype: int64"
            ]
          },
          "metadata": {},
          "execution_count": 5
        }
      ]
    },
    {
      "cell_type": "markdown",
      "source": [
        "训练一个基准模型"
      ],
      "metadata": {
        "id": "VarMfTN0TO5m"
      }
    },
    {
      "cell_type": "code",
      "source": [
        "from sklearn.model_selection import train_test_split\n",
        "\n",
        "x_data = data.iloc[:,:-1]\n",
        "y_data = data.iloc[:,-1]\n",
        "\n",
        "x_train, x_test, y_train, y_test = train_test_split(x_data, y_data, test_size=0.2, random_state=7)"
      ],
      "metadata": {
        "id": "kg3-zQdzTKpz"
      },
      "execution_count": 6,
      "outputs": []
    },
    {
      "cell_type": "code",
      "source": [
        "import xgboost as xgb\n",
        "\n",
        "model = xgb.XGBClassifier(base_score=0.5, booster='gbtree', colsample_bylevel=1,\n",
        "              colsample_bynode=1, colsample_bytree=1, gamma=0,\n",
        "              learning_rate=0.1, max_delta_step=0, max_depth=3,\n",
        "              min_child_weight=1, n_estimators=100, n_jobs=1, missing=1,#missing=None,\n",
        "              nthread=None, objective='binary:logistic', random_state=0,\n",
        "              reg_alpha=0, reg_lambda=1, scale_pos_weight=1, seed=None,\n",
        "              silent=None, subsample=1, verbosity=1)\n",
        "\n",
        "model.fit(x_train, y_train)"
      ],
      "metadata": {
        "colab": {
          "base_uri": "https://localhost:8080/",
          "height": 231
        },
        "id": "FSboalrNTVtq",
        "outputId": "81bcac9f-3c18-4b15-dea1-6642a77a95a9"
      },
      "execution_count": 7,
      "outputs": [
        {
          "output_type": "execute_result",
          "data": {
            "text/plain": [
              "XGBClassifier(base_score=0.5, booster='gbtree', callbacks=None,\n",
              "              colsample_bylevel=1, colsample_bynode=1, colsample_bytree=1,\n",
              "              device=None, early_stopping_rounds=None, enable_categorical=False,\n",
              "              eval_metric=None, feature_types=None, gamma=0, grow_policy=None,\n",
              "              importance_type=None, interaction_constraints=None,\n",
              "              learning_rate=0.1, max_bin=None, max_cat_threshold=None,\n",
              "              max_cat_to_onehot=None, max_delta_step=0, max_depth=3,\n",
              "              max_leaves=None, min_child_weight=1, missing=1,\n",
              "              monotone_constraints=None, multi_strategy=None, n_estimators=100,\n",
              "              n_jobs=1, nthread=None, num_parallel_tree=None, ...)"
            ],
            "text/html": [
              "<style>#sk-container-id-1 {color: black;background-color: white;}#sk-container-id-1 pre{padding: 0;}#sk-container-id-1 div.sk-toggleable {background-color: white;}#sk-container-id-1 label.sk-toggleable__label {cursor: pointer;display: block;width: 100%;margin-bottom: 0;padding: 0.3em;box-sizing: border-box;text-align: center;}#sk-container-id-1 label.sk-toggleable__label-arrow:before {content: \"▸\";float: left;margin-right: 0.25em;color: #696969;}#sk-container-id-1 label.sk-toggleable__label-arrow:hover:before {color: black;}#sk-container-id-1 div.sk-estimator:hover label.sk-toggleable__label-arrow:before {color: black;}#sk-container-id-1 div.sk-toggleable__content {max-height: 0;max-width: 0;overflow: hidden;text-align: left;background-color: #f0f8ff;}#sk-container-id-1 div.sk-toggleable__content pre {margin: 0.2em;color: black;border-radius: 0.25em;background-color: #f0f8ff;}#sk-container-id-1 input.sk-toggleable__control:checked~div.sk-toggleable__content {max-height: 200px;max-width: 100%;overflow: auto;}#sk-container-id-1 input.sk-toggleable__control:checked~label.sk-toggleable__label-arrow:before {content: \"▾\";}#sk-container-id-1 div.sk-estimator input.sk-toggleable__control:checked~label.sk-toggleable__label {background-color: #d4ebff;}#sk-container-id-1 div.sk-label input.sk-toggleable__control:checked~label.sk-toggleable__label {background-color: #d4ebff;}#sk-container-id-1 input.sk-hidden--visually {border: 0;clip: rect(1px 1px 1px 1px);clip: rect(1px, 1px, 1px, 1px);height: 1px;margin: -1px;overflow: hidden;padding: 0;position: absolute;width: 1px;}#sk-container-id-1 div.sk-estimator {font-family: monospace;background-color: #f0f8ff;border: 1px dotted black;border-radius: 0.25em;box-sizing: border-box;margin-bottom: 0.5em;}#sk-container-id-1 div.sk-estimator:hover {background-color: #d4ebff;}#sk-container-id-1 div.sk-parallel-item::after {content: \"\";width: 100%;border-bottom: 1px solid gray;flex-grow: 1;}#sk-container-id-1 div.sk-label:hover label.sk-toggleable__label {background-color: #d4ebff;}#sk-container-id-1 div.sk-serial::before {content: \"\";position: absolute;border-left: 1px solid gray;box-sizing: border-box;top: 0;bottom: 0;left: 50%;z-index: 0;}#sk-container-id-1 div.sk-serial {display: flex;flex-direction: column;align-items: center;background-color: white;padding-right: 0.2em;padding-left: 0.2em;position: relative;}#sk-container-id-1 div.sk-item {position: relative;z-index: 1;}#sk-container-id-1 div.sk-parallel {display: flex;align-items: stretch;justify-content: center;background-color: white;position: relative;}#sk-container-id-1 div.sk-item::before, #sk-container-id-1 div.sk-parallel-item::before {content: \"\";position: absolute;border-left: 1px solid gray;box-sizing: border-box;top: 0;bottom: 0;left: 50%;z-index: -1;}#sk-container-id-1 div.sk-parallel-item {display: flex;flex-direction: column;z-index: 1;position: relative;background-color: white;}#sk-container-id-1 div.sk-parallel-item:first-child::after {align-self: flex-end;width: 50%;}#sk-container-id-1 div.sk-parallel-item:last-child::after {align-self: flex-start;width: 50%;}#sk-container-id-1 div.sk-parallel-item:only-child::after {width: 0;}#sk-container-id-1 div.sk-dashed-wrapped {border: 1px dashed gray;margin: 0 0.4em 0.5em 0.4em;box-sizing: border-box;padding-bottom: 0.4em;background-color: white;}#sk-container-id-1 div.sk-label label {font-family: monospace;font-weight: bold;display: inline-block;line-height: 1.2em;}#sk-container-id-1 div.sk-label-container {text-align: center;}#sk-container-id-1 div.sk-container {/* jupyter's `normalize.less` sets `[hidden] { display: none; }` but bootstrap.min.css set `[hidden] { display: none !important; }` so we also need the `!important` here to be able to override the default hidden behavior on the sphinx rendered scikit-learn.org. See: https://github.com/scikit-learn/scikit-learn/issues/21755 */display: inline-block !important;position: relative;}#sk-container-id-1 div.sk-text-repr-fallback {display: none;}</style><div id=\"sk-container-id-1\" class=\"sk-top-container\"><div class=\"sk-text-repr-fallback\"><pre>XGBClassifier(base_score=0.5, booster=&#x27;gbtree&#x27;, callbacks=None,\n",
              "              colsample_bylevel=1, colsample_bynode=1, colsample_bytree=1,\n",
              "              device=None, early_stopping_rounds=None, enable_categorical=False,\n",
              "              eval_metric=None, feature_types=None, gamma=0, grow_policy=None,\n",
              "              importance_type=None, interaction_constraints=None,\n",
              "              learning_rate=0.1, max_bin=None, max_cat_threshold=None,\n",
              "              max_cat_to_onehot=None, max_delta_step=0, max_depth=3,\n",
              "              max_leaves=None, min_child_weight=1, missing=1,\n",
              "              monotone_constraints=None, multi_strategy=None, n_estimators=100,\n",
              "              n_jobs=1, nthread=None, num_parallel_tree=None, ...)</pre><b>In a Jupyter environment, please rerun this cell to show the HTML representation or trust the notebook. <br />On GitHub, the HTML representation is unable to render, please try loading this page with nbviewer.org.</b></div><div class=\"sk-container\" hidden><div class=\"sk-item\"><div class=\"sk-estimator sk-toggleable\"><input class=\"sk-toggleable__control sk-hidden--visually\" id=\"sk-estimator-id-1\" type=\"checkbox\" checked><label for=\"sk-estimator-id-1\" class=\"sk-toggleable__label sk-toggleable__label-arrow\">XGBClassifier</label><div class=\"sk-toggleable__content\"><pre>XGBClassifier(base_score=0.5, booster=&#x27;gbtree&#x27;, callbacks=None,\n",
              "              colsample_bylevel=1, colsample_bynode=1, colsample_bytree=1,\n",
              "              device=None, early_stopping_rounds=None, enable_categorical=False,\n",
              "              eval_metric=None, feature_types=None, gamma=0, grow_policy=None,\n",
              "              importance_type=None, interaction_constraints=None,\n",
              "              learning_rate=0.1, max_bin=None, max_cat_threshold=None,\n",
              "              max_cat_to_onehot=None, max_delta_step=0, max_depth=3,\n",
              "              max_leaves=None, min_child_weight=1, missing=1,\n",
              "              monotone_constraints=None, multi_strategy=None, n_estimators=100,\n",
              "              n_jobs=1, nthread=None, num_parallel_tree=None, ...)</pre></div></div></div></div></div>"
            ]
          },
          "metadata": {},
          "execution_count": 7
        }
      ]
    },
    {
      "cell_type": "code",
      "source": [
        "y_predict = model.predict(x_test)"
      ],
      "metadata": {
        "id": "6YMRcOL3TZDL"
      },
      "execution_count": 8,
      "outputs": []
    },
    {
      "cell_type": "code",
      "source": [
        "from sklearn.metrics import recall_score, precision_score, roc_auc_score, accuracy_score, f1_score\n",
        "\n",
        "def evaluate_results(y_test, y_predict):\n",
        "    print('Classification results:')\n",
        "    f1 = f1_score(y_test, y_predict)\n",
        "    print(\"f1: %.2f%%\" % (f1 * 100.0))\n",
        "    roc = roc_auc_score(y_test, y_predict)\n",
        "    print(\"roc: %.2f%%\" % (roc * 100.0))\n",
        "    rec = recall_score(y_test, y_predict, average='binary')\n",
        "    print(\"recall: %.2f%%\" % (rec * 100.0))\n",
        "    prc = precision_score(y_test, y_predict, average='binary')\n",
        "    print(\"precision: %.2f%%\" % (prc * 100.0))\n",
        "\n",
        "\n",
        "evaluate_results(y_test, y_predict)"
      ],
      "metadata": {
        "colab": {
          "base_uri": "https://localhost:8080/"
        },
        "id": "hcloSmPMTgn7",
        "outputId": "c22849de-4a14-4dbb-bacf-f34271989f74"
      },
      "execution_count": 9,
      "outputs": [
        {
          "output_type": "stream",
          "name": "stdout",
          "text": [
            "Classification results:\n",
            "f1: 99.57%\n",
            "roc: 99.57%\n",
            "recall: 99.15%\n",
            "precision: 100.00%\n"
          ]
        }
      ]
    },
    {
      "cell_type": "markdown",
      "source": [
        "测试 PU Learning 方法"
      ],
      "metadata": {
        "id": "m3LI2IwpX604"
      }
    },
    {
      "cell_type": "code",
      "source": [
        "mod_data = data.copy()\n",
        "#取所有正样本的索引\n",
        "pos_ind = np.where(mod_data.iloc[:,-1].values == 1)[0]\n",
        "#随机排序\n",
        "np.random.shuffle(pos_ind)\n",
        "\n",
        "#取25%正样本的索引\n",
        "pos_sample_len = int(np.ceil(0.25 * len(pos_ind)))\n",
        "print(f'Using {pos_sample_len}/{len(pos_ind)} as positives and unlabeling the rest')\n",
        "pos_sample = pos_ind[:pos_sample_len]"
      ],
      "metadata": {
        "colab": {
          "base_uri": "https://localhost:8080/"
        },
        "id": "xxwG_mOQTnMF",
        "outputId": "90765ec5-f6ad-49a3-dd98-bded885575d0"
      },
      "execution_count": 10,
      "outputs": [
        {
          "output_type": "stream",
          "name": "stdout",
          "text": [
            "Using 153/610 as positives and unlabeling the rest\n"
          ]
        }
      ]
    },
    {
      "cell_type": "markdown",
      "source": [
        "构建目标列 'class_test' ：\n",
        "\n",
        "1代表正样本\n",
        "\n",
        "-1代表未标记"
      ],
      "metadata": {
        "id": "EQzW9pa6YsYT"
      }
    },
    {
      "cell_type": "code",
      "source": [
        "#取25%正样本 作为 有标记的正样本\n",
        "#其他所有样本 作为 未标记的样本\n",
        "\n",
        "#mod_data['class_test'] = -1\n",
        "mod_data['class_test'] = 0\n",
        "mod_data.loc[pos_sample, 'class_test'] = 1\n",
        "print('target variable:\\n', mod_data.iloc[:,-1].value_counts())"
      ],
      "metadata": {
        "colab": {
          "base_uri": "https://localhost:8080/"
        },
        "id": "ANakxeanYo9C",
        "outputId": "f9001b78-0d18-4782-b319-215ebe15e4b2"
      },
      "execution_count": 11,
      "outputs": [
        {
          "output_type": "stream",
          "name": "stdout",
          "text": [
            "target variable:\n",
            " 0    1219\n",
            "1     153\n",
            "Name: class_test, dtype: int64\n"
          ]
        }
      ]
    },
    {
      "cell_type": "code",
      "source": [
        "mod_data.head(10)"
      ],
      "metadata": {
        "colab": {
          "base_uri": "https://localhost:8080/",
          "height": 363
        },
        "id": "45OJNIfQZqGd",
        "outputId": "99fed1e1-01bc-4f3f-9084-6da1a0286627"
      },
      "execution_count": 12,
      "outputs": [
        {
          "output_type": "execute_result",
          "data": {
            "text/plain": [
              "         0       1        2        3  4  class_test\n",
              "0  3.62160  8.6661 -2.80730 -0.44699  0           0\n",
              "1  4.54590  8.1674 -2.45860 -1.46210  0           0\n",
              "2  3.86600 -2.6383  1.92420  0.10645  0           0\n",
              "3  3.45660  9.5228 -4.01120 -3.59440  0           0\n",
              "4  0.32924 -4.4552  4.57180 -0.98880  0           0\n",
              "5  4.36840  9.6718 -3.96060 -3.16250  0           0\n",
              "6  3.59120  3.0129  0.72888  0.56421  0           0\n",
              "7  2.09220 -6.8100  8.46360 -0.60216  0           0\n",
              "8  3.20320  5.7588 -0.75345 -0.61251  0           0\n",
              "9  1.53560  9.1772 -2.27180 -0.73535  0           0"
            ],
            "text/html": [
              "\n",
              "  <div id=\"df-050c24ca-fc85-4baf-b205-d8b3f58ee211\" class=\"colab-df-container\">\n",
              "    <div>\n",
              "<style scoped>\n",
              "    .dataframe tbody tr th:only-of-type {\n",
              "        vertical-align: middle;\n",
              "    }\n",
              "\n",
              "    .dataframe tbody tr th {\n",
              "        vertical-align: top;\n",
              "    }\n",
              "\n",
              "    .dataframe thead th {\n",
              "        text-align: right;\n",
              "    }\n",
              "</style>\n",
              "<table border=\"1\" class=\"dataframe\">\n",
              "  <thead>\n",
              "    <tr style=\"text-align: right;\">\n",
              "      <th></th>\n",
              "      <th>0</th>\n",
              "      <th>1</th>\n",
              "      <th>2</th>\n",
              "      <th>3</th>\n",
              "      <th>4</th>\n",
              "      <th>class_test</th>\n",
              "    </tr>\n",
              "  </thead>\n",
              "  <tbody>\n",
              "    <tr>\n",
              "      <th>0</th>\n",
              "      <td>3.62160</td>\n",
              "      <td>8.6661</td>\n",
              "      <td>-2.80730</td>\n",
              "      <td>-0.44699</td>\n",
              "      <td>0</td>\n",
              "      <td>0</td>\n",
              "    </tr>\n",
              "    <tr>\n",
              "      <th>1</th>\n",
              "      <td>4.54590</td>\n",
              "      <td>8.1674</td>\n",
              "      <td>-2.45860</td>\n",
              "      <td>-1.46210</td>\n",
              "      <td>0</td>\n",
              "      <td>0</td>\n",
              "    </tr>\n",
              "    <tr>\n",
              "      <th>2</th>\n",
              "      <td>3.86600</td>\n",
              "      <td>-2.6383</td>\n",
              "      <td>1.92420</td>\n",
              "      <td>0.10645</td>\n",
              "      <td>0</td>\n",
              "      <td>0</td>\n",
              "    </tr>\n",
              "    <tr>\n",
              "      <th>3</th>\n",
              "      <td>3.45660</td>\n",
              "      <td>9.5228</td>\n",
              "      <td>-4.01120</td>\n",
              "      <td>-3.59440</td>\n",
              "      <td>0</td>\n",
              "      <td>0</td>\n",
              "    </tr>\n",
              "    <tr>\n",
              "      <th>4</th>\n",
              "      <td>0.32924</td>\n",
              "      <td>-4.4552</td>\n",
              "      <td>4.57180</td>\n",
              "      <td>-0.98880</td>\n",
              "      <td>0</td>\n",
              "      <td>0</td>\n",
              "    </tr>\n",
              "    <tr>\n",
              "      <th>5</th>\n",
              "      <td>4.36840</td>\n",
              "      <td>9.6718</td>\n",
              "      <td>-3.96060</td>\n",
              "      <td>-3.16250</td>\n",
              "      <td>0</td>\n",
              "      <td>0</td>\n",
              "    </tr>\n",
              "    <tr>\n",
              "      <th>6</th>\n",
              "      <td>3.59120</td>\n",
              "      <td>3.0129</td>\n",
              "      <td>0.72888</td>\n",
              "      <td>0.56421</td>\n",
              "      <td>0</td>\n",
              "      <td>0</td>\n",
              "    </tr>\n",
              "    <tr>\n",
              "      <th>7</th>\n",
              "      <td>2.09220</td>\n",
              "      <td>-6.8100</td>\n",
              "      <td>8.46360</td>\n",
              "      <td>-0.60216</td>\n",
              "      <td>0</td>\n",
              "      <td>0</td>\n",
              "    </tr>\n",
              "    <tr>\n",
              "      <th>8</th>\n",
              "      <td>3.20320</td>\n",
              "      <td>5.7588</td>\n",
              "      <td>-0.75345</td>\n",
              "      <td>-0.61251</td>\n",
              "      <td>0</td>\n",
              "      <td>0</td>\n",
              "    </tr>\n",
              "    <tr>\n",
              "      <th>9</th>\n",
              "      <td>1.53560</td>\n",
              "      <td>9.1772</td>\n",
              "      <td>-2.27180</td>\n",
              "      <td>-0.73535</td>\n",
              "      <td>0</td>\n",
              "      <td>0</td>\n",
              "    </tr>\n",
              "  </tbody>\n",
              "</table>\n",
              "</div>\n",
              "    <div class=\"colab-df-buttons\">\n",
              "\n",
              "  <div class=\"colab-df-container\">\n",
              "    <button class=\"colab-df-convert\" onclick=\"convertToInteractive('df-050c24ca-fc85-4baf-b205-d8b3f58ee211')\"\n",
              "            title=\"Convert this dataframe to an interactive table.\"\n",
              "            style=\"display:none;\">\n",
              "\n",
              "  <svg xmlns=\"http://www.w3.org/2000/svg\" height=\"24px\" viewBox=\"0 -960 960 960\">\n",
              "    <path d=\"M120-120v-720h720v720H120Zm60-500h600v-160H180v160Zm220 220h160v-160H400v160Zm0 220h160v-160H400v160ZM180-400h160v-160H180v160Zm440 0h160v-160H620v160ZM180-180h160v-160H180v160Zm440 0h160v-160H620v160Z\"/>\n",
              "  </svg>\n",
              "    </button>\n",
              "\n",
              "  <style>\n",
              "    .colab-df-container {\n",
              "      display:flex;\n",
              "      gap: 12px;\n",
              "    }\n",
              "\n",
              "    .colab-df-convert {\n",
              "      background-color: #E8F0FE;\n",
              "      border: none;\n",
              "      border-radius: 50%;\n",
              "      cursor: pointer;\n",
              "      display: none;\n",
              "      fill: #1967D2;\n",
              "      height: 32px;\n",
              "      padding: 0 0 0 0;\n",
              "      width: 32px;\n",
              "    }\n",
              "\n",
              "    .colab-df-convert:hover {\n",
              "      background-color: #E2EBFA;\n",
              "      box-shadow: 0px 1px 2px rgba(60, 64, 67, 0.3), 0px 1px 3px 1px rgba(60, 64, 67, 0.15);\n",
              "      fill: #174EA6;\n",
              "    }\n",
              "\n",
              "    .colab-df-buttons div {\n",
              "      margin-bottom: 4px;\n",
              "    }\n",
              "\n",
              "    [theme=dark] .colab-df-convert {\n",
              "      background-color: #3B4455;\n",
              "      fill: #D2E3FC;\n",
              "    }\n",
              "\n",
              "    [theme=dark] .colab-df-convert:hover {\n",
              "      background-color: #434B5C;\n",
              "      box-shadow: 0px 1px 3px 1px rgba(0, 0, 0, 0.15);\n",
              "      filter: drop-shadow(0px 1px 2px rgba(0, 0, 0, 0.3));\n",
              "      fill: #FFFFFF;\n",
              "    }\n",
              "  </style>\n",
              "\n",
              "    <script>\n",
              "      const buttonEl =\n",
              "        document.querySelector('#df-050c24ca-fc85-4baf-b205-d8b3f58ee211 button.colab-df-convert');\n",
              "      buttonEl.style.display =\n",
              "        google.colab.kernel.accessAllowed ? 'block' : 'none';\n",
              "\n",
              "      async function convertToInteractive(key) {\n",
              "        const element = document.querySelector('#df-050c24ca-fc85-4baf-b205-d8b3f58ee211');\n",
              "        const dataTable =\n",
              "          await google.colab.kernel.invokeFunction('convertToInteractive',\n",
              "                                                    [key], {});\n",
              "        if (!dataTable) return;\n",
              "\n",
              "        const docLinkHtml = 'Like what you see? Visit the ' +\n",
              "          '<a target=\"_blank\" href=https://colab.research.google.com/notebooks/data_table.ipynb>data table notebook</a>'\n",
              "          + ' to learn more about interactive tables.';\n",
              "        element.innerHTML = '';\n",
              "        dataTable['output_type'] = 'display_data';\n",
              "        await google.colab.output.renderOutput(dataTable, element);\n",
              "        const docLink = document.createElement('div');\n",
              "        docLink.innerHTML = docLinkHtml;\n",
              "        element.appendChild(docLink);\n",
              "      }\n",
              "    </script>\n",
              "  </div>\n",
              "\n",
              "\n",
              "<div id=\"df-1866b409-103c-4d2d-ad8e-3d366153c6fb\">\n",
              "  <button class=\"colab-df-quickchart\" onclick=\"quickchart('df-1866b409-103c-4d2d-ad8e-3d366153c6fb')\"\n",
              "            title=\"Suggest charts\"\n",
              "            style=\"display:none;\">\n",
              "\n",
              "<svg xmlns=\"http://www.w3.org/2000/svg\" height=\"24px\"viewBox=\"0 0 24 24\"\n",
              "     width=\"24px\">\n",
              "    <g>\n",
              "        <path d=\"M19 3H5c-1.1 0-2 .9-2 2v14c0 1.1.9 2 2 2h14c1.1 0 2-.9 2-2V5c0-1.1-.9-2-2-2zM9 17H7v-7h2v7zm4 0h-2V7h2v10zm4 0h-2v-4h2v4z\"/>\n",
              "    </g>\n",
              "</svg>\n",
              "  </button>\n",
              "\n",
              "<style>\n",
              "  .colab-df-quickchart {\n",
              "      --bg-color: #E8F0FE;\n",
              "      --fill-color: #1967D2;\n",
              "      --hover-bg-color: #E2EBFA;\n",
              "      --hover-fill-color: #174EA6;\n",
              "      --disabled-fill-color: #AAA;\n",
              "      --disabled-bg-color: #DDD;\n",
              "  }\n",
              "\n",
              "  [theme=dark] .colab-df-quickchart {\n",
              "      --bg-color: #3B4455;\n",
              "      --fill-color: #D2E3FC;\n",
              "      --hover-bg-color: #434B5C;\n",
              "      --hover-fill-color: #FFFFFF;\n",
              "      --disabled-bg-color: #3B4455;\n",
              "      --disabled-fill-color: #666;\n",
              "  }\n",
              "\n",
              "  .colab-df-quickchart {\n",
              "    background-color: var(--bg-color);\n",
              "    border: none;\n",
              "    border-radius: 50%;\n",
              "    cursor: pointer;\n",
              "    display: none;\n",
              "    fill: var(--fill-color);\n",
              "    height: 32px;\n",
              "    padding: 0;\n",
              "    width: 32px;\n",
              "  }\n",
              "\n",
              "  .colab-df-quickchart:hover {\n",
              "    background-color: var(--hover-bg-color);\n",
              "    box-shadow: 0 1px 2px rgba(60, 64, 67, 0.3), 0 1px 3px 1px rgba(60, 64, 67, 0.15);\n",
              "    fill: var(--button-hover-fill-color);\n",
              "  }\n",
              "\n",
              "  .colab-df-quickchart-complete:disabled,\n",
              "  .colab-df-quickchart-complete:disabled:hover {\n",
              "    background-color: var(--disabled-bg-color);\n",
              "    fill: var(--disabled-fill-color);\n",
              "    box-shadow: none;\n",
              "  }\n",
              "\n",
              "  .colab-df-spinner {\n",
              "    border: 2px solid var(--fill-color);\n",
              "    border-color: transparent;\n",
              "    border-bottom-color: var(--fill-color);\n",
              "    animation:\n",
              "      spin 1s steps(1) infinite;\n",
              "  }\n",
              "\n",
              "  @keyframes spin {\n",
              "    0% {\n",
              "      border-color: transparent;\n",
              "      border-bottom-color: var(--fill-color);\n",
              "      border-left-color: var(--fill-color);\n",
              "    }\n",
              "    20% {\n",
              "      border-color: transparent;\n",
              "      border-left-color: var(--fill-color);\n",
              "      border-top-color: var(--fill-color);\n",
              "    }\n",
              "    30% {\n",
              "      border-color: transparent;\n",
              "      border-left-color: var(--fill-color);\n",
              "      border-top-color: var(--fill-color);\n",
              "      border-right-color: var(--fill-color);\n",
              "    }\n",
              "    40% {\n",
              "      border-color: transparent;\n",
              "      border-right-color: var(--fill-color);\n",
              "      border-top-color: var(--fill-color);\n",
              "    }\n",
              "    60% {\n",
              "      border-color: transparent;\n",
              "      border-right-color: var(--fill-color);\n",
              "    }\n",
              "    80% {\n",
              "      border-color: transparent;\n",
              "      border-right-color: var(--fill-color);\n",
              "      border-bottom-color: var(--fill-color);\n",
              "    }\n",
              "    90% {\n",
              "      border-color: transparent;\n",
              "      border-bottom-color: var(--fill-color);\n",
              "    }\n",
              "  }\n",
              "</style>\n",
              "\n",
              "  <script>\n",
              "    async function quickchart(key) {\n",
              "      const quickchartButtonEl =\n",
              "        document.querySelector('#' + key + ' button');\n",
              "      quickchartButtonEl.disabled = true;  // To prevent multiple clicks.\n",
              "      quickchartButtonEl.classList.add('colab-df-spinner');\n",
              "      try {\n",
              "        const charts = await google.colab.kernel.invokeFunction(\n",
              "            'suggestCharts', [key], {});\n",
              "      } catch (error) {\n",
              "        console.error('Error during call to suggestCharts:', error);\n",
              "      }\n",
              "      quickchartButtonEl.classList.remove('colab-df-spinner');\n",
              "      quickchartButtonEl.classList.add('colab-df-quickchart-complete');\n",
              "    }\n",
              "    (() => {\n",
              "      let quickchartButtonEl =\n",
              "        document.querySelector('#df-1866b409-103c-4d2d-ad8e-3d366153c6fb button');\n",
              "      quickchartButtonEl.style.display =\n",
              "        google.colab.kernel.accessAllowed ? 'block' : 'none';\n",
              "    })();\n",
              "  </script>\n",
              "</div>\n",
              "    </div>\n",
              "  </div>\n"
            ],
            "application/vnd.google.colaboratory.intrinsic+json": {
              "type": "dataframe",
              "variable_name": "mod_data",
              "summary": "{\n  \"name\": \"mod_data\",\n  \"rows\": 1372,\n  \"fields\": [\n    {\n      \"column\": 0,\n      \"properties\": {\n        \"dtype\": \"number\",\n        \"std\": 2.8427625862785617,\n        \"min\": -7.0421,\n        \"max\": 6.8248,\n        \"num_unique_values\": 1338,\n        \"samples\": [\n          -2.286,\n          -0.539,\n          0.89512\n        ],\n        \"semantic_type\": \"\",\n        \"description\": \"\"\n      }\n    },\n    {\n      \"column\": 1,\n      \"properties\": {\n        \"dtype\": \"number\",\n        \"std\": 5.869046743695517,\n        \"min\": -13.7731,\n        \"max\": 12.9516,\n        \"num_unique_values\": 1256,\n        \"samples\": [\n          11.2217,\n          -4.6145,\n          6.1499\n        ],\n        \"semantic_type\": \"\",\n        \"description\": \"\"\n      }\n    },\n    {\n      \"column\": 2,\n      \"properties\": {\n        \"dtype\": \"number\",\n        \"std\": 4.310030090106596,\n        \"min\": -5.2861,\n        \"max\": 17.9274,\n        \"num_unique_values\": 1270,\n        \"samples\": [\n          7.8981,\n          9.8208,\n          0.20021\n        ],\n        \"semantic_type\": \"\",\n        \"description\": \"\"\n      }\n    },\n    {\n      \"column\": 3,\n      \"properties\": {\n        \"dtype\": \"number\",\n        \"std\": 2.10101313735961,\n        \"min\": -8.5482,\n        \"max\": 2.4495,\n        \"num_unique_values\": 1156,\n        \"samples\": [\n          1.0271,\n          0.90946,\n          -0.026738\n        ],\n        \"semantic_type\": \"\",\n        \"description\": \"\"\n      }\n    },\n    {\n      \"column\": 4,\n      \"properties\": {\n        \"dtype\": \"number\",\n        \"std\": 0,\n        \"min\": 0,\n        \"max\": 1,\n        \"num_unique_values\": 2,\n        \"samples\": [\n          1,\n          0\n        ],\n        \"semantic_type\": \"\",\n        \"description\": \"\"\n      }\n    },\n    {\n      \"column\": \"class_test\",\n      \"properties\": {\n        \"dtype\": \"number\",\n        \"std\": 0,\n        \"min\": 0,\n        \"max\": 1,\n        \"num_unique_values\": 2,\n        \"samples\": [\n          1,\n          0\n        ],\n        \"semantic_type\": \"\",\n        \"description\": \"\"\n      }\n    }\n  ]\n}"
            }
          },
          "metadata": {},
          "execution_count": 12
        }
      ]
    },
    {
      "cell_type": "markdown",
      "source": [
        "[:-2] is the original class label for positive and negative data\n",
        "\n",
        "[:-1] is the new class label for positive and unlabeled data"
      ],
      "metadata": {
        "id": "rWd4ay59aL_s"
      }
    },
    {
      "cell_type": "code",
      "source": [
        "x_data = mod_data.iloc[:,:-2].values # just the X\n",
        "y_labeled = mod_data.iloc[:,-1].values # new class (just the P & U)\n",
        "y_positive = mod_data.iloc[:,-2].values # original class (just the P & N)"
      ],
      "metadata": {
        "id": "RAOUBfQ6ZwFm"
      },
      "execution_count": 13,
      "outputs": []
    },
    {
      "cell_type": "code",
      "source": [
        "print(x_data.shape)\n",
        "print(y_labeled.shape)\n",
        "print(y_positive.shape)"
      ],
      "metadata": {
        "colab": {
          "base_uri": "https://localhost:8080/"
        },
        "id": "zxdq3VF2cujs",
        "outputId": "5a175213-964e-4ca0-8737-6e9ae1461db6"
      },
      "execution_count": 14,
      "outputs": [
        {
          "output_type": "stream",
          "name": "stdout",
          "text": [
            "(1372, 4)\n",
            "(1372,)\n",
            "(1372,)\n"
          ]
        }
      ]
    },
    {
      "cell_type": "code",
      "source": [
        "pd.Series(y_positive).value_counts()"
      ],
      "metadata": {
        "colab": {
          "base_uri": "https://localhost:8080/"
        },
        "id": "pdsIVnCDc6lc",
        "outputId": "f1197db1-7854-4f0c-87fb-f96af0d3c212"
      },
      "execution_count": 15,
      "outputs": [
        {
          "output_type": "execute_result",
          "data": {
            "text/plain": [
              "0    762\n",
              "1    610\n",
              "dtype: int64"
            ]
          },
          "metadata": {},
          "execution_count": 15
        }
      ]
    },
    {
      "cell_type": "code",
      "source": [
        "pd.Series(y_labeled).value_counts()"
      ],
      "metadata": {
        "colab": {
          "base_uri": "https://localhost:8080/"
        },
        "id": "L7CVy_3fdRAN",
        "outputId": "16ca60e4-cccf-45af-fbec-e5262a94226a"
      },
      "execution_count": 16,
      "outputs": [
        {
          "output_type": "execute_result",
          "data": {
            "text/plain": [
              "0    1219\n",
              "1     153\n",
              "dtype: int64"
            ]
          },
          "metadata": {},
          "execution_count": 16
        }
      ]
    },
    {
      "cell_type": "markdown",
      "source": [
        "训练集被分为：\n",
        "\n",
        "* fitting-set（拟合集） 拟合P(s=1|X)\n",
        "\n",
        "* held-out set（留出集） 估计P(s=1|y=1)\n"
      ],
      "metadata": {
        "id": "PChOypVdauyP"
      }
    },
    {
      "cell_type": "code",
      "source": [
        "def fit_PU_estimator(X, y, hold_out_ratio, estimator):\n",
        "\n",
        "    # 所有已经标注的正样本\n",
        "    # find the indices of the positive & labeled elements\n",
        "    assert (type(y) == np.ndarray), \"Must pass np.ndarray rather than list as y\"\n",
        "    positives = np.where(y == 1.)[0]\n",
        "    print(\"已经标注的正样本数量：\", len(positives))\n",
        "    # hold_out_size = the number of positives & labeled samples\n",
        "    # that we will use later to estimate P(s=1|y=1)\n",
        "    hold_out_size = int(np.ceil(len(positives) * hold_out_ratio))\n",
        "    np.random.shuffle(positives)\n",
        "    # hold_out = the indices of the positive elements\n",
        "    # that we will use later to estimate P(s=1|y=1)\n",
        "    hold_out = positives[:hold_out_size]\n",
        "\n",
        "    print(\"放在一边的正样本数量：\", len(hold_out))\n",
        "    # 放在一边的真实正样本\n",
        "    # the actual positive elements that we will keep aside\n",
        "    X_hold_out = X[hold_out]\n",
        "\n",
        "\n",
        "    # remove the held out elements from X and y\n",
        "    X = np.delete(X, hold_out ,0)\n",
        "    y = np.delete(y, hold_out)\n",
        "\n",
        "    # fit the estimator on the unlabeled samples + (part of the) positive and labeled ones\n",
        "    # in order to estimate P(s=1|X)\n",
        "    estimator.fit(X, y)\n",
        "\n",
        "    # use the estimator for prediction of the positive held-out set\n",
        "    # in order to estimate P(s=1|y=1)\n",
        "    hold_out_predictions = estimator.predict_proba(X_hold_out)\n",
        "\n",
        "    # take the probability that it is 1\n",
        "    hold_out_predictions = hold_out_predictions[:,1]\n",
        "\n",
        "    # save the mean probability\n",
        "    c = np.mean(hold_out_predictions)\n",
        "    return estimator, c\n",
        "\n",
        "#predict_proba()函数返回的是数组（预测该样本为某个标签的概率值）\n",
        "def predict_PU_prob(X, estimator, prob_s1y1):\n",
        "    predicted_s = estimator.predict_proba(X)\n",
        "    predicted_s = predicted_s[:,1]\n",
        "    print(predicted_s)\n",
        "    return predicted_s / prob_s1y1"
      ],
      "metadata": {
        "id": "-X1ew7GuaoUj"
      },
      "execution_count": 17,
      "outputs": []
    },
    {
      "cell_type": "code",
      "source": [
        "pu_estimator, probs1y1 = fit_PU_estimator(x_data, y_labeled, 0.3, xgb.XGBClassifier())"
      ],
      "metadata": {
        "colab": {
          "base_uri": "https://localhost:8080/"
        },
        "id": "hRmZepo6g1uq",
        "outputId": "69b0b2c1-c05c-4b14-f31b-4de29aaa7257"
      },
      "execution_count": 18,
      "outputs": [
        {
          "output_type": "stream",
          "name": "stdout",
          "text": [
            "已经标注的正样本数量： 153\n",
            "放在一边的正样本数量： 46\n"
          ]
        }
      ]
    },
    {
      "cell_type": "code",
      "source": [
        "predicted = predict_PU_prob(x_data, pu_estimator, probs1y1)"
      ],
      "metadata": {
        "colab": {
          "base_uri": "https://localhost:8080/"
        },
        "id": "VXxnsq24g7Kv",
        "outputId": "3690b68f-3980-4f0f-c6ea-3c2a2ea3c1d6"
      },
      "execution_count": 19,
      "outputs": [
        {
          "output_type": "stream",
          "name": "stdout",
          "text": [
            "[1.7303786e-04 2.9433658e-04 3.3927560e-04 ... 2.1851294e-02 5.2632405e-03\n",
            " 7.2228694e-01]\n"
          ]
        }
      ]
    },
    {
      "cell_type": "code",
      "source": [
        "predicted"
      ],
      "metadata": {
        "colab": {
          "base_uri": "https://localhost:8080/"
        },
        "id": "A2LEUHfQg-eu",
        "outputId": "e7ccc039-0822-4691-fc9f-64297e366cdf"
      },
      "execution_count": 20,
      "outputs": [
        {
          "output_type": "execute_result",
          "data": {
            "text/plain": [
              "array([1.5236187e-03, 2.5916682e-03, 2.9873615e-03, ..., 1.9240321e-01,\n",
              "       4.6343453e-02, 6.3598213e+00], dtype=float32)"
            ]
          },
          "metadata": {},
          "execution_count": 20
        }
      ]
    },
    {
      "cell_type": "code",
      "source": [
        "predicted = np.zeros(len(x_data))\n",
        "learning_iterations = 24\n",
        "for index in range(learning_iterations):\n",
        "    pu_estimator, probs1y1 = fit_PU_estimator(x_data, y_labeled, 0.3, xgb.XGBClassifier())\n",
        "    predicted += predict_PU_prob(x_data, pu_estimator, probs1y1)\n",
        "    if(index%4 == 0):\n",
        "        print(f'Learning Iteration::{index}/{learning_iterations} => P(s=1|y=1)={round(probs1y1,2)}')"
      ],
      "metadata": {
        "colab": {
          "base_uri": "https://localhost:8080/"
        },
        "id": "HwxX_uPWeevv",
        "outputId": "f984fc55-c700-4952-ebf7-981823dfa2cb"
      },
      "execution_count": 21,
      "outputs": [
        {
          "output_type": "stream",
          "name": "stdout",
          "text": [
            "已经标注的正样本数量： 153\n",
            "放在一边的正样本数量： 46\n",
            "[4.7391193e-04 2.1189748e-04 1.3196617e-03 ... 3.6365292e-03 2.8840124e-03\n",
            " 7.6547897e-01]\n",
            "Learning Iteration::0/24 => P(s=1|y=1)=0.1599999964237213\n",
            "已经标注的正样本数量： 153\n",
            "放在一边的正样本数量： 46\n",
            "[0.00026312 0.00010397 0.00057675 ... 0.01735557 0.00229329 0.05113141]\n",
            "已经标注的正样本数量： 153\n",
            "放在一边的正样本数量： 46\n",
            "[1.4263815e-03 3.2365858e-04 1.1558358e-04 ... 4.4106701e-03 1.0728305e-03\n",
            " 7.5551850e-01]\n",
            "已经标注的正样本数量： 153\n",
            "放在一边的正样本数量： 46\n",
            "[4.9697846e-04 2.9907210e-04 2.7873748e-04 ... 1.3354010e-02 1.1771217e-02\n",
            " 7.6111954e-01]\n",
            "已经标注的正样本数量： 153\n",
            "放在一边的正样本数量： 46\n",
            "[2.21449672e-03 3.33177421e-04 1.13849135e-04 ... 4.66951691e-02\n",
            " 1.53614848e-03 8.08548152e-01]\n",
            "Learning Iteration::4/24 => P(s=1|y=1)=0.1599999964237213\n",
            "已经标注的正样本数量： 153\n",
            "放在一边的正样本数量： 46\n",
            "[4.4408647e-04 1.1269503e-04 8.4703247e-04 ... 4.1298185e-02 2.3317570e-03\n",
            " 6.9473463e-01]\n",
            "已经标注的正样本数量： 153\n",
            "放在一边的正样本数量： 46\n",
            "[6.8422809e-04 5.1472668e-04 1.4303111e-04 ... 2.2668487e-03 1.8005323e-02\n",
            " 7.7999681e-01]\n",
            "已经标注的正样本数量： 153\n",
            "放在一边的正样本数量： 46\n",
            "[8.6534012e-04 5.2072521e-04 4.6147386e-04 ... 1.5018895e-02 3.1591349e-03\n",
            " 7.5364649e-01]\n",
            "已经标注的正样本数量： 153\n",
            "放在一边的正样本数量： 46\n",
            "[7.2635774e-04 1.1684200e-04 1.1013970e-03 ... 4.5953464e-02 3.1164319e-03\n",
            " 8.0189955e-01]\n",
            "Learning Iteration::8/24 => P(s=1|y=1)=0.14000000059604645\n",
            "已经标注的正样本数量： 153\n",
            "放在一边的正样本数量： 46\n",
            "[2.34874096e-04 1.01599995e-04 4.63366858e-04 ... 2.08713152e-02\n",
            " 1.40765402e-03 7.85405278e-01]\n",
            "已经标注的正样本数量： 153\n",
            "放在一边的正样本数量： 46\n",
            "[6.1124854e-05 8.6936765e-05 1.7584414e-04 ... 8.2794137e-02 7.6065930e-03\n",
            " 8.5273586e-02]\n",
            "已经标注的正样本数量： 153\n",
            "放在一边的正样本数量： 46\n",
            "[7.3561032e-04 1.6445025e-04 8.0377987e-04 ... 5.3074058e-02 1.5406992e-03\n",
            " 6.8794250e-01]\n",
            "已经标注的正样本数量： 153\n",
            "放在一边的正样本数量： 46\n",
            "[3.1846829e-04 9.4422088e-05 9.4940205e-04 ... 2.2812387e-02 8.8043902e-03\n",
            " 8.2741112e-01]\n",
            "Learning Iteration::12/24 => P(s=1|y=1)=0.12999999523162842\n",
            "已经标注的正样本数量： 153\n",
            "放在一边的正样本数量： 46\n",
            "[4.7318291e-04 1.8274556e-04 2.4343446e-04 ... 3.4293886e-02 1.1639629e-02\n",
            " 7.6935637e-01]\n",
            "已经标注的正样本数量： 153\n",
            "放在一边的正样本数量： 46\n",
            "[0.00054327 0.00021343 0.00014281 ... 0.01430104 0.00378668 0.03765455]\n",
            "已经标注的正样本数量： 153\n",
            "放在一边的正样本数量： 46\n",
            "[2.1276883e-04 1.1821958e-04 3.3665707e-04 ... 4.0493783e-02 1.5498513e-03\n",
            " 7.4244022e-01]\n",
            "已经标注的正样本数量： 153\n",
            "放在一边的正样本数量： 46\n",
            "[4.0061356e-04 4.6941419e-05 5.3939095e-04 ... 1.9092411e-02 1.0956481e-02\n",
            " 8.0122793e-01]\n",
            "Learning Iteration::16/24 => P(s=1|y=1)=0.14000000059604645\n",
            "已经标注的正样本数量： 153\n",
            "放在一边的正样本数量： 46\n",
            "[1.1102721e-04 4.8276950e-05 8.6812529e-04 ... 2.5162321e-02 6.2254393e-03\n",
            " 6.9431895e-01]\n",
            "已经标注的正样本数量： 153\n",
            "放在一边的正样本数量： 46\n",
            "[0.00050494 0.00021719 0.00017525 ... 0.00904054 0.00643388 0.08933553]\n",
            "已经标注的正样本数量： 153\n",
            "放在一边的正样本数量： 46\n",
            "[1.8391604e-04 1.0722495e-04 1.4757630e-03 ... 3.6917407e-02 2.9770443e-03\n",
            " 7.5684607e-01]\n",
            "已经标注的正样本数量： 153\n",
            "放在一边的正样本数量： 46\n",
            "[4.3308683e-04 4.9198465e-04 3.5261086e-04 ... 2.9678138e-02 3.6245259e-03\n",
            " 7.0497006e-01]\n",
            "Learning Iteration::20/24 => P(s=1|y=1)=0.11999999731779099\n",
            "已经标注的正样本数量： 153\n",
            "放在一边的正样本数量： 46\n",
            "[0.00042475 0.00021666 0.00060821 ... 0.00674563 0.0017132  0.00277394]\n",
            "已经标注的正样本数量： 153\n",
            "放在一边的正样本数量： 46\n",
            "[5.4286007e-04 3.0975707e-04 8.0379599e-04 ... 1.3218076e-02 1.4950695e-02\n",
            " 7.3582214e-01]\n",
            "已经标注的正样本数量： 153\n",
            "放在一边的正样本数量： 46\n",
            "[1.5858328e-04 6.0104710e-05 1.0046355e-03 ... 2.7233451e-03 1.6687231e-02\n",
            " 7.8174543e-01]\n"
          ]
        }
      ]
    },
    {
      "cell_type": "code",
      "source": [
        "y_predict = [1 if x > 0.5 else 0 for x in (predicted/learning_iterations)]\n",
        "evaluate_results(y_positive, y_predict)"
      ],
      "metadata": {
        "colab": {
          "base_uri": "https://localhost:8080/"
        },
        "id": "Yo-LBk5nf79j",
        "outputId": "1ec69946-5df6-42ab-b739-a96d0a698491"
      },
      "execution_count": 22,
      "outputs": [
        {
          "output_type": "stream",
          "name": "stdout",
          "text": [
            "Classification results:\n",
            "f1: 60.09%\n",
            "roc: 71.48%\n",
            "recall: 42.95%\n",
            "precision: 100.00%\n"
          ]
        }
      ]
    },
    {
      "cell_type": "code",
      "source": [
        "y_predict = [1 if x > 0.02 else 0 for x in (predicted/learning_iterations)]\n",
        "evaluate_results(y_positive, y_predict)"
      ],
      "metadata": {
        "colab": {
          "base_uri": "https://localhost:8080/"
        },
        "id": "lFaMyKaGnz3-",
        "outputId": "12990cba-547e-46e5-bfc8-ab8f1b0dde78"
      },
      "execution_count": 23,
      "outputs": [
        {
          "output_type": "stream",
          "name": "stdout",
          "text": [
            "Classification results:\n",
            "f1: 96.32%\n",
            "roc: 96.85%\n",
            "recall: 98.69%\n",
            "precision: 94.06%\n"
          ]
        }
      ]
    }
  ]
}