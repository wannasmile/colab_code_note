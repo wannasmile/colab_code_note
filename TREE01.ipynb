{
  "nbformat": 4,
  "nbformat_minor": 0,
  "metadata": {
    "colab": {
      "provenance": [],
      "collapsed_sections": [],
      "authorship_tag": "ABX9TyNJ6J3Ek/UQ0i5rRq10teRW",
      "include_colab_link": true
    },
    "kernelspec": {
      "name": "python3",
      "display_name": "Python 3"
    },
    "language_info": {
      "name": "python"
    }
  },
  "cells": [
    {
      "cell_type": "markdown",
      "metadata": {
        "id": "view-in-github",
        "colab_type": "text"
      },
      "source": [
        "<a href=\"https://colab.research.google.com/github/wannasmile/colab_code_note/blob/main/TREE01.ipynb\" target=\"_parent\"><img src=\"https://colab.research.google.com/assets/colab-badge.svg\" alt=\"Open In Colab\"/></a>"
      ]
    },
    {
      "cell_type": "code",
      "source": [
        "import json\n",
        "\n",
        "\n",
        "def generate_tree(source, parent):\n",
        "    tree = []\n",
        "    for item in source:\n",
        "        if item[\"parent\"] == parent:\n",
        "            item[\"child\"] = generate_tree(source, item[\"id\"])\n",
        "            tree.append(item)\n",
        "    return tree\n",
        "\n",
        "\n",
        "if __name__ == '__main__':\n",
        "    permission_source = [\n",
        "        {\"id\": 1, \"name\": '电器', \"parent\": 0},\n",
        "        {\"id\": 2, \"name\": '水果', \"parent\": 0},\n",
        "        {\"id\": 3, \"name\": '家用电器', \"parent\": 1},\n",
        "        {\"id\": 4, \"name\": '电吹风', \"parent\": 3},\n",
        "        {\"id\": 5, \"name\": '电风扇', \"parent\": 3},\n",
        "        {\"id\": 6, \"name\": '台灯', \"parent\": 3},\n",
        "        {\"id\": 7, \"name\": '商用电器', \"parent\": 1},\n",
        "        {\"id\": 8, \"name\": '大型电热锅', \"parent\": 7},\n",
        "    ]\n",
        "\n",
        "    permission_tree = generate_tree(permission_source, 0)\n",
        "\n",
        "    print(json.dumps(permission_tree, ensure_ascii=False))\n"
      ],
      "metadata": {
        "colab": {
          "base_uri": "https://localhost:8080/"
        },
        "id": "CmFK7nK1SG60",
        "outputId": "91bf339d-8f25-4ca1-8af5-31b304ed17f3"
      },
      "execution_count": 1,
      "outputs": [
        {
          "output_type": "stream",
          "name": "stdout",
          "text": [
            "[{\"id\": 1, \"name\": \"电器\", \"parent\": 0, \"child\": [{\"id\": 3, \"name\": \"家用电器\", \"parent\": 1, \"child\": [{\"id\": 4, \"name\": \"电吹风\", \"parent\": 3, \"child\": []}, {\"id\": 5, \"name\": \"电风扇\", \"parent\": 3, \"child\": []}, {\"id\": 6, \"name\": \"台灯\", \"parent\": 3, \"child\": []}]}, {\"id\": 7, \"name\": \"商用电器\", \"parent\": 1, \"child\": [{\"id\": 8, \"name\": \"大型电热锅\", \"parent\": 7, \"child\": []}]}]}, {\"id\": 2, \"name\": \"水果\", \"parent\": 0, \"child\": []}]\n"
          ]
        }
      ]
    },
    {
      "cell_type": "code",
      "execution_count": 2,
      "metadata": {
        "colab": {
          "base_uri": "https://localhost:8080/"
        },
        "id": "Eu3Yo9-iR7WR",
        "outputId": "81f3b380-d7a3-4905-fb5c-af5d0f5293ca"
      },
      "outputs": [
        {
          "output_type": "stream",
          "name": "stdout",
          "text": [
            "[{\"id\": 1, \"name\": \"电器\", \"parent\": 0, \"child\": [{\"id\": 3, \"name\": \"家用电器\", \"parent\": 1, \"child\": [{\"id\": 4, \"name\": \"电吹风\", \"parent\": 3, \"child\": []}, {\"id\": 5, \"name\": \"电风扇\", \"parent\": 3, \"child\": []}, {\"id\": 6, \"name\": \"台灯\", \"parent\": 3, \"child\": []}]}, {\"id\": 7, \"name\": \"商用电器\", \"parent\": 1, \"child\": [{\"id\": 8, \"name\": \"大型电热锅\", \"parent\": 7, \"child\": []}]}]}, {\"id\": 2, \"name\": \"水果\", \"parent\": 0, \"child\": []}]\n"
          ]
        }
      ],
      "source": [
        "import json\n",
        "\n",
        "\n",
        "def generate_tree(source, parent, cache=[]):\n",
        "    tree = []\n",
        "    for item in source:\n",
        "        if item[\"id\"] in cache:\n",
        "            continue\n",
        "        if item[\"parent\"] == parent:\n",
        "            cache.append(item[\"id\"])\n",
        "            item[\"child\"] = generate_tree(source, item[\"id\"], cache)\n",
        "            tree.append(item)\n",
        "    return tree\n",
        "\n",
        "\n",
        "if __name__ == '__main__':\n",
        "    permission_source = [\n",
        "        {\"id\": 1, \"name\": '电器', \"parent\": 0},\n",
        "        {\"id\": 2, \"name\": '水果', \"parent\": 0},\n",
        "        {\"id\": 3, \"name\": '家用电器', \"parent\": 1},\n",
        "        {\"id\": 4, \"name\": '电吹风', \"parent\": 3},\n",
        "        {\"id\": 5, \"name\": '电风扇', \"parent\": 3},\n",
        "        {\"id\": 6, \"name\": '台灯', \"parent\": 3},\n",
        "        {\"id\": 7, \"name\": '商用电器', \"parent\": 1},\n",
        "        {\"id\": 8, \"name\": '大型电热锅', \"parent\": 7},\n",
        "    ]\n",
        "\n",
        "    permission_tree = generate_tree(permission_source, 0)\n",
        "\n",
        "    print(json.dumps(permission_tree, ensure_ascii=False))\n"
      ]
    }
  ]
}