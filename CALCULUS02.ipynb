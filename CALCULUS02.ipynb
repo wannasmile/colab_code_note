{
  "nbformat": 4,
  "nbformat_minor": 0,
  "metadata": {
    "colab": {
      "provenance": [],
      "authorship_tag": "ABX9TyOsDNfYSInpsbW8dN2FoOzB",
      "include_colab_link": true
    },
    "kernelspec": {
      "name": "python3",
      "display_name": "Python 3"
    },
    "language_info": {
      "name": "python"
    }
  },
  "cells": [
    {
      "cell_type": "markdown",
      "metadata": {
        "id": "view-in-github",
        "colab_type": "text"
      },
      "source": [
        "<a href=\"https://colab.research.google.com/github/wannasmile/colab_code_note/blob/main/CALCULUS02.ipynb\" target=\"_parent\"><img src=\"https://colab.research.google.com/assets/colab-badge.svg\" alt=\"Open In Colab\"/></a>"
      ]
    },
    {
      "cell_type": "markdown",
      "source": [
        "## Segment 1: Review of Introductory Calculus\n"
      ],
      "metadata": {
        "id": "3BgTGN6lB17r"
      }
    },
    {
      "cell_type": "code",
      "execution_count": 1,
      "metadata": {
        "id": "rq6QnCx-BeIJ"
      },
      "outputs": [],
      "source": [
        "import torch\n",
        "import matplotlib.pyplot as plt"
      ]
    },
    {
      "cell_type": "code",
      "source": [
        "x = torch.tensor([0, 1, 2, 3, 4, 5, 6, 7.])\n",
        "x"
      ],
      "metadata": {
        "colab": {
          "base_uri": "https://localhost:8080/"
        },
        "id": "v0SZ-0SUCjcQ",
        "outputId": "155546be-867f-4745-8622-7f21ed1efd64"
      },
      "execution_count": 2,
      "outputs": [
        {
          "output_type": "execute_result",
          "data": {
            "text/plain": [
              "tensor([0., 1., 2., 3., 4., 5., 6., 7.])"
            ]
          },
          "metadata": {},
          "execution_count": 2
        }
      ]
    },
    {
      "cell_type": "markdown",
      "source": [
        "The $y$ values were created using the equation of a line $y=mx+b$. \n",
        "\n",
        "This way, we know what the model parameters to be learned are, say, $m=-0.5$ and $b=2$. \n",
        "\n",
        "Random, normally-distributed noise has been added to simulate sampling error:\n"
      ],
      "metadata": {
        "id": "YZ_BXmZrDI-8"
      }
    },
    {
      "cell_type": "code",
      "source": [
        "# y = -0.5*x + 2 + torch.normal(mean=torch.zeros(8), std=0.2)"
      ],
      "metadata": {
        "id": "tw89_HmvDBbK"
      },
      "execution_count": 3,
      "outputs": []
    },
    {
      "cell_type": "markdown",
      "source": [
        "For reproducibility of this demo, here's a fixed example of $y$ values obtained by running the commented-out line above:"
      ],
      "metadata": {
        "id": "CMmNGnF9DseZ"
      }
    },
    {
      "cell_type": "code",
      "source": [
        "y = torch.tensor([1.86, 1.31, .62, .33, .09, -.67, -1.23, -1.37])\n",
        "y"
      ],
      "metadata": {
        "colab": {
          "base_uri": "https://localhost:8080/"
        },
        "id": "QSdHTmPzD-Gq",
        "outputId": "e1c1badc-8834-421b-9116-07e8aa992725"
      },
      "execution_count": 4,
      "outputs": [
        {
          "output_type": "execute_result",
          "data": {
            "text/plain": [
              "tensor([ 1.8600,  1.3100,  0.6200,  0.3300,  0.0900, -0.6700, -1.2300, -1.3700])"
            ]
          },
          "metadata": {},
          "execution_count": 4
        }
      ]
    },
    {
      "cell_type": "code",
      "source": [
        "fig, ax = plt.subplots()\n",
        "plt.title(\"Clinical Trial\")\n",
        "plt.xlabel(\"Drug Dosage (mL)\")\n",
        "plt.ylabel(\"Forgetfulness\")\n",
        "_ = ax.scatter(x, y)"
      ],
      "metadata": {
        "colab": {
          "base_uri": "https://localhost:8080/",
          "height": 295
        },
        "id": "tGUvalZTEDoV",
        "outputId": "36672751-518f-4203-a3ce-810334bd5189"
      },
      "execution_count": 5,
      "outputs": [
        {
          "output_type": "display_data",
          "data": {
            "text/plain": [
              "<Figure size 432x288 with 1 Axes>"
            ],
            "image/png": "[encoded data removed]"
          },
          "metadata": {
            "needs_background": "light"
          }
        }
      ]
    },
    {
      "cell_type": "code",
      "source": [
        "m = torch.tensor([0.9]).requires_grad_()\n",
        "m"
      ],
      "metadata": {
        "colab": {
          "base_uri": "https://localhost:8080/"
        },
        "id": "lfXc6ZVCEmzM",
        "outputId": "4f146875-c29a-42c4-8726-9d7ab63a74ca"
      },
      "execution_count": 6,
      "outputs": [
        {
          "output_type": "execute_result",
          "data": {
            "text/plain": [
              "tensor([0.9000], requires_grad=True)"
            ]
          },
          "metadata": {},
          "execution_count": 6
        }
      ]
    },
    {
      "cell_type": "code",
      "source": [
        "b = torch.tensor([0.1]).requires_grad_()\n",
        "b"
      ],
      "metadata": {
        "colab": {
          "base_uri": "https://localhost:8080/"
        },
        "id": "y8ZHQNXxK7Vf",
        "outputId": "a9edfa48-ca43-454f-c83d-681b41e91974"
      },
      "execution_count": 7,
      "outputs": [
        {
          "output_type": "execute_result",
          "data": {
            "text/plain": [
              "tensor([0.1000], requires_grad=True)"
            ]
          },
          "metadata": {},
          "execution_count": 7
        }
      ]
    },
    {
      "cell_type": "code",
      "source": [
        "def regression(my_x, my_m, my_b):\n",
        "    return my_m*my_x + my_b\n",
        "\n",
        "def regression_plot(my_x, my_y, my_m, my_b):\n",
        "    \n",
        "    fig, ax = plt.subplots()\n",
        "\n",
        "    ax.scatter(my_x, my_y)\n",
        "    \n",
        "    x_min, x_max = ax.get_xlim()\n",
        "    y_min = regression(x_min, my_m, my_b).detach().item()\n",
        "    y_max = regression(x_max, my_m, my_b).detach().item()\n",
        "    \n",
        "    ax.set_xlim([x_min, x_max])\n",
        "    _ = ax.plot([x_min, x_max], [y_min, y_max])\n",
        "\n",
        "regression_plot(x, y, m, b)"
      ],
      "metadata": {
        "colab": {
          "base_uri": "https://localhost:8080/",
          "height": 266
        },
        "id": "VevOr--vLB2B",
        "outputId": "88039772-f8af-446a-e590-8304394d5178"
      },
      "execution_count": 8,
      "outputs": [
        {
          "output_type": "display_data",
          "data": {
            "text/plain": [
              "<Figure size 432x288 with 1 Axes>"
            ],
            "image/png": "[encoded data removed]"
          },
          "metadata": {
            "needs_background": "light"
          }
        }
      ]
    },
    {
      "cell_type": "markdown",
      "source": [
        "requires_grad是Pytorch中通用数据结构Tensor的一个属性，用于说明当前量是否需要在计算中保留对应的梯度信息。\n"
      ],
      "metadata": {
        "id": "-4lPgfRJcf2o"
      }
    },
    {
      "cell_type": "markdown",
      "source": [
        "**Step 1**: Forward pass\n",
        "\n",
        "第一步：前向传播"
      ],
      "metadata": {
        "id": "qO1bUoafc2E-"
      }
    },
    {
      "cell_type": "code",
      "source": [
        "import torch\n",
        "import matplotlib.pyplot as plt\n",
        "\n",
        "xs = torch.tensor([0, 1, 2, 3, 4, 5, 6, 7.])\n",
        "ys = torch.tensor([1.86, 1.31, .62, .33, .09, -.67, -1.23, -1.37])\n",
        "m = torch.tensor([0.9]).requires_grad_()\n",
        "b = torch.tensor([0.1]).requires_grad_()\n",
        "\n",
        "yhats = regression(xs, m, b)\n",
        "yhats\n",
        "\n"
      ],
      "metadata": {
        "colab": {
          "base_uri": "https://localhost:8080/"
        },
        "id": "S4f1PnKJaQ6h",
        "outputId": "8c9f615e-0e65-4e7a-d385-262d687bb486"
      },
      "execution_count": 9,
      "outputs": [
        {
          "output_type": "execute_result",
          "data": {
            "text/plain": [
              "tensor([0.1000, 1.0000, 1.9000, 2.8000, 3.7000, 4.6000, 5.5000, 6.4000],\n",
              "       grad_fn=<AddBackward0>)"
            ]
          },
          "metadata": {},
          "execution_count": 9
        }
      ]
    },
    {
      "cell_type": "markdown",
      "source": [
        "**Step 2**: Compare $\\hat{y}$ with true $y$ to calculate cost $C$\n",
        "\n",
        "第二步：计算预测值与真实值的差异$C$\n",
        "\n",
        "Mean squared error:\n",
        "$$C = \\frac{1}{n} \\sum_{i=1}^n (\\hat{y_i}-y_i)^2 $$\n",
        "\n",
        "\n",
        "(PyTorch `MSELoss` Method)\n"
      ],
      "metadata": {
        "id": "50oxiRmHdYVT"
      }
    },
    {
      "cell_type": "code",
      "source": [
        "def mse(my_yhat, my_y): \n",
        "    sigma = torch.sum((my_yhat - my_y)**2)\n",
        "    return sigma/len(my_y)"
      ],
      "metadata": {
        "id": "G6cPUhskCtsw"
      },
      "execution_count": 10,
      "outputs": []
    },
    {
      "cell_type": "code",
      "source": [
        "C = mse(yhats, ys)\n",
        "C"
      ],
      "metadata": {
        "colab": {
          "base_uri": "https://localhost:8080/"
        },
        "id": "4tpPNFjbDJp_",
        "outputId": "e40fd67c-af68-499e-b0d7-96c3030d3705"
      },
      "execution_count": 11,
      "outputs": [
        {
          "output_type": "execute_result",
          "data": {
            "text/plain": [
              "tensor(19.6755, grad_fn=<DivBackward0>)"
            ]
          },
          "metadata": {},
          "execution_count": 11
        }
      ]
    },
    {
      "cell_type": "markdown",
      "source": [
        "**Step 3**: Use autodiff to calculate gradient of $C$ w.r.t. parameters\n",
        "\n",
        "第三步：使用autodiff计算差异$C$的梯度"
      ],
      "metadata": {
        "id": "wUIhzZ7eDp1g"
      }
    },
    {
      "cell_type": "code",
      "source": [
        "C.backward()"
      ],
      "metadata": {
        "id": "l0cWQ4H7DpeE"
      },
      "execution_count": 12,
      "outputs": []
    },
    {
      "cell_type": "code",
      "source": [
        "m.grad"
      ],
      "metadata": {
        "colab": {
          "base_uri": "https://localhost:8080/"
        },
        "id": "PnsZhE9SUM3_",
        "outputId": "21d913e7-146d-4ebf-8ed6-ad488c158161"
      },
      "execution_count": 13,
      "outputs": [
        {
          "output_type": "execute_result",
          "data": {
            "text/plain": [
              "tensor([36.3050])"
            ]
          },
          "metadata": {},
          "execution_count": 13
        }
      ]
    },
    {
      "cell_type": "code",
      "source": [
        "b.grad"
      ],
      "metadata": {
        "colab": {
          "base_uri": "https://localhost:8080/"
        },
        "id": "6zM5gPtWUOVd",
        "outputId": "58730dad-fbf8-4f18-afa4-abd5bcd53102"
      },
      "execution_count": 14,
      "outputs": [
        {
          "output_type": "execute_result",
          "data": {
            "text/plain": [
              "tensor([6.2650])"
            ]
          },
          "metadata": {},
          "execution_count": 14
        }
      ]
    },
    {
      "cell_type": "markdown",
      "source": [
        "**Step 4**: Gradient descent\n",
        "\n",
        "第四步：进行梯度下降"
      ],
      "metadata": {
        "id": "u4jw87wUURga"
      }
    },
    {
      "cell_type": "code",
      "source": [
        "optimizer = torch.optim.SGD([m, b], lr=0.01)"
      ],
      "metadata": {
        "id": "It-a9mIdUWzD"
      },
      "execution_count": 15,
      "outputs": []
    },
    {
      "cell_type": "code",
      "source": [
        "optimizer.step()"
      ],
      "metadata": {
        "id": "GUBkVLX_Ubz8"
      },
      "execution_count": 16,
      "outputs": []
    },
    {
      "cell_type": "markdown",
      "source": [
        "Confirm parameters have been adjusted sensibly:"
      ],
      "metadata": {
        "id": "mbNLOglyUmqj"
      }
    },
    {
      "cell_type": "code",
      "source": [
        "m"
      ],
      "metadata": {
        "colab": {
          "base_uri": "https://localhost:8080/"
        },
        "id": "cqX6BH5eUleU",
        "outputId": "167fda57-81d2-449a-d963-74bddf90ac72"
      },
      "execution_count": 17,
      "outputs": [
        {
          "output_type": "execute_result",
          "data": {
            "text/plain": [
              "tensor([0.5369], requires_grad=True)"
            ]
          },
          "metadata": {},
          "execution_count": 17
        }
      ]
    },
    {
      "cell_type": "code",
      "source": [
        "b"
      ],
      "metadata": {
        "colab": {
          "base_uri": "https://localhost:8080/"
        },
        "id": "L4ZfBPc6UnWF",
        "outputId": "79f30f01-1a26-4793-f69e-05ee66b149bd"
      },
      "execution_count": 18,
      "outputs": [
        {
          "output_type": "execute_result",
          "data": {
            "text/plain": [
              "tensor([0.0374], requires_grad=True)"
            ]
          },
          "metadata": {},
          "execution_count": 18
        }
      ]
    },
    {
      "cell_type": "code",
      "source": [
        "regression_plot(x, y, m, b)"
      ],
      "metadata": {
        "colab": {
          "base_uri": "https://localhost:8080/",
          "height": 265
        },
        "id": "fTlVaG-eUtih",
        "outputId": "4a323de1-61fc-4a7d-9379-1a7fb23af791"
      },
      "execution_count": 19,
      "outputs": [
        {
          "output_type": "display_data",
          "data": {
            "text/plain": [
              "<Figure size 432x288 with 1 Axes>"
            ],
            "image/png": "[encoded data removed]"
          },
          "metadata": {
            "needs_background": "light"
          }
        }
      ]
    },
    {
      "cell_type": "markdown",
      "source": [
        "We can repeat steps 1 and 2 to confirm cost has decreased:"
      ],
      "metadata": {
        "id": "P-1gIH5GU3Xp"
      }
    },
    {
      "cell_type": "code",
      "source": [
        "C = mse(regression(x, m, b), y)\n",
        "C"
      ],
      "metadata": {
        "colab": {
          "base_uri": "https://localhost:8080/"
        },
        "id": "mgYi749vUzlr",
        "outputId": "822a0e48-967d-4e9c-b2fa-56f9ee651fdf"
      },
      "execution_count": 20,
      "outputs": [
        {
          "output_type": "execute_result",
          "data": {
            "text/plain": [
              "tensor(8.5722, grad_fn=<DivBackward0>)"
            ]
          },
          "metadata": {},
          "execution_count": 20
        }
      ]
    },
    {
      "cell_type": "markdown",
      "source": [
        "Put the 4 steps in a loop to iteratively minimize cost toward zero:"
      ],
      "metadata": {
        "id": "Mf4bUSBBVPeN"
      }
    },
    {
      "cell_type": "code",
      "source": [
        "epochs = 1000\n",
        "for epoch in range(epochs):\n",
        "    \n",
        "    optimizer.zero_grad() # Reset gradients to zero ##把梯度置零\n",
        "    \n",
        "    yhat = regression(x, m, b) # Step 1 ##计算新参数下预测值\n",
        "    C = mse(yhat, y) # Step 2 ##计算预测值与真实值差异\n",
        "    \n",
        "    C.backward() # Step 3 ##计算差异的梯度\n",
        "    optimizer.step() # Step 4 ##优化器对参数值进行更新\n",
        "    \n",
        "    print('Epoch {}, cost {}, m grad {}, b grad {}'.format(epoch, '%.3g' % C.item(), '%.3g' % m.grad.item(), '%.3g' % b.grad.item()))"
      ],
      "metadata": {
        "colab": {
          "base_uri": "https://localhost:8080/"
        },
        "id": "3oHM8SGfU_oK",
        "outputId": "5d21bb8c-46fa-41e0-df8f-d402427758eb"
      },
      "execution_count": 21,
      "outputs": [
        {
          "output_type": "stream",
          "name": "stdout",
          "text": [
            "Epoch 0, cost 8.57, m grad 23.2, b grad 3.6\n",
            "Epoch 1, cost 4.08, m grad 14.8, b grad 1.91\n",
            "Epoch 2, cost 2.25, m grad 9.49, b grad 0.831\n",
            "Epoch 3, cost 1.51, m grad 6.11, b grad 0.15\n",
            "Epoch 4, cost 1.2, m grad 3.96, b grad -0.28\n",
            "Epoch 5, cost 1.07, m grad 2.59, b grad -0.552\n",
            "Epoch 6, cost 1.01, m grad 1.72, b grad -0.723\n",
            "Epoch 7, cost 0.981, m grad 1.17, b grad -0.829\n",
            "Epoch 8, cost 0.962, m grad 0.82, b grad -0.894\n",
            "Epoch 9, cost 0.948, m grad 0.595, b grad -0.934\n",
            "Epoch 10, cost 0.936, m grad 0.452, b grad -0.957\n",
            "Epoch 11, cost 0.925, m grad 0.361, b grad -0.969\n",
            "Epoch 12, cost 0.915, m grad 0.302, b grad -0.975\n",
            "Epoch 13, cost 0.904, m grad 0.265, b grad -0.977\n",
            "Epoch 14, cost 0.894, m grad 0.241, b grad -0.976\n",
            "Epoch 15, cost 0.884, m grad 0.225, b grad -0.973\n",
            "Epoch 16, cost 0.874, m grad 0.214, b grad -0.969\n",
            "Epoch 17, cost 0.864, m grad 0.207, b grad -0.965\n",
            "Epoch 18, cost 0.854, m grad 0.202, b grad -0.96\n",
            "Epoch 19, cost 0.845, m grad 0.199, b grad -0.955\n",
            "Epoch 20, cost 0.835, m grad 0.196, b grad -0.95\n",
            "Epoch 21, cost 0.826, m grad 0.194, b grad -0.945\n",
            "Epoch 22, cost 0.817, m grad 0.192, b grad -0.939\n",
            "Epoch 23, cost 0.808, m grad 0.191, b grad -0.934\n",
            "Epoch 24, cost 0.799, m grad 0.189, b grad -0.929\n",
            "Epoch 25, cost 0.79, m grad 0.188, b grad -0.923\n",
            "Epoch 26, cost 0.781, m grad 0.187, b grad -0.918\n",
            "Epoch 27, cost 0.772, m grad 0.186, b grad -0.913\n",
            "Epoch 28, cost 0.763, m grad 0.185, b grad -0.908\n",
            "Epoch 29, cost 0.755, m grad 0.184, b grad -0.902\n",
            "Epoch 30, cost 0.746, m grad 0.182, b grad -0.897\n",
            "Epoch 31, cost 0.738, m grad 0.181, b grad -0.892\n",
            "Epoch 32, cost 0.73, m grad 0.18, b grad -0.887\n",
            "Epoch 33, cost 0.721, m grad 0.179, b grad -0.882\n",
            "Epoch 34, cost 0.713, m grad 0.178, b grad -0.877\n",
            "Epoch 35, cost 0.705, m grad 0.177, b grad -0.872\n",
            "Epoch 36, cost 0.698, m grad 0.176, b grad -0.867\n",
            "Epoch 37, cost 0.69, m grad 0.175, b grad -0.862\n",
            "Epoch 38, cost 0.682, m grad 0.174, b grad -0.857\n",
            "Epoch 39, cost 0.674, m grad 0.173, b grad -0.852\n",
            "Epoch 40, cost 0.667, m grad 0.172, b grad -0.847\n",
            "Epoch 41, cost 0.659, m grad 0.171, b grad -0.842\n",
            "Epoch 42, cost 0.652, m grad 0.17, b grad -0.837\n",
            "Epoch 43, cost 0.645, m grad 0.169, b grad -0.832\n",
            "Epoch 44, cost 0.638, m grad 0.168, b grad -0.827\n",
            "Epoch 45, cost 0.631, m grad 0.167, b grad -0.823\n",
            "Epoch 46, cost 0.624, m grad 0.166, b grad -0.818\n",
            "Epoch 47, cost 0.617, m grad 0.165, b grad -0.813\n",
            "Epoch 48, cost 0.61, m grad 0.164, b grad -0.808\n",
            "Epoch 49, cost 0.603, m grad 0.163, b grad -0.804\n",
            "Epoch 50, cost 0.596, m grad 0.163, b grad -0.799\n",
            "Epoch 51, cost 0.59, m grad 0.162, b grad -0.795\n",
            "Epoch 52, cost 0.583, m grad 0.161, b grad -0.79\n",
            "Epoch 53, cost 0.577, m grad 0.16, b grad -0.785\n",
            "Epoch 54, cost 0.57, m grad 0.159, b grad -0.781\n",
            "Epoch 55, cost 0.564, m grad 0.158, b grad -0.776\n",
            "Epoch 56, cost 0.558, m grad 0.157, b grad -0.772\n",
            "Epoch 57, cost 0.551, m grad 0.156, b grad -0.767\n",
            "Epoch 58, cost 0.545, m grad 0.155, b grad -0.763\n",
            "Epoch 59, cost 0.539, m grad 0.154, b grad -0.759\n",
            "Epoch 60, cost 0.533, m grad 0.153, b grad -0.754\n",
            "Epoch 61, cost 0.527, m grad 0.152, b grad -0.75\n",
            "Epoch 62, cost 0.521, m grad 0.152, b grad -0.746\n",
            "Epoch 63, cost 0.516, m grad 0.151, b grad -0.741\n",
            "Epoch 64, cost 0.51, m grad 0.15, b grad -0.737\n",
            "Epoch 65, cost 0.504, m grad 0.149, b grad -0.733\n",
            "Epoch 66, cost 0.499, m grad 0.148, b grad -0.729\n",
            "Epoch 67, cost 0.493, m grad 0.147, b grad -0.724\n",
            "Epoch 68, cost 0.488, m grad 0.146, b grad -0.72\n",
            "Epoch 69, cost 0.482, m grad 0.146, b grad -0.716\n",
            "Epoch 70, cost 0.477, m grad 0.145, b grad -0.712\n",
            "Epoch 71, cost 0.472, m grad 0.144, b grad -0.708\n",
            "Epoch 72, cost 0.467, m grad 0.143, b grad -0.704\n",
            "Epoch 73, cost 0.462, m grad 0.142, b grad -0.7\n",
            "Epoch 74, cost 0.456, m grad 0.141, b grad -0.696\n",
            "Epoch 75, cost 0.451, m grad 0.141, b grad -0.692\n",
            "Epoch 76, cost 0.446, m grad 0.14, b grad -0.688\n",
            "Epoch 77, cost 0.442, m grad 0.139, b grad -0.684\n",
            "Epoch 78, cost 0.437, m grad 0.138, b grad -0.68\n",
            "Epoch 79, cost 0.432, m grad 0.137, b grad -0.676\n",
            "Epoch 80, cost 0.427, m grad 0.137, b grad -0.672\n",
            "Epoch 81, cost 0.422, m grad 0.136, b grad -0.668\n",
            "Epoch 82, cost 0.418, m grad 0.135, b grad -0.664\n",
            "Epoch 83, cost 0.413, m grad 0.134, b grad -0.66\n",
            "Epoch 84, cost 0.409, m grad 0.134, b grad -0.657\n",
            "Epoch 85, cost 0.404, m grad 0.133, b grad -0.653\n",
            "Epoch 86, cost 0.4, m grad 0.132, b grad -0.649\n",
            "Epoch 87, cost 0.395, m grad 0.131, b grad -0.645\n",
            "Epoch 88, cost 0.391, m grad 0.13, b grad -0.642\n",
            "Epoch 89, cost 0.387, m grad 0.13, b grad -0.638\n",
            "Epoch 90, cost 0.383, m grad 0.129, b grad -0.634\n",
            "Epoch 91, cost 0.378, m grad 0.128, b grad -0.63\n",
            "Epoch 92, cost 0.374, m grad 0.127, b grad -0.627\n",
            "Epoch 93, cost 0.37, m grad 0.127, b grad -0.623\n",
            "Epoch 94, cost 0.366, m grad 0.126, b grad -0.62\n",
            "Epoch 95, cost 0.362, m grad 0.125, b grad -0.616\n",
            "Epoch 96, cost 0.358, m grad 0.125, b grad -0.613\n",
            "Epoch 97, cost 0.354, m grad 0.124, b grad -0.609\n",
            "Epoch 98, cost 0.351, m grad 0.123, b grad -0.605\n",
            "Epoch 99, cost 0.347, m grad 0.122, b grad -0.602\n",
            "Epoch 100, cost 0.343, m grad 0.122, b grad -0.599\n",
            "Epoch 101, cost 0.339, m grad 0.121, b grad -0.595\n",
            "Epoch 102, cost 0.336, m grad 0.12, b grad -0.592\n",
            "Epoch 103, cost 0.332, m grad 0.12, b grad -0.588\n",
            "Epoch 104, cost 0.328, m grad 0.119, b grad -0.585\n",
            "Epoch 105, cost 0.325, m grad 0.118, b grad -0.581\n",
            "Epoch 106, cost 0.321, m grad 0.118, b grad -0.578\n",
            "Epoch 107, cost 0.318, m grad 0.117, b grad -0.575\n",
            "Epoch 108, cost 0.314, m grad 0.116, b grad -0.571\n",
            "Epoch 109, cost 0.311, m grad 0.116, b grad -0.568\n",
            "Epoch 110, cost 0.308, m grad 0.115, b grad -0.565\n",
            "Epoch 111, cost 0.304, m grad 0.114, b grad -0.562\n",
            "Epoch 112, cost 0.301, m grad 0.114, b grad -0.558\n",
            "Epoch 113, cost 0.298, m grad 0.113, b grad -0.555\n",
            "Epoch 114, cost 0.295, m grad 0.112, b grad -0.552\n",
            "Epoch 115, cost 0.291, m grad 0.112, b grad -0.549\n",
            "Epoch 116, cost 0.288, m grad 0.111, b grad -0.546\n",
            "Epoch 117, cost 0.285, m grad 0.11, b grad -0.542\n",
            "Epoch 118, cost 0.282, m grad 0.11, b grad -0.539\n",
            "Epoch 119, cost 0.279, m grad 0.109, b grad -0.536\n",
            "Epoch 120, cost 0.276, m grad 0.108, b grad -0.533\n",
            "Epoch 121, cost 0.273, m grad 0.108, b grad -0.53\n",
            "Epoch 122, cost 0.27, m grad 0.107, b grad -0.527\n",
            "Epoch 123, cost 0.267, m grad 0.107, b grad -0.524\n",
            "Epoch 124, cost 0.265, m grad 0.106, b grad -0.521\n",
            "Epoch 125, cost 0.262, m grad 0.105, b grad -0.518\n",
            "Epoch 126, cost 0.259, m grad 0.105, b grad -0.515\n",
            "Epoch 127, cost 0.256, m grad 0.104, b grad -0.512\n",
            "Epoch 128, cost 0.253, m grad 0.104, b grad -0.509\n",
            "Epoch 129, cost 0.251, m grad 0.103, b grad -0.506\n",
            "Epoch 130, cost 0.248, m grad 0.102, b grad -0.503\n",
            "Epoch 131, cost 0.245, m grad 0.102, b grad -0.5\n",
            "Epoch 132, cost 0.243, m grad 0.101, b grad -0.497\n",
            "Epoch 133, cost 0.24, m grad 0.101, b grad -0.495\n",
            "Epoch 134, cost 0.238, m grad 0.1, b grad -0.492\n",
            "Epoch 135, cost 0.235, m grad 0.0994, b grad -0.489\n",
            "Epoch 136, cost 0.233, m grad 0.0988, b grad -0.486\n",
            "Epoch 137, cost 0.23, m grad 0.0983, b grad -0.483\n",
            "Epoch 138, cost 0.228, m grad 0.0977, b grad -0.48\n",
            "Epoch 139, cost 0.226, m grad 0.0971, b grad -0.478\n",
            "Epoch 140, cost 0.223, m grad 0.0966, b grad -0.475\n",
            "Epoch 141, cost 0.221, m grad 0.096, b grad -0.472\n",
            "Epoch 142, cost 0.218, m grad 0.0955, b grad -0.469\n",
            "Epoch 143, cost 0.216, m grad 0.0949, b grad -0.467\n",
            "Epoch 144, cost 0.214, m grad 0.0944, b grad -0.464\n",
            "Epoch 145, cost 0.212, m grad 0.0938, b grad -0.461\n",
            "Epoch 146, cost 0.21, m grad 0.0933, b grad -0.459\n",
            "Epoch 147, cost 0.207, m grad 0.0927, b grad -0.456\n",
            "Epoch 148, cost 0.205, m grad 0.0922, b grad -0.453\n",
            "Epoch 149, cost 0.203, m grad 0.0917, b grad -0.451\n",
            "Epoch 150, cost 0.201, m grad 0.0911, b grad -0.448\n",
            "Epoch 151, cost 0.199, m grad 0.0906, b grad -0.446\n",
            "Epoch 152, cost 0.197, m grad 0.0901, b grad -0.443\n",
            "Epoch 153, cost 0.195, m grad 0.0896, b grad -0.441\n",
            "Epoch 154, cost 0.193, m grad 0.0891, b grad -0.438\n",
            "Epoch 155, cost 0.191, m grad 0.0886, b grad -0.435\n",
            "Epoch 156, cost 0.189, m grad 0.088, b grad -0.433\n",
            "Epoch 157, cost 0.187, m grad 0.0875, b grad -0.43\n",
            "Epoch 158, cost 0.185, m grad 0.087, b grad -0.428\n",
            "Epoch 159, cost 0.183, m grad 0.0865, b grad -0.426\n",
            "Epoch 160, cost 0.181, m grad 0.086, b grad -0.423\n",
            "Epoch 161, cost 0.179, m grad 0.0855, b grad -0.421\n",
            "Epoch 162, cost 0.177, m grad 0.085, b grad -0.418\n",
            "Epoch 163, cost 0.176, m grad 0.0845, b grad -0.416\n",
            "Epoch 164, cost 0.174, m grad 0.0841, b grad -0.413\n",
            "Epoch 165, cost 0.172, m grad 0.0836, b grad -0.411\n",
            "Epoch 166, cost 0.17, m grad 0.0831, b grad -0.409\n",
            "Epoch 167, cost 0.169, m grad 0.0826, b grad -0.406\n",
            "Epoch 168, cost 0.167, m grad 0.0821, b grad -0.404\n",
            "Epoch 169, cost 0.165, m grad 0.0817, b grad -0.402\n",
            "Epoch 170, cost 0.163, m grad 0.0812, b grad -0.399\n",
            "Epoch 171, cost 0.162, m grad 0.0807, b grad -0.397\n",
            "Epoch 172, cost 0.16, m grad 0.0803, b grad -0.395\n",
            "Epoch 173, cost 0.159, m grad 0.0798, b grad -0.392\n",
            "Epoch 174, cost 0.157, m grad 0.0793, b grad -0.39\n",
            "Epoch 175, cost 0.155, m grad 0.0789, b grad -0.388\n",
            "Epoch 176, cost 0.154, m grad 0.0784, b grad -0.386\n",
            "Epoch 177, cost 0.152, m grad 0.078, b grad -0.383\n",
            "Epoch 178, cost 0.151, m grad 0.0775, b grad -0.381\n",
            "Epoch 179, cost 0.149, m grad 0.0771, b grad -0.379\n",
            "Epoch 180, cost 0.148, m grad 0.0766, b grad -0.377\n",
            "Epoch 181, cost 0.146, m grad 0.0762, b grad -0.375\n",
            "Epoch 182, cost 0.145, m grad 0.0758, b grad -0.373\n",
            "Epoch 183, cost 0.143, m grad 0.0753, b grad -0.37\n",
            "Epoch 184, cost 0.142, m grad 0.0749, b grad -0.368\n",
            "Epoch 185, cost 0.141, m grad 0.0744, b grad -0.366\n",
            "Epoch 186, cost 0.139, m grad 0.074, b grad -0.364\n",
            "Epoch 187, cost 0.138, m grad 0.0736, b grad -0.362\n",
            "Epoch 188, cost 0.136, m grad 0.0732, b grad -0.36\n",
            "Epoch 189, cost 0.135, m grad 0.0727, b grad -0.358\n",
            "Epoch 190, cost 0.134, m grad 0.0723, b grad -0.356\n",
            "Epoch 191, cost 0.132, m grad 0.0719, b grad -0.354\n",
            "Epoch 192, cost 0.131, m grad 0.0715, b grad -0.352\n",
            "Epoch 193, cost 0.13, m grad 0.0711, b grad -0.35\n",
            "Epoch 194, cost 0.129, m grad 0.0707, b grad -0.348\n",
            "Epoch 195, cost 0.127, m grad 0.0703, b grad -0.346\n",
            "Epoch 196, cost 0.126, m grad 0.0699, b grad -0.344\n",
            "Epoch 197, cost 0.125, m grad 0.0695, b grad -0.342\n",
            "Epoch 198, cost 0.124, m grad 0.0691, b grad -0.34\n",
            "Epoch 199, cost 0.122, m grad 0.0687, b grad -0.338\n",
            "Epoch 200, cost 0.121, m grad 0.0683, b grad -0.336\n",
            "Epoch 201, cost 0.12, m grad 0.0679, b grad -0.334\n",
            "Epoch 202, cost 0.119, m grad 0.0675, b grad -0.332\n",
            "Epoch 203, cost 0.118, m grad 0.0671, b grad -0.33\n",
            "Epoch 204, cost 0.117, m grad 0.0667, b grad -0.328\n",
            "Epoch 205, cost 0.116, m grad 0.0663, b grad -0.326\n",
            "Epoch 206, cost 0.114, m grad 0.0659, b grad -0.324\n",
            "Epoch 207, cost 0.113, m grad 0.0656, b grad -0.322\n",
            "Epoch 208, cost 0.112, m grad 0.0652, b grad -0.321\n",
            "Epoch 209, cost 0.111, m grad 0.0648, b grad -0.319\n",
            "Epoch 210, cost 0.11, m grad 0.0644, b grad -0.317\n",
            "Epoch 211, cost 0.109, m grad 0.0641, b grad -0.315\n",
            "Epoch 212, cost 0.108, m grad 0.0637, b grad -0.313\n",
            "Epoch 213, cost 0.107, m grad 0.0633, b grad -0.311\n",
            "Epoch 214, cost 0.106, m grad 0.063, b grad -0.31\n",
            "Epoch 215, cost 0.105, m grad 0.0626, b grad -0.308\n",
            "Epoch 216, cost 0.104, m grad 0.0622, b grad -0.306\n",
            "Epoch 217, cost 0.103, m grad 0.0619, b grad -0.304\n",
            "Epoch 218, cost 0.102, m grad 0.0615, b grad -0.303\n",
            "Epoch 219, cost 0.101, m grad 0.0612, b grad -0.301\n",
            "Epoch 220, cost 0.1, m grad 0.0608, b grad -0.299\n",
            "Epoch 221, cost 0.0993, m grad 0.0605, b grad -0.297\n",
            "Epoch 222, cost 0.0984, m grad 0.0601, b grad -0.296\n",
            "Epoch 223, cost 0.0975, m grad 0.0598, b grad -0.294\n",
            "Epoch 224, cost 0.0966, m grad 0.0594, b grad -0.292\n",
            "Epoch 225, cost 0.0957, m grad 0.0591, b grad -0.291\n",
            "Epoch 226, cost 0.0948, m grad 0.0587, b grad -0.289\n",
            "Epoch 227, cost 0.0939, m grad 0.0584, b grad -0.287\n",
            "Epoch 228, cost 0.0931, m grad 0.0581, b grad -0.286\n",
            "Epoch 229, cost 0.0922, m grad 0.0577, b grad -0.284\n",
            "Epoch 230, cost 0.0914, m grad 0.0574, b grad -0.282\n",
            "Epoch 231, cost 0.0906, m grad 0.0571, b grad -0.281\n",
            "Epoch 232, cost 0.0898, m grad 0.0567, b grad -0.279\n",
            "Epoch 233, cost 0.089, m grad 0.0564, b grad -0.277\n",
            "Epoch 234, cost 0.0882, m grad 0.0561, b grad -0.276\n",
            "Epoch 235, cost 0.0874, m grad 0.0558, b grad -0.274\n",
            "Epoch 236, cost 0.0866, m grad 0.0554, b grad -0.273\n",
            "Epoch 237, cost 0.0858, m grad 0.0551, b grad -0.271\n",
            "Epoch 238, cost 0.085, m grad 0.0548, b grad -0.269\n",
            "Epoch 239, cost 0.0843, m grad 0.0545, b grad -0.268\n",
            "Epoch 240, cost 0.0835, m grad 0.0542, b grad -0.266\n",
            "Epoch 241, cost 0.0828, m grad 0.0539, b grad -0.265\n",
            "Epoch 242, cost 0.0821, m grad 0.0535, b grad -0.263\n",
            "Epoch 243, cost 0.0814, m grad 0.0532, b grad -0.262\n",
            "Epoch 244, cost 0.0807, m grad 0.0529, b grad -0.26\n",
            "Epoch 245, cost 0.0799, m grad 0.0526, b grad -0.259\n",
            "Epoch 246, cost 0.0793, m grad 0.0523, b grad -0.257\n",
            "Epoch 247, cost 0.0786, m grad 0.052, b grad -0.256\n",
            "Epoch 248, cost 0.0779, m grad 0.0517, b grad -0.254\n",
            "Epoch 249, cost 0.0772, m grad 0.0514, b grad -0.253\n",
            "Epoch 250, cost 0.0765, m grad 0.0511, b grad -0.251\n",
            "Epoch 251, cost 0.0759, m grad 0.0508, b grad -0.25\n",
            "Epoch 252, cost 0.0752, m grad 0.0505, b grad -0.249\n",
            "Epoch 253, cost 0.0746, m grad 0.0502, b grad -0.247\n",
            "Epoch 254, cost 0.074, m grad 0.05, b grad -0.246\n",
            "Epoch 255, cost 0.0733, m grad 0.0497, b grad -0.244\n",
            "Epoch 256, cost 0.0727, m grad 0.0494, b grad -0.243\n",
            "Epoch 257, cost 0.0721, m grad 0.0491, b grad -0.241\n",
            "Epoch 258, cost 0.0715, m grad 0.0488, b grad -0.24\n",
            "Epoch 259, cost 0.0709, m grad 0.0485, b grad -0.239\n",
            "Epoch 260, cost 0.0703, m grad 0.0483, b grad -0.237\n",
            "Epoch 261, cost 0.0697, m grad 0.048, b grad -0.236\n",
            "Epoch 262, cost 0.0692, m grad 0.0477, b grad -0.235\n",
            "Epoch 263, cost 0.0686, m grad 0.0474, b grad -0.233\n",
            "Epoch 264, cost 0.068, m grad 0.0471, b grad -0.232\n",
            "Epoch 265, cost 0.0675, m grad 0.0469, b grad -0.231\n",
            "Epoch 266, cost 0.0669, m grad 0.0466, b grad -0.229\n",
            "Epoch 267, cost 0.0664, m grad 0.0463, b grad -0.228\n",
            "Epoch 268, cost 0.0658, m grad 0.0461, b grad -0.227\n",
            "Epoch 269, cost 0.0653, m grad 0.0458, b grad -0.225\n",
            "Epoch 270, cost 0.0648, m grad 0.0455, b grad -0.224\n",
            "Epoch 271, cost 0.0642, m grad 0.0453, b grad -0.223\n",
            "Epoch 272, cost 0.0637, m grad 0.045, b grad -0.221\n",
            "Epoch 273, cost 0.0632, m grad 0.0448, b grad -0.22\n",
            "Epoch 274, cost 0.0627, m grad 0.0445, b grad -0.219\n",
            "Epoch 275, cost 0.0622, m grad 0.0442, b grad -0.218\n",
            "Epoch 276, cost 0.0617, m grad 0.044, b grad -0.216\n",
            "Epoch 277, cost 0.0612, m grad 0.0437, b grad -0.215\n",
            "Epoch 278, cost 0.0608, m grad 0.0435, b grad -0.214\n",
            "Epoch 279, cost 0.0603, m grad 0.0432, b grad -0.213\n",
            "Epoch 280, cost 0.0598, m grad 0.043, b grad -0.211\n",
            "Epoch 281, cost 0.0594, m grad 0.0427, b grad -0.21\n",
            "Epoch 282, cost 0.0589, m grad 0.0425, b grad -0.209\n",
            "Epoch 283, cost 0.0584, m grad 0.0422, b grad -0.208\n",
            "Epoch 284, cost 0.058, m grad 0.042, b grad -0.207\n",
            "Epoch 285, cost 0.0575, m grad 0.0418, b grad -0.205\n",
            "Epoch 286, cost 0.0571, m grad 0.0415, b grad -0.204\n",
            "Epoch 287, cost 0.0567, m grad 0.0413, b grad -0.203\n",
            "Epoch 288, cost 0.0562, m grad 0.041, b grad -0.202\n",
            "Epoch 289, cost 0.0558, m grad 0.0408, b grad -0.201\n",
            "Epoch 290, cost 0.0554, m grad 0.0406, b grad -0.199\n",
            "Epoch 291, cost 0.055, m grad 0.0403, b grad -0.198\n",
            "Epoch 292, cost 0.0546, m grad 0.0401, b grad -0.197\n",
            "Epoch 293, cost 0.0542, m grad 0.0399, b grad -0.196\n",
            "Epoch 294, cost 0.0538, m grad 0.0396, b grad -0.195\n",
            "Epoch 295, cost 0.0534, m grad 0.0394, b grad -0.194\n",
            "Epoch 296, cost 0.053, m grad 0.0392, b grad -0.193\n",
            "Epoch 297, cost 0.0526, m grad 0.039, b grad -0.192\n",
            "Epoch 298, cost 0.0522, m grad 0.0387, b grad -0.19\n",
            "Epoch 299, cost 0.0519, m grad 0.0385, b grad -0.189\n",
            "Epoch 300, cost 0.0515, m grad 0.0383, b grad -0.188\n",
            "Epoch 301, cost 0.0511, m grad 0.0381, b grad -0.187\n",
            "Epoch 302, cost 0.0508, m grad 0.0378, b grad -0.186\n",
            "Epoch 303, cost 0.0504, m grad 0.0376, b grad -0.185\n",
            "Epoch 304, cost 0.05, m grad 0.0374, b grad -0.184\n",
            "Epoch 305, cost 0.0497, m grad 0.0372, b grad -0.183\n",
            "Epoch 306, cost 0.0493, m grad 0.037, b grad -0.182\n",
            "Epoch 307, cost 0.049, m grad 0.0368, b grad -0.181\n",
            "Epoch 308, cost 0.0487, m grad 0.0366, b grad -0.18\n",
            "Epoch 309, cost 0.0483, m grad 0.0363, b grad -0.179\n",
            "Epoch 310, cost 0.048, m grad 0.0361, b grad -0.178\n",
            "Epoch 311, cost 0.0477, m grad 0.0359, b grad -0.177\n",
            "Epoch 312, cost 0.0473, m grad 0.0357, b grad -0.176\n",
            "Epoch 313, cost 0.047, m grad 0.0355, b grad -0.175\n",
            "Epoch 314, cost 0.0467, m grad 0.0353, b grad -0.174\n",
            "Epoch 315, cost 0.0464, m grad 0.0351, b grad -0.173\n",
            "Epoch 316, cost 0.0461, m grad 0.0349, b grad -0.172\n",
            "Epoch 317, cost 0.0458, m grad 0.0347, b grad -0.171\n",
            "Epoch 318, cost 0.0455, m grad 0.0345, b grad -0.17\n",
            "Epoch 319, cost 0.0452, m grad 0.0343, b grad -0.169\n",
            "Epoch 320, cost 0.0449, m grad 0.0341, b grad -0.168\n",
            "Epoch 321, cost 0.0446, m grad 0.0339, b grad -0.167\n",
            "Epoch 322, cost 0.0443, m grad 0.0337, b grad -0.166\n",
            "Epoch 323, cost 0.044, m grad 0.0335, b grad -0.165\n",
            "Epoch 324, cost 0.0437, m grad 0.0333, b grad -0.164\n",
            "Epoch 325, cost 0.0434, m grad 0.0331, b grad -0.163\n",
            "Epoch 326, cost 0.0432, m grad 0.0329, b grad -0.162\n",
            "Epoch 327, cost 0.0429, m grad 0.0328, b grad -0.161\n",
            "Epoch 328, cost 0.0426, m grad 0.0326, b grad -0.16\n",
            "Epoch 329, cost 0.0424, m grad 0.0324, b grad -0.159\n",
            "Epoch 330, cost 0.0421, m grad 0.0322, b grad -0.158\n",
            "Epoch 331, cost 0.0418, m grad 0.032, b grad -0.157\n",
            "Epoch 332, cost 0.0416, m grad 0.0318, b grad -0.156\n",
            "Epoch 333, cost 0.0413, m grad 0.0316, b grad -0.156\n",
            "Epoch 334, cost 0.0411, m grad 0.0315, b grad -0.155\n",
            "Epoch 335, cost 0.0408, m grad 0.0313, b grad -0.154\n",
            "Epoch 336, cost 0.0406, m grad 0.0311, b grad -0.153\n",
            "Epoch 337, cost 0.0403, m grad 0.0309, b grad -0.152\n",
            "Epoch 338, cost 0.0401, m grad 0.0307, b grad -0.151\n",
            "Epoch 339, cost 0.0399, m grad 0.0306, b grad -0.15\n",
            "Epoch 340, cost 0.0396, m grad 0.0304, b grad -0.149\n",
            "Epoch 341, cost 0.0394, m grad 0.0302, b grad -0.149\n",
            "Epoch 342, cost 0.0392, m grad 0.03, b grad -0.148\n",
            "Epoch 343, cost 0.0389, m grad 0.0299, b grad -0.147\n",
            "Epoch 344, cost 0.0387, m grad 0.0297, b grad -0.146\n",
            "Epoch 345, cost 0.0385, m grad 0.0295, b grad -0.145\n",
            "Epoch 346, cost 0.0383, m grad 0.0293, b grad -0.144\n",
            "Epoch 347, cost 0.0381, m grad 0.0292, b grad -0.143\n",
            "Epoch 348, cost 0.0378, m grad 0.029, b grad -0.143\n",
            "Epoch 349, cost 0.0376, m grad 0.0288, b grad -0.142\n",
            "Epoch 350, cost 0.0374, m grad 0.0287, b grad -0.141\n",
            "Epoch 351, cost 0.0372, m grad 0.0285, b grad -0.14\n",
            "Epoch 352, cost 0.037, m grad 0.0283, b grad -0.139\n",
            "Epoch 353, cost 0.0368, m grad 0.0282, b grad -0.139\n",
            "Epoch 354, cost 0.0366, m grad 0.028, b grad -0.138\n",
            "Epoch 355, cost 0.0364, m grad 0.0279, b grad -0.137\n",
            "Epoch 356, cost 0.0362, m grad 0.0277, b grad -0.136\n",
            "Epoch 357, cost 0.036, m grad 0.0275, b grad -0.135\n",
            "Epoch 358, cost 0.0358, m grad 0.0274, b grad -0.135\n",
            "Epoch 359, cost 0.0356, m grad 0.0272, b grad -0.134\n",
            "Epoch 360, cost 0.0355, m grad 0.0271, b grad -0.133\n",
            "Epoch 361, cost 0.0353, m grad 0.0269, b grad -0.132\n",
            "Epoch 362, cost 0.0351, m grad 0.0268, b grad -0.132\n",
            "Epoch 363, cost 0.0349, m grad 0.0266, b grad -0.131\n",
            "Epoch 364, cost 0.0347, m grad 0.0264, b grad -0.13\n",
            "Epoch 365, cost 0.0346, m grad 0.0263, b grad -0.129\n",
            "Epoch 366, cost 0.0344, m grad 0.0261, b grad -0.129\n",
            "Epoch 367, cost 0.0342, m grad 0.026, b grad -0.128\n",
            "Epoch 368, cost 0.034, m grad 0.0258, b grad -0.127\n",
            "Epoch 369, cost 0.0339, m grad 0.0257, b grad -0.126\n",
            "Epoch 370, cost 0.0337, m grad 0.0255, b grad -0.126\n",
            "Epoch 371, cost 0.0336, m grad 0.0254, b grad -0.125\n",
            "Epoch 372, cost 0.0334, m grad 0.0253, b grad -0.124\n",
            "Epoch 373, cost 0.0332, m grad 0.0251, b grad -0.123\n",
            "Epoch 374, cost 0.0331, m grad 0.025, b grad -0.123\n",
            "Epoch 375, cost 0.0329, m grad 0.0248, b grad -0.122\n",
            "Epoch 376, cost 0.0328, m grad 0.0247, b grad -0.121\n",
            "Epoch 377, cost 0.0326, m grad 0.0245, b grad -0.121\n",
            "Epoch 378, cost 0.0325, m grad 0.0244, b grad -0.12\n",
            "Epoch 379, cost 0.0323, m grad 0.0242, b grad -0.119\n",
            "Epoch 380, cost 0.0322, m grad 0.0241, b grad -0.119\n",
            "Epoch 381, cost 0.032, m grad 0.024, b grad -0.118\n",
            "Epoch 382, cost 0.0319, m grad 0.0238, b grad -0.117\n",
            "Epoch 383, cost 0.0317, m grad 0.0237, b grad -0.117\n",
            "Epoch 384, cost 0.0316, m grad 0.0236, b grad -0.116\n",
            "Epoch 385, cost 0.0314, m grad 0.0234, b grad -0.115\n",
            "Epoch 386, cost 0.0313, m grad 0.0233, b grad -0.115\n",
            "Epoch 387, cost 0.0312, m grad 0.0232, b grad -0.114\n",
            "Epoch 388, cost 0.031, m grad 0.023, b grad -0.113\n",
            "Epoch 389, cost 0.0309, m grad 0.0229, b grad -0.113\n",
            "Epoch 390, cost 0.0308, m grad 0.0228, b grad -0.112\n",
            "Epoch 391, cost 0.0306, m grad 0.0226, b grad -0.111\n",
            "Epoch 392, cost 0.0305, m grad 0.0225, b grad -0.111\n",
            "Epoch 393, cost 0.0304, m grad 0.0224, b grad -0.11\n",
            "Epoch 394, cost 0.0303, m grad 0.0222, b grad -0.109\n",
            "Epoch 395, cost 0.0301, m grad 0.0221, b grad -0.109\n",
            "Epoch 396, cost 0.03, m grad 0.022, b grad -0.108\n",
            "Epoch 397, cost 0.0299, m grad 0.0219, b grad -0.107\n",
            "Epoch 398, cost 0.0298, m grad 0.0217, b grad -0.107\n",
            "Epoch 399, cost 0.0297, m grad 0.0216, b grad -0.106\n",
            "Epoch 400, cost 0.0295, m grad 0.0215, b grad -0.106\n",
            "Epoch 401, cost 0.0294, m grad 0.0214, b grad -0.105\n",
            "Epoch 402, cost 0.0293, m grad 0.0212, b grad -0.104\n",
            "Epoch 403, cost 0.0292, m grad 0.0211, b grad -0.104\n",
            "Epoch 404, cost 0.0291, m grad 0.021, b grad -0.103\n",
            "Epoch 405, cost 0.029, m grad 0.0209, b grad -0.103\n",
            "Epoch 406, cost 0.0289, m grad 0.0207, b grad -0.102\n",
            "Epoch 407, cost 0.0288, m grad 0.0206, b grad -0.101\n",
            "Epoch 408, cost 0.0286, m grad 0.0205, b grad -0.101\n",
            "Epoch 409, cost 0.0285, m grad 0.0204, b grad -0.1\n",
            "Epoch 410, cost 0.0284, m grad 0.0203, b grad -0.0997\n",
            "Epoch 411, cost 0.0283, m grad 0.0202, b grad -0.0991\n",
            "Epoch 412, cost 0.0282, m grad 0.02, b grad -0.0985\n",
            "Epoch 413, cost 0.0281, m grad 0.0199, b grad -0.098\n",
            "Epoch 414, cost 0.028, m grad 0.0198, b grad -0.0974\n",
            "Epoch 415, cost 0.0279, m grad 0.0197, b grad -0.0968\n",
            "Epoch 416, cost 0.0278, m grad 0.0196, b grad -0.0963\n",
            "Epoch 417, cost 0.0277, m grad 0.0195, b grad -0.0957\n",
            "Epoch 418, cost 0.0276, m grad 0.0194, b grad -0.0952\n",
            "Epoch 419, cost 0.0276, m grad 0.0192, b grad -0.0946\n",
            "Epoch 420, cost 0.0275, m grad 0.0191, b grad -0.0941\n",
            "Epoch 421, cost 0.0274, m grad 0.019, b grad -0.0935\n",
            "Epoch 422, cost 0.0273, m grad 0.0189, b grad -0.093\n",
            "Epoch 423, cost 0.0272, m grad 0.0188, b grad -0.0925\n",
            "Epoch 424, cost 0.0271, m grad 0.0187, b grad -0.0919\n",
            "Epoch 425, cost 0.027, m grad 0.0186, b grad -0.0914\n",
            "Epoch 426, cost 0.0269, m grad 0.0185, b grad -0.0909\n",
            "Epoch 427, cost 0.0268, m grad 0.0184, b grad -0.0903\n",
            "Epoch 428, cost 0.0268, m grad 0.0183, b grad -0.0898\n",
            "Epoch 429, cost 0.0267, m grad 0.0182, b grad -0.0893\n",
            "Epoch 430, cost 0.0266, m grad 0.0181, b grad -0.0888\n",
            "Epoch 431, cost 0.0265, m grad 0.018, b grad -0.0883\n",
            "Epoch 432, cost 0.0264, m grad 0.0178, b grad -0.0878\n",
            "Epoch 433, cost 0.0263, m grad 0.0177, b grad -0.0873\n",
            "Epoch 434, cost 0.0263, m grad 0.0176, b grad -0.0868\n",
            "Epoch 435, cost 0.0262, m grad 0.0175, b grad -0.0863\n",
            "Epoch 436, cost 0.0261, m grad 0.0174, b grad -0.0858\n",
            "Epoch 437, cost 0.026, m grad 0.0173, b grad -0.0853\n",
            "Epoch 438, cost 0.026, m grad 0.0172, b grad -0.0848\n",
            "Epoch 439, cost 0.0259, m grad 0.0171, b grad -0.0843\n",
            "Epoch 440, cost 0.0258, m grad 0.017, b grad -0.0838\n",
            "Epoch 441, cost 0.0257, m grad 0.0169, b grad -0.0833\n",
            "Epoch 442, cost 0.0257, m grad 0.0168, b grad -0.0828\n",
            "Epoch 443, cost 0.0256, m grad 0.0167, b grad -0.0824\n",
            "Epoch 444, cost 0.0255, m grad 0.0167, b grad -0.0819\n",
            "Epoch 445, cost 0.0255, m grad 0.0166, b grad -0.0814\n",
            "Epoch 446, cost 0.0254, m grad 0.0165, b grad -0.0809\n",
            "Epoch 447, cost 0.0253, m grad 0.0164, b grad -0.0805\n",
            "Epoch 448, cost 0.0252, m grad 0.0163, b grad -0.08\n",
            "Epoch 449, cost 0.0252, m grad 0.0162, b grad -0.0796\n",
            "Epoch 450, cost 0.0251, m grad 0.0161, b grad -0.0791\n",
            "Epoch 451, cost 0.0251, m grad 0.016, b grad -0.0786\n",
            "Epoch 452, cost 0.025, m grad 0.0159, b grad -0.0782\n",
            "Epoch 453, cost 0.0249, m grad 0.0158, b grad -0.0777\n",
            "Epoch 454, cost 0.0249, m grad 0.0157, b grad -0.0773\n",
            "Epoch 455, cost 0.0248, m grad 0.0156, b grad -0.0768\n",
            "Epoch 456, cost 0.0247, m grad 0.0155, b grad -0.0764\n",
            "Epoch 457, cost 0.0247, m grad 0.0154, b grad -0.076\n",
            "Epoch 458, cost 0.0246, m grad 0.0154, b grad -0.0755\n",
            "Epoch 459, cost 0.0246, m grad 0.0153, b grad -0.0751\n",
            "Epoch 460, cost 0.0245, m grad 0.0152, b grad -0.0747\n",
            "Epoch 461, cost 0.0244, m grad 0.0151, b grad -0.0742\n",
            "Epoch 462, cost 0.0244, m grad 0.015, b grad -0.0738\n",
            "Epoch 463, cost 0.0243, m grad 0.0149, b grad -0.0734\n",
            "Epoch 464, cost 0.0243, m grad 0.0148, b grad -0.0729\n",
            "Epoch 465, cost 0.0242, m grad 0.0147, b grad -0.0725\n",
            "Epoch 466, cost 0.0242, m grad 0.0147, b grad -0.0721\n",
            "Epoch 467, cost 0.0241, m grad 0.0146, b grad -0.0717\n",
            "Epoch 468, cost 0.0241, m grad 0.0145, b grad -0.0713\n",
            "Epoch 469, cost 0.024, m grad 0.0144, b grad -0.0709\n",
            "Epoch 470, cost 0.0239, m grad 0.0143, b grad -0.0705\n",
            "Epoch 471, cost 0.0239, m grad 0.0142, b grad -0.0701\n",
            "Epoch 472, cost 0.0238, m grad 0.0142, b grad -0.0696\n",
            "Epoch 473, cost 0.0238, m grad 0.0141, b grad -0.0692\n",
            "Epoch 474, cost 0.0237, m grad 0.014, b grad -0.0688\n",
            "Epoch 475, cost 0.0237, m grad 0.0139, b grad -0.0685\n",
            "Epoch 476, cost 0.0236, m grad 0.0138, b grad -0.0681\n",
            "Epoch 477, cost 0.0236, m grad 0.0138, b grad -0.0677\n",
            "Epoch 478, cost 0.0236, m grad 0.0137, b grad -0.0673\n",
            "Epoch 479, cost 0.0235, m grad 0.0136, b grad -0.0669\n",
            "Epoch 480, cost 0.0235, m grad 0.0135, b grad -0.0665\n",
            "Epoch 481, cost 0.0234, m grad 0.0134, b grad -0.0661\n",
            "Epoch 482, cost 0.0234, m grad 0.0134, b grad -0.0657\n",
            "Epoch 483, cost 0.0233, m grad 0.0133, b grad -0.0654\n",
            "Epoch 484, cost 0.0233, m grad 0.0132, b grad -0.065\n",
            "Epoch 485, cost 0.0232, m grad 0.0131, b grad -0.0646\n",
            "Epoch 486, cost 0.0232, m grad 0.0131, b grad -0.0642\n",
            "Epoch 487, cost 0.0231, m grad 0.013, b grad -0.0639\n",
            "Epoch 488, cost 0.0231, m grad 0.0129, b grad -0.0635\n",
            "Epoch 489, cost 0.0231, m grad 0.0128, b grad -0.0631\n",
            "Epoch 490, cost 0.023, m grad 0.0128, b grad -0.0628\n",
            "Epoch 491, cost 0.023, m grad 0.0127, b grad -0.0624\n",
            "Epoch 492, cost 0.0229, m grad 0.0126, b grad -0.062\n",
            "Epoch 493, cost 0.0229, m grad 0.0125, b grad -0.0617\n",
            "Epoch 494, cost 0.0229, m grad 0.0125, b grad -0.0613\n",
            "Epoch 495, cost 0.0228, m grad 0.0124, b grad -0.061\n",
            "Epoch 496, cost 0.0228, m grad 0.0123, b grad -0.0606\n",
            "Epoch 497, cost 0.0227, m grad 0.0123, b grad -0.0603\n",
            "Epoch 498, cost 0.0227, m grad 0.0122, b grad -0.0599\n",
            "Epoch 499, cost 0.0227, m grad 0.0121, b grad -0.0596\n",
            "Epoch 500, cost 0.0226, m grad 0.012, b grad -0.0592\n",
            "Epoch 501, cost 0.0226, m grad 0.012, b grad -0.0589\n",
            "Epoch 502, cost 0.0226, m grad 0.0119, b grad -0.0586\n",
            "Epoch 503, cost 0.0225, m grad 0.0118, b grad -0.0582\n",
            "Epoch 504, cost 0.0225, m grad 0.0118, b grad -0.0579\n",
            "Epoch 505, cost 0.0225, m grad 0.0117, b grad -0.0575\n",
            "Epoch 506, cost 0.0224, m grad 0.0116, b grad -0.0572\n",
            "Epoch 507, cost 0.0224, m grad 0.0116, b grad -0.0569\n",
            "Epoch 508, cost 0.0224, m grad 0.0115, b grad -0.0566\n",
            "Epoch 509, cost 0.0223, m grad 0.0114, b grad -0.0562\n",
            "Epoch 510, cost 0.0223, m grad 0.0114, b grad -0.0559\n",
            "Epoch 511, cost 0.0223, m grad 0.0113, b grad -0.0556\n",
            "Epoch 512, cost 0.0222, m grad 0.0112, b grad -0.0553\n",
            "Epoch 513, cost 0.0222, m grad 0.0112, b grad -0.0549\n",
            "Epoch 514, cost 0.0222, m grad 0.0111, b grad -0.0546\n",
            "Epoch 515, cost 0.0221, m grad 0.011, b grad -0.0543\n",
            "Epoch 516, cost 0.0221, m grad 0.011, b grad -0.054\n",
            "Epoch 517, cost 0.0221, m grad 0.0109, b grad -0.0537\n",
            "Epoch 518, cost 0.022, m grad 0.0109, b grad -0.0534\n",
            "Epoch 519, cost 0.022, m grad 0.0108, b grad -0.0531\n",
            "Epoch 520, cost 0.022, m grad 0.0107, b grad -0.0528\n",
            "Epoch 521, cost 0.022, m grad 0.0107, b grad -0.0525\n",
            "Epoch 522, cost 0.0219, m grad 0.0106, b grad -0.0522\n",
            "Epoch 523, cost 0.0219, m grad 0.0105, b grad -0.0519\n",
            "Epoch 524, cost 0.0219, m grad 0.0105, b grad -0.0516\n",
            "Epoch 525, cost 0.0218, m grad 0.0104, b grad -0.0513\n",
            "Epoch 526, cost 0.0218, m grad 0.0104, b grad -0.051\n",
            "Epoch 527, cost 0.0218, m grad 0.0103, b grad -0.0507\n",
            "Epoch 528, cost 0.0218, m grad 0.0102, b grad -0.0504\n",
            "Epoch 529, cost 0.0217, m grad 0.0102, b grad -0.0501\n",
            "Epoch 530, cost 0.0217, m grad 0.0101, b grad -0.0498\n",
            "Epoch 531, cost 0.0217, m grad 0.0101, b grad -0.0495\n",
            "Epoch 532, cost 0.0217, m grad 0.01, b grad -0.0492\n",
            "Epoch 533, cost 0.0216, m grad 0.00995, b grad -0.0489\n",
            "Epoch 534, cost 0.0216, m grad 0.0099, b grad -0.0487\n",
            "Epoch 535, cost 0.0216, m grad 0.00984, b grad -0.0484\n",
            "Epoch 536, cost 0.0216, m grad 0.00978, b grad -0.0481\n",
            "Epoch 537, cost 0.0215, m grad 0.00973, b grad -0.0478\n",
            "Epoch 538, cost 0.0215, m grad 0.00967, b grad -0.0476\n",
            "Epoch 539, cost 0.0215, m grad 0.00961, b grad -0.0473\n",
            "Epoch 540, cost 0.0215, m grad 0.00956, b grad -0.047\n",
            "Epoch 541, cost 0.0214, m grad 0.0095, b grad -0.0467\n",
            "Epoch 542, cost 0.0214, m grad 0.00945, b grad -0.0465\n",
            "Epoch 543, cost 0.0214, m grad 0.00939, b grad -0.0462\n",
            "Epoch 544, cost 0.0214, m grad 0.00934, b grad -0.0459\n",
            "Epoch 545, cost 0.0213, m grad 0.00929, b grad -0.0457\n",
            "Epoch 546, cost 0.0213, m grad 0.00923, b grad -0.0454\n",
            "Epoch 547, cost 0.0213, m grad 0.00918, b grad -0.0451\n",
            "Epoch 548, cost 0.0213, m grad 0.00913, b grad -0.0449\n",
            "Epoch 549, cost 0.0213, m grad 0.00907, b grad -0.0446\n",
            "Epoch 550, cost 0.0212, m grad 0.00902, b grad -0.0444\n",
            "Epoch 551, cost 0.0212, m grad 0.00897, b grad -0.0441\n",
            "Epoch 552, cost 0.0212, m grad 0.00892, b grad -0.0439\n",
            "Epoch 553, cost 0.0212, m grad 0.00887, b grad -0.0436\n",
            "Epoch 554, cost 0.0212, m grad 0.00882, b grad -0.0433\n",
            "Epoch 555, cost 0.0211, m grad 0.00876, b grad -0.0431\n",
            "Epoch 556, cost 0.0211, m grad 0.00872, b grad -0.0429\n",
            "Epoch 557, cost 0.0211, m grad 0.00866, b grad -0.0426\n",
            "Epoch 558, cost 0.0211, m grad 0.00862, b grad -0.0424\n",
            "Epoch 559, cost 0.0211, m grad 0.00856, b grad -0.0421\n",
            "Epoch 560, cost 0.021, m grad 0.00851, b grad -0.0419\n",
            "Epoch 561, cost 0.021, m grad 0.00847, b grad -0.0416\n",
            "Epoch 562, cost 0.021, m grad 0.00842, b grad -0.0414\n",
            "Epoch 563, cost 0.021, m grad 0.00837, b grad -0.0412\n",
            "Epoch 564, cost 0.021, m grad 0.00832, b grad -0.0409\n",
            "Epoch 565, cost 0.021, m grad 0.00827, b grad -0.0407\n",
            "Epoch 566, cost 0.0209, m grad 0.00822, b grad -0.0404\n",
            "Epoch 567, cost 0.0209, m grad 0.00818, b grad -0.0402\n",
            "Epoch 568, cost 0.0209, m grad 0.00813, b grad -0.04\n",
            "Epoch 569, cost 0.0209, m grad 0.00808, b grad -0.0397\n",
            "Epoch 570, cost 0.0209, m grad 0.00804, b grad -0.0395\n",
            "Epoch 571, cost 0.0209, m grad 0.00799, b grad -0.0393\n",
            "Epoch 572, cost 0.0208, m grad 0.00794, b grad -0.0391\n",
            "Epoch 573, cost 0.0208, m grad 0.0079, b grad -0.0388\n",
            "Epoch 574, cost 0.0208, m grad 0.00785, b grad -0.0386\n",
            "Epoch 575, cost 0.0208, m grad 0.00781, b grad -0.0384\n",
            "Epoch 576, cost 0.0208, m grad 0.00776, b grad -0.0382\n",
            "Epoch 577, cost 0.0208, m grad 0.00772, b grad -0.038\n",
            "Epoch 578, cost 0.0208, m grad 0.00767, b grad -0.0377\n",
            "Epoch 579, cost 0.0207, m grad 0.00763, b grad -0.0375\n",
            "Epoch 580, cost 0.0207, m grad 0.00758, b grad -0.0373\n",
            "Epoch 581, cost 0.0207, m grad 0.00754, b grad -0.0371\n",
            "Epoch 582, cost 0.0207, m grad 0.0075, b grad -0.0369\n",
            "Epoch 583, cost 0.0207, m grad 0.00745, b grad -0.0367\n",
            "Epoch 584, cost 0.0207, m grad 0.00741, b grad -0.0364\n",
            "Epoch 585, cost 0.0207, m grad 0.00737, b grad -0.0362\n",
            "Epoch 586, cost 0.0206, m grad 0.00733, b grad -0.036\n",
            "Epoch 587, cost 0.0206, m grad 0.00728, b grad -0.0358\n",
            "Epoch 588, cost 0.0206, m grad 0.00724, b grad -0.0356\n",
            "Epoch 589, cost 0.0206, m grad 0.0072, b grad -0.0354\n",
            "Epoch 590, cost 0.0206, m grad 0.00716, b grad -0.0352\n",
            "Epoch 591, cost 0.0206, m grad 0.00712, b grad -0.035\n",
            "Epoch 592, cost 0.0206, m grad 0.00708, b grad -0.0348\n",
            "Epoch 593, cost 0.0205, m grad 0.00704, b grad -0.0346\n",
            "Epoch 594, cost 0.0205, m grad 0.00699, b grad -0.0344\n",
            "Epoch 595, cost 0.0205, m grad 0.00695, b grad -0.0342\n",
            "Epoch 596, cost 0.0205, m grad 0.00691, b grad -0.034\n",
            "Epoch 597, cost 0.0205, m grad 0.00687, b grad -0.0338\n",
            "Epoch 598, cost 0.0205, m grad 0.00684, b grad -0.0336\n",
            "Epoch 599, cost 0.0205, m grad 0.0068, b grad -0.0334\n",
            "Epoch 600, cost 0.0205, m grad 0.00676, b grad -0.0332\n",
            "Epoch 601, cost 0.0205, m grad 0.00672, b grad -0.033\n",
            "Epoch 602, cost 0.0204, m grad 0.00668, b grad -0.0328\n",
            "Epoch 603, cost 0.0204, m grad 0.00664, b grad -0.0327\n",
            "Epoch 604, cost 0.0204, m grad 0.0066, b grad -0.0325\n",
            "Epoch 605, cost 0.0204, m grad 0.00656, b grad -0.0323\n",
            "Epoch 606, cost 0.0204, m grad 0.00653, b grad -0.0321\n",
            "Epoch 607, cost 0.0204, m grad 0.00649, b grad -0.0319\n",
            "Epoch 608, cost 0.0204, m grad 0.00645, b grad -0.0317\n",
            "Epoch 609, cost 0.0204, m grad 0.00641, b grad -0.0315\n",
            "Epoch 610, cost 0.0204, m grad 0.00638, b grad -0.0314\n",
            "Epoch 611, cost 0.0203, m grad 0.00634, b grad -0.0312\n",
            "Epoch 612, cost 0.0203, m grad 0.0063, b grad -0.031\n",
            "Epoch 613, cost 0.0203, m grad 0.00627, b grad -0.0308\n",
            "Epoch 614, cost 0.0203, m grad 0.00623, b grad -0.0306\n",
            "Epoch 615, cost 0.0203, m grad 0.00619, b grad -0.0305\n",
            "Epoch 616, cost 0.0203, m grad 0.00616, b grad -0.0303\n",
            "Epoch 617, cost 0.0203, m grad 0.00612, b grad -0.0301\n",
            "Epoch 618, cost 0.0203, m grad 0.00609, b grad -0.0299\n",
            "Epoch 619, cost 0.0203, m grad 0.00605, b grad -0.0298\n",
            "Epoch 620, cost 0.0203, m grad 0.00602, b grad -0.0296\n",
            "Epoch 621, cost 0.0202, m grad 0.00598, b grad -0.0294\n",
            "Epoch 622, cost 0.0202, m grad 0.00595, b grad -0.0293\n",
            "Epoch 623, cost 0.0202, m grad 0.00592, b grad -0.0291\n",
            "Epoch 624, cost 0.0202, m grad 0.00588, b grad -0.0289\n",
            "Epoch 625, cost 0.0202, m grad 0.00585, b grad -0.0288\n",
            "Epoch 626, cost 0.0202, m grad 0.00581, b grad -0.0286\n",
            "Epoch 627, cost 0.0202, m grad 0.00578, b grad -0.0284\n",
            "Epoch 628, cost 0.0202, m grad 0.00575, b grad -0.0283\n",
            "Epoch 629, cost 0.0202, m grad 0.00571, b grad -0.0281\n",
            "Epoch 630, cost 0.0202, m grad 0.00568, b grad -0.0279\n",
            "Epoch 631, cost 0.0202, m grad 0.00565, b grad -0.0278\n",
            "Epoch 632, cost 0.0202, m grad 0.00562, b grad -0.0276\n",
            "Epoch 633, cost 0.0201, m grad 0.00558, b grad -0.0275\n",
            "Epoch 634, cost 0.0201, m grad 0.00555, b grad -0.0273\n",
            "Epoch 635, cost 0.0201, m grad 0.00552, b grad -0.0271\n",
            "Epoch 636, cost 0.0201, m grad 0.00549, b grad -0.027\n",
            "Epoch 637, cost 0.0201, m grad 0.00545, b grad -0.0268\n",
            "Epoch 638, cost 0.0201, m grad 0.00542, b grad -0.0267\n",
            "Epoch 639, cost 0.0201, m grad 0.00539, b grad -0.0265\n",
            "Epoch 640, cost 0.0201, m grad 0.00536, b grad -0.0264\n",
            "Epoch 641, cost 0.0201, m grad 0.00533, b grad -0.0262\n",
            "Epoch 642, cost 0.0201, m grad 0.0053, b grad -0.0261\n",
            "Epoch 643, cost 0.0201, m grad 0.00527, b grad -0.0259\n",
            "Epoch 644, cost 0.0201, m grad 0.00524, b grad -0.0258\n",
            "Epoch 645, cost 0.0201, m grad 0.00521, b grad -0.0256\n",
            "Epoch 646, cost 0.0201, m grad 0.00518, b grad -0.0255\n",
            "Epoch 647, cost 0.02, m grad 0.00515, b grad -0.0253\n",
            "Epoch 648, cost 0.02, m grad 0.00512, b grad -0.0252\n",
            "Epoch 649, cost 0.02, m grad 0.00509, b grad -0.025\n",
            "Epoch 650, cost 0.02, m grad 0.00506, b grad -0.0249\n",
            "Epoch 651, cost 0.02, m grad 0.00503, b grad -0.0247\n",
            "Epoch 652, cost 0.02, m grad 0.005, b grad -0.0246\n",
            "Epoch 653, cost 0.02, m grad 0.00497, b grad -0.0245\n",
            "Epoch 654, cost 0.02, m grad 0.00495, b grad -0.0243\n",
            "Epoch 655, cost 0.02, m grad 0.00492, b grad -0.0242\n",
            "Epoch 656, cost 0.02, m grad 0.00489, b grad -0.024\n",
            "Epoch 657, cost 0.02, m grad 0.00486, b grad -0.0239\n",
            "Epoch 658, cost 0.02, m grad 0.00483, b grad -0.0238\n",
            "Epoch 659, cost 0.02, m grad 0.0048, b grad -0.0236\n",
            "Epoch 660, cost 0.02, m grad 0.00478, b grad -0.0235\n",
            "Epoch 661, cost 0.02, m grad 0.00475, b grad -0.0234\n",
            "Epoch 662, cost 0.02, m grad 0.00472, b grad -0.0232\n",
            "Epoch 663, cost 0.0199, m grad 0.00469, b grad -0.0231\n",
            "Epoch 664, cost 0.0199, m grad 0.00467, b grad -0.0229\n",
            "Epoch 665, cost 0.0199, m grad 0.00464, b grad -0.0228\n",
            "Epoch 666, cost 0.0199, m grad 0.00461, b grad -0.0227\n",
            "Epoch 667, cost 0.0199, m grad 0.00459, b grad -0.0226\n",
            "Epoch 668, cost 0.0199, m grad 0.00456, b grad -0.0224\n",
            "Epoch 669, cost 0.0199, m grad 0.00453, b grad -0.0223\n",
            "Epoch 670, cost 0.0199, m grad 0.00451, b grad -0.0222\n",
            "Epoch 671, cost 0.0199, m grad 0.00448, b grad -0.022\n",
            "Epoch 672, cost 0.0199, m grad 0.00445, b grad -0.0219\n",
            "Epoch 673, cost 0.0199, m grad 0.00443, b grad -0.0218\n",
            "Epoch 674, cost 0.0199, m grad 0.00441, b grad -0.0217\n",
            "Epoch 675, cost 0.0199, m grad 0.00438, b grad -0.0215\n",
            "Epoch 676, cost 0.0199, m grad 0.00435, b grad -0.0214\n",
            "Epoch 677, cost 0.0199, m grad 0.00433, b grad -0.0213\n",
            "Epoch 678, cost 0.0199, m grad 0.0043, b grad -0.0212\n",
            "Epoch 679, cost 0.0199, m grad 0.00428, b grad -0.021\n",
            "Epoch 680, cost 0.0199, m grad 0.00425, b grad -0.0209\n",
            "Epoch 681, cost 0.0199, m grad 0.00423, b grad -0.0208\n",
            "Epoch 682, cost 0.0199, m grad 0.00421, b grad -0.0207\n",
            "Epoch 683, cost 0.0198, m grad 0.00418, b grad -0.0206\n",
            "Epoch 684, cost 0.0198, m grad 0.00416, b grad -0.0204\n",
            "Epoch 685, cost 0.0198, m grad 0.00413, b grad -0.0203\n",
            "Epoch 686, cost 0.0198, m grad 0.00411, b grad -0.0202\n",
            "Epoch 687, cost 0.0198, m grad 0.00409, b grad -0.0201\n",
            "Epoch 688, cost 0.0198, m grad 0.00406, b grad -0.02\n",
            "Epoch 689, cost 0.0198, m grad 0.00404, b grad -0.0199\n",
            "Epoch 690, cost 0.0198, m grad 0.00402, b grad -0.0197\n",
            "Epoch 691, cost 0.0198, m grad 0.00399, b grad -0.0196\n",
            "Epoch 692, cost 0.0198, m grad 0.00397, b grad -0.0195\n",
            "Epoch 693, cost 0.0198, m grad 0.00395, b grad -0.0194\n",
            "Epoch 694, cost 0.0198, m grad 0.00392, b grad -0.0193\n",
            "Epoch 695, cost 0.0198, m grad 0.0039, b grad -0.0192\n",
            "Epoch 696, cost 0.0198, m grad 0.00388, b grad -0.0191\n",
            "Epoch 697, cost 0.0198, m grad 0.00386, b grad -0.019\n",
            "Epoch 698, cost 0.0198, m grad 0.00383, b grad -0.0189\n",
            "Epoch 699, cost 0.0198, m grad 0.00381, b grad -0.0187\n",
            "Epoch 700, cost 0.0198, m grad 0.00379, b grad -0.0186\n",
            "Epoch 701, cost 0.0198, m grad 0.00377, b grad -0.0185\n",
            "Epoch 702, cost 0.0198, m grad 0.00375, b grad -0.0184\n",
            "Epoch 703, cost 0.0198, m grad 0.00372, b grad -0.0183\n",
            "Epoch 704, cost 0.0198, m grad 0.0037, b grad -0.0182\n",
            "Epoch 705, cost 0.0198, m grad 0.00368, b grad -0.0181\n",
            "Epoch 706, cost 0.0198, m grad 0.00366, b grad -0.018\n",
            "Epoch 707, cost 0.0198, m grad 0.00364, b grad -0.0179\n",
            "Epoch 708, cost 0.0198, m grad 0.00362, b grad -0.0178\n",
            "Epoch 709, cost 0.0197, m grad 0.0036, b grad -0.0177\n",
            "Epoch 710, cost 0.0197, m grad 0.00358, b grad -0.0176\n",
            "Epoch 711, cost 0.0197, m grad 0.00356, b grad -0.0175\n",
            "Epoch 712, cost 0.0197, m grad 0.00354, b grad -0.0174\n",
            "Epoch 713, cost 0.0197, m grad 0.00352, b grad -0.0173\n",
            "Epoch 714, cost 0.0197, m grad 0.00349, b grad -0.0172\n",
            "Epoch 715, cost 0.0197, m grad 0.00347, b grad -0.0171\n",
            "Epoch 716, cost 0.0197, m grad 0.00345, b grad -0.017\n",
            "Epoch 717, cost 0.0197, m grad 0.00343, b grad -0.0169\n",
            "Epoch 718, cost 0.0197, m grad 0.00341, b grad -0.0168\n",
            "Epoch 719, cost 0.0197, m grad 0.0034, b grad -0.0167\n",
            "Epoch 720, cost 0.0197, m grad 0.00338, b grad -0.0166\n",
            "Epoch 721, cost 0.0197, m grad 0.00336, b grad -0.0165\n",
            "Epoch 722, cost 0.0197, m grad 0.00334, b grad -0.0164\n",
            "Epoch 723, cost 0.0197, m grad 0.00332, b grad -0.0163\n",
            "Epoch 724, cost 0.0197, m grad 0.0033, b grad -0.0162\n",
            "Epoch 725, cost 0.0197, m grad 0.00328, b grad -0.0161\n",
            "Epoch 726, cost 0.0197, m grad 0.00326, b grad -0.016\n",
            "Epoch 727, cost 0.0197, m grad 0.00324, b grad -0.0159\n",
            "Epoch 728, cost 0.0197, m grad 0.00322, b grad -0.0159\n",
            "Epoch 729, cost 0.0197, m grad 0.00321, b grad -0.0158\n",
            "Epoch 730, cost 0.0197, m grad 0.00319, b grad -0.0157\n",
            "Epoch 731, cost 0.0197, m grad 0.00317, b grad -0.0156\n",
            "Epoch 732, cost 0.0197, m grad 0.00315, b grad -0.0155\n",
            "Epoch 733, cost 0.0197, m grad 0.00313, b grad -0.0154\n",
            "Epoch 734, cost 0.0197, m grad 0.00311, b grad -0.0153\n",
            "Epoch 735, cost 0.0197, m grad 0.0031, b grad -0.0152\n",
            "Epoch 736, cost 0.0197, m grad 0.00308, b grad -0.0151\n",
            "Epoch 737, cost 0.0197, m grad 0.00306, b grad -0.015\n",
            "Epoch 738, cost 0.0197, m grad 0.00304, b grad -0.015\n",
            "Epoch 739, cost 0.0197, m grad 0.00302, b grad -0.0149\n",
            "Epoch 740, cost 0.0197, m grad 0.00301, b grad -0.0148\n",
            "Epoch 741, cost 0.0197, m grad 0.00299, b grad -0.0147\n",
            "Epoch 742, cost 0.0197, m grad 0.00297, b grad -0.0146\n",
            "Epoch 743, cost 0.0197, m grad 0.00296, b grad -0.0145\n",
            "Epoch 744, cost 0.0197, m grad 0.00294, b grad -0.0145\n",
            "Epoch 745, cost 0.0197, m grad 0.00292, b grad -0.0144\n",
            "Epoch 746, cost 0.0197, m grad 0.0029, b grad -0.0143\n",
            "Epoch 747, cost 0.0196, m grad 0.00289, b grad -0.0142\n",
            "Epoch 748, cost 0.0196, m grad 0.00287, b grad -0.0141\n",
            "Epoch 749, cost 0.0196, m grad 0.00285, b grad -0.014\n",
            "Epoch 750, cost 0.0196, m grad 0.00284, b grad -0.014\n",
            "Epoch 751, cost 0.0196, m grad 0.00282, b grad -0.0139\n",
            "Epoch 752, cost 0.0196, m grad 0.00281, b grad -0.0138\n",
            "Epoch 753, cost 0.0196, m grad 0.00279, b grad -0.0137\n",
            "Epoch 754, cost 0.0196, m grad 0.00277, b grad -0.0136\n",
            "Epoch 755, cost 0.0196, m grad 0.00276, b grad -0.0136\n",
            "Epoch 756, cost 0.0196, m grad 0.00274, b grad -0.0135\n",
            "Epoch 757, cost 0.0196, m grad 0.00273, b grad -0.0134\n",
            "Epoch 758, cost 0.0196, m grad 0.00271, b grad -0.0133\n",
            "Epoch 759, cost 0.0196, m grad 0.00269, b grad -0.0132\n",
            "Epoch 760, cost 0.0196, m grad 0.00268, b grad -0.0132\n",
            "Epoch 761, cost 0.0196, m grad 0.00266, b grad -0.0131\n",
            "Epoch 762, cost 0.0196, m grad 0.00265, b grad -0.013\n",
            "Epoch 763, cost 0.0196, m grad 0.00263, b grad -0.0129\n",
            "Epoch 764, cost 0.0196, m grad 0.00262, b grad -0.0129\n",
            "Epoch 765, cost 0.0196, m grad 0.0026, b grad -0.0128\n",
            "Epoch 766, cost 0.0196, m grad 0.00259, b grad -0.0127\n",
            "Epoch 767, cost 0.0196, m grad 0.00257, b grad -0.0127\n",
            "Epoch 768, cost 0.0196, m grad 0.00256, b grad -0.0126\n",
            "Epoch 769, cost 0.0196, m grad 0.00254, b grad -0.0125\n",
            "Epoch 770, cost 0.0196, m grad 0.00253, b grad -0.0124\n",
            "Epoch 771, cost 0.0196, m grad 0.00251, b grad -0.0124\n",
            "Epoch 772, cost 0.0196, m grad 0.0025, b grad -0.0123\n",
            "Epoch 773, cost 0.0196, m grad 0.00248, b grad -0.0122\n",
            "Epoch 774, cost 0.0196, m grad 0.00247, b grad -0.0121\n",
            "Epoch 775, cost 0.0196, m grad 0.00246, b grad -0.0121\n",
            "Epoch 776, cost 0.0196, m grad 0.00244, b grad -0.012\n",
            "Epoch 777, cost 0.0196, m grad 0.00243, b grad -0.0119\n",
            "Epoch 778, cost 0.0196, m grad 0.00241, b grad -0.0119\n",
            "Epoch 779, cost 0.0196, m grad 0.0024, b grad -0.0118\n",
            "Epoch 780, cost 0.0196, m grad 0.00239, b grad -0.0117\n",
            "Epoch 781, cost 0.0196, m grad 0.00237, b grad -0.0117\n",
            "Epoch 782, cost 0.0196, m grad 0.00236, b grad -0.0116\n",
            "Epoch 783, cost 0.0196, m grad 0.00235, b grad -0.0115\n",
            "Epoch 784, cost 0.0196, m grad 0.00233, b grad -0.0115\n",
            "Epoch 785, cost 0.0196, m grad 0.00232, b grad -0.0114\n",
            "Epoch 786, cost 0.0196, m grad 0.0023, b grad -0.0113\n",
            "Epoch 787, cost 0.0196, m grad 0.00229, b grad -0.0113\n",
            "Epoch 788, cost 0.0196, m grad 0.00228, b grad -0.0112\n",
            "Epoch 789, cost 0.0196, m grad 0.00227, b grad -0.0111\n",
            "Epoch 790, cost 0.0196, m grad 0.00225, b grad -0.0111\n",
            "Epoch 791, cost 0.0196, m grad 0.00224, b grad -0.011\n",
            "Epoch 792, cost 0.0196, m grad 0.00223, b grad -0.0109\n",
            "Epoch 793, cost 0.0196, m grad 0.00221, b grad -0.0109\n",
            "Epoch 794, cost 0.0196, m grad 0.0022, b grad -0.0108\n",
            "Epoch 795, cost 0.0196, m grad 0.00219, b grad -0.0108\n",
            "Epoch 796, cost 0.0196, m grad 0.00218, b grad -0.0107\n",
            "Epoch 797, cost 0.0196, m grad 0.00216, b grad -0.0106\n",
            "Epoch 798, cost 0.0196, m grad 0.00215, b grad -0.0106\n",
            "Epoch 799, cost 0.0196, m grad 0.00214, b grad -0.0105\n",
            "Epoch 800, cost 0.0196, m grad 0.00213, b grad -0.0105\n",
            "Epoch 801, cost 0.0196, m grad 0.00211, b grad -0.0104\n",
            "Epoch 802, cost 0.0196, m grad 0.0021, b grad -0.0103\n",
            "Epoch 803, cost 0.0196, m grad 0.00209, b grad -0.0103\n",
            "Epoch 804, cost 0.0196, m grad 0.00208, b grad -0.0102\n",
            "Epoch 805, cost 0.0196, m grad 0.00207, b grad -0.0102\n",
            "Epoch 806, cost 0.0196, m grad 0.00205, b grad -0.0101\n",
            "Epoch 807, cost 0.0196, m grad 0.00204, b grad -0.01\n",
            "Epoch 808, cost 0.0196, m grad 0.00203, b grad -0.00998\n",
            "Epoch 809, cost 0.0196, m grad 0.00202, b grad -0.00992\n",
            "Epoch 810, cost 0.0196, m grad 0.00201, b grad -0.00987\n",
            "Epoch 811, cost 0.0196, m grad 0.002, b grad -0.00981\n",
            "Epoch 812, cost 0.0196, m grad 0.00198, b grad -0.00975\n",
            "Epoch 813, cost 0.0196, m grad 0.00197, b grad -0.0097\n",
            "Epoch 814, cost 0.0195, m grad 0.00196, b grad -0.00964\n",
            "Epoch 815, cost 0.0195, m grad 0.00195, b grad -0.00958\n",
            "Epoch 816, cost 0.0195, m grad 0.00194, b grad -0.00953\n",
            "Epoch 817, cost 0.0195, m grad 0.00193, b grad -0.00947\n",
            "Epoch 818, cost 0.0195, m grad 0.00192, b grad -0.00942\n",
            "Epoch 819, cost 0.0195, m grad 0.0019, b grad -0.00937\n",
            "Epoch 820, cost 0.0195, m grad 0.00189, b grad -0.00931\n",
            "Epoch 821, cost 0.0195, m grad 0.00188, b grad -0.00926\n",
            "Epoch 822, cost 0.0195, m grad 0.00187, b grad -0.0092\n",
            "Epoch 823, cost 0.0195, m grad 0.00186, b grad -0.00915\n",
            "Epoch 824, cost 0.0195, m grad 0.00185, b grad -0.0091\n",
            "Epoch 825, cost 0.0195, m grad 0.00184, b grad -0.00905\n",
            "Epoch 826, cost 0.0195, m grad 0.00183, b grad -0.00899\n",
            "Epoch 827, cost 0.0195, m grad 0.00182, b grad -0.00894\n",
            "Epoch 828, cost 0.0195, m grad 0.00181, b grad -0.00889\n",
            "Epoch 829, cost 0.0195, m grad 0.0018, b grad -0.00884\n",
            "Epoch 830, cost 0.0195, m grad 0.00179, b grad -0.00879\n",
            "Epoch 831, cost 0.0195, m grad 0.00178, b grad -0.00874\n",
            "Epoch 832, cost 0.0195, m grad 0.00177, b grad -0.00869\n",
            "Epoch 833, cost 0.0195, m grad 0.00176, b grad -0.00864\n",
            "Epoch 834, cost 0.0195, m grad 0.00175, b grad -0.00859\n",
            "Epoch 835, cost 0.0195, m grad 0.00174, b grad -0.00854\n",
            "Epoch 836, cost 0.0195, m grad 0.00173, b grad -0.00849\n",
            "Epoch 837, cost 0.0195, m grad 0.00172, b grad -0.00844\n",
            "Epoch 838, cost 0.0195, m grad 0.00171, b grad -0.00839\n",
            "Epoch 839, cost 0.0195, m grad 0.0017, b grad -0.00834\n",
            "Epoch 840, cost 0.0195, m grad 0.00169, b grad -0.00829\n",
            "Epoch 841, cost 0.0195, m grad 0.00168, b grad -0.00825\n",
            "Epoch 842, cost 0.0195, m grad 0.00167, b grad -0.0082\n",
            "Epoch 843, cost 0.0195, m grad 0.00166, b grad -0.00815\n",
            "Epoch 844, cost 0.0195, m grad 0.00165, b grad -0.0081\n",
            "Epoch 845, cost 0.0195, m grad 0.00164, b grad -0.00806\n",
            "Epoch 846, cost 0.0195, m grad 0.00163, b grad -0.00801\n",
            "Epoch 847, cost 0.0195, m grad 0.00162, b grad -0.00797\n",
            "Epoch 848, cost 0.0195, m grad 0.00161, b grad -0.00792\n",
            "Epoch 849, cost 0.0195, m grad 0.0016, b grad -0.00787\n",
            "Epoch 850, cost 0.0195, m grad 0.00159, b grad -0.00783\n",
            "Epoch 851, cost 0.0195, m grad 0.00158, b grad -0.00778\n",
            "Epoch 852, cost 0.0195, m grad 0.00157, b grad -0.00774\n",
            "Epoch 853, cost 0.0195, m grad 0.00157, b grad -0.00769\n",
            "Epoch 854, cost 0.0195, m grad 0.00156, b grad -0.00765\n",
            "Epoch 855, cost 0.0195, m grad 0.00155, b grad -0.00761\n",
            "Epoch 856, cost 0.0195, m grad 0.00154, b grad -0.00756\n",
            "Epoch 857, cost 0.0195, m grad 0.00153, b grad -0.00752\n",
            "Epoch 858, cost 0.0195, m grad 0.00152, b grad -0.00747\n",
            "Epoch 859, cost 0.0195, m grad 0.00151, b grad -0.00743\n",
            "Epoch 860, cost 0.0195, m grad 0.0015, b grad -0.00739\n",
            "Epoch 861, cost 0.0195, m grad 0.00149, b grad -0.00735\n",
            "Epoch 862, cost 0.0195, m grad 0.00149, b grad -0.0073\n",
            "Epoch 863, cost 0.0195, m grad 0.00148, b grad -0.00726\n",
            "Epoch 864, cost 0.0195, m grad 0.00147, b grad -0.00722\n",
            "Epoch 865, cost 0.0195, m grad 0.00146, b grad -0.00718\n",
            "Epoch 866, cost 0.0195, m grad 0.00145, b grad -0.00714\n",
            "Epoch 867, cost 0.0195, m grad 0.00144, b grad -0.0071\n",
            "Epoch 868, cost 0.0195, m grad 0.00143, b grad -0.00705\n",
            "Epoch 869, cost 0.0195, m grad 0.00143, b grad -0.00701\n",
            "Epoch 870, cost 0.0195, m grad 0.00142, b grad -0.00697\n",
            "Epoch 871, cost 0.0195, m grad 0.00141, b grad -0.00693\n",
            "Epoch 872, cost 0.0195, m grad 0.0014, b grad -0.00689\n",
            "Epoch 873, cost 0.0195, m grad 0.00139, b grad -0.00685\n",
            "Epoch 874, cost 0.0195, m grad 0.00138, b grad -0.00681\n",
            "Epoch 875, cost 0.0195, m grad 0.00138, b grad -0.00678\n",
            "Epoch 876, cost 0.0195, m grad 0.00137, b grad -0.00674\n",
            "Epoch 877, cost 0.0195, m grad 0.00136, b grad -0.0067\n",
            "Epoch 878, cost 0.0195, m grad 0.00135, b grad -0.00666\n",
            "Epoch 879, cost 0.0195, m grad 0.00135, b grad -0.00662\n",
            "Epoch 880, cost 0.0195, m grad 0.00134, b grad -0.00658\n",
            "Epoch 881, cost 0.0195, m grad 0.00133, b grad -0.00654\n",
            "Epoch 882, cost 0.0195, m grad 0.00132, b grad -0.00651\n",
            "Epoch 883, cost 0.0195, m grad 0.00132, b grad -0.00647\n",
            "Epoch 884, cost 0.0195, m grad 0.00131, b grad -0.00643\n",
            "Epoch 885, cost 0.0195, m grad 0.0013, b grad -0.00639\n",
            "Epoch 886, cost 0.0195, m grad 0.00129, b grad -0.00636\n",
            "Epoch 887, cost 0.0195, m grad 0.00128, b grad -0.00632\n",
            "Epoch 888, cost 0.0195, m grad 0.00128, b grad -0.00628\n",
            "Epoch 889, cost 0.0195, m grad 0.00127, b grad -0.00625\n",
            "Epoch 890, cost 0.0195, m grad 0.00126, b grad -0.00621\n",
            "Epoch 891, cost 0.0195, m grad 0.00126, b grad -0.00618\n",
            "Epoch 892, cost 0.0195, m grad 0.00125, b grad -0.00614\n",
            "Epoch 893, cost 0.0195, m grad 0.00124, b grad -0.00611\n",
            "Epoch 894, cost 0.0195, m grad 0.00123, b grad -0.00607\n",
            "Epoch 895, cost 0.0195, m grad 0.00123, b grad -0.00604\n",
            "Epoch 896, cost 0.0195, m grad 0.00122, b grad -0.006\n",
            "Epoch 897, cost 0.0195, m grad 0.00121, b grad -0.00597\n",
            "Epoch 898, cost 0.0195, m grad 0.00121, b grad -0.00593\n",
            "Epoch 899, cost 0.0195, m grad 0.0012, b grad -0.0059\n",
            "Epoch 900, cost 0.0195, m grad 0.00119, b grad -0.00586\n",
            "Epoch 901, cost 0.0195, m grad 0.00119, b grad -0.00583\n",
            "Epoch 902, cost 0.0195, m grad 0.00118, b grad -0.0058\n",
            "Epoch 903, cost 0.0195, m grad 0.00117, b grad -0.00576\n",
            "Epoch 904, cost 0.0195, m grad 0.00116, b grad -0.00573\n",
            "Epoch 905, cost 0.0195, m grad 0.00116, b grad -0.0057\n",
            "Epoch 906, cost 0.0195, m grad 0.00115, b grad -0.00566\n",
            "Epoch 907, cost 0.0195, m grad 0.00114, b grad -0.00563\n",
            "Epoch 908, cost 0.0195, m grad 0.00114, b grad -0.0056\n",
            "Epoch 909, cost 0.0195, m grad 0.00113, b grad -0.00557\n",
            "Epoch 910, cost 0.0195, m grad 0.00113, b grad -0.00553\n",
            "Epoch 911, cost 0.0195, m grad 0.00112, b grad -0.0055\n",
            "Epoch 912, cost 0.0195, m grad 0.00111, b grad -0.00547\n",
            "Epoch 913, cost 0.0195, m grad 0.00111, b grad -0.00544\n",
            "Epoch 914, cost 0.0195, m grad 0.0011, b grad -0.00541\n",
            "Epoch 915, cost 0.0195, m grad 0.00109, b grad -0.00538\n",
            "Epoch 916, cost 0.0195, m grad 0.00109, b grad -0.00535\n",
            "Epoch 917, cost 0.0195, m grad 0.00108, b grad -0.00531\n",
            "Epoch 918, cost 0.0195, m grad 0.00107, b grad -0.00528\n",
            "Epoch 919, cost 0.0195, m grad 0.00107, b grad -0.00525\n",
            "Epoch 920, cost 0.0195, m grad 0.00106, b grad -0.00522\n",
            "Epoch 921, cost 0.0195, m grad 0.00106, b grad -0.00519\n",
            "Epoch 922, cost 0.0195, m grad 0.00105, b grad -0.00516\n",
            "Epoch 923, cost 0.0195, m grad 0.00104, b grad -0.00513\n",
            "Epoch 924, cost 0.0195, m grad 0.00104, b grad -0.0051\n",
            "Epoch 925, cost 0.0195, m grad 0.00103, b grad -0.00507\n",
            "Epoch 926, cost 0.0195, m grad 0.00103, b grad -0.00504\n",
            "Epoch 927, cost 0.0195, m grad 0.00102, b grad -0.00502\n",
            "Epoch 928, cost 0.0195, m grad 0.00101, b grad -0.00499\n",
            "Epoch 929, cost 0.0195, m grad 0.00101, b grad -0.00496\n",
            "Epoch 930, cost 0.0195, m grad 0.001, b grad -0.00493\n",
            "Epoch 931, cost 0.0195, m grad 0.000997, b grad -0.0049\n",
            "Epoch 932, cost 0.0195, m grad 0.000991, b grad -0.00487\n",
            "Epoch 933, cost 0.0195, m grad 0.000986, b grad -0.00484\n",
            "Epoch 934, cost 0.0195, m grad 0.000979, b grad -0.00482\n",
            "Epoch 935, cost 0.0195, m grad 0.000973, b grad -0.00479\n",
            "Epoch 936, cost 0.0195, m grad 0.000968, b grad -0.00476\n",
            "Epoch 937, cost 0.0195, m grad 0.000962, b grad -0.00473\n",
            "Epoch 938, cost 0.0195, m grad 0.000956, b grad -0.00471\n",
            "Epoch 939, cost 0.0195, m grad 0.000951, b grad -0.00468\n",
            "Epoch 940, cost 0.0195, m grad 0.000946, b grad -0.00465\n",
            "Epoch 941, cost 0.0195, m grad 0.000941, b grad -0.00463\n",
            "Epoch 942, cost 0.0195, m grad 0.000935, b grad -0.0046\n",
            "Epoch 943, cost 0.0195, m grad 0.00093, b grad -0.00457\n",
            "Epoch 944, cost 0.0195, m grad 0.000925, b grad -0.00455\n",
            "Epoch 945, cost 0.0195, m grad 0.000919, b grad -0.00452\n",
            "Epoch 946, cost 0.0195, m grad 0.000914, b grad -0.00449\n",
            "Epoch 947, cost 0.0195, m grad 0.000908, b grad -0.00447\n",
            "Epoch 948, cost 0.0195, m grad 0.000903, b grad -0.00444\n",
            "Epoch 949, cost 0.0195, m grad 0.000898, b grad -0.00442\n",
            "Epoch 950, cost 0.0195, m grad 0.000893, b grad -0.00439\n",
            "Epoch 951, cost 0.0195, m grad 0.000887, b grad -0.00437\n",
            "Epoch 952, cost 0.0195, m grad 0.000882, b grad -0.00434\n",
            "Epoch 953, cost 0.0195, m grad 0.000877, b grad -0.00432\n",
            "Epoch 954, cost 0.0195, m grad 0.000872, b grad -0.00429\n",
            "Epoch 955, cost 0.0195, m grad 0.000867, b grad -0.00427\n",
            "Epoch 956, cost 0.0195, m grad 0.000862, b grad -0.00424\n",
            "Epoch 957, cost 0.0195, m grad 0.000858, b grad -0.00422\n",
            "Epoch 958, cost 0.0195, m grad 0.000853, b grad -0.00419\n",
            "Epoch 959, cost 0.0195, m grad 0.000848, b grad -0.00417\n",
            "Epoch 960, cost 0.0195, m grad 0.000843, b grad -0.00414\n",
            "Epoch 961, cost 0.0195, m grad 0.000838, b grad -0.00412\n",
            "Epoch 962, cost 0.0195, m grad 0.000834, b grad -0.0041\n",
            "Epoch 963, cost 0.0195, m grad 0.000829, b grad -0.00407\n",
            "Epoch 964, cost 0.0195, m grad 0.000824, b grad -0.00405\n",
            "Epoch 965, cost 0.0195, m grad 0.000819, b grad -0.00403\n",
            "Epoch 966, cost 0.0195, m grad 0.000814, b grad -0.004\n",
            "Epoch 967, cost 0.0195, m grad 0.00081, b grad -0.00398\n",
            "Epoch 968, cost 0.0195, m grad 0.000805, b grad -0.00396\n",
            "Epoch 969, cost 0.0195, m grad 0.0008, b grad -0.00393\n",
            "Epoch 970, cost 0.0195, m grad 0.000796, b grad -0.00391\n",
            "Epoch 971, cost 0.0195, m grad 0.000791, b grad -0.00389\n",
            "Epoch 972, cost 0.0195, m grad 0.000786, b grad -0.00387\n",
            "Epoch 973, cost 0.0195, m grad 0.000781, b grad -0.00384\n",
            "Epoch 974, cost 0.0195, m grad 0.000776, b grad -0.00382\n",
            "Epoch 975, cost 0.0195, m grad 0.000772, b grad -0.0038\n",
            "Epoch 976, cost 0.0195, m grad 0.000768, b grad -0.00378\n",
            "Epoch 977, cost 0.0195, m grad 0.000763, b grad -0.00376\n",
            "Epoch 978, cost 0.0195, m grad 0.000759, b grad -0.00373\n",
            "Epoch 979, cost 0.0195, m grad 0.000754, b grad -0.00371\n",
            "Epoch 980, cost 0.0195, m grad 0.00075, b grad -0.00369\n",
            "Epoch 981, cost 0.0195, m grad 0.000746, b grad -0.00367\n",
            "Epoch 982, cost 0.0195, m grad 0.000742, b grad -0.00365\n",
            "Epoch 983, cost 0.0195, m grad 0.000738, b grad -0.00363\n",
            "Epoch 984, cost 0.0195, m grad 0.000733, b grad -0.00361\n",
            "Epoch 985, cost 0.0195, m grad 0.000729, b grad -0.00359\n",
            "Epoch 986, cost 0.0195, m grad 0.000725, b grad -0.00357\n",
            "Epoch 987, cost 0.0195, m grad 0.000721, b grad -0.00355\n",
            "Epoch 988, cost 0.0195, m grad 0.000716, b grad -0.00352\n",
            "Epoch 989, cost 0.0195, m grad 0.000713, b grad -0.0035\n",
            "Epoch 990, cost 0.0195, m grad 0.000709, b grad -0.00348\n",
            "Epoch 991, cost 0.0195, m grad 0.000704, b grad -0.00346\n",
            "Epoch 992, cost 0.0195, m grad 0.000701, b grad -0.00344\n",
            "Epoch 993, cost 0.0195, m grad 0.000697, b grad -0.00342\n",
            "Epoch 994, cost 0.0195, m grad 0.000692, b grad -0.0034\n",
            "Epoch 995, cost 0.0195, m grad 0.000689, b grad -0.00338\n",
            "Epoch 996, cost 0.0195, m grad 0.000685, b grad -0.00337\n",
            "Epoch 997, cost 0.0195, m grad 0.00068, b grad -0.00335\n",
            "Epoch 998, cost 0.0195, m grad 0.000677, b grad -0.00333\n",
            "Epoch 999, cost 0.0195, m grad 0.000673, b grad -0.00331\n"
          ]
        }
      ]
    },
    {
      "cell_type": "code",
      "source": [
        "regression_plot(x, y, m, b)"
      ],
      "metadata": {
        "colab": {
          "base_uri": "https://localhost:8080/",
          "height": 265
        },
        "id": "DocARpuRzUZe",
        "outputId": "359bb0fc-3fc6-46ff-e29c-9e3523b021bf"
      },
      "execution_count": 22,
      "outputs": [
        {
          "output_type": "display_data",
          "data": {
            "text/plain": [
              "<Figure size 432x288 with 1 Axes>"
            ],
            "image/png": "[encoded data removed]"
          },
          "metadata": {
            "needs_background": "light"
          }
        }
      ]
    },
    {
      "cell_type": "code",
      "source": [
        "m.item()"
      ],
      "metadata": {
        "colab": {
          "base_uri": "https://localhost:8080/"
        },
        "id": "X8tOM-EfzWH8",
        "outputId": "ad6bbe98-c94e-4cdf-9da7-8409c4259f55"
      },
      "execution_count": 23,
      "outputs": [
        {
          "output_type": "execute_result",
          "data": {
            "text/plain": [
              "-0.4681258499622345"
            ]
          },
          "metadata": {},
          "execution_count": 23
        }
      ]
    },
    {
      "cell_type": "code",
      "source": [
        "b.item()"
      ],
      "metadata": {
        "colab": {
          "base_uri": "https://localhost:8080/"
        },
        "id": "KBXRQkqwzZdo",
        "outputId": "88718d53-0524-4e21-dd03-6a540b03a5f6"
      },
      "execution_count": 24,
      "outputs": [
        {
          "output_type": "execute_result",
          "data": {
            "text/plain": [
              "1.7542961835861206"
            ]
          },
          "metadata": {},
          "execution_count": 24
        }
      ]
    },
    {
      "cell_type": "markdown",
      "source": [
        "**N.B.**: The model doesn't perfectly approximate the slope (-0.5) and $y$-intercept (2.0) used to simulate the outcomes $y$ at the top of this notebook. This reflects the imperfectness of the sample of eight data points due to adding random noise during the simulation step. In the real world, the best solution would be to sample additional data points: The more data we sample, the more accurate our estimates of the true underlying parameters will be."
      ],
      "metadata": {
        "id": "yKPrbjoDzm3t"
      }
    },
    {
      "cell_type": "markdown",
      "source": [
        "## Segment 2: Gradients Applied to Machine Learning\n",
        "\n"
      ],
      "metadata": {
        "id": "5CpwLFhH5Xg2"
      }
    },
    {
      "cell_type": "code",
      "source": [
        "import numpy as np\n",
        "import matplotlib.pyplot as plt\n",
        "import torch\n",
        "import math # for constant pi"
      ],
      "metadata": {
        "id": "Dzsyn4-Q5mE5"
      },
      "execution_count": 25,
      "outputs": []
    },
    {
      "cell_type": "markdown",
      "source": [
        "### Partial Derivatives of Multivariate Functions"
      ],
      "metadata": {
        "id": "CpNQ9D0S56jL"
      }
    },
    {
      "cell_type": "markdown",
      "source": [
        "Define a function $f(x, y)$ for $z = x^2 - y^2$: "
      ],
      "metadata": {
        "id": "UAG_oSmK5_w-"
      }
    },
    {
      "cell_type": "code",
      "source": [
        "def f(my_x, my_y):\n",
        "    return my_x**2 - my_y**2"
      ],
      "metadata": {
        "id": "hArYSet-5oE5"
      },
      "execution_count": 26,
      "outputs": []
    },
    {
      "cell_type": "markdown",
      "source": [
        "Plot $z$ with respect to $x$ by varying $x$... "
      ],
      "metadata": {
        "id": "jGQpc5Eo6Lcy"
      }
    },
    {
      "cell_type": "code",
      "source": [
        "xs = np.linspace(-3, 3, 1000)"
      ],
      "metadata": {
        "id": "jPc0nbtm6K_c"
      },
      "execution_count": 27,
      "outputs": []
    },
    {
      "cell_type": "markdown",
      "source": [
        "...while holding $y$ constant (e.g., at $y = 0$):"
      ],
      "metadata": {
        "id": "AU4KHzcA6Upt"
      }
    },
    {
      "cell_type": "code",
      "source": [
        "zs_wrt_x = f(xs, 0)"
      ],
      "metadata": {
        "id": "7YUjxDEc6bnm"
      },
      "execution_count": 28,
      "outputs": []
    },
    {
      "cell_type": "code",
      "source": [
        "fig, ax = plt.subplots()\n",
        "plt.axvline(x=0, color='lightgray')\n",
        "plt.axhline(y=0, color='lightgray')\n",
        "\n",
        "plt.xlabel('x')\n",
        "plt.ylabel('z', rotation=0)\n",
        "_ = ax.plot(xs, zs_wrt_x)"
      ],
      "metadata": {
        "colab": {
          "base_uri": "https://localhost:8080/",
          "height": 279
        },
        "id": "7WaNQPQE50cb",
        "outputId": "ea0b624c-3863-4032-cd37-c1f1736f638a"
      },
      "execution_count": 29,
      "outputs": [
        {
          "output_type": "display_data",
          "data": {
            "text/plain": [
              "<Figure size 432x288 with 1 Axes>"
            ],
            "image/png": "[encoded data removed]"
          },
          "metadata": {
            "needs_background": "light"
          }
        }
      ]
    },
    {
      "cell_type": "markdown",
      "source": [
        "To determine the slope of $z$ w.r.t. $x$ at a given point along the curve, we can use the partial derivative: $$ \\frac{\\partial z}{\\partial x} = 2x$$"
      ],
      "metadata": {
        "id": "QjHTb1aV54LB"
      }
    },
    {
      "cell_type": "code",
      "source": [
        "def delz_delx(my_x, my_y): # y isn't relevant for *this* partial derivative\n",
        "    return 2*my_x"
      ],
      "metadata": {
        "id": "S34ghsCd7Qft"
      },
      "execution_count": 30,
      "outputs": []
    },
    {
      "cell_type": "code",
      "source": [
        "x_samples = [-2, -1, 0, 1, 2]"
      ],
      "metadata": {
        "id": "V6zhBfaO6ZpG"
      },
      "execution_count": 31,
      "outputs": []
    },
    {
      "cell_type": "code",
      "source": [
        "colors = ['red', 'orange', 'green', 'blue', 'purple']"
      ],
      "metadata": {
        "id": "aAVbx2zj64wY"
      },
      "execution_count": 32,
      "outputs": []
    },
    {
      "cell_type": "code",
      "source": [
        "def point_and_tangent_wrt_x(my_xs, my_x, my_y, my_f, fprime, col):\n",
        "\n",
        "    my_z = my_f(my_x, my_y) # z = f(x, y) \n",
        "    plt.scatter(my_x, my_z, c=col, zorder=3) \n",
        "    \n",
        "    tangent_m = fprime(my_x, my_y) # Slope is partial derivative of f(x, y) w.r.t. x\n",
        "    tangent_b = my_z - tangent_m*my_x # Line is z=mx+b, so b=z-mx\n",
        "    tangent_line = tangent_m*my_xs + tangent_b\n",
        "    \n",
        "    plt.plot(my_xs, tangent_line, c=col, \n",
        "             linestyle='dashed', linewidth=0.7, zorder=3)"
      ],
      "metadata": {
        "id": "1VOKalcH67O2"
      },
      "execution_count": 33,
      "outputs": []
    },
    {
      "cell_type": "code",
      "source": [
        "fig, ax = plt.subplots()\n",
        "plt.axvline(x=0, color='lightgray')\n",
        "plt.axhline(y=0, color='lightgray')\n",
        "\n",
        "for i, x in enumerate(x_samples):\n",
        "    point_and_tangent_wrt_x(xs, x, 0, f, delz_delx, colors[i])\n",
        "\n",
        "plt.ylim(-1, 9)\n",
        "plt.xlabel('x')\n",
        "plt.ylabel('z', rotation=0)\n",
        "_ = ax.plot(xs, zs_wrt_x)"
      ],
      "metadata": {
        "colab": {
          "base_uri": "https://localhost:8080/",
          "height": 279
        },
        "id": "mtcifBez7DDj",
        "outputId": "e12c55a7-2f30-4ad1-b592-aaeee3dbc0d8"
      },
      "execution_count": 34,
      "outputs": [
        {
          "output_type": "display_data",
          "data": {
            "text/plain": [
              "<Figure size 432x288 with 1 Axes>"
            ],
            "image/png": "[encoded data removed]"
          },
          "metadata": {
            "needs_background": "light"
          }
        }
      ]
    },
    {
      "cell_type": "markdown",
      "source": [
        "Thereby visually demonstrating $\\frac{\\partial z}{\\partial x} = 2x$. \n",
        "\n",
        "That is, the slope of $z$ along the $x$ axis is *twice* the $x$ value. "
      ],
      "metadata": {
        "id": "psYkVMjd70ih"
      }
    },
    {
      "cell_type": "markdown",
      "source": [
        "Now let's plot $z$ with respect to $y$ by varying $y$..."
      ],
      "metadata": {
        "id": "Hf2B4pPq8AGm"
      }
    },
    {
      "cell_type": "code",
      "source": [
        "ys = np.linspace(-3, 3, 1000)"
      ],
      "metadata": {
        "id": "RQLX8aVh7hiM"
      },
      "execution_count": 35,
      "outputs": []
    },
    {
      "cell_type": "markdown",
      "source": [
        "...while holding $x$ constant (e.g., at $x$ = 0): "
      ],
      "metadata": {
        "id": "0jiuRGjP8oH8"
      }
    },
    {
      "cell_type": "code",
      "source": [
        "zs_wrt_y = f(0, ys)"
      ],
      "metadata": {
        "id": "V0v-6YkB8rNz"
      },
      "execution_count": 36,
      "outputs": []
    },
    {
      "cell_type": "code",
      "source": [
        "fig, ax = plt.subplots()\n",
        "plt.axvline(x=0, color='lightgray')\n",
        "plt.axhline(y=0, color='lightgray')\n",
        "\n",
        "plt.xlabel('y')\n",
        "plt.ylabel('z', rotation=0)\n",
        "_ = ax.plot(ys, zs_wrt_y)"
      ],
      "metadata": {
        "colab": {
          "base_uri": "https://localhost:8080/",
          "height": 279
        },
        "id": "LOlMBeeF8t53",
        "outputId": "37056f8f-1a11-46ff-fbbf-8a32fac7e0d0"
      },
      "execution_count": 37,
      "outputs": [
        {
          "output_type": "display_data",
          "data": {
            "text/plain": [
              "<Figure size 432x288 with 1 Axes>"
            ],
            "image/png": "[encoded data removed]"
          },
          "metadata": {
            "needs_background": "light"
          }
        }
      ]
    },
    {
      "cell_type": "markdown",
      "source": [
        "The partial derivative of $z$ w.r.t $y$ happens to be independent of $x$ (just as we observed $x$ is independent of $y$ above), so while $z$ varies as a function of both $x$ and $y$, the slope of $z$ w.r.t $y$ is the same no matter what $x$ is: $$ \\frac{\\partial z}{\\partial y} = -2y $$"
      ],
      "metadata": {
        "id": "rA9t5iaz80mC"
      }
    },
    {
      "cell_type": "markdown",
      "source": [
        "So for example, holding $x$ constant at 2 instead of 0 increases $z$, but has no impact whatsoever on the slope of $z$ w.r.t. $y$: "
      ],
      "metadata": {
        "id": "w7ZoMeKq8_vC"
      }
    },
    {
      "cell_type": "code",
      "source": [
        "zs_wrt_y = f(2, ys)"
      ],
      "metadata": {
        "id": "CJvLMmCE8xMJ"
      },
      "execution_count": 38,
      "outputs": []
    },
    {
      "cell_type": "code",
      "source": [
        "fig, ax = plt.subplots()\n",
        "plt.axvline(x=0, color='lightgray')\n",
        "plt.axhline(y=0, color='lightgray')\n",
        "\n",
        "plt.xlabel('y')\n",
        "plt.ylabel('z', rotation=0)\n",
        "_ = ax.plot(ys, zs_wrt_y)"
      ],
      "metadata": {
        "colab": {
          "base_uri": "https://localhost:8080/",
          "height": 279
        },
        "id": "CR5EgmO_9Dox",
        "outputId": "eeae9970-8038-4966-c52c-52b467ec4162"
      },
      "execution_count": 39,
      "outputs": [
        {
          "output_type": "display_data",
          "data": {
            "text/plain": [
              "<Figure size 432x288 with 1 Axes>"
            ],
            "image/png": "[encoded data removed]"
          },
          "metadata": {
            "needs_background": "light"
          }
        }
      ]
    },
    {
      "cell_type": "code",
      "source": [
        "def delz_dely(my_x, my_y):\n",
        "    return -2*my_y"
      ],
      "metadata": {
        "id": "_mvdlws79Hll"
      },
      "execution_count": 40,
      "outputs": []
    },
    {
      "cell_type": "code",
      "source": [
        "y_samples = [-2, -1, 0, 1, 2]"
      ],
      "metadata": {
        "id": "U5Wf8LxF9KQp"
      },
      "execution_count": 41,
      "outputs": []
    },
    {
      "cell_type": "code",
      "source": [
        "def point_and_tangent_wrt_y(my_ys, my_x, my_y, my_f, fprime, col): # changed my_xs to my_ys\n",
        "\n",
        "    my_z = my_f(my_x, my_y) \n",
        "    plt.scatter(my_y, my_z, c=col, zorder=3) # changed my_x to my_y\n",
        "    \n",
        "    tangent_m = fprime(my_x, my_y) \n",
        "    tangent_b = my_z - tangent_m*my_y # changed my_x to my_y\n",
        "    tangent_line = tangent_m*my_ys + tangent_b # changed my_xs to my_ys\n",
        "    \n",
        "    plt.plot(my_ys, tangent_line, c=col, \n",
        "             linestyle='dashed', linewidth=0.7, zorder=3) # changed my_xs to my_ys"
      ],
      "metadata": {
        "id": "PYlHNZe_9MQj"
      },
      "execution_count": 42,
      "outputs": []
    },
    {
      "cell_type": "code",
      "source": [
        "fig, ax = plt.subplots()\n",
        "plt.axvline(x=0, color='lightgray')\n",
        "plt.axhline(y=0, color='lightgray')\n",
        "\n",
        "for i, y in enumerate(y_samples):\n",
        "    point_and_tangent_wrt_y(ys, 2, y, f, delz_dely, colors[i])\n",
        "\n",
        "plt.ylim(-5, 5)\n",
        "plt.xlabel('y')\n",
        "plt.ylabel('z', rotation=0)\n",
        "_ = ax.plot(xs, zs_wrt_y)"
      ],
      "metadata": {
        "colab": {
          "base_uri": "https://localhost:8080/",
          "height": 279
        },
        "id": "vbTkSCTU9SGO",
        "outputId": "58c58673-a444-45a6-91fe-115863c4bedd"
      },
      "execution_count": 43,
      "outputs": [
        {
          "output_type": "display_data",
          "data": {
            "text/plain": [
              "<Figure size 432x288 with 1 Axes>"
            ],
            "image/png": "[encoded data removed]"
          },
          "metadata": {
            "needs_background": "light"
          }
        }
      ]
    },
    {
      "cell_type": "markdown",
      "source": [
        "Thereby visually demonstrating $\\frac{\\partial z}{\\partial y} = -2y$. \n",
        "\n",
        "That is, the slope of $z$ along the $y$ axis is *twice* the $y$ value *and inverted*, resulting in the parabolic curve opening downward."
      ],
      "metadata": {
        "id": "uO3-tls-D5K2"
      }
    },
    {
      "cell_type": "markdown",
      "source": [
        "Determining partial derivatives by hand using rules is helpful for understanding how calculus works. In practice, however, autodiff enables us to do so more easily (especially if there are a large number of variables). For example, let's use the PyTorch automatic differentiation library to calculate the slope of $z$ with respect to both $x$ and $y$ at any given point $(x, y, z)$:"
      ],
      "metadata": {
        "id": "iufzBDieEJKm"
      }
    },
    {
      "cell_type": "code",
      "source": [
        "x = torch.tensor(0.).requires_grad_() \n",
        "x"
      ],
      "metadata": {
        "colab": {
          "base_uri": "https://localhost:8080/"
        },
        "id": "vCdkqWWu9WiY",
        "outputId": "4dc5ee85-2a77-4721-9b2c-e3fc644ed33c"
      },
      "execution_count": 44,
      "outputs": [
        {
          "output_type": "execute_result",
          "data": {
            "text/plain": [
              "tensor(0., requires_grad=True)"
            ]
          },
          "metadata": {},
          "execution_count": 44
        }
      ]
    },
    {
      "cell_type": "code",
      "source": [
        "y = torch.tensor(0.).requires_grad_() \n",
        "y"
      ],
      "metadata": {
        "colab": {
          "base_uri": "https://localhost:8080/"
        },
        "id": "pcVRKfgbEP14",
        "outputId": "c259400f-fc84-41f6-99ed-04fd6dce3a04"
      },
      "execution_count": 45,
      "outputs": [
        {
          "output_type": "execute_result",
          "data": {
            "text/plain": [
              "tensor(0., requires_grad=True)"
            ]
          },
          "metadata": {},
          "execution_count": 45
        }
      ]
    },
    {
      "cell_type": "code",
      "source": [
        "z = f(x, y) # Forward pass ##前向传播\n",
        "z"
      ],
      "metadata": {
        "colab": {
          "base_uri": "https://localhost:8080/"
        },
        "id": "tiuzuHUuERka",
        "outputId": "dd8905bf-5486-4581-f9c2-0fbcfdd8e2ea"
      },
      "execution_count": 46,
      "outputs": [
        {
          "output_type": "execute_result",
          "data": {
            "text/plain": [
              "tensor(0., grad_fn=<SubBackward0>)"
            ]
          },
          "metadata": {},
          "execution_count": 46
        }
      ]
    },
    {
      "cell_type": "code",
      "source": [
        "z.backward() # Autodiff ##反向传播"
      ],
      "metadata": {
        "id": "rCiFkIGkETre"
      },
      "execution_count": 47,
      "outputs": []
    },
    {
      "cell_type": "markdown",
      "source": [
        "As we already knew from our exercises above, the slope of the point (0, 0, 0) is zero with respect to both the $x$ and $y$ axes: "
      ],
      "metadata": {
        "id": "7ML3ybJ8EfIM"
      }
    },
    {
      "cell_type": "code",
      "source": [
        "x.grad"
      ],
      "metadata": {
        "colab": {
          "base_uri": "https://localhost:8080/"
        },
        "id": "0gUjVT86EcRy",
        "outputId": "7dbb55bb-6184-41b2-c056-001d83e85dac"
      },
      "execution_count": 48,
      "outputs": [
        {
          "output_type": "execute_result",
          "data": {
            "text/plain": [
              "tensor(0.)"
            ]
          },
          "metadata": {},
          "execution_count": 48
        }
      ]
    },
    {
      "cell_type": "code",
      "source": [
        "y.grad"
      ],
      "metadata": {
        "colab": {
          "base_uri": "https://localhost:8080/"
        },
        "id": "5Xi1RCfPEh_o",
        "outputId": "049b6a40-d4ee-470a-9bab-bedbae11ec26"
      },
      "execution_count": 49,
      "outputs": [
        {
          "output_type": "execute_result",
          "data": {
            "text/plain": [
              "tensor(-0.)"
            ]
          },
          "metadata": {},
          "execution_count": 49
        }
      ]
    },
    {
      "cell_type": "markdown",
      "source": [
        "### Partial Derivatives of a Cylinder's Volume"
      ],
      "metadata": {
        "id": "DNVu4ZQrEnMg"
      }
    },
    {
      "cell_type": "markdown",
      "source": [
        "The volume of a cylinder is described by $v = \\pi r^2 l$ where: \n",
        "\n",
        "* $r$ is the radius of the cylinder\n",
        "* $l$ is its length"
      ],
      "metadata": {
        "id": "EOJYlvjFExKl"
      }
    },
    {
      "cell_type": "code",
      "source": [
        "def cylinder_vol(my_r, my_l):\n",
        "    return math.pi * my_r**2 * my_l"
      ],
      "metadata": {
        "id": "0MOzZv0eEwDo"
      },
      "execution_count": 50,
      "outputs": []
    },
    {
      "cell_type": "code",
      "source": [
        "# Let's say the radius is 3 meters and length is 5 meters:\n",
        "r = torch.tensor(3.).requires_grad_()\n",
        "print(r)\n",
        "\n",
        "l = torch.tensor(5.).requires_grad_()\n",
        "print(l)"
      ],
      "metadata": {
        "colab": {
          "base_uri": "https://localhost:8080/"
        },
        "id": "HtQ1DmuCEj30",
        "outputId": "827e6f4c-674a-43f2-a717-ef86a7acb869"
      },
      "execution_count": 51,
      "outputs": [
        {
          "output_type": "stream",
          "name": "stdout",
          "text": [
            "tensor(3., requires_grad=True)\n",
            "tensor(5., requires_grad=True)\n"
          ]
        }
      ]
    },
    {
      "cell_type": "code",
      "source": [
        "# Then the volume of the cylinder is 141.4 cubic meters: \n",
        "v = cylinder_vol(r, l)\n",
        "v"
      ],
      "metadata": {
        "colab": {
          "base_uri": "https://localhost:8080/"
        },
        "id": "TBPThCk9FUJ2",
        "outputId": "e8351119-9dea-4997-9af4-464ec94d9757"
      },
      "execution_count": 52,
      "outputs": [
        {
          "output_type": "execute_result",
          "data": {
            "text/plain": [
              "tensor(141.3717, grad_fn=<MulBackward0>)"
            ]
          },
          "metadata": {},
          "execution_count": 52
        }
      ]
    },
    {
      "cell_type": "code",
      "source": [
        "v.backward()"
      ],
      "metadata": {
        "id": "E7D7nm1lFY1F"
      },
      "execution_count": 53,
      "outputs": []
    },
    {
      "cell_type": "code",
      "source": [
        "l.grad"
      ],
      "metadata": {
        "colab": {
          "base_uri": "https://localhost:8080/"
        },
        "id": "gYuQgNxlFkXj",
        "outputId": "b948af8f-351d-4ad5-881b-ce63599df619"
      },
      "execution_count": 54,
      "outputs": [
        {
          "output_type": "execute_result",
          "data": {
            "text/plain": [
              "tensor(28.2743)"
            ]
          },
          "metadata": {},
          "execution_count": 54
        }
      ]
    },
    {
      "cell_type": "markdown",
      "source": [
        "$$\\frac{\\partial v}{\\partial l} = \\pi r^2$$"
      ],
      "metadata": {
        "id": "N-sGkCT_FqH6"
      }
    },
    {
      "cell_type": "code",
      "source": [
        "math.pi * 3**2"
      ],
      "metadata": {
        "colab": {
          "base_uri": "https://localhost:8080/"
        },
        "id": "dNq664q7FmBX",
        "outputId": "554c0a31-1c6d-4d57-d54f-79fef93b2ae5"
      },
      "execution_count": 55,
      "outputs": [
        {
          "output_type": "execute_result",
          "data": {
            "text/plain": [
              "28.274333882308138"
            ]
          },
          "metadata": {},
          "execution_count": 55
        }
      ]
    },
    {
      "cell_type": "markdown",
      "source": [
        "This means that with $r = 3$, a change in $l$ by one unit corresponds to a change in $v$ of 28.27$\\text{m}^3$. \n",
        "\n",
        "We can prove this to ourselves: "
      ],
      "metadata": {
        "id": "OidZgrG8Gu6L"
      }
    },
    {
      "cell_type": "code",
      "source": [
        "cylinder_vol(3, 6)"
      ],
      "metadata": {
        "colab": {
          "base_uri": "https://localhost:8080/"
        },
        "id": "H43k2ckGFveZ",
        "outputId": "a55f7d93-2b0d-466a-871e-99dcd0762c4b"
      },
      "execution_count": 56,
      "outputs": [
        {
          "output_type": "execute_result",
          "data": {
            "text/plain": [
              "169.64600329384882"
            ]
          },
          "metadata": {},
          "execution_count": 56
        }
      ]
    },
    {
      "cell_type": "code",
      "source": [
        "cylinder_vol(3, 6) - cylinder_vol(3, 5)"
      ],
      "metadata": {
        "colab": {
          "base_uri": "https://localhost:8080/"
        },
        "id": "T7H3DBOgG4sz",
        "outputId": "81ee3db2-e991-4c59-cc0e-e37ae633875e"
      },
      "execution_count": 57,
      "outputs": [
        {
          "output_type": "execute_result",
          "data": {
            "text/plain": [
              "28.274333882308127"
            ]
          },
          "metadata": {},
          "execution_count": 57
        }
      ]
    },
    {
      "cell_type": "code",
      "source": [
        "cylinder_vol(3, 7) - cylinder_vol(3, 6)"
      ],
      "metadata": {
        "colab": {
          "base_uri": "https://localhost:8080/"
        },
        "id": "1HaDFMDjG6k_",
        "outputId": "6abf8dce-360e-4677-81f4-9d04534a11ed"
      },
      "execution_count": 58,
      "outputs": [
        {
          "output_type": "execute_result",
          "data": {
            "text/plain": [
              "28.274333882308156"
            ]
          },
          "metadata": {},
          "execution_count": 58
        }
      ]
    },
    {
      "cell_type": "markdown",
      "source": [
        "For changes in $v$ with respect to $r$ we have the following: $$\\frac{\\partial v}{\\partial r} = 2 \\pi r l$$"
      ],
      "metadata": {
        "id": "rUSo3-3sHBRk"
      }
    },
    {
      "cell_type": "code",
      "source": [
        "r.grad"
      ],
      "metadata": {
        "colab": {
          "base_uri": "https://localhost:8080/"
        },
        "id": "J4ci012-G8bJ",
        "outputId": "f78f5d35-8752-483b-9d5c-054cc20b8950"
      },
      "execution_count": 59,
      "outputs": [
        {
          "output_type": "execute_result",
          "data": {
            "text/plain": [
              "tensor(94.2478)"
            ]
          },
          "metadata": {},
          "execution_count": 59
        }
      ]
    },
    {
      "cell_type": "code",
      "source": [
        "2 * math.pi * 3 * 5"
      ],
      "metadata": {
        "colab": {
          "base_uri": "https://localhost:8080/"
        },
        "id": "nWi_tBlKHG7n",
        "outputId": "83dd056a-ea3a-4c22-9914-6b9942556d0a"
      },
      "execution_count": 60,
      "outputs": [
        {
          "output_type": "execute_result",
          "data": {
            "text/plain": [
              "94.24777960769379"
            ]
          },
          "metadata": {},
          "execution_count": 60
        }
      ]
    },
    {
      "cell_type": "markdown",
      "source": [
        "$r$ is included in the partial derivative so adjusting it affects the scale of its impact on $v$. It is typical in calculus for the derivative only to apply at an infinitesimally small $\\Delta r$. The smaller the $\\Delta r$, the closer to the true $\\frac{\\partial v}{\\partial r}$. E.g., at $\\Delta r = 1 \\times 10^{-6}$:"
      ],
      "metadata": {
        "id": "D8tvI6kPHKAO"
      }
    },
    {
      "cell_type": "code",
      "source": [
        "delta = 1e-6"
      ],
      "metadata": {
        "id": "UavMlFYMHUbE"
      },
      "execution_count": 61,
      "outputs": []
    },
    {
      "cell_type": "code",
      "source": [
        "# Dividing by delta restores scale\n",
        "(cylinder_vol(3 + delta, 5) - cylinder_vol(3, 5)) / delta "
      ],
      "metadata": {
        "colab": {
          "base_uri": "https://localhost:8080/"
        },
        "id": "MG4JJD-yHXPh",
        "outputId": "d3895b65-3c9a-4fa8-8c46-5e081d845300"
      },
      "execution_count": 62,
      "outputs": [
        {
          "output_type": "execute_result",
          "data": {
            "text/plain": [
              "94.24779531741478"
            ]
          },
          "metadata": {},
          "execution_count": 62
        }
      ]
    },
    {
      "cell_type": "markdown",
      "source": [
        "### Gradients of Cost w.r.t. Model Parameters"
      ],
      "metadata": {
        "id": "0mc3bOcHHhaY"
      }
    },
    {
      "cell_type": "markdown",
      "source": [
        "In this notebook, we calculate the gradient of quadratic cost with respect to a straight-line regression model's parameters. We keep the partial derivatives as simple as possible by limiting the model to handling a single data point."
      ],
      "metadata": {
        "id": "Fib9ERPC3F1C"
      }
    },
    {
      "cell_type": "code",
      "source": [
        "import torch"
      ],
      "metadata": {
        "id": "atrbbvxVHs3J"
      },
      "execution_count": 63,
      "outputs": []
    },
    {
      "cell_type": "code",
      "source": [
        "xs = torch.tensor([0, 1, 2, 3, 4, 5, 6, 7.])"
      ],
      "metadata": {
        "id": "VSFIl1kn3M0o"
      },
      "execution_count": 64,
      "outputs": []
    },
    {
      "cell_type": "code",
      "source": [
        "ys = torch.tensor([1.86, 1.31, .62, .33, .09, -.67, -1.23, -1.37])"
      ],
      "metadata": {
        "id": "O3gN5nuY3RCU"
      },
      "execution_count": 65,
      "outputs": []
    },
    {
      "cell_type": "markdown",
      "source": [
        "The slope of a line is given by $y = mx + b$:"
      ],
      "metadata": {
        "id": "J5JC87PK3WCW"
      }
    },
    {
      "cell_type": "code",
      "source": [
        "def regression(my_x, my_m, my_b):\n",
        "    return my_m*my_x + my_b"
      ],
      "metadata": {
        "id": "jLtShmdd3S-t"
      },
      "execution_count": 66,
      "outputs": []
    },
    {
      "cell_type": "markdown",
      "source": [
        "Let's initialize $m$ and $b$ with the same \"random\" near-zero values:"
      ],
      "metadata": {
        "id": "lKCdRaS03cdp"
      }
    },
    {
      "cell_type": "code",
      "source": [
        "m = torch.tensor([0.9]).requires_grad_()\n",
        "b = torch.tensor([0.1]).requires_grad_()"
      ],
      "metadata": {
        "id": "djoH7WBT3jwH"
      },
      "execution_count": 67,
      "outputs": []
    },
    {
      "cell_type": "markdown",
      "source": [
        "To keep the partial derivatives as simple as possible, let's move forward with a single instance $i$ from the eight possible data points: "
      ],
      "metadata": {
        "id": "B9SqhH2a3Zxo"
      }
    },
    {
      "cell_type": "code",
      "source": [
        "i = 7\n",
        "x = xs[i]\n",
        "y = ys[i]"
      ],
      "metadata": {
        "id": "MYl3q7yw3tLs"
      },
      "execution_count": 68,
      "outputs": []
    },
    {
      "cell_type": "code",
      "source": [
        "x"
      ],
      "metadata": {
        "colab": {
          "base_uri": "https://localhost:8080/"
        },
        "id": "sn0lkl5W3vl2",
        "outputId": "75beca69-9f95-499f-8a15-40546bccafde"
      },
      "execution_count": 69,
      "outputs": [
        {
          "output_type": "execute_result",
          "data": {
            "text/plain": [
              "tensor(7.)"
            ]
          },
          "metadata": {},
          "execution_count": 69
        }
      ]
    },
    {
      "cell_type": "code",
      "source": [
        "y"
      ],
      "metadata": {
        "colab": {
          "base_uri": "https://localhost:8080/"
        },
        "id": "hVSx4hV33yxB",
        "outputId": "0e85b596-c06e-4bde-923f-6a1e74ce95f6"
      },
      "execution_count": 70,
      "outputs": [
        {
          "output_type": "execute_result",
          "data": {
            "text/plain": [
              "tensor(-1.3700)"
            ]
          },
          "metadata": {},
          "execution_count": 70
        }
      ]
    },
    {
      "cell_type": "markdown",
      "source": [
        "**Step 1**: Forward pass"
      ],
      "metadata": {
        "id": "iJxqFhAp34dl"
      }
    },
    {
      "cell_type": "markdown",
      "source": [
        "We can flow the scalar tensor $x$ through our regression model to produce $\\hat{y}$, an estimate of $y$. Prior to any model training, this is an arbitrary estimate:"
      ],
      "metadata": {
        "id": "OEZLQBYr37ra"
      }
    },
    {
      "cell_type": "code",
      "source": [
        "yhat = regression(x, m, b)\n",
        "yhat"
      ],
      "metadata": {
        "colab": {
          "base_uri": "https://localhost:8080/"
        },
        "id": "CpT0Leq830lE",
        "outputId": "2fbfde35-6382-49e1-db4a-62c999598466"
      },
      "execution_count": 71,
      "outputs": [
        {
          "output_type": "execute_result",
          "data": {
            "text/plain": [
              "tensor([6.4000], grad_fn=<AddBackward0>)"
            ]
          },
          "metadata": {},
          "execution_count": 71
        }
      ]
    },
    {
      "cell_type": "markdown",
      "source": [
        "**Step 2**: Compare $\\hat{y}$ with true $y$ to calculate cost $C$"
      ],
      "metadata": {
        "id": "3xqKPWEm4EbV"
      }
    },
    {
      "cell_type": "markdown",
      "source": [
        "We used mean-squared error, which averages quadratic cost over multiple data points. With a single data point, here we can use quadratic cost alone. It is defined by: $$ C = (\\hat{y} - y)^2 $$"
      ],
      "metadata": {
        "id": "_RNyapVF4JFc"
      }
    },
    {
      "cell_type": "code",
      "source": [
        "def squared_error(my_yhat, my_y):\n",
        "    return (my_yhat - my_y)**2"
      ],
      "metadata": {
        "id": "xJGJXPlA4F_8"
      },
      "execution_count": 72,
      "outputs": []
    },
    {
      "cell_type": "code",
      "source": [
        "C = squared_error(yhat, y)\n",
        "C"
      ],
      "metadata": {
        "colab": {
          "base_uri": "https://localhost:8080/"
        },
        "id": "Zce8pKGE4YVy",
        "outputId": "ea0796a3-8b4f-4c0b-e5a3-90d449b50ca5"
      },
      "execution_count": 73,
      "outputs": [
        {
          "output_type": "execute_result",
          "data": {
            "text/plain": [
              "tensor([60.3729], grad_fn=<PowBackward0>)"
            ]
          },
          "metadata": {},
          "execution_count": 73
        }
      ]
    },
    {
      "cell_type": "markdown",
      "source": [
        "**Step 3**: Use autodiff to calculate gradient of $C$ w.r.t. parameters"
      ],
      "metadata": {
        "id": "zoP-Tyrp4bHV"
      }
    },
    {
      "cell_type": "code",
      "source": [
        "C.backward()"
      ],
      "metadata": {
        "id": "PfGqN5D-4cHy"
      },
      "execution_count": 74,
      "outputs": []
    },
    {
      "cell_type": "markdown",
      "source": [
        "The partial derivative of $C$ with respect to $m$ ($\\frac{\\partial C}{\\partial m}$) is: "
      ],
      "metadata": {
        "id": "WmWRw7kW4f_F"
      }
    },
    {
      "cell_type": "code",
      "source": [
        "m.grad"
      ],
      "metadata": {
        "colab": {
          "base_uri": "https://localhost:8080/"
        },
        "id": "Pa_LJvwm4hRD",
        "outputId": "42e1a74d-ed37-41e3-ccd1-4f2061c415bf"
      },
      "execution_count": 75,
      "outputs": [
        {
          "output_type": "execute_result",
          "data": {
            "text/plain": [
              "tensor([108.7800])"
            ]
          },
          "metadata": {},
          "execution_count": 75
        }
      ]
    },
    {
      "cell_type": "markdown",
      "source": [
        "And the partial derivative of $C$ with respect to $b$ ($\\frac{\\partial C}{\\partial b}$) is: "
      ],
      "metadata": {
        "id": "9rA51wz74l35"
      }
    },
    {
      "cell_type": "code",
      "source": [
        "b.grad"
      ],
      "metadata": {
        "colab": {
          "base_uri": "https://localhost:8080/"
        },
        "id": "0OSuvMnl4ndD",
        "outputId": "3c9de82b-2602-4b0a-c237-afbb8581ed0f"
      },
      "execution_count": 76,
      "outputs": [
        {
          "output_type": "execute_result",
          "data": {
            "text/plain": [
              "tensor([15.5400])"
            ]
          },
          "metadata": {},
          "execution_count": 76
        }
      ]
    },
    {
      "cell_type": "markdown",
      "source": [
        "$$ \\frac{\\partial C}{\\partial m} = 2x(\\hat{y} - y) $$"
      ],
      "metadata": {
        "id": "kXq8rL555AC7"
      }
    },
    {
      "cell_type": "code",
      "source": [
        "2*x*(yhat.item()-y)"
      ],
      "metadata": {
        "colab": {
          "base_uri": "https://localhost:8080/"
        },
        "id": "ubSM8uuV44U-",
        "outputId": "a303c951-7e4e-4421-9d4f-00c2264bc9a9"
      },
      "execution_count": 77,
      "outputs": [
        {
          "output_type": "execute_result",
          "data": {
            "text/plain": [
              "tensor(108.7800)"
            ]
          },
          "metadata": {},
          "execution_count": 77
        }
      ]
    },
    {
      "cell_type": "markdown",
      "source": [
        "$$ \\frac{\\partial C}{\\partial b} = 2(\\hat{y}-y) $$"
      ],
      "metadata": {
        "id": "MEplJTlU5JMp"
      }
    },
    {
      "cell_type": "code",
      "source": [
        "2*(yhat.item()-y)"
      ],
      "metadata": {
        "colab": {
          "base_uri": "https://localhost:8080/"
        },
        "id": "tq_-Hhdo5J9x",
        "outputId": "d3123091-e9c8-4d0f-ab80-ceb0765af677"
      },
      "execution_count": 78,
      "outputs": [
        {
          "output_type": "execute_result",
          "data": {
            "text/plain": [
              "tensor(15.5400)"
            ]
          },
          "metadata": {},
          "execution_count": 78
        }
      ]
    },
    {
      "cell_type": "markdown",
      "source": [
        "### The Gradient of Cost $\\nabla C$"
      ],
      "metadata": {
        "id": "1y7_HxS95PjI"
      }
    },
    {
      "cell_type": "markdown",
      "source": [
        "The gradient of cost, which is symbolized $\\nabla C$ (pronounced \"nabla C\"), is a vector of all the partial derivatives of $C$ with respect to each of the individual model parameters: "
      ],
      "metadata": {
        "id": "so9fSa4p5blS"
      }
    },
    {
      "cell_type": "markdown",
      "source": [
        "$\\nabla C = \\nabla_p C = \\left[ \\frac{\\partial{C}}{\\partial{p_1}}, \\frac{\\partial{C}}{\\partial{p_2}}, \\cdots, \\frac{\\partial{C}}{\\partial{p_n}} \\right]^T $"
      ],
      "metadata": {
        "id": "8-GEW6sX5ifd"
      }
    },
    {
      "cell_type": "markdown",
      "source": [
        "In this case, there are only two parameters, $b$ and $m$: "
      ],
      "metadata": {
        "id": "Fwveb0gZ5mEU"
      }
    },
    {
      "cell_type": "markdown",
      "source": [
        "$\\nabla C = \\left[ \\frac{\\partial{C}}{\\partial{b}}, \\frac{\\partial{C}}{\\partial{m}} \\right]^T $"
      ],
      "metadata": {
        "id": "ymcgdfaO5qmH"
      }
    },
    {
      "cell_type": "code",
      "source": [
        "gradient = torch.tensor([[b.grad.item(), m.grad.item()]]).T\n",
        "gradient"
      ],
      "metadata": {
        "colab": {
          "base_uri": "https://localhost:8080/"
        },
        "id": "BHgYrAWv5Yt6",
        "outputId": "abdb5759-8e7f-4b28-9cc3-541c44a91876"
      },
      "execution_count": 79,
      "outputs": [
        {
          "output_type": "execute_result",
          "data": {
            "text/plain": [
              "tensor([[ 15.5400],\n",
              "        [108.7800]])"
            ]
          },
          "metadata": {},
          "execution_count": 79
        }
      ]
    },
    {
      "cell_type": "markdown",
      "source": [
        "### Gradient of Cost on a Batch of Data"
      ],
      "metadata": {
        "id": "lxh0kgRyiE-6"
      }
    },
    {
      "cell_type": "markdown",
      "source": [
        "* Calculate the gradient of mean squared error on a batch of data\n",
        "* Visualize gradient descent in action"
      ],
      "metadata": {
        "id": "Celg-swoiXlK"
      }
    },
    {
      "cell_type": "code",
      "source": [
        "import torch\n",
        "import matplotlib.pyplot as plt\n",
        "\n",
        "xs = torch.tensor([0, 1, 2, 3, 4, 5, 6, 7.])\n",
        "ys = torch.tensor([1.86, 1.31, .62, .33, .09, -.67, -1.23, -1.37])\n",
        "\n",
        "def regression(my_x, my_m, my_b):\n",
        "    return my_m*my_x + my_b\n",
        "\n",
        "m = torch.tensor([0.9]).requires_grad_()\n",
        "b = torch.tensor([0.1]).requires_grad_()\n",
        "\n"
      ],
      "metadata": {
        "id": "zLgIhBQwh4Qt"
      },
      "execution_count": 80,
      "outputs": []
    },
    {
      "cell_type": "markdown",
      "source": [
        "**Step 1**: Forward pass"
      ],
      "metadata": {
        "id": "A4uEOpwtib9D"
      }
    },
    {
      "cell_type": "code",
      "source": [
        "yhats = regression(xs, m, b)\n",
        "yhats"
      ],
      "metadata": {
        "colab": {
          "base_uri": "https://localhost:8080/"
        },
        "id": "lm23ouRiiRUp",
        "outputId": "5b342bec-5939-4bfc-851d-9e28cdb312d9"
      },
      "execution_count": 81,
      "outputs": [
        {
          "output_type": "execute_result",
          "data": {
            "text/plain": [
              "tensor([0.1000, 1.0000, 1.9000, 2.8000, 3.7000, 4.6000, 5.5000, 6.4000],\n",
              "       grad_fn=<AddBackward0>)"
            ]
          },
          "metadata": {},
          "execution_count": 81
        }
      ]
    },
    {
      "cell_type": "markdown",
      "source": [
        "**Step 2**: Compare $\\hat{y}$ with true $y$ to calculate cost $C$\n",
        "\n",
        "Let's use mean squared error, which averages quadratic cost across multiple data points: $$C = \\frac{1}{n} \\sum_{i=1}^n (\\hat{y_i}-y_i)^2 $$"
      ],
      "metadata": {
        "id": "4rYLy2NtikdV"
      }
    },
    {
      "cell_type": "code",
      "source": [
        "def mse(my_yhat, my_y): \n",
        "    sigma = torch.sum((my_yhat - my_y)**2)\n",
        "    return sigma/len(my_y)\n",
        "\n",
        "C = mse(yhats, ys)\n",
        "C"
      ],
      "metadata": {
        "colab": {
          "base_uri": "https://localhost:8080/"
        },
        "id": "k0DxnQZIifeI",
        "outputId": "3d87f769-9abd-4ee7-9e56-56d9c472d9c9"
      },
      "execution_count": 82,
      "outputs": [
        {
          "output_type": "execute_result",
          "data": {
            "text/plain": [
              "tensor(19.6755, grad_fn=<DivBackward0>)"
            ]
          },
          "metadata": {},
          "execution_count": 82
        }
      ]
    },
    {
      "cell_type": "markdown",
      "source": [
        "**Step 3**: Use autodiff to calculate gradient of $C$ w.r.t. parameters"
      ],
      "metadata": {
        "id": "6yj7WO6LjBVe"
      }
    },
    {
      "cell_type": "code",
      "source": [
        "C.backward()"
      ],
      "metadata": {
        "id": "vy5agYFujCTw"
      },
      "execution_count": 83,
      "outputs": []
    },
    {
      "cell_type": "code",
      "source": [
        "m.grad"
      ],
      "metadata": {
        "colab": {
          "base_uri": "https://localhost:8080/"
        },
        "id": "zxD0xbfZlFrM",
        "outputId": "57517a17-b906-425e-9112-890fcde48a44"
      },
      "execution_count": 84,
      "outputs": [
        {
          "output_type": "execute_result",
          "data": {
            "text/plain": [
              "tensor([36.3050])"
            ]
          },
          "metadata": {},
          "execution_count": 84
        }
      ]
    },
    {
      "cell_type": "code",
      "source": [
        "b.grad"
      ],
      "metadata": {
        "colab": {
          "base_uri": "https://localhost:8080/"
        },
        "id": "ZGQFXeHWlH8I",
        "outputId": "c9e101ba-d1a4-4924-dbad-ff8b1a237054"
      },
      "execution_count": 85,
      "outputs": [
        {
          "output_type": "execute_result",
          "data": {
            "text/plain": [
              "tensor([6.2650])"
            ]
          },
          "metadata": {},
          "execution_count": 85
        }
      ]
    },
    {
      "cell_type": "markdown",
      "source": [
        "$$ \\frac{\\partial C}{\\partial m} = \\frac{2}{n} \\sum (\\hat{y}_i - y_i) \\cdot x_i $$"
      ],
      "metadata": {
        "id": "ENX8SHuymdhp"
      }
    },
    {
      "cell_type": "code",
      "source": [
        "2*1/len(ys)*torch.sum((yhats - ys)*xs)"
      ],
      "metadata": {
        "colab": {
          "base_uri": "https://localhost:8080/"
        },
        "id": "mTSADSPrlSJq",
        "outputId": "b31f5ac0-a6dd-46d5-c7ab-9f5daa3b13ae"
      },
      "execution_count": 86,
      "outputs": [
        {
          "output_type": "execute_result",
          "data": {
            "text/plain": [
              "tensor(36.3050, grad_fn=<MulBackward0>)"
            ]
          },
          "metadata": {},
          "execution_count": 86
        }
      ]
    },
    {
      "cell_type": "markdown",
      "source": [
        "$$ \\frac{\\partial C}{\\partial b} = \\frac{2}{n} \\sum (\\hat{y}_i - y_i) $$"
      ],
      "metadata": {
        "id": "fhXp8HG-mndJ"
      }
    },
    {
      "cell_type": "code",
      "source": [
        "2*1/len(ys)*torch.sum(yhats - ys)"
      ],
      "metadata": {
        "colab": {
          "base_uri": "https://localhost:8080/"
        },
        "id": "URamFWyamoTl",
        "outputId": "9a6cbfe2-8e21-4bad-c79f-658435756f9d"
      },
      "execution_count": 87,
      "outputs": [
        {
          "output_type": "execute_result",
          "data": {
            "text/plain": [
              "tensor(6.2650, grad_fn=<MulBackward0>)"
            ]
          },
          "metadata": {},
          "execution_count": 87
        }
      ]
    },
    {
      "cell_type": "markdown",
      "source": [
        "We don't need to explicitly create a standalone $\\nabla C$ object to run, but let's create it for fun now anyway and we'll make use of it in a later: "
      ],
      "metadata": {
        "id": "sT_izW5xmxdU"
      }
    },
    {
      "cell_type": "code",
      "source": [
        "gradient = torch.tensor([[b.grad.item(), m.grad.item()]]).T\n",
        "gradient"
      ],
      "metadata": {
        "colab": {
          "base_uri": "https://localhost:8080/"
        },
        "id": "NepNTXMFm6X8",
        "outputId": "13c00945-abd2-482d-ded0-37c98876de70"
      },
      "execution_count": 88,
      "outputs": [
        {
          "output_type": "execute_result",
          "data": {
            "text/plain": [
              "tensor([[ 6.2650],\n",
              "        [36.3050]])"
            ]
          },
          "metadata": {},
          "execution_count": 88
        }
      ]
    },
    {
      "cell_type": "markdown",
      "source": [
        "Let's visualize the most pertinent metrics in a single plot:"
      ],
      "metadata": {
        "id": "PTGZpSICnByT"
      }
    },
    {
      "cell_type": "code",
      "source": [
        "def labeled_regression_plot(my_x, my_y, my_m, my_b, my_C, include_grad=True):\n",
        "    \n",
        "    title = 'Cost = {}'.format('%.3g' % my_C.item())\n",
        "    if include_grad:\n",
        "        xlabel = 'm = {}, m grad = {}'.format('%.3g' % my_m.item(), '%.3g' % my_m.grad.item())\n",
        "        ylabel = 'b = {}, b grad = {}'.format('%.3g' % my_b.item(), '%.3g' % my_b.grad.item())\n",
        "    else:\n",
        "        xlabel = 'm = {}'.format('%.3g' % my_m.item())        \n",
        "        ylabel = 'b = {}'.format('%.3g' % my_b.item())\n",
        "    \n",
        "    fig, ax = plt.subplots()\n",
        "    \n",
        "    plt.title(title)\n",
        "    plt.ylabel(ylabel)\n",
        "    plt.xlabel(xlabel)\n",
        "\n",
        "    ax.scatter(my_x, my_y, zorder=3)\n",
        "    \n",
        "    x_min, x_max = ax.get_xlim()\n",
        "    y_min = regression(x_min, my_m, my_b).detach().item()\n",
        "    y_max = regression(x_max, my_m, my_b).detach().item()\n",
        "\n",
        "    ax.set_xlim([x_min, x_max])\n",
        "    _ = ax.plot([x_min, x_max], [y_min, y_max], c='C01')"
      ],
      "metadata": {
        "id": "4BDkqybfm_Vn"
      },
      "execution_count": 89,
      "outputs": []
    },
    {
      "cell_type": "code",
      "source": [
        "labeled_regression_plot(xs, ys, m, b, C)"
      ],
      "metadata": {
        "colab": {
          "base_uri": "https://localhost:8080/",
          "height": 295
        },
        "id": "FeQH5mZonJUJ",
        "outputId": "407fd415-824f-410f-c00f-74dfb1fe116a"
      },
      "execution_count": 90,
      "outputs": [
        {
          "output_type": "display_data",
          "data": {
            "text/plain": [
              "<Figure size 432x288 with 1 Axes>"
            ],
            "image/png": "[encoded data removed]"
          },
          "metadata": {
            "needs_background": "light"
          }
        }
      ]
    },
    {
      "cell_type": "markdown",
      "source": [
        "**Step 4**: Gradient descent"
      ],
      "metadata": {
        "id": "8Bax-zwwnHPs"
      }
    },
    {
      "cell_type": "markdown",
      "source": [
        "$\\frac{\\partial C}{\\partial m} = 36.3$ indicates that an increase in $m$ corresponds to a large increase in $C$. \n",
        "\n",
        "Meanwhile, $\\frac{\\partial C}{\\partial b} = 6.26$ indicates that an increase in $b$ also corresponds to an increase in $C$, though much less so than $m$.\n",
        "\n",
        "In the first round of training, the lowest hanging fruit with respect to reducing cost $C$ is therefore to decrease the slope of the regression line, $m$. There will also be a relatively small decrease in the $y$-intercept of the line, $b$. "
      ],
      "metadata": {
        "id": "iP69E4B6nNk3"
      }
    },
    {
      "cell_type": "code",
      "source": [
        "optimizer = torch.optim.SGD([m, b], lr=0.01)\n",
        "\n",
        "optimizer.step()\n",
        "\n",
        "C = mse(regression(xs, m, b), ys)\n",
        "\n",
        "labeled_regression_plot(xs, ys, m, b, C, include_grad=False) # Gradient of C hasn't been recalculated"
      ],
      "metadata": {
        "colab": {
          "base_uri": "https://localhost:8080/",
          "height": 295
        },
        "id": "vL-1NUConS9n",
        "outputId": "b21dd48c-5ffa-4159-ab8c-3baaae851fa9"
      },
      "execution_count": 91,
      "outputs": [
        {
          "output_type": "display_data",
          "data": {
            "text/plain": [
              "<Figure size 432x288 with 1 Axes>"
            ],
            "image/png": "[encoded data removed]"
          },
          "metadata": {
            "needs_background": "light"
          }
        }
      ]
    },
    {
      "cell_type": "markdown",
      "source": [
        "### Rinse and Repeat"
      ],
      "metadata": {
        "id": "t5_KXqCanj4z"
      }
    },
    {
      "cell_type": "markdown",
      "source": [
        "Observe further rounds of training: "
      ],
      "metadata": {
        "id": "JWGWNbjonoTQ"
      }
    },
    {
      "cell_type": "code",
      "source": [
        "epochs = 20\n",
        "for epoch in range(epochs): \n",
        "    \n",
        "    optimizer.zero_grad() # Reset gradients to zero\n",
        "    \n",
        "    yhats = regression(xs, m, b) # Step 1\n",
        "    C = mse(yhats, ys) # Step 2\n",
        "    \n",
        "    C.backward() # Step 3\n",
        "    \n",
        "    labeled_regression_plot(xs, ys, m, b, C)\n",
        "    \n",
        "    optimizer.step() # Step 4"
      ],
      "metadata": {
        "colab": {
          "base_uri": "https://localhost:8080/",
          "height": 1000
        },
        "id": "PDKlr-Z3nkuM",
        "outputId": "639f7025-836c-4c72-91bc-0042678d63d4"
      },
      "execution_count": 92,
      "outputs": [
        {
          "output_type": "display_data",
          "data": {
            "text/plain": [
              "<Figure size 432x288 with 1 Axes>"
            ],
            "image/png": "[encoded data removed]"
          },
          "metadata": {
            "needs_background": "light"
          }
        },
        {
          "output_type": "display_data",
          "data": {
            "text/plain": [
              "<Figure size 432x288 with 1 Axes>"
            ],
            "image/png": "[encoded data removed]"
          },
          "metadata": {
            "needs_background": "light"
          }
        },
        {
          "output_type": "display_data",
          "data": {
            "text/plain": [
              "<Figure size 432x288 with 1 Axes>"
            ],
            "image/png": "[encoded data removed]"
          },
          "metadata": {
            "needs_background": "light"
          }
        },
        {
          "output_type": "display_data",
          "data": {
            "text/plain": [
              "<Figure size 432x288 with 1 Axes>"
            ],
            "image/png": "[encoded data removed]"
          },
          "metadata": {
            "needs_background": "light"
          }
        },
        {
          "output_type": "display_data",
          "data": {
            "text/plain": [
              "<Figure size 432x288 with 1 Axes>"
            ],
            "image/png": "[encoded data removed]"
          },
          "metadata": {
            "needs_background": "light"
          }
        },
        {
          "output_type": "display_data",
          "data": {
            "text/plain": [
              "<Figure size 432x288 with 1 Axes>"
            ],
            "image/png": "[encoded data removed]"
          },
          "metadata": {
            "needs_background": "light"
          }
        },
        {
          "output_type": "display_data",
          "data": {
            "text/plain": [
              "<Figure size 432x288 with 1 Axes>"
            ],
            "image/png": "[encoded data removed]"
          },
          "metadata": {
            "needs_background": "light"
          }
        },
        {
          "output_type": "display_data",
          "data": {
            "text/plain": [
              "<Figure size 432x288 with 1 Axes>"
            ],
            "image/png": "[encoded data removed]"
          },
          "metadata": {
            "needs_background": "light"
          }
        },
        {
          "output_type": "display_data",
          "data": {
            "text/plain": [
              "<Figure size 432x288 with 1 Axes>"
            ],
            "image/png": "[encoded data removed]"
          },
          "metadata": {
            "needs_background": "light"
          }
        },
        {
          "output_type": "display_data",
          "data": {
            "text/plain": [
              "<Figure size 432x288 with 1 Axes>"
            ],
            "image/png": "[encoded data removed]"
          },
          "metadata": {
            "needs_background": "light"
          }
        },
        {
          "output_type": "display_data",
          "data": {
            "text/plain": [
              "<Figure size 432x288 with 1 Axes>"
            ],
            "image/png": "[encoded data removed]"
          },
          "metadata": {
            "needs_background": "light"
          }
        },
        {
          "output_type": "display_data",
          "data": {
            "text/plain": [
              "<Figure size 432x288 with 1 Axes>"
            ],
            "image/png": "[encoded data removed]"
          },
          "metadata": {
            "needs_background": "light"
          }
        },
        {
          "output_type": "display_data",
          "data": {
            "text/plain": [
              "<Figure size 432x288 with 1 Axes>"
            ],
            "image/png": "[encoded data removed]"
          },
          "metadata": {
            "needs_background": "light"
          }
        },
        {
          "output_type": "display_data",
          "data": {
            "text/plain": [
              "<Figure size 432x288 with 1 Axes>"
            ],
            "image/png": "[encoded data removed]"
          },
          "metadata": {
            "needs_background": "light"
          }
        },
        {
          "output_type": "display_data",
          "data": {
            "text/plain": [
              "<Figure size 432x288 with 1 Axes>"
            ],
            "image/png": "[encoded data removed]"
          },
          "metadata": {
            "needs_background": "light"
          }
        },
        {
          "output_type": "display_data",
          "data": {
            "text/plain": [
              "<Figure size 432x288 with 1 Axes>"
            ],
            "image/png": "[encoded data removed]"
          },
          "metadata": {
            "needs_background": "light"
          }
        },
        {
          "output_type": "display_data",
          "data": {
            "text/plain": [
              "<Figure size 432x288 with 1 Axes>"
            ],
            "image/png": "[encoded data removed]"
          },
          "metadata": {
            "needs_background": "light"
          }
        },
        {
          "output_type": "display_data",
          "data": {
            "text/plain": [
              "<Figure size 432x288 with 1 Axes>"
            ],
            "image/png": "[encoded data removed]"
          },
          "metadata": {
            "needs_background": "light"
          }
        },
        {
          "output_type": "display_data",
          "data": {
            "text/plain": [
              "<Figure size 432x288 with 1 Axes>"
            ],
            "image/png": "[encoded data removed]"
          },
          "metadata": {
            "needs_background": "light"
          }
        },
        {
          "output_type": "display_data",
          "data": {
            "text/plain": [
              "<Figure size 432x288 with 1 Axes>"
            ],
            "image/png": "[encoded data removed]"
          },
          "metadata": {
            "needs_background": "light"
          }
        }
      ]
    },
    {
      "cell_type": "markdown",
      "source": [
        "In later rounds of training, after the model's slope $m$ has become closer to the slope represented by the data, $\\frac{\\partial C}{\\partial b}$ becomes negative, indicating an inverse relationship between $b$ and $C$. Meanwhile, $\\frac{\\partial C}{\\partial m}$ remains positive. \n",
        "\n",
        "This combination directs gradient descent to simultaneously adjust the $y$-intercept $b$ upwards and the slope $m$ downwards in order to reduce cost $C$ and, ultimately, fit the regression line snugly to the data."
      ],
      "metadata": {
        "id": "Np22y88ynxMv"
      }
    },
    {
      "cell_type": "markdown",
      "source": [
        "## Segment 3: Integrals"
      ],
      "metadata": {
        "id": "XB2E0_KL-29k"
      }
    },
    {
      "cell_type": "code",
      "source": [
        "from scipy.integrate import quad # \"quadrature\" = numerical integration (as opposed to symbolic)"
      ],
      "metadata": {
        "id": "-k-ExzbK-3z_"
      },
      "execution_count": 93,
      "outputs": []
    },
    {
      "cell_type": "markdown",
      "source": [
        "$$ \\int_1^2 \\frac{x}{2} dx = \\frac{3}{4} $$"
      ],
      "metadata": {
        "id": "gHGnv-j6_CBa"
      }
    },
    {
      "cell_type": "code",
      "source": [
        "def g(x):\n",
        "    return x/2"
      ],
      "metadata": {
        "id": "GT1dyFsV--0O"
      },
      "execution_count": 94,
      "outputs": []
    },
    {
      "cell_type": "code",
      "source": [
        "quad(g, 1, 2) "
      ],
      "metadata": {
        "colab": {
          "base_uri": "https://localhost:8080/"
        },
        "id": "jEWMBb0f_GSh",
        "outputId": "1318f86e-d770-4320-9585-56455631f4d5"
      },
      "execution_count": 95,
      "outputs": [
        {
          "output_type": "execute_result",
          "data": {
            "text/plain": [
              "(0.75, 8.326672684688674e-15)"
            ]
          },
          "metadata": {},
          "execution_count": 95
        }
      ]
    },
    {
      "cell_type": "markdown",
      "source": [
        "The second output of `quad` is an estimate of the absolute error of the integral, which in this case is essentially zero."
      ],
      "metadata": {
        "id": "Tq1LsQsK_NJ7"
      }
    },
    {
      "cell_type": "code",
      "source": [
        "def h(x):\n",
        "    return 2*x"
      ],
      "metadata": {
        "id": "OURBm-oa_Q1x"
      },
      "execution_count": 96,
      "outputs": []
    },
    {
      "cell_type": "code",
      "source": [
        "quad(h, 3, 4)"
      ],
      "metadata": {
        "colab": {
          "base_uri": "https://localhost:8080/"
        },
        "id": "-K6sqRjU_VbC",
        "outputId": "8c0cf579-6bad-4710-f888-206367c7aea8"
      },
      "execution_count": 97,
      "outputs": [
        {
          "output_type": "execute_result",
          "data": {
            "text/plain": [
              "(7.0, 7.771561172376096e-14)"
            ]
          },
          "metadata": {},
          "execution_count": 97
        }
      ]
    },
    {
      "cell_type": "code",
      "source": [
        "### Area Under the ROC Curve"
      ],
      "metadata": {
        "id": "UZdFvMo9_a1o"
      },
      "execution_count": 98,
      "outputs": []
    },
    {
      "cell_type": "markdown",
      "source": [
        "When we don't have a function but we do have $(x, y)$ coordinates, we can use the scikit-learn library's `auc()` method, which uses a numerical approach (the trapezoidal rule) to find the area under the curve described by the coordinates: "
      ],
      "metadata": {
        "id": "vkW6Cn3E_esr"
      }
    },
    {
      "cell_type": "code",
      "source": [
        "from sklearn.metrics import auc"
      ],
      "metadata": {
        "id": "g4j87GuI_b1c"
      },
      "execution_count": 99,
      "outputs": []
    },
    {
      "cell_type": "markdown",
      "source": [
        "The $(x, y)$ coordinates of our hot dog-detecting ROC curve are: \n",
        "\n",
        "* (0, 0)\n",
        "* (0, 0.5)\n",
        "* (0.5, 0.5)\n",
        "* (0.5, 1)\n",
        "* (1, 1)"
      ],
      "metadata": {
        "id": "d6skaSTU_29V"
      }
    },
    {
      "cell_type": "code",
      "source": [
        "xs = [0, 0,   0.5, 0.5, 1]\n",
        "ys = [0, 0.5, 0.5, 1,   1]"
      ],
      "metadata": {
        "id": "JSfGg0Uk_7V3"
      },
      "execution_count": 100,
      "outputs": []
    },
    {
      "cell_type": "code",
      "source": [
        "auc(xs, ys)"
      ],
      "metadata": {
        "colab": {
          "base_uri": "https://localhost:8080/"
        },
        "id": "OmaQzFdx_-v6",
        "outputId": "e4c8c8fc-8257-4107-8f51-82ece45c1bd7"
      },
      "execution_count": 101,
      "outputs": [
        {
          "output_type": "execute_result",
          "data": {
            "text/plain": [
              "0.75"
            ]
          },
          "metadata": {},
          "execution_count": 101
        }
      ]
    }
  ]
}