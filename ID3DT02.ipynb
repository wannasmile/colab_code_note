{
  "nbformat": 4,
  "nbformat_minor": 0,
  "metadata": {
    "colab": {
      "provenance": [],
      "collapsed_sections": [],
      "authorship_tag": "ABX9TyNyKnTMFfwgPKkG9KwRnLg0",
      "include_colab_link": true
    },
    "kernelspec": {
      "name": "python3",
      "display_name": "Python 3"
    },
    "language_info": {
      "name": "python"
    }
  },
  "cells": [
    {
      "cell_type": "markdown",
      "metadata": {
        "id": "view-in-github",
        "colab_type": "text"
      },
      "source": [
        "<a href=\"https://colab.research.google.com/github/wannasmile/colab_code_note/blob/main/ID3DT02.ipynb\" target=\"_parent\"><img src=\"https://colab.research.google.com/assets/colab-badge.svg\" alt=\"Open In Colab\"/></a>"
      ]
    },
    {
      "cell_type": "code",
      "execution_count": 1,
      "metadata": {
        "colab": {
          "base_uri": "https://localhost:8080/"
        },
        "id": "TIW5jwFjCU8Q",
        "outputId": "b81c684d-942f-45b5-a7f3-4da5adacf718"
      },
      "outputs": [
        {
          "output_type": "stream",
          "name": "stdout",
          "text": [
            "Looking in indexes: https://pypi.org/simple, https://us-python.pkg.dev/colab-wheels/public/simple/\n",
            "Requirement already satisfied: numpy in /usr/local/lib/python3.7/dist-packages (1.21.6)\n",
            "Looking in indexes: https://pypi.org/simple, https://us-python.pkg.dev/colab-wheels/public/simple/\n",
            "Requirement already satisfied: python-javabridge in /usr/local/lib/python3.7/dist-packages (4.0.3)\n",
            "Requirement already satisfied: numpy>=1.20.1 in /usr/local/lib/python3.7/dist-packages (from python-javabridge) (1.21.6)\n",
            "Looking in indexes: https://pypi.org/simple, https://us-python.pkg.dev/colab-wheels/public/simple/\n",
            "Requirement already satisfied: python-weka-wrapper3 in /usr/local/lib/python3.7/dist-packages (0.2.10)\n",
            "Requirement already satisfied: numpy in /usr/local/lib/python3.7/dist-packages (from python-weka-wrapper3) (1.21.6)\n",
            "Requirement already satisfied: packaging in /usr/local/lib/python3.7/dist-packages (from python-weka-wrapper3) (21.3)\n",
            "Requirement already satisfied: python-javabridge>=4.0.0 in /usr/local/lib/python3.7/dist-packages (from python-weka-wrapper3) (4.0.3)\n",
            "Requirement already satisfied: pyparsing!=3.0.5,>=2.0.2 in /usr/local/lib/python3.7/dist-packages (from packaging->python-weka-wrapper3) (3.0.9)\n"
          ]
        }
      ],
      "source": [
        "# install necessary packages\n",
        "!pip install numpy\n",
        "!pip install python-javabridge\n",
        "!pip install python-weka-wrapper3"
      ]
    },
    {
      "cell_type": "code",
      "source": [
        "# download datasets\n",
        "!wget https://raw.githubusercontent.com/fracpete/python-weka-wrapper3-examples/master/src/wekaexamples/data/iris.arff\n",
        "!wget https://raw.githubusercontent.com/fracpete/python-weka-wrapper3-examples/master/src/wekaexamples/data/anneal.arff\n",
        "!wget https://raw.githubusercontent.com/fracpete/python-weka-wrapper3-examples/master/src/wekaexamples/data/bolts.arff\n",
        "!wget https://raw.githubusercontent.com/fracpete/python-weka-wrapper3-examples/master/src/wekaexamples/data/bodyfat.arff\n"
      ],
      "metadata": {
        "colab": {
          "base_uri": "https://localhost:8080/"
        },
        "id": "DmQs9x8ADKHr",
        "outputId": "91ac21cd-5961-4ae4-a50a-8d3cfecc9f73"
      },
      "execution_count": 2,
      "outputs": [
        {
          "output_type": "stream",
          "name": "stdout",
          "text": [
            "--2022-09-20 08:57:11--  https://raw.githubusercontent.com/fracpete/python-weka-wrapper3-examples/master/src/wekaexamples/data/iris.arff\n",
            "Resolving raw.githubusercontent.com (raw.githubusercontent.com)... 185.199.108.133, 185.199.109.133, 185.199.110.133, ...\n",
            "Connecting to raw.githubusercontent.com (raw.githubusercontent.com)|185.199.108.133|:443... connected.\n",
            "HTTP request sent, awaiting response... 200 OK\n",
            "Length: 7486 (7.3K) [text/plain]\n",
            "Saving to: ‘iris.arff’\n",
            "\n",
            "\riris.arff             0%[                    ]       0  --.-KB/s               \riris.arff           100%[===================>]   7.31K  --.-KB/s    in 0s      \n",
            "\n",
            "2022-09-20 08:57:11 (57.8 MB/s) - ‘iris.arff’ saved [7486/7486]\n",
            "\n",
            "--2022-09-20 08:57:12--  https://raw.githubusercontent.com/fracpete/python-weka-wrapper3-examples/master/src/wekaexamples/data/anneal.arff\n",
            "Resolving raw.githubusercontent.com (raw.githubusercontent.com)... 185.199.108.133, 185.199.109.133, 185.199.110.133, ...\n",
            "Connecting to raw.githubusercontent.com (raw.githubusercontent.com)|185.199.108.133|:443... connected.\n",
            "HTTP request sent, awaiting response... 200 OK\n",
            "Length: 143336 (140K) [text/plain]\n",
            "Saving to: ‘anneal.arff’\n",
            "\n",
            "anneal.arff         100%[===================>] 139.98K  --.-KB/s    in 0.02s   \n",
            "\n",
            "2022-09-20 08:57:12 (6.17 MB/s) - ‘anneal.arff’ saved [143336/143336]\n",
            "\n",
            "--2022-09-20 08:57:12--  https://raw.githubusercontent.com/fracpete/python-weka-wrapper3-examples/master/src/wekaexamples/data/bolts.arff\n",
            "Resolving raw.githubusercontent.com (raw.githubusercontent.com)... 185.199.108.133, 185.199.109.133, 185.199.110.133, ...\n",
            "Connecting to raw.githubusercontent.com (raw.githubusercontent.com)|185.199.108.133|:443... connected.\n",
            "HTTP request sent, awaiting response... 200 OK\n",
            "Length: 4534 (4.4K) [text/plain]\n",
            "Saving to: ‘bolts.arff’\n",
            "\n",
            "bolts.arff          100%[===================>]   4.43K  --.-KB/s    in 0s      \n",
            "\n",
            "2022-09-20 08:57:12 (50.5 MB/s) - ‘bolts.arff’ saved [4534/4534]\n",
            "\n",
            "--2022-09-20 08:57:12--  https://raw.githubusercontent.com/fracpete/python-weka-wrapper3-examples/master/src/wekaexamples/data/bodyfat.arff\n",
            "Resolving raw.githubusercontent.com (raw.githubusercontent.com)... 185.199.108.133, 185.199.109.133, 185.199.110.133, ...\n",
            "Connecting to raw.githubusercontent.com (raw.githubusercontent.com)|185.199.108.133|:443... connected.\n",
            "HTTP request sent, awaiting response... 200 OK\n",
            "Length: 24433 (24K) [text/plain]\n",
            "Saving to: ‘bodyfat.arff’\n",
            "\n",
            "bodyfat.arff        100%[===================>]  23.86K  --.-KB/s    in 0.001s  \n",
            "\n",
            "2022-09-20 08:57:12 (15.8 MB/s) - ‘bodyfat.arff’ saved [24433/24433]\n",
            "\n"
          ]
        }
      ]
    },
    {
      "cell_type": "code",
      "source": [
        "# start JVM\n",
        "import weka.core.jvm as jvm\n",
        "\n",
        "jvm.start()\n"
      ],
      "metadata": {
        "colab": {
          "base_uri": "https://localhost:8080/"
        },
        "id": "JG3EIcxICajf",
        "outputId": "b921cd79-bf04-4ece-ab8d-bfef14d6e305"
      },
      "execution_count": 3,
      "outputs": [
        {
          "output_type": "stream",
          "name": "stderr",
          "text": [
            "DEBUG:weka.core.jvm:Adding bundled jars\n",
            "DEBUG:weka.core.jvm:Classpath=['/usr/local/lib/python3.7/dist-packages/javabridge/jars/rhino-1.7R4.jar', '/usr/local/lib/python3.7/dist-packages/javabridge/jars/runnablequeue.jar', '/usr/local/lib/python3.7/dist-packages/javabridge/jars/cpython.jar', '/usr/local/lib/python3.7/dist-packages/weka/lib/weka.jar', '/usr/local/lib/python3.7/dist-packages/weka/lib/python-weka-wrapper.jar']\n",
            "DEBUG:weka.core.jvm:MaxHeapSize=default\n",
            "DEBUG:weka.core.jvm:Package support disabled\n"
          ]
        }
      ]
    },
    {
      "cell_type": "code",
      "source": [
        "import os\n",
        "import tempfile\n",
        "import traceback\n",
        "import weka.core.converters as converters\n",
        "from weka.classifiers import Classifier\n",
        "from weka.experiments import SimpleCrossValidationExperiment, SimpleRandomSplitExperiment, Tester, ResultMatrix\n",
        "\n",
        "datasets = [\"iris.arff\", \"anneal.arff\"]\n",
        "classifiers = [Classifier(\"weka.classifiers.rules.ZeroR\"), Classifier(\"weka.classifiers.trees.J48\")]\n",
        "outfile = tempfile.gettempdir() + os.sep + \"results-cv.arff\"\n",
        "exp = SimpleCrossValidationExperiment(\n",
        "    classification=True,\n",
        "    runs=10,\n",
        "    folds=10,\n",
        "    datasets=datasets,\n",
        "    classifiers=classifiers,\n",
        "    result=outfile)\n",
        "exp.setup()\n",
        "exp.run()\n",
        "\n",
        "# evaluate\n",
        "loader = converters.loader_for_file(outfile)\n",
        "data = loader.load_file(outfile)\n",
        "matrix = ResultMatrix(\"weka.experiment.ResultMatrixPlainText\")\n",
        "tester = Tester(\"weka.experiment.PairedCorrectedTTester\")\n",
        "tester.resultmatrix = matrix\n",
        "comparison_col = data.attribute_by_name(\"Percent_correct\").index\n",
        "tester.instances = data\n",
        "print(tester.header(comparison_col))\n",
        "print(tester.multi_resultset_full(0, comparison_col))\n",
        "\n",
        "# random split + regression\n",
        "datasets = [\"bolts.arff\", \"bodyfat.arff\"]\n",
        "classifiers = [\n",
        "    Classifier(\"weka.classifiers.rules.ZeroR\"),\n",
        "    Classifier(\"weka.classifiers.functions.LinearRegression\")\n",
        "]\n",
        "outfile = tempfile.gettempdir() + os.sep + \"results-rs.arff\"\n",
        "exp = SimpleRandomSplitExperiment(\n",
        "    classification=False,\n",
        "    runs=10,\n",
        "    percentage=66.6,\n",
        "    preserve_order=False,\n",
        "    datasets=datasets,\n",
        "    classifiers=classifiers,\n",
        "    result=outfile)\n",
        "exp.setup()\n",
        "exp.run()\n",
        "\n",
        "# evaluate\n",
        "loader = converters.loader_for_file(outfile)\n",
        "data = loader.load_file(outfile)\n",
        "matrix = ResultMatrix(\"weka.experiment.ResultMatrixPlainText\")\n",
        "tester = Tester(\"weka.experiment.PairedCorrectedTTester\")\n",
        "tester.resultmatrix = matrix\n",
        "comparison_col = data.attribute_by_name(\"Correlation_coefficient\").index\n",
        "tester.instances = data\n",
        "print(tester.header(comparison_col))\n",
        "print(tester.multi_resultset_full(0, comparison_col))\n"
      ],
      "metadata": {
        "colab": {
          "base_uri": "https://localhost:8080/"
        },
        "id": "FfuStM43DMBb",
        "outputId": "65687dfc-c267-459f-ef43-634afaa2a200"
      },
      "execution_count": 4,
      "outputs": [
        {
          "output_type": "stream",
          "name": "stdout",
          "text": [
            "Tester:     weka.experiment.PairedCorrectedTTester -G 4,5,6 -D 1 -R 2 -S 0.05 -result-matrix \"weka.experiment.ResultMatrixPlainText -mean-prec 2 -stddev-prec 5 -col-name-width 0 -row-name-width 25 -mean-width 0 -stddev-width 0 -sig-width 0 -count-width 5 -enum-col-names -enum-row-names\"\n",
            "Analysing:  Percent_correct\n",
            "Datasets:   2\n",
            "Resultsets: 2\n",
            "Confidence: 0.05 (two tailed)\n",
            "Sorted by:  -\n",
            "Date:       9/20/22, 8:57 AM\n",
            "\n",
            "\n",
            "Dataset                   (1)          | (2)      \n",
            "--------------------------------------------------\n",
            "(1)                      (100)   33.33 |   94.73 v\n",
            "(2)                      (100)   76.17 |   98.57 v\n",
            "--------------------------------------------------\n",
            "                               (v/ /*) |   (2/0/0)\n",
            "\n",
            "\n",
            "Key:\n",
            "(1) rules.ZeroR '' 48055541465867954\n",
            "(2) trees.J48 '-C 0.25 -M 2' -217733168393644444\n",
            "\n",
            "Tester:     weka.experiment.PairedCorrectedTTester -G 3,4,5 -D 1 -R 2 -S 0.05 -result-matrix \"weka.experiment.ResultMatrixPlainText -mean-prec 2 -stddev-prec 5 -col-name-width 0 -row-name-width 25 -mean-width 0 -stddev-width 0 -sig-width 0 -count-width 5 -enum-col-names -enum-row-names\"\n",
            "Analysing:  Correlation_coefficient\n",
            "Datasets:   2\n",
            "Resultsets: 2\n",
            "Confidence: 0.05 (two tailed)\n",
            "Sorted by:  -\n",
            "Date:       9/20/22, 8:57 AM\n",
            "\n",
            "\n",
            "Dataset                   (1)         | (2)     \n",
            "------------------------------------------------\n",
            "(1)                       (10)   0.00 |   0.93 v\n",
            "(2)                       (10)   0.00 |   0.98 v\n",
            "------------------------------------------------\n",
            "                              (v/ /*) |  (2/0/0)\n",
            "\n",
            "\n",
            "Key:\n",
            "(1) rules.ZeroR '' 48055541465867954\n",
            "(2) functions.LinearRegression '-S 0 -R 1.0E-8 -num-decimal-places 4' -3364580862046573747\n",
            "\n"
          ]
        }
      ]
    },
    {
      "cell_type": "code",
      "source": [
        "# stop JVM\n",
        "jvm.stop()"
      ],
      "metadata": {
        "id": "oC-aAhQ6DQGq"
      },
      "execution_count": 5,
      "outputs": []
    }
  ]
}