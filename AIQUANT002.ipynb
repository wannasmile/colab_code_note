{
  "nbformat": 4,
  "nbformat_minor": 0,
  "metadata": {
    "colab": {
      "provenance": [],
      "authorship_tag": "ABX9TyPSmgvsMxC/0a1wLG/PU1o4",
      "include_colab_link": true
    },
    "kernelspec": {
      "name": "python3",
      "display_name": "Python 3"
    },
    "language_info": {
      "name": "python"
    }
  },
  "cells": [
    {
      "cell_type": "markdown",
      "metadata": {
        "id": "view-in-github",
        "colab_type": "text"
      },
      "source": [
        "<a href=\"https://colab.research.google.com/github/wannasmile/colab_code_note/blob/main/AIQUANT002.ipynb\" target=\"_parent\"><img src=\"https://colab.research.google.com/assets/colab-badge.svg\" alt=\"Open In Colab\"/></a>"
      ]
    },
    {
      "cell_type": "code",
      "execution_count": 1,
      "metadata": {
        "id": "hd-tglP7GEPE"
      },
      "outputs": [],
      "source": [
        "import gym\n",
        "import numpy as np\n",
        "import pandas as pd\n",
        "np.random.seed(100)\n",
        "\n",
        "import warnings\n",
        "warnings.simplefilter('ignore')\n",
        "\n",
        "env = gym.make('CartPole-v0')\n",
        "\n",
        "# env.seed()\n",
        "\n"
      ]
    },
    {
      "cell_type": "code",
      "source": [
        "action_size = env.action_space.n\n",
        "action_size"
      ],
      "metadata": {
        "colab": {
          "base_uri": "https://localhost:8080/"
        },
        "id": "GVkK-CIPGTQM",
        "outputId": "016dd681-97b6-440d-9104-ae9e47c95d21"
      },
      "execution_count": 2,
      "outputs": [
        {
          "output_type": "execute_result",
          "data": {
            "text/plain": [
              "2"
            ]
          },
          "metadata": {},
          "execution_count": 2
        }
      ]
    },
    {
      "cell_type": "code",
      "source": [
        "[env.action_space.sample() for _ in range(10)]\n"
      ],
      "metadata": {
        "colab": {
          "base_uri": "https://localhost:8080/"
        },
        "id": "OQb6udg-GXeJ",
        "outputId": "a0f09e73-9d06-4783-eed4-2c7f3f7e5a42"
      },
      "execution_count": 3,
      "outputs": [
        {
          "output_type": "execute_result",
          "data": {
            "text/plain": [
              "[0, 0, 0, 1, 1, 0, 0, 1, 1, 1]"
            ]
          },
          "metadata": {},
          "execution_count": 3
        }
      ]
    },
    {
      "cell_type": "code",
      "source": [
        "state_size = env.observation_space.shape[0]\n",
        "state_size"
      ],
      "metadata": {
        "colab": {
          "base_uri": "https://localhost:8080/"
        },
        "id": "xmavSxxfGdnh",
        "outputId": "8f977af0-d4bc-4941-ba6c-26815e0fab4c"
      },
      "execution_count": 4,
      "outputs": [
        {
          "output_type": "execute_result",
          "data": {
            "text/plain": [
              "4"
            ]
          },
          "metadata": {},
          "execution_count": 4
        }
      ]
    },
    {
      "cell_type": "code",
      "source": [
        "state = env.reset()\n",
        "state  # [cart position, cart velocity, pole angle, pole angular velocity]"
      ],
      "metadata": {
        "colab": {
          "base_uri": "https://localhost:8080/"
        },
        "id": "R4KlhduTGeqj",
        "outputId": "4d06fc9a-79ac-46b1-d047-32ace7dbd902"
      },
      "execution_count": 5,
      "outputs": [
        {
          "output_type": "execute_result",
          "data": {
            "text/plain": [
              "array([0.02168087, 0.03888869, 0.00676449, 0.00242602], dtype=float32)"
            ]
          },
          "metadata": {},
          "execution_count": 5
        }
      ]
    },
    {
      "cell_type": "code",
      "source": [
        "state, reward, done, info = env.step(env.action_space.sample())\n",
        "state, reward, done, info"
      ],
      "metadata": {
        "colab": {
          "base_uri": "https://localhost:8080/"
        },
        "id": "JrtpnzSTGhDu",
        "outputId": "c70f303d-d69e-44ae-f17b-00d10ed5d9d8"
      },
      "execution_count": 6,
      "outputs": [
        {
          "output_type": "execute_result",
          "data": {
            "text/plain": [
              "(array([ 0.02245865,  0.23391297,  0.00681301, -0.28811496], dtype=float32),\n",
              " 1.0,\n",
              " False,\n",
              " {})"
            ]
          },
          "metadata": {},
          "execution_count": 6
        }
      ]
    },
    {
      "cell_type": "code",
      "source": [
        "%%time\n",
        "data = pd.DataFrame()\n",
        "state = env.reset()\n",
        "length = []\n",
        "for run in range(25000):\n",
        "    done = False\n",
        "    #prev_state = env.reset()[0]\n",
        "    prev_state = env.reset()\n",
        "    treward = 1\n",
        "    results = []\n",
        "    while not done:\n",
        "        action = env.action_space.sample()\n",
        "        #state, reward, done, trunc, _ = env.step(action)\n",
        "        state, reward, done, info = env.step(env.action_space.sample())\n",
        "        results.append({'s1': prev_state[0], 's2': prev_state[1],\n",
        "                        's3': prev_state[2], 's4': prev_state[3],\n",
        "                        'a': action, 'r': reward})\n",
        "        treward += reward if not done else 0\n",
        "        prev_state = state\n",
        "    if treward >= 110:\n",
        "        data = pd.concat((data, pd.DataFrame(results)))\n",
        "        length.append(treward)"
      ],
      "metadata": {
        "colab": {
          "base_uri": "https://localhost:8080/"
        },
        "id": "Hkjz5V50HFsC",
        "outputId": "a66128eb-e56c-49f7-ebaf-5beb3f51d82b"
      },
      "execution_count": 7,
      "outputs": [
        {
          "output_type": "stream",
          "name": "stdout",
          "text": [
            "CPU times: user 20.3 s, sys: 140 ms, total: 20.5 s\n",
            "Wall time: 28.5 s\n"
          ]
        }
      ]
    },
    {
      "cell_type": "code",
      "source": [
        "np.array(length).mean()"
      ],
      "metadata": {
        "colab": {
          "base_uri": "https://localhost:8080/"
        },
        "id": "IJggCzm3JAjB",
        "outputId": "aafd4bd0-f8ea-4828-e4eb-0b0c6ccfe958"
      },
      "execution_count": 8,
      "outputs": [
        {
          "output_type": "execute_result",
          "data": {
            "text/plain": [
              "118.85714285714286"
            ]
          },
          "metadata": {},
          "execution_count": 8
        }
      ]
    },
    {
      "cell_type": "code",
      "source": [
        "data.info()"
      ],
      "metadata": {
        "colab": {
          "base_uri": "https://localhost:8080/"
        },
        "id": "dFr9Ybe2JCkh",
        "outputId": "829789ab-6f2a-4098-9c65-335dd547725a"
      },
      "execution_count": 9,
      "outputs": [
        {
          "output_type": "stream",
          "name": "stdout",
          "text": [
            "<class 'pandas.core.frame.DataFrame'>\n",
            "Int64Index: 832 entries, 0 to 132\n",
            "Data columns (total 6 columns):\n",
            " #   Column  Non-Null Count  Dtype  \n",
            "---  ------  --------------  -----  \n",
            " 0   s1      832 non-null    float32\n",
            " 1   s2      832 non-null    float32\n",
            " 2   s3      832 non-null    float32\n",
            " 3   s4      832 non-null    float32\n",
            " 4   a       832 non-null    int64  \n",
            " 5   r       832 non-null    float64\n",
            "dtypes: float32(4), float64(1), int64(1)\n",
            "memory usage: 32.5 KB\n"
          ]
        }
      ]
    },
    {
      "cell_type": "code",
      "source": [
        "data.tail()"
      ],
      "metadata": {
        "colab": {
          "base_uri": "https://localhost:8080/",
          "height": 206
        },
        "id": "Q23_ttMWJDks",
        "outputId": "5679edc1-2ad7-4739-f435-9bb7f42cc822"
      },
      "execution_count": 10,
      "outputs": [
        {
          "output_type": "execute_result",
          "data": {
            "text/plain": [
              "           s1        s2        s3        s4  a    r\n",
              "128  1.554865  0.285955  0.080550  1.482326  1  1.0\n",
              "129  1.560584  0.089948  0.110196  1.799039  1  1.0\n",
              "130  1.562383  0.283678  0.146177  1.542538  1  1.0\n",
              "131  1.568057  0.476772  0.177028  1.298810  0  1.0\n",
              "132  1.577592  0.279900  0.203004  1.641276  0  1.0"
            ],
            "text/html": [
              "\n",
              "  <div id=\"df-a7d8ee18-984e-4fbc-ad67-57193443447e\" class=\"colab-df-container\">\n",
              "    <div>\n",
              "<style scoped>\n",
              "    .dataframe tbody tr th:only-of-type {\n",
              "        vertical-align: middle;\n",
              "    }\n",
              "\n",
              "    .dataframe tbody tr th {\n",
              "        vertical-align: top;\n",
              "    }\n",
              "\n",
              "    .dataframe thead th {\n",
              "        text-align: right;\n",
              "    }\n",
              "</style>\n",
              "<table border=\"1\" class=\"dataframe\">\n",
              "  <thead>\n",
              "    <tr style=\"text-align: right;\">\n",
              "      <th></th>\n",
              "      <th>s1</th>\n",
              "      <th>s2</th>\n",
              "      <th>s3</th>\n",
              "      <th>s4</th>\n",
              "      <th>a</th>\n",
              "      <th>r</th>\n",
              "    </tr>\n",
              "  </thead>\n",
              "  <tbody>\n",
              "    <tr>\n",
              "      <th>128</th>\n",
              "      <td>1.554865</td>\n",
              "      <td>0.285955</td>\n",
              "      <td>0.080550</td>\n",
              "      <td>1.482326</td>\n",
              "      <td>1</td>\n",
              "      <td>1.0</td>\n",
              "    </tr>\n",
              "    <tr>\n",
              "      <th>129</th>\n",
              "      <td>1.560584</td>\n",
              "      <td>0.089948</td>\n",
              "      <td>0.110196</td>\n",
              "      <td>1.799039</td>\n",
              "      <td>1</td>\n",
              "      <td>1.0</td>\n",
              "    </tr>\n",
              "    <tr>\n",
              "      <th>130</th>\n",
              "      <td>1.562383</td>\n",
              "      <td>0.283678</td>\n",
              "      <td>0.146177</td>\n",
              "      <td>1.542538</td>\n",
              "      <td>1</td>\n",
              "      <td>1.0</td>\n",
              "    </tr>\n",
              "    <tr>\n",
              "      <th>131</th>\n",
              "      <td>1.568057</td>\n",
              "      <td>0.476772</td>\n",
              "      <td>0.177028</td>\n",
              "      <td>1.298810</td>\n",
              "      <td>0</td>\n",
              "      <td>1.0</td>\n",
              "    </tr>\n",
              "    <tr>\n",
              "      <th>132</th>\n",
              "      <td>1.577592</td>\n",
              "      <td>0.279900</td>\n",
              "      <td>0.203004</td>\n",
              "      <td>1.641276</td>\n",
              "      <td>0</td>\n",
              "      <td>1.0</td>\n",
              "    </tr>\n",
              "  </tbody>\n",
              "</table>\n",
              "</div>\n",
              "    <div class=\"colab-df-buttons\">\n",
              "\n",
              "  <div class=\"colab-df-container\">\n",
              "    <button class=\"colab-df-convert\" onclick=\"convertToInteractive('df-a7d8ee18-984e-4fbc-ad67-57193443447e')\"\n",
              "            title=\"Convert this dataframe to an interactive table.\"\n",
              "            style=\"display:none;\">\n",
              "\n",
              "  <svg xmlns=\"http://www.w3.org/2000/svg\" height=\"24px\" viewBox=\"0 -960 960 960\">\n",
              "    <path d=\"M120-120v-720h720v720H120Zm60-500h600v-160H180v160Zm220 220h160v-160H400v160Zm0 220h160v-160H400v160ZM180-400h160v-160H180v160Zm440 0h160v-160H620v160ZM180-180h160v-160H180v160Zm440 0h160v-160H620v160Z\"/>\n",
              "  </svg>\n",
              "    </button>\n",
              "\n",
              "  <style>\n",
              "    .colab-df-container {\n",
              "      display:flex;\n",
              "      gap: 12px;\n",
              "    }\n",
              "\n",
              "    .colab-df-convert {\n",
              "      background-color: #E8F0FE;\n",
              "      border: none;\n",
              "      border-radius: 50%;\n",
              "      cursor: pointer;\n",
              "      display: none;\n",
              "      fill: #1967D2;\n",
              "      height: 32px;\n",
              "      padding: 0 0 0 0;\n",
              "      width: 32px;\n",
              "    }\n",
              "\n",
              "    .colab-df-convert:hover {\n",
              "      background-color: #E2EBFA;\n",
              "      box-shadow: 0px 1px 2px rgba(60, 64, 67, 0.3), 0px 1px 3px 1px rgba(60, 64, 67, 0.15);\n",
              "      fill: #174EA6;\n",
              "    }\n",
              "\n",
              "    .colab-df-buttons div {\n",
              "      margin-bottom: 4px;\n",
              "    }\n",
              "\n",
              "    [theme=dark] .colab-df-convert {\n",
              "      background-color: #3B4455;\n",
              "      fill: #D2E3FC;\n",
              "    }\n",
              "\n",
              "    [theme=dark] .colab-df-convert:hover {\n",
              "      background-color: #434B5C;\n",
              "      box-shadow: 0px 1px 3px 1px rgba(0, 0, 0, 0.15);\n",
              "      filter: drop-shadow(0px 1px 2px rgba(0, 0, 0, 0.3));\n",
              "      fill: #FFFFFF;\n",
              "    }\n",
              "  </style>\n",
              "\n",
              "    <script>\n",
              "      const buttonEl =\n",
              "        document.querySelector('#df-a7d8ee18-984e-4fbc-ad67-57193443447e button.colab-df-convert');\n",
              "      buttonEl.style.display =\n",
              "        google.colab.kernel.accessAllowed ? 'block' : 'none';\n",
              "\n",
              "      async function convertToInteractive(key) {\n",
              "        const element = document.querySelector('#df-a7d8ee18-984e-4fbc-ad67-57193443447e');\n",
              "        const dataTable =\n",
              "          await google.colab.kernel.invokeFunction('convertToInteractive',\n",
              "                                                    [key], {});\n",
              "        if (!dataTable) return;\n",
              "\n",
              "        const docLinkHtml = 'Like what you see? Visit the ' +\n",
              "          '<a target=\"_blank\" href=https://colab.research.google.com/notebooks/data_table.ipynb>data table notebook</a>'\n",
              "          + ' to learn more about interactive tables.';\n",
              "        element.innerHTML = '';\n",
              "        dataTable['output_type'] = 'display_data';\n",
              "        await google.colab.output.renderOutput(dataTable, element);\n",
              "        const docLink = document.createElement('div');\n",
              "        docLink.innerHTML = docLinkHtml;\n",
              "        element.appendChild(docLink);\n",
              "      }\n",
              "    </script>\n",
              "  </div>\n",
              "\n",
              "\n",
              "<div id=\"df-c07b23d8-f341-4661-93b8-87fb71890a23\">\n",
              "  <button class=\"colab-df-quickchart\" onclick=\"quickchart('df-c07b23d8-f341-4661-93b8-87fb71890a23')\"\n",
              "            title=\"Suggest charts\"\n",
              "            style=\"display:none;\">\n",
              "\n",
              "<svg xmlns=\"http://www.w3.org/2000/svg\" height=\"24px\"viewBox=\"0 0 24 24\"\n",
              "     width=\"24px\">\n",
              "    <g>\n",
              "        <path d=\"M19 3H5c-1.1 0-2 .9-2 2v14c0 1.1.9 2 2 2h14c1.1 0 2-.9 2-2V5c0-1.1-.9-2-2-2zM9 17H7v-7h2v7zm4 0h-2V7h2v10zm4 0h-2v-4h2v4z\"/>\n",
              "    </g>\n",
              "</svg>\n",
              "  </button>\n",
              "\n",
              "<style>\n",
              "  .colab-df-quickchart {\n",
              "      --bg-color: #E8F0FE;\n",
              "      --fill-color: #1967D2;\n",
              "      --hover-bg-color: #E2EBFA;\n",
              "      --hover-fill-color: #174EA6;\n",
              "      --disabled-fill-color: #AAA;\n",
              "      --disabled-bg-color: #DDD;\n",
              "  }\n",
              "\n",
              "  [theme=dark] .colab-df-quickchart {\n",
              "      --bg-color: #3B4455;\n",
              "      --fill-color: #D2E3FC;\n",
              "      --hover-bg-color: #434B5C;\n",
              "      --hover-fill-color: #FFFFFF;\n",
              "      --disabled-bg-color: #3B4455;\n",
              "      --disabled-fill-color: #666;\n",
              "  }\n",
              "\n",
              "  .colab-df-quickchart {\n",
              "    background-color: var(--bg-color);\n",
              "    border: none;\n",
              "    border-radius: 50%;\n",
              "    cursor: pointer;\n",
              "    display: none;\n",
              "    fill: var(--fill-color);\n",
              "    height: 32px;\n",
              "    padding: 0;\n",
              "    width: 32px;\n",
              "  }\n",
              "\n",
              "  .colab-df-quickchart:hover {\n",
              "    background-color: var(--hover-bg-color);\n",
              "    box-shadow: 0 1px 2px rgba(60, 64, 67, 0.3), 0 1px 3px 1px rgba(60, 64, 67, 0.15);\n",
              "    fill: var(--button-hover-fill-color);\n",
              "  }\n",
              "\n",
              "  .colab-df-quickchart-complete:disabled,\n",
              "  .colab-df-quickchart-complete:disabled:hover {\n",
              "    background-color: var(--disabled-bg-color);\n",
              "    fill: var(--disabled-fill-color);\n",
              "    box-shadow: none;\n",
              "  }\n",
              "\n",
              "  .colab-df-spinner {\n",
              "    border: 2px solid var(--fill-color);\n",
              "    border-color: transparent;\n",
              "    border-bottom-color: var(--fill-color);\n",
              "    animation:\n",
              "      spin 1s steps(1) infinite;\n",
              "  }\n",
              "\n",
              "  @keyframes spin {\n",
              "    0% {\n",
              "      border-color: transparent;\n",
              "      border-bottom-color: var(--fill-color);\n",
              "      border-left-color: var(--fill-color);\n",
              "    }\n",
              "    20% {\n",
              "      border-color: transparent;\n",
              "      border-left-color: var(--fill-color);\n",
              "      border-top-color: var(--fill-color);\n",
              "    }\n",
              "    30% {\n",
              "      border-color: transparent;\n",
              "      border-left-color: var(--fill-color);\n",
              "      border-top-color: var(--fill-color);\n",
              "      border-right-color: var(--fill-color);\n",
              "    }\n",
              "    40% {\n",
              "      border-color: transparent;\n",
              "      border-right-color: var(--fill-color);\n",
              "      border-top-color: var(--fill-color);\n",
              "    }\n",
              "    60% {\n",
              "      border-color: transparent;\n",
              "      border-right-color: var(--fill-color);\n",
              "    }\n",
              "    80% {\n",
              "      border-color: transparent;\n",
              "      border-right-color: var(--fill-color);\n",
              "      border-bottom-color: var(--fill-color);\n",
              "    }\n",
              "    90% {\n",
              "      border-color: transparent;\n",
              "      border-bottom-color: var(--fill-color);\n",
              "    }\n",
              "  }\n",
              "</style>\n",
              "\n",
              "  <script>\n",
              "    async function quickchart(key) {\n",
              "      const quickchartButtonEl =\n",
              "        document.querySelector('#' + key + ' button');\n",
              "      quickchartButtonEl.disabled = true;  // To prevent multiple clicks.\n",
              "      quickchartButtonEl.classList.add('colab-df-spinner');\n",
              "      try {\n",
              "        const charts = await google.colab.kernel.invokeFunction(\n",
              "            'suggestCharts', [key], {});\n",
              "      } catch (error) {\n",
              "        console.error('Error during call to suggestCharts:', error);\n",
              "      }\n",
              "      quickchartButtonEl.classList.remove('colab-df-spinner');\n",
              "      quickchartButtonEl.classList.add('colab-df-quickchart-complete');\n",
              "    }\n",
              "    (() => {\n",
              "      let quickchartButtonEl =\n",
              "        document.querySelector('#df-c07b23d8-f341-4661-93b8-87fb71890a23 button');\n",
              "      quickchartButtonEl.style.display =\n",
              "        google.colab.kernel.accessAllowed ? 'block' : 'none';\n",
              "    })();\n",
              "  </script>\n",
              "</div>\n",
              "    </div>\n",
              "  </div>\n"
            ]
          },
          "metadata": {},
          "execution_count": 10
        }
      ]
    },
    {
      "cell_type": "code",
      "source": [
        "import os\n",
        "os.environ['TF_CPP_MIN_LOG_LEVEL'] = '3'"
      ],
      "metadata": {
        "id": "0v0x5bFqJb29"
      },
      "execution_count": 11,
      "outputs": []
    },
    {
      "cell_type": "code",
      "source": [
        "from pylab import plt\n",
        "plt.style.use('seaborn-v0_8')\n",
        "%matplotlib inline\n",
        "\n",
        "import tensorflow as tf\n",
        "from tensorflow import keras\n",
        "tf.random.set_seed(100)"
      ],
      "metadata": {
        "id": "gGPs97XoJdxA"
      },
      "execution_count": 12,
      "outputs": []
    },
    {
      "cell_type": "code",
      "source": [
        "from tensorflow.python.framework.ops import disable_eager_execution\n",
        "disable_eager_execution()\n",
        "\n",
        "from keras.layers import Dense\n",
        "from keras.models import Sequential\n",
        "\n",
        "model = Sequential()\n",
        "model.add(Dense(64, activation='relu',\n",
        "                input_dim=env.observation_space.shape[0]))\n",
        "model.add(Dense(1, activation='sigmoid'))\n",
        "model.compile(loss='binary_crossentropy',\n",
        "              optimizer='adam',\n",
        "              metrics=['acc'])"
      ],
      "metadata": {
        "id": "zYnJCTu1Jeq5"
      },
      "execution_count": 13,
      "outputs": []
    },
    {
      "cell_type": "code",
      "source": [
        "%%time\n",
        "model.fit(data[['s1', 's2', 's3', 's4']], data['a'],\n",
        "          epochs=25, verbose=False, validation_split=0.2)"
      ],
      "metadata": {
        "colab": {
          "base_uri": "https://localhost:8080/"
        },
        "id": "F3IRnezgJtmS",
        "outputId": "245db743-4003-46b3-b6d8-0fef7f172ca3"
      },
      "execution_count": 14,
      "outputs": [
        {
          "output_type": "stream",
          "name": "stdout",
          "text": [
            "CPU times: user 1.38 s, sys: 40 ms, total: 1.42 s\n",
            "Wall time: 1.5 s\n"
          ]
        },
        {
          "output_type": "execute_result",
          "data": {
            "text/plain": [
              "<keras.src.callbacks.History at 0x7e2c81422ce0>"
            ]
          },
          "metadata": {},
          "execution_count": 14
        }
      ]
    },
    {
      "cell_type": "code",
      "source": [
        "res = pd.DataFrame(model.history.history)\n",
        "res.tail(3)"
      ],
      "metadata": {
        "colab": {
          "base_uri": "https://localhost:8080/",
          "height": 143
        },
        "id": "Ns_k8FcuJyWv",
        "outputId": "701f9a1a-6e1e-4b80-ae1f-bccfff511ba2"
      },
      "execution_count": 15,
      "outputs": [
        {
          "output_type": "execute_result",
          "data": {
            "text/plain": [
              "        loss       acc  val_loss   val_acc\n",
              "22  0.685357  0.523308  0.736050  0.395210\n",
              "23  0.685565  0.524812  0.734215  0.395210\n",
              "24  0.684729  0.527820  0.737784  0.389222"
            ],
            "text/html": [
              "\n",
              "  <div id=\"df-e1bfa653-18ca-43a1-af3e-89b263cbeba0\" class=\"colab-df-container\">\n",
              "    <div>\n",
              "<style scoped>\n",
              "    .dataframe tbody tr th:only-of-type {\n",
              "        vertical-align: middle;\n",
              "    }\n",
              "\n",
              "    .dataframe tbody tr th {\n",
              "        vertical-align: top;\n",
              "    }\n",
              "\n",
              "    .dataframe thead th {\n",
              "        text-align: right;\n",
              "    }\n",
              "</style>\n",
              "<table border=\"1\" class=\"dataframe\">\n",
              "  <thead>\n",
              "    <tr style=\"text-align: right;\">\n",
              "      <th></th>\n",
              "      <th>loss</th>\n",
              "      <th>acc</th>\n",
              "      <th>val_loss</th>\n",
              "      <th>val_acc</th>\n",
              "    </tr>\n",
              "  </thead>\n",
              "  <tbody>\n",
              "    <tr>\n",
              "      <th>22</th>\n",
              "      <td>0.685357</td>\n",
              "      <td>0.523308</td>\n",
              "      <td>0.736050</td>\n",
              "      <td>0.395210</td>\n",
              "    </tr>\n",
              "    <tr>\n",
              "      <th>23</th>\n",
              "      <td>0.685565</td>\n",
              "      <td>0.524812</td>\n",
              "      <td>0.734215</td>\n",
              "      <td>0.395210</td>\n",
              "    </tr>\n",
              "    <tr>\n",
              "      <th>24</th>\n",
              "      <td>0.684729</td>\n",
              "      <td>0.527820</td>\n",
              "      <td>0.737784</td>\n",
              "      <td>0.389222</td>\n",
              "    </tr>\n",
              "  </tbody>\n",
              "</table>\n",
              "</div>\n",
              "    <div class=\"colab-df-buttons\">\n",
              "\n",
              "  <div class=\"colab-df-container\">\n",
              "    <button class=\"colab-df-convert\" onclick=\"convertToInteractive('df-e1bfa653-18ca-43a1-af3e-89b263cbeba0')\"\n",
              "            title=\"Convert this dataframe to an interactive table.\"\n",
              "            style=\"display:none;\">\n",
              "\n",
              "  <svg xmlns=\"http://www.w3.org/2000/svg\" height=\"24px\" viewBox=\"0 -960 960 960\">\n",
              "    <path d=\"M120-120v-720h720v720H120Zm60-500h600v-160H180v160Zm220 220h160v-160H400v160Zm0 220h160v-160H400v160ZM180-400h160v-160H180v160Zm440 0h160v-160H620v160ZM180-180h160v-160H180v160Zm440 0h160v-160H620v160Z\"/>\n",
              "  </svg>\n",
              "    </button>\n",
              "\n",
              "  <style>\n",
              "    .colab-df-container {\n",
              "      display:flex;\n",
              "      gap: 12px;\n",
              "    }\n",
              "\n",
              "    .colab-df-convert {\n",
              "      background-color: #E8F0FE;\n",
              "      border: none;\n",
              "      border-radius: 50%;\n",
              "      cursor: pointer;\n",
              "      display: none;\n",
              "      fill: #1967D2;\n",
              "      height: 32px;\n",
              "      padding: 0 0 0 0;\n",
              "      width: 32px;\n",
              "    }\n",
              "\n",
              "    .colab-df-convert:hover {\n",
              "      background-color: #E2EBFA;\n",
              "      box-shadow: 0px 1px 2px rgba(60, 64, 67, 0.3), 0px 1px 3px 1px rgba(60, 64, 67, 0.15);\n",
              "      fill: #174EA6;\n",
              "    }\n",
              "\n",
              "    .colab-df-buttons div {\n",
              "      margin-bottom: 4px;\n",
              "    }\n",
              "\n",
              "    [theme=dark] .colab-df-convert {\n",
              "      background-color: #3B4455;\n",
              "      fill: #D2E3FC;\n",
              "    }\n",
              "\n",
              "    [theme=dark] .colab-df-convert:hover {\n",
              "      background-color: #434B5C;\n",
              "      box-shadow: 0px 1px 3px 1px rgba(0, 0, 0, 0.15);\n",
              "      filter: drop-shadow(0px 1px 2px rgba(0, 0, 0, 0.3));\n",
              "      fill: #FFFFFF;\n",
              "    }\n",
              "  </style>\n",
              "\n",
              "    <script>\n",
              "      const buttonEl =\n",
              "        document.querySelector('#df-e1bfa653-18ca-43a1-af3e-89b263cbeba0 button.colab-df-convert');\n",
              "      buttonEl.style.display =\n",
              "        google.colab.kernel.accessAllowed ? 'block' : 'none';\n",
              "\n",
              "      async function convertToInteractive(key) {\n",
              "        const element = document.querySelector('#df-e1bfa653-18ca-43a1-af3e-89b263cbeba0');\n",
              "        const dataTable =\n",
              "          await google.colab.kernel.invokeFunction('convertToInteractive',\n",
              "                                                    [key], {});\n",
              "        if (!dataTable) return;\n",
              "\n",
              "        const docLinkHtml = 'Like what you see? Visit the ' +\n",
              "          '<a target=\"_blank\" href=https://colab.research.google.com/notebooks/data_table.ipynb>data table notebook</a>'\n",
              "          + ' to learn more about interactive tables.';\n",
              "        element.innerHTML = '';\n",
              "        dataTable['output_type'] = 'display_data';\n",
              "        await google.colab.output.renderOutput(dataTable, element);\n",
              "        const docLink = document.createElement('div');\n",
              "        docLink.innerHTML = docLinkHtml;\n",
              "        element.appendChild(docLink);\n",
              "      }\n",
              "    </script>\n",
              "  </div>\n",
              "\n",
              "\n",
              "<div id=\"df-0737b2ef-42cc-4f51-9534-e55b227aa9f8\">\n",
              "  <button class=\"colab-df-quickchart\" onclick=\"quickchart('df-0737b2ef-42cc-4f51-9534-e55b227aa9f8')\"\n",
              "            title=\"Suggest charts\"\n",
              "            style=\"display:none;\">\n",
              "\n",
              "<svg xmlns=\"http://www.w3.org/2000/svg\" height=\"24px\"viewBox=\"0 0 24 24\"\n",
              "     width=\"24px\">\n",
              "    <g>\n",
              "        <path d=\"M19 3H5c-1.1 0-2 .9-2 2v14c0 1.1.9 2 2 2h14c1.1 0 2-.9 2-2V5c0-1.1-.9-2-2-2zM9 17H7v-7h2v7zm4 0h-2V7h2v10zm4 0h-2v-4h2v4z\"/>\n",
              "    </g>\n",
              "</svg>\n",
              "  </button>\n",
              "\n",
              "<style>\n",
              "  .colab-df-quickchart {\n",
              "      --bg-color: #E8F0FE;\n",
              "      --fill-color: #1967D2;\n",
              "      --hover-bg-color: #E2EBFA;\n",
              "      --hover-fill-color: #174EA6;\n",
              "      --disabled-fill-color: #AAA;\n",
              "      --disabled-bg-color: #DDD;\n",
              "  }\n",
              "\n",
              "  [theme=dark] .colab-df-quickchart {\n",
              "      --bg-color: #3B4455;\n",
              "      --fill-color: #D2E3FC;\n",
              "      --hover-bg-color: #434B5C;\n",
              "      --hover-fill-color: #FFFFFF;\n",
              "      --disabled-bg-color: #3B4455;\n",
              "      --disabled-fill-color: #666;\n",
              "  }\n",
              "\n",
              "  .colab-df-quickchart {\n",
              "    background-color: var(--bg-color);\n",
              "    border: none;\n",
              "    border-radius: 50%;\n",
              "    cursor: pointer;\n",
              "    display: none;\n",
              "    fill: var(--fill-color);\n",
              "    height: 32px;\n",
              "    padding: 0;\n",
              "    width: 32px;\n",
              "  }\n",
              "\n",
              "  .colab-df-quickchart:hover {\n",
              "    background-color: var(--hover-bg-color);\n",
              "    box-shadow: 0 1px 2px rgba(60, 64, 67, 0.3), 0 1px 3px 1px rgba(60, 64, 67, 0.15);\n",
              "    fill: var(--button-hover-fill-color);\n",
              "  }\n",
              "\n",
              "  .colab-df-quickchart-complete:disabled,\n",
              "  .colab-df-quickchart-complete:disabled:hover {\n",
              "    background-color: var(--disabled-bg-color);\n",
              "    fill: var(--disabled-fill-color);\n",
              "    box-shadow: none;\n",
              "  }\n",
              "\n",
              "  .colab-df-spinner {\n",
              "    border: 2px solid var(--fill-color);\n",
              "    border-color: transparent;\n",
              "    border-bottom-color: var(--fill-color);\n",
              "    animation:\n",
              "      spin 1s steps(1) infinite;\n",
              "  }\n",
              "\n",
              "  @keyframes spin {\n",
              "    0% {\n",
              "      border-color: transparent;\n",
              "      border-bottom-color: var(--fill-color);\n",
              "      border-left-color: var(--fill-color);\n",
              "    }\n",
              "    20% {\n",
              "      border-color: transparent;\n",
              "      border-left-color: var(--fill-color);\n",
              "      border-top-color: var(--fill-color);\n",
              "    }\n",
              "    30% {\n",
              "      border-color: transparent;\n",
              "      border-left-color: var(--fill-color);\n",
              "      border-top-color: var(--fill-color);\n",
              "      border-right-color: var(--fill-color);\n",
              "    }\n",
              "    40% {\n",
              "      border-color: transparent;\n",
              "      border-right-color: var(--fill-color);\n",
              "      border-top-color: var(--fill-color);\n",
              "    }\n",
              "    60% {\n",
              "      border-color: transparent;\n",
              "      border-right-color: var(--fill-color);\n",
              "    }\n",
              "    80% {\n",
              "      border-color: transparent;\n",
              "      border-right-color: var(--fill-color);\n",
              "      border-bottom-color: var(--fill-color);\n",
              "    }\n",
              "    90% {\n",
              "      border-color: transparent;\n",
              "      border-bottom-color: var(--fill-color);\n",
              "    }\n",
              "  }\n",
              "</style>\n",
              "\n",
              "  <script>\n",
              "    async function quickchart(key) {\n",
              "      const quickchartButtonEl =\n",
              "        document.querySelector('#' + key + ' button');\n",
              "      quickchartButtonEl.disabled = true;  // To prevent multiple clicks.\n",
              "      quickchartButtonEl.classList.add('colab-df-spinner');\n",
              "      try {\n",
              "        const charts = await google.colab.kernel.invokeFunction(\n",
              "            'suggestCharts', [key], {});\n",
              "      } catch (error) {\n",
              "        console.error('Error during call to suggestCharts:', error);\n",
              "      }\n",
              "      quickchartButtonEl.classList.remove('colab-df-spinner');\n",
              "      quickchartButtonEl.classList.add('colab-df-quickchart-complete');\n",
              "    }\n",
              "    (() => {\n",
              "      let quickchartButtonEl =\n",
              "        document.querySelector('#df-0737b2ef-42cc-4f51-9534-e55b227aa9f8 button');\n",
              "      quickchartButtonEl.style.display =\n",
              "        google.colab.kernel.accessAllowed ? 'block' : 'none';\n",
              "    })();\n",
              "  </script>\n",
              "</div>\n",
              "    </div>\n",
              "  </div>\n"
            ]
          },
          "metadata": {},
          "execution_count": 15
        }
      ]
    },
    {
      "cell_type": "code",
      "source": [
        "res.plot(figsize=(10, 6), style='--')"
      ],
      "metadata": {
        "colab": {
          "base_uri": "https://localhost:8080/",
          "height": 540
        },
        "id": "opq8iCmYJ4T0",
        "outputId": "dda95ab9-dc00-4fa8-8e44-6a226bdc5a66"
      },
      "execution_count": 16,
      "outputs": [
        {
          "output_type": "execute_result",
          "data": {
            "text/plain": [
              "<Axes: >"
            ]
          },
          "metadata": {},
          "execution_count": 16
        },
        {
          "output_type": "display_data",
          "data": {
            "text/plain": [
              "<Figure size 1000x600 with 1 Axes>"
            ],
            "image/png": "[encoded data removed]"
          },
          "metadata": {}
        }
      ]
    },
    {
      "cell_type": "code",
      "source": [
        "def epoch():\n",
        "    print('|', end='')\n",
        "    done = False\n",
        "    state = env.reset()  # 从环境中获取初始状态\n",
        "    treward = 0\n",
        "    while not done:  # 当环境未处于完成状态时持续循环\n",
        "        predicted_probabilities = model.predict(np.atleast_2d(state))  # 获取动作概率\n",
        "        action = 1 if predicted_probabilities[0] > 0.5 else 0  # 根据概率决定动作\n",
        "        state, reward, done, info = env.step(action)  # 执行动作并获取新的状态和奖励\n",
        "        treward += reward if not done else 0  # 累积奖励\n",
        "    return treward  # 返回总奖励"
      ],
      "metadata": {
        "id": "P81aoteIL6RT"
      },
      "execution_count": 17,
      "outputs": []
    },
    {
      "cell_type": "code",
      "source": [
        "epoch()"
      ],
      "metadata": {
        "colab": {
          "base_uri": "https://localhost:8080/"
        },
        "id": "4Z7eCHnsKBnh",
        "outputId": "e674ae2c-c664-4c68-8130-853ba0a2d0ed"
      },
      "execution_count": 18,
      "outputs": [
        {
          "output_type": "stream",
          "name": "stdout",
          "text": [
            "|"
          ]
        },
        {
          "output_type": "execute_result",
          "data": {
            "text/plain": [
              "46.0"
            ]
          },
          "metadata": {},
          "execution_count": 18
        }
      ]
    },
    {
      "cell_type": "code",
      "source": [
        "%%time\n",
        "res = np.array([epoch() for _ in range(100)])\n",
        "print()\n",
        "res"
      ],
      "metadata": {
        "colab": {
          "base_uri": "https://localhost:8080/"
        },
        "id": "dFW5JUZCM5Wy",
        "outputId": "ce155de9-483f-4a19-9ca6-25497836b4a0"
      },
      "execution_count": 19,
      "outputs": [
        {
          "output_type": "stream",
          "name": "stdout",
          "text": [
            "||||||||||||||||||||||||||||||||||||||||||||||||||||||||||||||||||||||||||||||||||||||||||||||||||||\n",
            "CPU times: user 5.25 s, sys: 174 ms, total: 5.42 s\n",
            "Wall time: 5.39 s\n"
          ]
        },
        {
          "output_type": "execute_result",
          "data": {
            "text/plain": [
              "array([38., 31., 40., 44., 28., 28., 24., 29., 44., 48., 41., 32., 46.,\n",
              "       44., 35., 51., 31., 88., 29., 31., 38., 36., 24., 37., 39., 39.,\n",
              "       41., 32., 41., 40., 31., 26., 35., 28., 38., 30., 46., 28., 32.,\n",
              "       25., 47., 30., 26., 41., 45., 44., 48., 31., 68., 35., 31., 34.,\n",
              "       33., 35., 37., 36., 26., 45., 34., 54., 32., 50., 25., 46., 34.,\n",
              "       34., 70., 49., 27., 38., 45., 28., 38., 49., 38., 29., 32., 30.,\n",
              "       39., 45., 29., 42., 46., 32., 29., 36., 40., 29., 25., 39., 42.,\n",
              "       48., 29., 46., 33., 37., 36., 24., 36., 34.])"
            ]
          },
          "metadata": {},
          "execution_count": 19
        }
      ]
    },
    {
      "cell_type": "code",
      "source": [
        "res.mean()"
      ],
      "metadata": {
        "colab": {
          "base_uri": "https://localhost:8080/"
        },
        "id": "mZZsF0fZM77D",
        "outputId": "5c639792-64ae-4647-c8a0-fb71a0577e3a"
      },
      "execution_count": 20,
      "outputs": [
        {
          "output_type": "execute_result",
          "data": {
            "text/plain": [
              "37.38"
            ]
          },
          "metadata": {},
          "execution_count": 20
        }
      ]
    },
    {
      "cell_type": "markdown",
      "source": [
        "这段代码做了多个事情，分为几个部分：\n",
        "\n",
        "> 环境和库的准备\n",
        "\n",
        "1. 导入必要的库，设置随机种子，以确保可重现性，并忽略警告信息。\n",
        "\n",
        "2. 创建OpenAI Gym的CartPole-v0环境。\n",
        "\n",
        "3. 获取行动空间的大小（action_size），这是可以采取的不同行动的数量。\n",
        "\n",
        "4. 进行10次随机行动的采样，以示例化行动空间。\n",
        "\n",
        "5. 获取观测空间（环境状态）的大小（state_size）。\n",
        "\n",
        "6. 重置环境，获取初始状态，并执行一个随机行动。\n",
        "\n",
        "> 数据收集\n",
        "\n",
        "7. 运行一个循环，进行25,000次尝试（runs）来收集环境的数据。\n",
        "\n",
        "8. 在每次尝试中，从初始状态开始，执行随机行动，直到done标志表明回合结束。\n",
        "\n",
        "9. 收集每一步的状态和结果，并在DataFrame data中存储它们。\n",
        "\n",
        "10. 如果在一个尝试中的总奖励超过110，将该尝试的结果添加到data DataFrame中，并记录该尝试的总奖励。\n",
        "\n",
        "11. 计算并打印出收集到的奖励的平均值。\n",
        "\n",
        "> 模型的创建和训练\n",
        "\n",
        "12. 设置TensorFlow日志级别以减少控制台输出。\n",
        "\n",
        "13. 创建一个简单的顺序神经网络模型，用于分类任务。\n",
        "\n",
        "14. 添加两个Dense层，第一层用ReLU激活函数，第二层用Sigmoid激活函数以输出概率。\n",
        "\n",
        "15. 编译模型，使用二元交叉熵作为损失函数。\n",
        "\n",
        "16. 使用之前收集的数据训练模型。\n",
        "\n",
        "17. 绘制训练过程中的损失和准确率。\n",
        "\n",
        "> 使用模型做出决策\n",
        "\n",
        "18. 定义epoch函数，该函数使用训练好的模型在一个CartPole回合中做出决策，并返回该回合的总奖励。\n",
        "\n",
        "19. 调用epoch函数一次，以测试其行为。\n",
        "\n",
        "> 性能评估\n",
        "\n",
        "20. 使用epoch函数运行100次回合，收集每次的总奖励。\n",
        "\n",
        "21. 打印出这100次回合的总奖励数组。\n",
        "\n",
        "22. 计算并打印出100次回合的平均奖励。\n",
        "\n",
        "总结来说，该代码演示了如何使用OpenAI Gym环境进行数据收集，用这些数据训练一个简单的二分类神经网络模型，并使用这个模型来引导CartPole环境的行动，最后评估模型在多次回合中的平均性能。"
      ],
      "metadata": {
        "id": "9adhAoEvNc1n"
      }
    },
    {
      "cell_type": "markdown",
      "source": [
        "\n",
        "\n",
        "```\n",
        "import gym\n",
        "import numpy as np\n",
        "import pandas as pd\n",
        "np.random.seed(100)\n",
        "\n",
        "import warnings\n",
        "warnings.simplefilter('ignore')\n",
        "\n",
        "env = gym.make('CartPole-v0')\n",
        "\n",
        "# env.seed()\n",
        "\n",
        "action_size = env.action_space.n\n",
        "\n",
        "[env.action_space.sample() for _ in range(10)]\n",
        "\n",
        "state_size = env.observation_space.shape[0]\n",
        "\n",
        "state = env.reset()\n",
        "\n",
        "state, reward, done, info = env.step(env.action_space.sample())\n",
        "\n",
        "%%time\n",
        "data = pd.DataFrame()\n",
        "state = env.reset()\n",
        "length = []\n",
        "for run in range(25000):\n",
        "    done = False\n",
        "    prev_state = env.reset()\n",
        "    treward = 1\n",
        "    results = []\n",
        "    while not done:\n",
        "        action = env.action_space.sample()\n",
        "        #state, reward, done, trunc, _ = env.step(action)\n",
        "        state, reward, done, info = env.step(env.action_space.sample())\n",
        "        results.append({'s1': prev_state[0], 's2': prev_state[1],\n",
        "                        's3': prev_state[2], 's4': prev_state[3],\n",
        "                        'a': action, 'r': reward})\n",
        "        treward += reward if not done else 0\n",
        "        prev_state = state\n",
        "    if treward >= 110:\n",
        "        data = pd.concat((data, pd.DataFrame(results)))\n",
        "        length.append(treward)\n",
        "\n",
        "np.array(length).mean()\n",
        "data.info()\n",
        "data.tail()\n",
        "\n",
        "\n",
        "\n",
        "import os\n",
        "os.environ['TF_CPP_MIN_LOG_LEVEL'] = '3'\n",
        "\n",
        "from pylab import plt\n",
        "plt.style.use('seaborn-v0_8')\n",
        "%matplotlib inline\n",
        "\n",
        "import tensorflow as tf\n",
        "from tensorflow import keras\n",
        "tf.random.set_seed(100)\n",
        "\n",
        "from tensorflow.python.framework.ops import disable_eager_execution\n",
        "disable_eager_execution()\n",
        "\n",
        "from keras.layers import Dense\n",
        "from keras.models import Sequential\n",
        "\n",
        "model = Sequential()\n",
        "model.add(Dense(64, activation='relu',\n",
        "                input_dim=env.observation_space.shape[0]))\n",
        "model.add(Dense(1, activation='sigmoid'))\n",
        "model.compile(loss='binary_crossentropy',\n",
        "              optimizer='adam',\n",
        "              metrics=['acc'])\n",
        "\n",
        "\n",
        "%%time\n",
        "model.fit(data[['s1', 's2', 's3', 's4']], data['a'],\n",
        "          epochs=25, verbose=False, validation_split=0.2)\n",
        "\n",
        "res = pd.DataFrame(model.history.history)\n",
        "res.tail(3)\n",
        "\n",
        "\n",
        "res.plot(figsize=(10, 6), style='--')\n",
        "\n",
        "\n",
        "\n",
        "def epoch():\n",
        "    print('|', end='')\n",
        "    done = False\n",
        "    state = env.reset()  # 从环境中获取初始状态\n",
        "    treward = 0\n",
        "    while not done:  # 当环境未处于完成状态时持续循环\n",
        "        predicted_probabilities = model.predict(np.atleast_2d(state))  # 获取动作概率\n",
        "        action = 1 if predicted_probabilities[0] > 0.5 else 0  # 根据概率决定动作\n",
        "        state, reward, done, info = env.step(action)  # 执行动作并获取新的状态和奖励\n",
        "        treward += reward if not done else 0  # 累积奖励\n",
        "    return treward  # 返回总奖励\n",
        "\n",
        "\n",
        "\n",
        "epoch()\n",
        "\n",
        "\n",
        "%%time\n",
        "res = np.array([epoch() for _ in range(100)])\n",
        "print()\n",
        "res\n",
        "\n",
        "\n",
        "res.mean()\n",
        "```\n",
        "\n"
      ],
      "metadata": {
        "id": "7c7JROWcOll4"
      }
    }
  ]
}