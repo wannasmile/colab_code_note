{
  "nbformat": 4,
  "nbformat_minor": 0,
  "metadata": {
    "colab": {
      "provenance": [],
      "authorship_tag": "ABX9TyN8h8jETlVZ20AHMly9bY01",
      "include_colab_link": true
    },
    "kernelspec": {
      "name": "python3",
      "display_name": "Python 3"
    },
    "language_info": {
      "name": "python"
    }
  },
  "cells": [
    {
      "cell_type": "markdown",
      "metadata": {
        "id": "view-in-github",
        "colab_type": "text"
      },
      "source": [
        "<a href=\"https://colab.research.google.com/github/wannasmile/colab_code_note/blob/main/BaseCode0003.ipynb\" target=\"_parent\"><img src=\"https://colab.research.google.com/assets/colab-badge.svg\" alt=\"Open In Colab\"/></a>"
      ]
    },
    {
      "cell_type": "markdown",
      "source": [
        "# 拥有最多糖果的孩子\n"
      ],
      "metadata": {
        "id": "3TW7L6p_0YpW"
      }
    },
    {
      "cell_type": "markdown",
      "source": [
        "给你一个数组 candies 和一个整数 extraCandies ，其中 candies[i] 代表第 i 个孩子拥有的糖果数目。\n",
        "\n",
        "\n",
        "对每一个孩子，检查是否存在一种方案，将额外的 extraCandies 个糖果分配给孩子们之后，此孩子有 最多 的糖果。注意，允许有多个孩子同时拥有 最多 的糖果数目。\n",
        "\n",
        "\n",
        "示例 1：\n",
        "\n",
        "输入：candies = [2,3,5,1,3], extraCandies = 3\n",
        "\n",
        "输出：[true,true,true,false,true]\n",
        "\n",
        "解释：\n",
        "\n",
        "孩子 1 有 2 个糖果，如果他得到所有额外的糖果（3个），那么他总共有 5 个糖果，他将成为拥有最多糖果的孩子。\n",
        "\n",
        "孩子 2 有 3 个糖果，如果他得到至少 2 个额外糖果，那么他将成为拥有最多糖果的孩子。\n",
        "\n",
        "孩子 3 有 5 个糖果，他已经是拥有最多糖果的孩子。\n",
        "\n",
        "孩子 4 有 1 个糖果，即使他得到所有额外的糖果，他也只有 4 个糖果，无法成为拥有糖果最多的孩子。\n",
        "\n",
        "孩子 5 有 3 个糖果，如果他得到至少 2 个额外糖果，那么他将成为拥有最多糖果的孩子。\n",
        "\n",
        "\n",
        "示例 2：\n",
        "\n",
        "输入：candies = [4,2,1,1,2], extraCandies = 1\n",
        "\n",
        "输出：[true,false,false,false,false]\n",
        "\n",
        "解释：只有 1 个额外糖果，所以不管额外糖果给谁，只有孩子 1 可以成为拥有糖果最多的孩子。\n",
        "\n",
        "\n",
        "示例 3：\n",
        "\n",
        "输入：candies = [12,1,12], extraCandies = 10\n",
        "\n",
        "输出：[true,false,true]\n",
        "\n",
        "提示：\n",
        "\n",
        "* 2 <= candies.length <= 100\n",
        "* 1 <= candies[i] <= 100\n",
        "* 1 <= extraCandies <= 50\n"
      ],
      "metadata": {
        "id": "mB_FwYlp0aVR"
      }
    },
    {
      "cell_type": "code",
      "execution_count": 1,
      "metadata": {
        "colab": {
          "base_uri": "https://localhost:8080/"
        },
        "id": "3RB_5uKs0NFY",
        "outputId": "65f046ed-44fc-46cf-f18f-67098924089d"
      },
      "outputs": [
        {
          "output_type": "stream",
          "name": "stdout",
          "text": [
            "[true, false, false, false, false]\n",
            "[true, true, true, false, true]\n",
            "[true, false, true]\n"
          ]
        }
      ],
      "source": [
        "from typing import List\n",
        "def kidsWithCandies(candies: List[int], extraCandies: int) -> List[bool]:\n",
        "  maxCandies = max(candies)\n",
        "  return [True if candies[i]+extraCandies>=maxCandies else False for i in range(len(candies))]\n",
        "\n",
        "print(str(kidsWithCandies([4,2,1,1,2],1)).lower())\n",
        "print(str(kidsWithCandies([2,3,5,1,3],3)).lower())\n",
        "print(str(kidsWithCandies([12,1,12],10)).lower())"
      ]
    },
    {
      "cell_type": "code",
      "source": [
        "from typing import List\n",
        "def kidsWithCandies(candies: List[int], extraCandies: int) -> List[bool]:\n",
        "  maxCandies = max(candies)\n",
        "  return ['true' if candies[i]+extraCandies>=maxCandies else 'false' for i in range(len(candies))]\n",
        "\n",
        "print(kidsWithCandies([4,2,1,1,2],1))\n",
        "print(kidsWithCandies([2,3,5,1,3],3))\n",
        "print(kidsWithCandies([12,1,12],10))"
      ],
      "metadata": {
        "colab": {
          "base_uri": "https://localhost:8080/"
        },
        "id": "rHgcetn53pIF",
        "outputId": "bba89393-929d-4cd4-afd7-57ecf7c17274"
      },
      "execution_count": 2,
      "outputs": [
        {
          "output_type": "stream",
          "name": "stdout",
          "text": [
            "['true', 'false', 'false', 'false', 'false']\n",
            "['true', 'true', 'true', 'false', 'true']\n",
            "['true', 'false', 'true']\n"
          ]
        }
      ]
    },
    {
      "cell_type": "code",
      "source": [
        "class Solution:\n",
        "    def kidsWithCandies(self, candies: List[int], extraCandies: int) -> List[bool]:\n",
        "        maxCandies = max(candies)\n",
        "        ret = [candy + extraCandies >= maxCandies for candy in candies]\n",
        "        return ret\n",
        "\n",
        "s = Solution()\n",
        "print(s.kidsWithCandies([4,2,1,1,2],1))\n",
        "print(s.kidsWithCandies([2,3,5,1,3],3))\n",
        "print(s.kidsWithCandies([12,1,12],10))"
      ],
      "metadata": {
        "colab": {
          "base_uri": "https://localhost:8080/"
        },
        "id": "C3-dQXBR4Do2",
        "outputId": "ff287ccd-19a1-498e-ce1e-c8086422abd3"
      },
      "execution_count": 3,
      "outputs": [
        {
          "output_type": "stream",
          "name": "stdout",
          "text": [
            "[True, False, False, False, False]\n",
            "[True, True, True, False, True]\n",
            "[True, False, True]\n"
          ]
        }
      ]
    },
    {
      "cell_type": "markdown",
      "source": [
        "# 种花问题\n"
      ],
      "metadata": {
        "id": "N9yiXDZ64Yrr"
      }
    },
    {
      "cell_type": "markdown",
      "source": [
        "假设有一个很长的花坛，一部分地块种植了花，另一部分却没有。可是，花不能种植在相邻的地块上，它们会争夺水源，两者都会死去。\n",
        "\n",
        "给你一个整数数组 flowerbed 表示花坛，由若干 0 和 1 组成，其中 0 表示没种植花，1 表示种植了花。另有一个数 n ，能否在不打破种植规则的情况下种入 n 朵花？能则返回 true ，不能则返回 false 。\n",
        "\n",
        "\n",
        "\n",
        "示例 1：\n",
        "\n",
        "输入：flowerbed = [1,0,0,0,1], n = 1\n",
        "\n",
        "输出：true\n",
        "\n",
        "\n",
        "示例 2：\n",
        "\n",
        "输入：flowerbed = [1,0,0,0,1], n = 2\n",
        "\n",
        "输出：false"
      ],
      "metadata": {
        "id": "ENQw1gTN4ZzI"
      }
    },
    {
      "cell_type": "code",
      "source": [
        "from typing import List\n",
        "def canPlaceFlowers(flowerbed: List[int], n: int) -> bool:\n",
        "  l = len(flowerbed)\n",
        "  res = [0]*l\n",
        "  if flowerbed[0] == 1:\n",
        "    res[0] = 1\n",
        "    if l>1:\n",
        "      res[1] = 1\n",
        "  for i in range(1,l):\n",
        "    if flowerbed[i] == 1:\n",
        "      res[i-1],res[i] = 1,1\n",
        "      if i+1<l:\n",
        "        res[i+1] = 1\n",
        "  print(res)\n",
        "  #return res.count(0)>=n\n",
        "  count=0\n",
        "  i=0\n",
        "  while i<l:\n",
        "    if res[i]==0:\n",
        "      count+=1\n",
        "      i+=2\n",
        "    else:\n",
        "      i+=1\n",
        "\n",
        "  return count>=n\n",
        "\n",
        "\n",
        "print(canPlaceFlowers([1,0,0,0,1],2))\n",
        "print(canPlaceFlowers([1,0,0,0,1,0,1,1,0,0,0],4))\n",
        "print(canPlaceFlowers([1,0,0,0,1,0,1,1,0,0,0],3))\n",
        "print(canPlaceFlowers([1,0,0,0,1,0,1,1,0,0,0],2))"
      ],
      "metadata": {
        "colab": {
          "base_uri": "https://localhost:8080/"
        },
        "id": "NBN9_PPC4jvA",
        "outputId": "d9d742b4-2d01-4664-a54a-1fbb097ef38a"
      },
      "execution_count": 4,
      "outputs": [
        {
          "output_type": "stream",
          "name": "stdout",
          "text": [
            "[1, 1, 0, 1, 1]\n",
            "False\n",
            "[1, 1, 0, 1, 1, 1, 1, 1, 1, 0, 0]\n",
            "False\n",
            "[1, 1, 0, 1, 1, 1, 1, 1, 1, 0, 0]\n",
            "False\n",
            "[1, 1, 0, 1, 1, 1, 1, 1, 1, 0, 0]\n",
            "True\n"
          ]
        }
      ]
    },
    {
      "cell_type": "code",
      "source": [
        "from typing import List\n",
        "def canPlaceFlowers(flowerbed: List[int], n: int) -> bool:\n",
        "  l = len(flowerbed)\n",
        "  res = [0]*l\n",
        "  if flowerbed[0] == 1:\n",
        "    res[0] = 1\n",
        "    if l>1:\n",
        "      res[1] = 1\n",
        "  for i in range(1,l):\n",
        "    if flowerbed[i] == 1:\n",
        "      res[i-1],res[i] = 1,1\n",
        "      if i+1<l:\n",
        "        res[i+1] = 1\n",
        "  print(res)\n",
        "  #return res.count(0)>=n\n",
        "  count=0\n",
        "  i=0\n",
        "  while i<l:\n",
        "    if res[i]==0:\n",
        "      count+=1\n",
        "      i+=2\n",
        "    else:\n",
        "      i+=1\n",
        "\n",
        "  return count>=n\n",
        "\n",
        "\n",
        "print(canPlaceFlowers([1,0,0,0,1],2))\n",
        "print(canPlaceFlowers([1,0,0,0,1,0,1,0,0,0,0],4))\n",
        "print(canPlaceFlowers([1,0,0,0,1,0,1,0,0,0,0],3))\n",
        "print(canPlaceFlowers([1,0,0,0,1,0,1,0,0,0,0],2))"
      ],
      "metadata": {
        "colab": {
          "base_uri": "https://localhost:8080/"
        },
        "id": "YdpVWF9fFyjj",
        "outputId": "af75c526-cb10-4f5a-9f4c-39638115198e"
      },
      "execution_count": 5,
      "outputs": [
        {
          "output_type": "stream",
          "name": "stdout",
          "text": [
            "[1, 1, 0, 1, 1]\n",
            "False\n",
            "[1, 1, 0, 1, 1, 1, 1, 1, 0, 0, 0]\n",
            "False\n",
            "[1, 1, 0, 1, 1, 1, 1, 1, 0, 0, 0]\n",
            "True\n",
            "[1, 1, 0, 1, 1, 1, 1, 1, 0, 0, 0]\n",
            "True\n"
          ]
        }
      ]
    },
    {
      "cell_type": "code",
      "source": [
        "([8]*8).count(8)"
      ],
      "metadata": {
        "colab": {
          "base_uri": "https://localhost:8080/"
        },
        "id": "-UAzUE928M5l",
        "outputId": "40e22273-d3e8-418a-a91c-4bfb220755b5"
      },
      "execution_count": 6,
      "outputs": [
        {
          "output_type": "execute_result",
          "data": {
            "text/plain": [
              "8"
            ]
          },
          "metadata": {},
          "execution_count": 6
        }
      ]
    },
    {
      "cell_type": "code",
      "source": [
        "class Solution:\n",
        "    def canPlaceFlowers(self, flowerbed: List[int], n: int) -> bool:\n",
        "        count, m, prev = 0, len(flowerbed), -1\n",
        "        for i in range(m):\n",
        "            if flowerbed[i] == 1:\n",
        "                if prev < 0:\n",
        "                    count += i // 2\n",
        "                else:\n",
        "                    count += (i - prev - 2) // 2\n",
        "                prev = i\n",
        "\n",
        "        if prev < 0:\n",
        "            count += (m + 1) // 2\n",
        "        else:\n",
        "            count += (m - prev - 1) // 2\n",
        "\n",
        "        return count >= n\n",
        "\n",
        "s=Solution()\n",
        "print(s.canPlaceFlowers([1,0,0,0,1],2))\n",
        "print(s.canPlaceFlowers([1,0,0,0,1,0,1,1,0,0,0],4))\n",
        "print(s.canPlaceFlowers([1,0,0,0,1,0,1,1,0,0,0],3))\n",
        "print(s.canPlaceFlowers([1,0,0,0,1,0,1,1,0,0,0],2))"
      ],
      "metadata": {
        "colab": {
          "base_uri": "https://localhost:8080/"
        },
        "id": "OL4E3Hc4AD0D",
        "outputId": "e205f5f3-eb17-478f-b8f7-8504f16b8f5e"
      },
      "execution_count": 7,
      "outputs": [
        {
          "output_type": "stream",
          "name": "stdout",
          "text": [
            "False\n",
            "False\n",
            "False\n",
            "False\n"
          ]
        }
      ]
    },
    {
      "cell_type": "code",
      "source": [
        "class Solution:\n",
        "    def canPlaceFlowers(self, flowerbed: List[int], n: int) -> bool:\n",
        "        count, m, prev = 0, len(flowerbed), -1\n",
        "        for i in range(m):\n",
        "            if flowerbed[i] == 1:\n",
        "                if prev < 0:\n",
        "                    count += i // 2\n",
        "                else:\n",
        "                    count += (i - prev - 2) // 2\n",
        "                if count >= n:\n",
        "                    return True\n",
        "                prev = i\n",
        "\n",
        "        if prev < 0:\n",
        "            count += (m + 1) // 2\n",
        "        else:\n",
        "            count += (m - prev - 1) // 2\n",
        "\n",
        "        return count >= n\n",
        "\n",
        "\n",
        "s=Solution()\n",
        "print(s.canPlaceFlowers([1,0,0,0,1],2))\n",
        "print(s.canPlaceFlowers([1,0,0,0,1,0,1,0,0,0,0],4))\n",
        "print(s.canPlaceFlowers([1,0,0,0,1,0,1,0,0,0,0],3))\n",
        "print(s.canPlaceFlowers([1,0,0,0,1,0,1,0,0,0,0],2))"
      ],
      "metadata": {
        "colab": {
          "base_uri": "https://localhost:8080/"
        },
        "id": "vfDVQYVLFBFF",
        "outputId": "2b263e49-52c3-489e-af03-ab98eee6b297"
      },
      "execution_count": 8,
      "outputs": [
        {
          "output_type": "stream",
          "name": "stdout",
          "text": [
            "False\n",
            "False\n",
            "True\n",
            "True\n"
          ]
        }
      ]
    },
    {
      "cell_type": "markdown",
      "source": [
        "# 反转字符串中的元音字母\n"
      ],
      "metadata": {
        "id": "1-i6ccoQqwZE"
      }
    },
    {
      "cell_type": "markdown",
      "source": [
        "给你一个字符串 s ，仅反转字符串中的所有元音字母，并返回结果字符串。\n",
        "\n",
        "元音字母包括 'a'、'e'、'i'、'o'、'u'，且可能以大小写两种形式出现不止一次。\n",
        "\n",
        "\n",
        "\n",
        "示例 1：\n",
        "\n",
        "输入：s = \"hello\"\n",
        "\n",
        "输出：\"holle\"\n",
        "\n",
        "示例 2：\n",
        "\n",
        "输入：s = \"leetcode\"\n",
        "\n",
        "输出：\"leotcede\"\n",
        "\n",
        "\n",
        "提示：\n",
        "\n",
        "* 1 <= s.length <= 3 * 105\n",
        "* s 由 可打印的 ASCII 字符组成\n",
        "\n"
      ],
      "metadata": {
        "id": "S1aU6JIsqxoh"
      }
    },
    {
      "cell_type": "code",
      "source": [
        "def reverseVowels(s: str) -> str:\n",
        "  vowel='aeiouAEIOU'\n",
        "  l = len(s)\n",
        "  res = [char for char in s]\n",
        "  #res = s.split('')\n",
        "  i = 0\n",
        "  j = l-1\n",
        "  while i < l:\n",
        "    if i>=j:\n",
        "      break\n",
        "    if res[i] not in vowel:\n",
        "      i+=1\n",
        "    if res[j] not in vowel:\n",
        "      j-=1\n",
        "    if res[i] in vowel and res[j] in vowel:\n",
        "      res[i],res[j]=res[j],res[i]\n",
        "      i,j=i+1,j-1\n",
        "  print(res)\n",
        "  return ''.join(res)\n",
        "\n",
        "print(reverseVowels('leetcode'))\n",
        "print(reverseVowels('hello'))\n",
        "print(reverseVowels('hEllo world'))\n",
        "print(reverseVowels('hEllOWorld'))\n",
        "\n"
      ],
      "metadata": {
        "colab": {
          "base_uri": "https://localhost:8080/"
        },
        "id": "c41JefmaqrQt",
        "outputId": "4731065a-8a41-4392-ec8e-b18fb2c3dbab"
      },
      "execution_count": 9,
      "outputs": [
        {
          "output_type": "stream",
          "name": "stdout",
          "text": [
            "['l', 'e', 'o', 't', 'c', 'e', 'd', 'e']\n",
            "leotcede\n",
            "['h', 'o', 'l', 'l', 'e']\n",
            "holle\n",
            "['h', 'o', 'l', 'l', 'o', ' ', 'w', 'E', 'r', 'l', 'd']\n",
            "hollo wErld\n",
            "['h', 'o', 'l', 'l', 'O', 'W', 'E', 'r', 'l', 'd']\n",
            "hollOWErld\n"
          ]
        }
      ]
    },
    {
      "cell_type": "code",
      "source": [
        "class Solution:\n",
        "    def reverseVowels(self, s: str) -> str:\n",
        "        def isVowel(ch: str) -> bool:\n",
        "            return ch in \"aeiouAEIOU\"\n",
        "\n",
        "        n = len(s)\n",
        "        s = list(s)\n",
        "        i, j = 0, n - 1\n",
        "        while i < j:\n",
        "            while i < n and not isVowel(s[i]):\n",
        "                i += 1\n",
        "            while j > 0 and not isVowel(s[j]):\n",
        "                j -= 1\n",
        "            if i < j:\n",
        "                s[i], s[j] = s[j], s[i]\n",
        "                i += 1\n",
        "                j -= 1\n",
        "\n",
        "        return \"\".join(s)\n",
        "\n",
        "s=Solution()\n",
        "print(s.reverseVowels('leetcode'))\n",
        "print(s.reverseVowels('hello'))\n",
        "print(s.reverseVowels('hEllo world'))\n",
        "print(s.reverseVowels('hEllOWorld'))"
      ],
      "metadata": {
        "colab": {
          "base_uri": "https://localhost:8080/"
        },
        "id": "R9WPGUMyudHR",
        "outputId": "40a1aa5b-0017-426d-acf6-bc0bdb004226"
      },
      "execution_count": 10,
      "outputs": [
        {
          "output_type": "stream",
          "name": "stdout",
          "text": [
            "leotcede\n",
            "holle\n",
            "hollo wErld\n",
            "hollOWErld\n"
          ]
        }
      ]
    },
    {
      "cell_type": "markdown",
      "source": [
        "\n",
        "\n",
        "\n",
        "在Python中，可以很容易地将字符串与字符列表进行相互转换。\n",
        "\n",
        "一、将字符串转换为字符列表\n",
        "\n",
        "要将字符串转换为字符列表，可以使用list()函数：\n",
        "\n",
        "```\n",
        "string = \"hello\"\n",
        "char_list = list(string)\n",
        "print(char_list)  # 输出: ['h', 'e', 'l', 'l', 'o']\n",
        "\n",
        "```\n",
        "\n",
        "```\n",
        "string = \"hello\"\n",
        "char_list = [char for char in string]\n",
        "print(char_list)  # 输出: ['h', 'e', 'l', 'l', 'o']\n",
        "\n",
        "```\n",
        "\n",
        "\n",
        "二、将字符列表转换为字符串\n",
        "\n",
        "要将字符列表转换回字符串，可以使用join()方法：\n",
        "\n",
        "```\n",
        "char_list = ['h', 'e', 'l', 'l', 'o']\n",
        "string = ''.join(char_list)\n",
        "print(string)  # 输出: \"hello\"\n",
        "\n",
        "```\n",
        "\n",
        "\n",
        "\n",
        "\n"
      ],
      "metadata": {
        "id": "90XdS8B2wMXT"
      }
    },
    {
      "cell_type": "markdown",
      "source": [
        "# 反转字符串中的单词\n"
      ],
      "metadata": {
        "id": "2K8kVkC_yACN"
      }
    },
    {
      "cell_type": "markdown",
      "source": [
        "给你一个字符串 s ，请你反转字符串中 单词 的顺序。\n",
        "\n",
        "单词 是由非空格字符组成的字符串。s 中使用至少一个空格将字符串中的 单词 分隔开。\n",
        "\n",
        "返回 单词 顺序颠倒且 单词 之间用单个空格连接的结果字符串。\n",
        "\n",
        "注意：输入字符串 s中可能会存在前导空格、尾随空格或者单词间的多个空格。返回的结果字符串中，单词间应当仅用单个空格分隔，且不包含任何额外的空格。\n",
        "\n",
        "\n",
        "\n",
        "示例 1：\n",
        "\n",
        "输入：s = \"the sky is blue\"\n",
        "\n",
        "输出：\"blue is sky the\"\n",
        "\n",
        "示例 2：\n",
        "\n",
        "输入：s = \"  hello world  \"\n",
        "\n",
        "输出：\"world hello\"\n",
        "\n",
        "解释：反转后的字符串中不能存在前导空格和尾随空格。\n",
        "\n",
        "示例 3：\n",
        "\n",
        "输入：s = \"a good   example\"\n",
        "\n",
        "输出：\"example good a\"\n",
        "\n",
        "解释：如果两个单词间有多余的空格，反转后的字符串需要将单词间的空格减少到仅有一个。\n",
        "\n",
        "\n",
        "提示：\n",
        "\n",
        "* 1 <= s.length <= 104\n",
        "* s 包含英文大小写字母、数字和空格 ' '\n",
        "* s 中 至少存在一个 单词\n",
        "\n",
        "\n",
        "进阶：如果字符串在你使用的编程语言中是一种可变数据类型，请尝试使用 O(1) 额外空间复杂度的 原地 解法。"
      ],
      "metadata": {
        "id": "sY23C51ayDM5"
      }
    },
    {
      "cell_type": "code",
      "source": [
        "def reverseWords(s: str) -> str:\n",
        "  s_list = s.split(\" \")\n",
        "#一次删除不够\n",
        "#  if '' in s_list:\n",
        "#    s_list.remove('')\n",
        "  while '' in s_list:\n",
        "    s_list.remove('')\n",
        "  l = len(s_list)\n",
        "  i = 0\n",
        "  j = l-1\n",
        "  while i<j:\n",
        "    s_list[i],s_list[j] = s_list[j],s_list[i]\n",
        "    i+=1\n",
        "    j-=1\n",
        "  return ' '.join(s_list)\n",
        "\n",
        "print(reverseWords(\"the sky is blue\"))\n",
        "print(reverseWords(\" hello world \"))\n",
        "print(reverseWords(\"a good example\"))"
      ],
      "metadata": {
        "colab": {
          "base_uri": "https://localhost:8080/"
        },
        "id": "za1TdkFkyBWX",
        "outputId": "63a7c351-7245-4517-cb19-34cb02234e62"
      },
      "execution_count": 11,
      "outputs": [
        {
          "output_type": "stream",
          "name": "stdout",
          "text": [
            "blue is sky the\n",
            "world hello\n",
            "example good a\n"
          ]
        }
      ]
    },
    {
      "cell_type": "code",
      "source": [
        "print(\"a  b\".split(\" \"))\n",
        "print(\" hello world \".split(\" \"))\n",
        "test = \" hello world \"\n",
        "test.split(\" \").remove('')\n",
        "print(test)\n",
        "# hello world"
      ],
      "metadata": {
        "colab": {
          "base_uri": "https://localhost:8080/"
        },
        "id": "hBYMZArEzBD1",
        "outputId": "004041f8-5c7c-4210-a397-1bac8e9b8df9"
      },
      "execution_count": 12,
      "outputs": [
        {
          "output_type": "stream",
          "name": "stdout",
          "text": [
            "['a', '', 'b']\n",
            "['', 'hello', 'world', '']\n",
            " hello world \n"
          ]
        }
      ]
    },
    {
      "cell_type": "markdown",
      "source": [
        "在Python中，删除列表中的某些元素可以通过多种方法实现。下面列出了一些常见的方法：\n",
        "\n",
        "* 使用 remove() 方法\n",
        "\n",
        "如果你知道要删除的元素的值，可以使用remove()方法来删除它。这将删除列表中找到的第一个匹配项。\n",
        "\n",
        "\n",
        "```\n",
        "my_list = [1, 2, 3, 2, 4]\n",
        "my_list.remove(2)  # 删除第一个出现的2\n",
        "print(my_list)  # 输出: [1, 3, 2, 4]\n",
        "```\n",
        "\n",
        "* 使用 pop() 方法\n",
        "\n",
        "如果你知道要删除元素的索引，可以使用pop()方法。该方法会删除指定索引处的元素，并返回该元素的值。\n",
        "\n",
        "```\n",
        "my_list = [1, 2, 3, 4, 5]\n",
        "removed_element = my_list.pop(2)  # 删除索引为2的元素（即3）\n",
        "print(my_list)  # 输出: [1, 2, 4, 5]\n",
        "```\n",
        "\n",
        "如果不提供索引，默认删除最后一个元素。\n",
        "\n",
        "* 使用列表推导式\n",
        "\n",
        "如果你想根据某个条件删除多个元素，列表推导式是一个非常便捷的方法。\n",
        "\n",
        "```\n",
        "my_list = [1, 2, 3, 4, 5, 6]\n",
        "my_list = [x for x in my_list if x % 2 != 0]  # 删除所有偶数\n",
        "print(my_list)  # 输出: [1, 3, 5]\n",
        "```\n",
        "\n",
        "* 使用 del 语句\n",
        "\n",
        "你也可以使用 del 语句来删除指定索引处的元素或者一个切片。\n",
        "\n",
        "```\n",
        "my_list = [1, 2, 3, 4, 5]\n",
        "del my_list[1]  # 删除索引为1的元素（即2）\n",
        "print(my_list)  # 输出: [1, 3, 4, 5]\n",
        "\n",
        "my_list = [1, 2, 3, 4, 5]\n",
        "del my_list[1:3]  # 删除索引1至2的元素\n",
        "print(my_list)  # 输出: [1, 4, 5]\n",
        "```\n",
        "\n",
        "* 使用 filter() 函数\n",
        "\n",
        "你还可以使用 filter() 函数来过滤掉列表中不符合条件的元素。\n",
        "\n",
        "```\n",
        "my_list = [1, 2, 3, 4, 5, 6]\n",
        "my_list = list(filter(lambda x: x % 2 != 0, my_list))  # 删除所有偶数\n",
        "print(my_list)  # 输出: [1, 3, 5]\n",
        "```\n",
        "\n",
        "选择哪种方法取决于你的具体需求，比如你是否知道要删除元素的值或者索引，或者你是否需要根据某个条件来删除多个元素。"
      ],
      "metadata": {
        "id": "Yw_4oQdS6Ji5"
      }
    },
    {
      "cell_type": "markdown",
      "source": [
        "要从列表中删除所有空字符串，可以使用列表推导式或者filter()函数或者循环remove()方法，这两种方法都很适合这种情况。\n",
        "\n",
        "* 使用列表推导式\n",
        "\n",
        "通过列表推导式，你可以轻松地创建一个新列表，其中只包含非空字符串：\n",
        "\n",
        "```\n",
        "my_list = [\"apple\", \"\", \"banana\", None, \"cherry\", \"\"]\n",
        "my_list = [item for item in my_list if item]  # 使用条件 if item 来过滤空值\n",
        "print(my_list)  # 输出: ['apple', 'banana', 'cherry']\n",
        "```\n",
        "\n",
        "在 if item 条件中，空字符串会被评估为 False，因此不会被包含在新列表中。\n",
        "\n",
        "* 使用 filter() 函数\n",
        "\n",
        "filter() 函数可以用来过滤列表中的元素。与列表推导式类似，你可以使用 filter() 来去除空字符串：\n",
        "\n",
        "```\n",
        "my_list = [\"apple\", \"\", \"banana\", None, \"cherry\", \"\"]\n",
        "my_list = list(filter(None, my_list))  # filter 函数会过滤掉评估为 False 的所有项\n",
        "print(my_list)  # 输出: ['apple', 'banana', 'cherry']\n",
        "```\n",
        "\n",
        "filter(None, my_list) 会自动过滤掉所有评估为 False 的项，包括空字符串和 None。\n",
        "\n",
        "* 使用循环和 remove() 方法\n",
        "\n",
        "虽然不是最高效的方法，但也可以通过循环和 remove() 方法来删除空字符串：\n",
        "\n",
        "```\n",
        "my_list = [\"apple\", \"\", \"banana\", \"\", \"cherry\", \"\"]\n",
        "while \"\" in my_list:\n",
        "    my_list.remove(\"\")\n",
        "print(my_list)  # 输出: ['apple', 'banana', 'cherry']\n",
        "```\n",
        "\n",
        "这种方法可能不太高效，因为每次调用 remove() 都会搜索整个列表，删除一个匹配项，然后剩余元素会进行一次重排。\n",
        "\n",
        "通常来说，使用列表推导式或 filter() 函数是删除列表中空字符串的更好选择，因为它们语法简洁，且执行效率较高。"
      ],
      "metadata": {
        "id": "DuFCOFJV65Gb"
      }
    },
    {
      "cell_type": "code",
      "source": [
        "class Solution:\n",
        "    def reverseWords(self, s: str) -> str:\n",
        "        return \" \".join(reversed(s.split()))\n",
        "\n",
        "\n",
        "s=Solution()\n",
        "print(s.reverseWords(\"the sky is blue\"))\n",
        "print(s.reverseWords(\" hello world \"))\n",
        "print(s.reverseWords(\"a good example\"))\n"
      ],
      "metadata": {
        "colab": {
          "base_uri": "https://localhost:8080/"
        },
        "id": "t08WlknG8cNy",
        "outputId": "68cab40f-8bfa-40bd-c721-7d8139d42ee6"
      },
      "execution_count": 13,
      "outputs": [
        {
          "output_type": "stream",
          "name": "stdout",
          "text": [
            "blue is sky the\n",
            "world hello\n",
            "example good a\n"
          ]
        }
      ]
    },
    {
      "cell_type": "markdown",
      "source": [
        "在Python的字符串方法中，s.split() 和 s.split(' ') 两种用法在处理字符串时表现略有不同。\n",
        "\n",
        "* s.split()\n",
        "\n",
        "当你调用s.split()而没有指定分隔符时，字符串s会在所有的空白字符上被分割，包括空格、制表符、换行符等。此外，方法还会删除字符串开头和结尾的空白字符。这意味着，连续的空白字符将被视为单个分隔符。\n",
        "\n",
        "```\n",
        "s = \"  The  fox  jumped   over    the lazy dog  \\n\"\n",
        "result = s.split()\n",
        "# 输出: ['The', 'fox', 'jumped', 'over', 'the', 'lazy', 'dog']\n",
        "```\n",
        "\n",
        "在上面的例子中，s.split() 会忽略字符串中的额外空格和换行符，只返回包含单词的列表。\n",
        "\n",
        "\n",
        "* s.split(' ')\n",
        "\n",
        "当你使用s.split(' ')并显式提供一个空格作为分隔符时，字符串s会仅在单个空格字符处被分割。如果在两个空格字符之间没有其他字符，你会在结果列表中得到一个空字符串。\n",
        "\n",
        "```\n",
        "s = \"  The  fox  jumped   over    the lazy dog  \\n\"\n",
        "result = s.split(' ')\n",
        "# 输出: ['', '', 'The', '', 'fox', '', 'jumped', '', '', 'over', '', '', '', 'the', 'lazy', 'dog', '', '\\n']\n",
        "```\n",
        "\n",
        "如你所见，使用s.split(' ')会导致很多空字符串出现在结果列表中，因为原字符串s中的多个连续空格被解释为多个分隔符。\n",
        "\n",
        "因此，两种方法的主要区别在于它们对待空白字符的方式不同。s.split()更常用于处理不规则的空白，而s.split(' ')在你想要保留字符串中的空白格式时可能更有用，例如，处理定宽数据或代码缩进。\n",
        "\n"
      ],
      "metadata": {
        "id": "AcxhPRzw9j1F"
      }
    },
    {
      "cell_type": "code",
      "source": [
        "class Solution:\n",
        "    def trim_spaces(self, s: str) -> list:\n",
        "        left, right = 0, len(s) - 1\n",
        "        # 去掉字符串开头的空白字符\n",
        "        while left <= right and s[left] == ' ':\n",
        "            left += 1\n",
        "\n",
        "        # 去掉字符串末尾的空白字符\n",
        "        while left <= right and s[right] == ' ':\n",
        "            right -= 1\n",
        "\n",
        "        # 将字符串间多余的空白字符去除\n",
        "        output = []\n",
        "        while left <= right:\n",
        "            if s[left] != ' ':\n",
        "                output.append(s[left])\n",
        "            elif output[-1] != ' ':\n",
        "                output.append(s[left])\n",
        "            left += 1\n",
        "\n",
        "        return output\n",
        "\n",
        "    def reverse(self, l: list, left: int, right: int) -> None:\n",
        "        while left < right:\n",
        "            l[left], l[right] = l[right], l[left]\n",
        "            left, right = left + 1, right - 1\n",
        "\n",
        "    def reverse_each_word(self, l: list) -> None:\n",
        "        n = len(l)\n",
        "        start = end = 0\n",
        "\n",
        "        while start < n:\n",
        "            # 循环至单词的末尾\n",
        "            while end < n and l[end] != ' ':\n",
        "                end += 1\n",
        "            # 翻转单词\n",
        "            self.reverse(l, start, end - 1)\n",
        "            # 更新start，去找下一个单词\n",
        "            start = end + 1\n",
        "            end += 1\n",
        "\n",
        "    def reverseWords(self, s: str) -> str:\n",
        "        l = self.trim_spaces(s)\n",
        "\n",
        "        # 翻转字符串\n",
        "        self.reverse(l, 0, len(l) - 1)\n",
        "\n",
        "        # 翻转每个单词\n",
        "        self.reverse_each_word(l)\n",
        "\n",
        "        return ''.join(l)\n",
        "\n",
        "\n",
        "s=Solution()\n",
        "print(s.reverseWords(\"the sky is blue\"))\n",
        "print(s.reverseWords(\" hello world \"))\n",
        "print(s.reverseWords(\"a good example\"))\n"
      ],
      "metadata": {
        "colab": {
          "base_uri": "https://localhost:8080/"
        },
        "id": "Cg0_Y4kB-wUb",
        "outputId": "3cf2b851-5ecf-4f1e-aed7-89ce40db96d4"
      },
      "execution_count": 14,
      "outputs": [
        {
          "output_type": "stream",
          "name": "stdout",
          "text": [
            "blue is sky the\n",
            "world hello\n",
            "example good a\n"
          ]
        }
      ]
    },
    {
      "cell_type": "code",
      "source": [
        "import collections\n",
        "\n",
        "class Solution:\n",
        "    def reverseWords(self, s: str) -> str:\n",
        "        left, right = 0, len(s) - 1\n",
        "        # 去掉字符串开头的空白字符\n",
        "        while left <= right and s[left] == ' ':\n",
        "            left += 1\n",
        "\n",
        "        # 去掉字符串末尾的空白字符\n",
        "        while left <= right and s[right] == ' ':\n",
        "            right -= 1\n",
        "\n",
        "        d, word = collections.deque(), []\n",
        "        # 将单词 push 到队列的头部\n",
        "        while left <= right:\n",
        "            if s[left] == ' ' and word:\n",
        "                d.appendleft(''.join(word))\n",
        "                word = []\n",
        "            elif s[left] != ' ':\n",
        "                word.append(s[left])\n",
        "            left += 1\n",
        "        d.appendleft(''.join(word))\n",
        "\n",
        "        return ' '.join(d)\n",
        "\n",
        "s=Solution()\n",
        "print(s.reverseWords(\"the sky is blue\"))\n",
        "print(s.reverseWords(\" hello world \"))\n",
        "print(s.reverseWords(\"a good example\"))"
      ],
      "metadata": {
        "colab": {
          "base_uri": "https://localhost:8080/"
        },
        "id": "f-Cfw95F_US-",
        "outputId": "6ea7860b-ac49-4f41-8950-f5426a34d281"
      },
      "execution_count": 15,
      "outputs": [
        {
          "output_type": "stream",
          "name": "stdout",
          "text": [
            "blue is sky the\n",
            "world hello\n",
            "example good a\n"
          ]
        }
      ]
    }
  ]
}