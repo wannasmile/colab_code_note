{
  "nbformat": 4,
  "nbformat_minor": 0,
  "metadata": {
    "colab": {
      "provenance": [],
      "collapsed_sections": [],
      "authorship_tag": "ABX9TyOXqJq5321gdRlgsEvu99zr",
      "include_colab_link": true
    },
    "kernelspec": {
      "name": "python3",
      "display_name": "Python 3"
    },
    "language_info": {
      "name": "python"
    }
  },
  "cells": [
    {
      "cell_type": "markdown",
      "metadata": {
        "id": "view-in-github",
        "colab_type": "text"
      },
      "source": [
        "<a href=\"https://colab.research.google.com/github/wannasmile/colab_code_note/blob/main/TREE02.ipynb\" target=\"_parent\"><img src=\"https://colab.research.google.com/assets/colab-badge.svg\" alt=\"Open In Colab\"/></a>"
      ]
    },
    {
      "cell_type": "code",
      "execution_count": 1,
      "metadata": {
        "colab": {
          "base_uri": "https://localhost:8080/"
        },
        "id": "hjvk8WGKxPKl",
        "outputId": "a11c0721-47a5-447b-b6c5-96fe39299041"
      },
      "outputs": [
        {
          "output_type": "stream",
          "name": "stdout",
          "text": [
            "Looking in indexes: https://pypi.org/simple, https://us-python.pkg.dev/colab-wheels/public/simple/\n",
            "Requirement already satisfied: anytree in /usr/local/lib/python3.7/dist-packages (2.8.0)\n",
            "Requirement already satisfied: six>=1.9.0 in /usr/local/lib/python3.7/dist-packages (from anytree) (1.15.0)\n"
          ]
        }
      ],
      "source": [
        "!pip install anytree"
      ]
    },
    {
      "cell_type": "code",
      "source": [
        "from anytree import Node, RenderTree\n",
        "udo = Node(\"Udo\")\n",
        "marc = Node(\"Marc\", parent=udo)\n",
        "lian = Node(\"Lian\", parent=marc)\n",
        "dan = Node(\"Dan\", parent=udo)\n",
        "jet = Node(\"Jet\", parent=dan)\n",
        "jan = Node(\"Jan\", parent=dan)\n",
        "joe = Node(\"Joe\", parent=dan)"
      ],
      "metadata": {
        "id": "FawVH1p4x8lG"
      },
      "execution_count": 2,
      "outputs": []
    },
    {
      "cell_type": "code",
      "source": [
        "print(udo)"
      ],
      "metadata": {
        "colab": {
          "base_uri": "https://localhost:8080/"
        },
        "id": "sn6_84L6x9l-",
        "outputId": "d8c46b4e-a159-4f32-81ce-718389b83b7c"
      },
      "execution_count": 3,
      "outputs": [
        {
          "output_type": "stream",
          "name": "stdout",
          "text": [
            "Node('/Udo')\n"
          ]
        }
      ]
    },
    {
      "cell_type": "code",
      "source": [
        "print(joe)"
      ],
      "metadata": {
        "colab": {
          "base_uri": "https://localhost:8080/"
        },
        "id": "3os6RlYjyDss",
        "outputId": "eb1294a9-7e4a-45f7-c3f8-23c61b52ebe2"
      },
      "execution_count": 4,
      "outputs": [
        {
          "output_type": "stream",
          "name": "stdout",
          "text": [
            "Node('/Udo/Dan/Joe')\n"
          ]
        }
      ]
    },
    {
      "cell_type": "code",
      "source": [
        "for pre, fill, node in RenderTree(udo):\n",
        "    print(\"%s%s\" % (pre, node.name))"
      ],
      "metadata": {
        "colab": {
          "base_uri": "https://localhost:8080/"
        },
        "id": "xyBl-L4eyNhM",
        "outputId": "085da782-c330-4c4f-8bbe-a14bb9a27116"
      },
      "execution_count": 5,
      "outputs": [
        {
          "output_type": "stream",
          "name": "stdout",
          "text": [
            "Udo\n",
            "├── Marc\n",
            "│   └── Lian\n",
            "└── Dan\n",
            "    ├── Jet\n",
            "    ├── Jan\n",
            "    └── Joe\n"
          ]
        }
      ]
    },
    {
      "cell_type": "code",
      "source": [
        "from anytree.exporter import DotExporter\n",
        "# graphviz needs to be installed for the next line!\n",
        "DotExporter(udo).to_picture(\"udo.png\")"
      ],
      "metadata": {
        "id": "dF_JoxYSyXld"
      },
      "execution_count": 6,
      "outputs": []
    },
    {
      "cell_type": "code",
      "source": [
        "from IPython.display import Image\n",
        "Image(\"udo.png\")"
      ],
      "metadata": {
        "colab": {
          "base_uri": "https://localhost:8080/",
          "height": 268
        },
        "id": "Fj38RUVjzuJ_",
        "outputId": "eef6f68b-44e2-4ad1-906f-7f388eed9609"
      },
      "execution_count": 7,
      "outputs": [
        {
          "output_type": "execute_result",
          "data": {
            "image/png": "[encoded data removed]",
            "text/plain": [
              "<IPython.core.display.Image object>"
            ]
          },
          "metadata": {},
          "execution_count": 7
        }
      ]
    },
    {
      "cell_type": "code",
      "source": [
        "DotExporter(dan,\n",
        "            nodeattrfunc=lambda node: \"fixedsize=true, width=1, height=1, shape=diamond\",\n",
        "            edgeattrfunc=lambda parent, child: \"style=bold\"\n",
        ").to_picture(\"dan.png\")"
      ],
      "metadata": {
        "id": "muVzIx_X016t"
      },
      "execution_count": 8,
      "outputs": []
    },
    {
      "cell_type": "code",
      "source": [
        "Image(\"dan.png\")"
      ],
      "metadata": {
        "colab": {
          "base_uri": "https://localhost:8080/",
          "height": 268
        },
        "id": "Y1Ciwkid030z",
        "outputId": "72436a1b-4168-4c42-df4b-f10f9fd66e86"
      },
      "execution_count": 9,
      "outputs": [
        {
          "output_type": "execute_result",
          "data": {
            "image/png": "[encoded data removed]",
            "text/plain": [
              "<IPython.core.display.Image object>"
            ]
          },
          "metadata": {},
          "execution_count": 9
        }
      ]
    },
    {
      "cell_type": "code",
      "source": [
        "mary = Node(\"Mary\")\n",
        "urs = Node(\"Urs\", parent=mary)\n",
        "chris = Node(\"Chris\", parent=mary)\n",
        "marta = Node(\"Marta\", parent=mary)\n",
        "print(RenderTree(mary))"
      ],
      "metadata": {
        "colab": {
          "base_uri": "https://localhost:8080/"
        },
        "id": "t4qlgN7G1GSd",
        "outputId": "6a4ba29e-2380-44e0-9a1d-65ca1139cb82"
      },
      "execution_count": 10,
      "outputs": [
        {
          "output_type": "stream",
          "name": "stdout",
          "text": [
            "Node('/Mary')\n",
            "├── Node('/Mary/Urs')\n",
            "├── Node('/Mary/Chris')\n",
            "└── Node('/Mary/Marta')\n"
          ]
        }
      ]
    },
    {
      "cell_type": "code",
      "source": [
        "udo.parent = mary\n",
        "print(RenderTree(mary))"
      ],
      "metadata": {
        "colab": {
          "base_uri": "https://localhost:8080/"
        },
        "id": "qbrjgtYG1L7z",
        "outputId": "7d819d8b-29b5-4e64-ee8a-5bc469875040"
      },
      "execution_count": 11,
      "outputs": [
        {
          "output_type": "stream",
          "name": "stdout",
          "text": [
            "Node('/Mary')\n",
            "├── Node('/Mary/Urs')\n",
            "├── Node('/Mary/Chris')\n",
            "├── Node('/Mary/Marta')\n",
            "└── Node('/Mary/Udo')\n",
            "    ├── Node('/Mary/Udo/Marc')\n",
            "    │   └── Node('/Mary/Udo/Marc/Lian')\n",
            "    └── Node('/Mary/Udo/Dan')\n",
            "        ├── Node('/Mary/Udo/Dan/Jet')\n",
            "        ├── Node('/Mary/Udo/Dan/Jan')\n",
            "        └── Node('/Mary/Udo/Dan/Joe')\n"
          ]
        }
      ]
    },
    {
      "cell_type": "code",
      "source": [
        "print(RenderTree(marc))"
      ],
      "metadata": {
        "colab": {
          "base_uri": "https://localhost:8080/"
        },
        "id": "Gnyh_XL21ZI-",
        "outputId": "daf2240f-add7-4032-8c3a-ea6983f2fd62"
      },
      "execution_count": 12,
      "outputs": [
        {
          "output_type": "stream",
          "name": "stdout",
          "text": [
            "Node('/Mary/Udo/Marc')\n",
            "└── Node('/Mary/Udo/Marc/Lian')\n"
          ]
        }
      ]
    },
    {
      "cell_type": "code",
      "source": [
        "dan.parent = None\n",
        "print(RenderTree(dan))"
      ],
      "metadata": {
        "colab": {
          "base_uri": "https://localhost:8080/"
        },
        "id": "79O86smG1fM9",
        "outputId": "dbb0c54e-8c6f-46f5-80bc-9b139db3441e"
      },
      "execution_count": 13,
      "outputs": [
        {
          "output_type": "stream",
          "name": "stdout",
          "text": [
            "Node('/Dan')\n",
            "├── Node('/Dan/Jet')\n",
            "├── Node('/Dan/Jan')\n",
            "└── Node('/Dan/Joe')\n"
          ]
        }
      ]
    },
    {
      "cell_type": "code",
      "source": [
        "from anytree import NodeMixin, RenderTree\n",
        "class MyBaseClass(object):  # Just an example of a base class\n",
        "    foo = 4\n",
        "class MyClass(MyBaseClass, NodeMixin):  # Add Node feature\n",
        "    def __init__(self, name, length, width, parent=None, children=None):\n",
        "        super(MyClass, self).__init__()\n",
        "        self.name = name\n",
        "        self.length = length\n",
        "        self.width = width\n",
        "        self.parent = parent\n",
        "        if children:\n",
        "            self.children = children"
      ],
      "metadata": {
        "id": "rLJsEKco1wIG"
      },
      "execution_count": 14,
      "outputs": []
    },
    {
      "cell_type": "code",
      "source": [
        "my0 = MyClass('my0', 0, 0)\n",
        "my1 = MyClass('my1', 1, 0, parent=my0)\n",
        "my2 = MyClass('my2', 0, 2, parent=my0)"
      ],
      "metadata": {
        "id": "UXHhZDJf14wb"
      },
      "execution_count": 15,
      "outputs": []
    },
    {
      "cell_type": "code",
      "source": [
        "for pre, fill, node in RenderTree(my0):\n",
        "    treestr = u\"%s%s\" % (pre, node.name)\n",
        "    print(treestr.ljust(8), node.length, node.width)"
      ],
      "metadata": {
        "colab": {
          "base_uri": "https://localhost:8080/"
        },
        "id": "Zzv7uvf31_6S",
        "outputId": "32a46bbd-332c-4c95-dd34-f30442b21782"
      },
      "execution_count": 16,
      "outputs": [
        {
          "output_type": "stream",
          "name": "stdout",
          "text": [
            "my0      0 0\n",
            "├── my1  1 0\n",
            "└── my2  0 2\n"
          ]
        }
      ]
    },
    {
      "cell_type": "code",
      "source": [
        "my0 = MyClass('my0', 0, 0, children=[\n",
        "    MyClass('my1', 1, 0),\n",
        "    MyClass('my2', 0, 2),\n",
        "])"
      ],
      "metadata": {
        "id": "NKH85Z1R7DyQ"
      },
      "execution_count": 17,
      "outputs": []
    },
    {
      "cell_type": "code",
      "source": [
        "for pre, fill, node in RenderTree(my0):\n",
        "    treestr = u\"%s%s\" % (pre, node.name)\n",
        "    print(treestr.ljust(8), node.length, node.width)"
      ],
      "metadata": {
        "colab": {
          "base_uri": "https://localhost:8080/"
        },
        "id": "Jie3nvSi7LV2",
        "outputId": "316c8004-1144-414c-ea3e-3acaac324770"
      },
      "execution_count": 18,
      "outputs": [
        {
          "output_type": "stream",
          "name": "stdout",
          "text": [
            "my0      0 0\n",
            "├── my1  1 0\n",
            "└── my2  0 2\n"
          ]
        }
      ]
    },
    {
      "cell_type": "code",
      "source": [
        "\n",
        "from anytree.importer import JsonImporter\n",
        "from anytree import RenderTree\n",
        "importer = JsonImporter()\n",
        "data = '''\n",
        "{\n",
        "  \"a\": \"root\",\n",
        "  \"children\": [\n",
        "    {\n",
        "      \"a\": \"sub0\",\n",
        "      \"children\": [\n",
        "        {\n",
        "          \"a\": \"sub0A\",\n",
        "          \"b\": \"foo\"\n",
        "        },\n",
        "        {\n",
        "          \"a\": \"sub0B\"\n",
        "        }\n",
        "      ]\n",
        "    },\n",
        "    {\n",
        "      \"a\": \"sub1\"\n",
        "    }\n",
        "  ]\n",
        "}'''\n",
        "root = importer.import_(data)\n",
        "print(RenderTree(root))\n",
        "\n"
      ],
      "metadata": {
        "colab": {
          "base_uri": "https://localhost:8080/"
        },
        "id": "pgU3NpSd8Cye",
        "outputId": "38c23df0-a5aa-4172-e376-597c89f253cf"
      },
      "execution_count": 19,
      "outputs": [
        {
          "output_type": "stream",
          "name": "stdout",
          "text": [
            "AnyNode(a='root')\n",
            "├── AnyNode(a='sub0')\n",
            "│   ├── AnyNode(a='sub0A', b='foo')\n",
            "│   └── AnyNode(a='sub0B')\n",
            "└── AnyNode(a='sub1')\n"
          ]
        }
      ]
    },
    {
      "cell_type": "code",
      "source": [
        "!pip install pyyaml"
      ],
      "metadata": {
        "colab": {
          "base_uri": "https://localhost:8080/"
        },
        "id": "0EjlbYh380bn",
        "outputId": "b6df66c9-5640-41ca-c506-ce116e363a77"
      },
      "execution_count": 20,
      "outputs": [
        {
          "output_type": "stream",
          "name": "stdout",
          "text": [
            "Looking in indexes: https://pypi.org/simple, https://us-python.pkg.dev/colab-wheels/public/simple/\n",
            "Requirement already satisfied: pyyaml in /usr/local/lib/python3.7/dist-packages (6.0)\n"
          ]
        }
      ]
    },
    {
      "cell_type": "code",
      "source": [
        "\n",
        "import yaml\n",
        "from anytree import AnyNode\n",
        "from anytree.exporter import DictExporter\n",
        "root = AnyNode(a=\"root\")\n",
        "s0 = AnyNode(a=\"sub0\", parent=root)\n",
        "s0a = AnyNode(a=\"sub0A\", b=\"foo\", parent=s0)\n",
        "s0b = AnyNode(a=\"sub0B\", parent=s0)\n",
        "s1 = AnyNode(a=\"sub1\", parent=root)\n",
        "dct = DictExporter().export(root)\n",
        "print(yaml.dump(dct, default_flow_style=False))\n",
        "\n",
        "import yaml\n",
        "from anytree.importer import DictImporter\n",
        "from pprint import pprint  # just for nice printing\n",
        "from anytree import RenderTree  # just for nice printing\n",
        "data = \"\"\"\n",
        "a: root\n",
        "children:\n",
        "- a: sub0\n",
        "  children:\n",
        "  - a: sub0A\n",
        "    b: foo\n",
        "  - a: sub0B\n",
        "- a: sub1\n",
        "\"\"\"\n",
        "dct = yaml.load(data, Loader=yaml.FullLoader)\n",
        "pprint(dct)\n",
        "root = DictImporter().import_(dct)\n",
        "print(RenderTree(root))\n",
        "\n",
        "\n"
      ],
      "metadata": {
        "colab": {
          "base_uri": "https://localhost:8080/"
        },
        "id": "pxt3euhr83QV",
        "outputId": "17660eb7-d911-46ad-de0f-f54f0cc7e426"
      },
      "execution_count": 21,
      "outputs": [
        {
          "output_type": "stream",
          "name": "stdout",
          "text": [
            "a: root\n",
            "children:\n",
            "- a: sub0\n",
            "  children:\n",
            "  - a: sub0A\n",
            "    b: foo\n",
            "  - a: sub0B\n",
            "- a: sub1\n",
            "\n",
            "{'a': 'root',\n",
            " 'children': [{'a': 'sub0',\n",
            "               'children': [{'a': 'sub0A', 'b': 'foo'}, {'a': 'sub0B'}]},\n",
            "              {'a': 'sub1'}]}\n",
            "AnyNode(a='root')\n",
            "├── AnyNode(a='sub0')\n",
            "│   ├── AnyNode(a='sub0A', b='foo')\n",
            "│   └── AnyNode(a='sub0B')\n",
            "└── AnyNode(a='sub1')\n"
          ]
        }
      ]
    }
  ]
}